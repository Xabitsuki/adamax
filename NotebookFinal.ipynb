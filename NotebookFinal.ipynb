{
 "cells": [
  {
   "cell_type": "markdown",
   "metadata": {},
   "source": [
    "# A Movie behind a Script\n"
   ]
  },
  {
   "cell_type": "code",
   "execution_count": 1,
   "metadata": {},
   "outputs": [
    {
     "name": "stderr",
     "output_type": "stream",
     "text": [
      "C:\\Users\\Martin\\Anaconda3\\lib\\site-packages\\gensim\\utils.py:1197: UserWarning: detected Windows; aliasing chunkize to chunkize_serial\n",
      "  warnings.warn(\"detected Windows; aliasing chunkize to chunkize_serial\")\n"
     ]
    }
   ],
   "source": [
    "import os\n",
    "import re\n",
    "import pandas as pd\n",
    "import numpy as np\n",
    "import matplotlib\n",
    "import matplotlib.pyplot as plt\n",
    "import findspark\n",
    "findspark.init()\n",
    "\n",
    "from pyspark.sql import *\n",
    "from pyspark.sql.types import *\n",
    "import pyspark.sql.functions as psf\n",
    "from pyspark.sql.utils import AnalysisException\n",
    "\n",
    "#NLP libraries\n",
    "import spacy, nltk, gensim, sklearn\n",
    "import pyLDAvis.gensim\n",
    "\n",
    "#Vader\n",
    "import vaderSentiment\n",
    "from vaderSentiment.vaderSentiment import SentimentIntensityAnalyzer\n",
    "\n",
    "from sklearn.linear_model import LinearRegression, LogisticRegression\n",
    "from sklearn.preprocessing import OneHotEncoder\n",
    "from pandas.plotting import scatter_matrix\n",
    "from sklearn.model_selection import cross_val_predict\n",
    "from sklearn.model_selection import cross_val_score\n",
    "import seaborn as sns\n",
    "\n",
    "#os.environ['PYSPARK_SUBMIT_ARGS'] = '--packages com.databricks:spark-xml_2.10:0.4.1 pyspark-shell'\n",
    "\n"
   ]
  },
  {
   "cell_type": "code",
   "execution_count": 2,
   "metadata": {},
   "outputs": [],
   "source": [
    "spark = SparkSession.builder.getOrCreate()\n",
    "#spark.conf.set('spark.sql.session.timeZone', 'UTC')\n",
    "sc = spark.sparkContext\n",
    "sqlContext = SQLContext(sc)"
   ]
  },
  {
   "cell_type": "markdown",
   "metadata": {},
   "source": [
    "# Overview of datasets\n",
    "\n",
    "The OpenSubtitles dataset is a compressed cluster of folders containing XML files. Each XML file is split into a script portion with the subtitles of the movie and a metadata portion with additional information about the movie or show. The name of the second-parent folder of the XML file is the corresponding IMDb identifier of the movie or show, thus allowing us to extract additional information from the IMDb dataset."
   ]
  },
  {
   "cell_type": "markdown",
   "metadata": {},
   "source": [
    "## IMDb Dataset"
   ]
  },
  {
   "cell_type": "markdown",
   "metadata": {},
   "source": [
    "We use the IMDb basics dataset, which provides us with a title's main information, and the ratings datasets, which provides us the IMDb rating and votes information for each title."
   ]
  },
  {
   "cell_type": "code",
   "execution_count": 3,
   "metadata": {},
   "outputs": [
    {
     "name": "stdout",
     "output_type": "stream",
     "text": [
      "root\n",
      " |-- tconst: string (nullable = true)\n",
      " |-- titleType: string (nullable = true)\n",
      " |-- primaryTitle: string (nullable = true)\n",
      " |-- originalTitle: string (nullable = true)\n",
      " |-- isAdult: string (nullable = true)\n",
      " |-- startYear: string (nullable = true)\n",
      " |-- endYear: string (nullable = true)\n",
      " |-- runtimeMinutes: double (nullable = true)\n",
      " |-- genres: array (nullable = true)\n",
      " |    |-- element: string (containsNull = true)\n",
      "\n"
     ]
    }
   ],
   "source": [
    "df_basics = spark.read.parquet(\"parquets/basics.parquet\")\n",
    "df_basics.printSchema()"
   ]
  },
  {
   "cell_type": "code",
   "execution_count": 4,
   "metadata": {},
   "outputs": [
    {
     "name": "stdout",
     "output_type": "stream",
     "text": [
      "root\n",
      " |-- tconst: string (nullable = true)\n",
      " |-- averageRating: float (nullable = true)\n",
      " |-- numVotes: integer (nullable = true)\n",
      "\n"
     ]
    }
   ],
   "source": [
    "df_ratings = spark.read.parquet(\"parquets/ratings.parquet\")\n",
    "df_ratings.printSchema()"
   ]
  },
  {
   "cell_type": "markdown",
   "metadata": {
    "heading_collapsed": true
   },
   "source": [
    "## OpenSubtitles dataset\n",
    "\n",
    "The dataset consists of 31 GB of XML files distributed in the following file structure: \n",
    "\n",
    "```\n",
    "├── opensubtitle\n",
    "│   ├── OpenSubtitles2018\n",
    "│   │   ├── Year\n",
    "│   │   │   ├── Id\n",
    "│   │   │   │   ├── #######.xml.gz\n",
    "│   │   │   │   ├── #######.xml.gz\n",
    "│   ├── en.tar.gz\n",
    "│   ├── fr.tar.gz\n",
    "│   ├── zh_cn.tar.gz\n",
    "```\n",
    "where\n",
    "- `######` is a 6-digit unique identifier of the file on the OpenSubtitles dataset.\n",
    "- `Year` is the year the movie or episode was made.\n",
    "- `Id` is a 5 to 7 digit identifier (if it's 7-digit it's also an IMDb identifier).\n",
    "\n",
    "The subtitles are provided in different languages. We only analyze the `OpenSubtitles2018` folder and it's the only folder we detail.\n",
    "\n",
    "The decompressed XML files vary in size, ranging from 5KB to 9000KB sized files.\n",
    "\n",
    "Each XML file is split into a `document` and `metadata` section."
   ]
  },
  {
   "cell_type": "markdown",
   "metadata": {
    "hidden": true
   },
   "source": [
    "### Document\n",
    "\n",
    "The `document` section contains all the **subtitles** and its general structure is the following:\n",
    "\n",
    "```\n",
    "├── s\n",
    "│   ├── time: Integer\n",
    "│   ├── w: String\n",
    "```\n",
    "\n",
    "An example snippet of an XML file:\n",
    "\n",
    "```xml\n",
    "  <s id=\"1\">\n",
    "    <time id=\"T1S\" value=\"00:00:51,819\" />\n",
    "    <w id=\"1.1\">Travis</w>\n",
    "    <w id=\"1.2\">.</w>\n",
    "    <time id=\"T1E\" value=\"00:00:53,352\" />\n",
    "  </s>\n",
    "```\n",
    "\n",
    "The subtitles in each XML file are stored by **blocks** denoted by `s` with a unique `id` attribute (integers in increasing order starting at 1).  \n",
    "\n",
    "Each block (`<s id=\"1\">` for instance) has a:  \n",
    "\n",
    "1. Set of timestamps (denoted by `time`) with\n",
    " - A timestamp `id` attribute that can take two different formats: `T#S` or `T#E`, where _S_ indicates _start_, _E_ indicates _end_ and _#_ is an increasing integer. \n",
    " - A `value` attribute which has the format `HH:mm:ss,fff`.\n",
    "\n",
    "2. Set of words (denoted by `w`) with\n",
    " - an `id` attribute that is simply an increasing number of decimal numbers of the format `X.Y` where X is the string id and Y is the word id within the corresponding string\n",
    " - a non-empty `value` attribute that contains a token: a word or a punctuation character. \n",
    "\n",
    "It sometimes also has an `alternative`, `initial` and `emphasis` attribute.  \n",
    "\n",
    " - The `initial` attribute generally corresponds to slang words or mispronounced words because of an accent such as _lyin'_ instead of _lying_.  \n",
    " - The `alternative` attribute is another way of displaying the subtitle for example _HOW_ instead of _how_.\n",
    " - The `emphasis` attribute is a boolean."
   ]
  },
  {
   "cell_type": "markdown",
   "metadata": {
    "hidden": true
   },
   "source": [
    "### Metadata\n",
    "\n",
    "The `metadata` section has the following structure:\n",
    "\n",
    "```\n",
    "├── Conversion\n",
    "│   ├── corrected_words: Integer\n",
    "│   ├── sentences: Integer\n",
    "│   ├── tokens: Integer\n",
    "│   ├── encoding: String (always utf-8)\n",
    "│   ├── unknown_words: Integer\n",
    "│   ├── ignored_blocks: Integer\n",
    "│   ├── truecased_words: Integer\n",
    "├── Subtitle\n",
    "│   ├── language: String\n",
    "│   ├── date: String\n",
    "│   ├── duration: String\n",
    "│   ├── cds: String (presented as #/# where # is an int)\n",
    "│   ├── blocks: Integer\n",
    "│   ├── confidence: Double\n",
    "├── Source\n",
    "│   ├── genre: String[] (up to 3 genres)\n",
    "│   ├── year: Integer\n",
    "│   ├── duration: Integer (in minutes)\n",
    "│   ├── original: String\n",
    "│   ├── country: String\n",
    "```\n",
    "\n",
    "We note that some XML files may not have all the entries. \n",
    "We can use the metadata to obtain additional information about the movie or show's subtitles and compute certain statistics. "
   ]
  },
  {
   "cell_type": "markdown",
   "metadata": {},
   "source": [
    "## Exploration\n",
    "\n",
    "Going through the dataset we notice a few things:\n",
    "\n",
    "1. The dataset has meaningless folders. For example, the folder 1858/ is empty.\n",
    "2. Dataset contains XML files that are not related to movies or TV shows. For example, the folder 666/ contains Justin Bieber song subtitles.  \n",
    "3. Trailer of films can be present in the dataset. For example, the folder 2018/ we found for example Black Panther teaser trailer subtitles.\n",
    "4. Each movie might have more than 1 subtitle file.\n",
    "5. Some subtitle files contain text that is not related to the movie, like credits to the person who made the subtitles.\n",
    "7. Each block may have an arbitrary number (including 0) of timestamps associated to it.\n",
    "\n",
    "To solve points 1, 2 and 3 we decide to take only files associated with valid IMDb id's of movies with more than 5000 reviews.\n",
    "\n",
    "To solve point 4, we simply take the first one.\n",
    "\n",
    "To solve point 6, we keep movies that have a correct IMDb identifier. Hence, all the files in folders that don't have a 7-digit folder name are dropped.\n",
    "\n",
    "To solve point 7, we decide not to associate a timestamp to each word.\n",
    " \n",
    "We extract the desired dataset information into a parquet file using the script `parquet2.py` (TODO rename). From this parquet we extract all the information for the data analysis."
   ]
  },
  {
   "cell_type": "markdown",
   "metadata": {},
   "source": [
    "Moreover, to avoid confusion, we set some naming conventions. We refer to certain attributes as follows:\n",
    "\n",
    "- The `s` array as **blocks**\n",
    "- An element of blocks, as a **block**.\n",
    "- The `w` array as **elements**\n",
    "- An element of elements, as **element**.\n",
    "- `_VALUE` as a **token**\n",
    "- A **subtitle** is a list of tokens"
   ]
  },
  {
   "cell_type": "markdown",
   "metadata": {},
   "source": [
    "# Data analysis"
   ]
  },
  {
   "cell_type": "markdown",
   "metadata": {},
   "source": [
    "## Objective and structure"
   ]
  },
  {
   "cell_type": "markdown",
   "metadata": {},
   "source": [
    "As stated in our abstract, our main goal is to try to find a relation between a film subtitles and the average rating: __What makes a movie good or bad?__  \n",
    "\n",
    "To answer the question we follow this structured plan:\n",
    "1. **Selection of data**: Select and clean data relevant to our problem.\n",
    "2. **Exploration of data**: Analyze the distribution of different features of our data, such as most represented genres, years, etc.\n",
    "3. Extract statistics of the subtitles trying to find correlations between such statistics and a film average rating.\n",
    "4. Implement a **linear regression** using such statistics.\n",
    "5. **Analysis**: Comment results.\n",
    "6. **Natural Language Processing (NLP)**: Use NLP tools such as sentiment analysis and topic detection to extract additional features. TODO\n",
    "7. Test a **regression** using the new features\n",
    "8. **Conclusion**"
   ]
  },
  {
   "cell_type": "markdown",
   "metadata": {},
   "source": [
    "## Selection of the data"
   ]
  },
  {
   "cell_type": "markdown",
   "metadata": {},
   "source": [
    "To see if one can predict the average IMDb rating using the subtiltes of a movie, the data is restricted according to two criterias:\n",
    "1. __the movie must have been rated at least 5000 times__: indeed, IMDb considers this a good metric to estimate the public actual approval of a film. \n",
    "2. __the file identifier must be a valid IMDb identifier__: this ensures that the corresponding subtitle is of a movie and that the corresponding IMDb data is present in the `basics` and `rating`. \n",
    "\n",
    "To ensure these two criterias are fulfilled, we create a csv file containing all the ids of the movies by joining the ratings and basics datasets and filtering them by number of votes and title type. We only focus on movies, no tv shows or tv movies.\n",
    "\n",
    "Later on, one can see that joining the subtitles data with the IMDb data does not provoke a loss of data in the number of subtitles used.\n",
    "\n",
    "To fulfill this criteria the script `parquet2.py` following the same data structure mentioned above is run on the cluster to load the `.xml` files into spark dataframe for each year and for each subtitle fulfilling the 2 main filters.\n",
    "\n",
    "The data can be accessed by loading `films.parquet` and `films2.parquet` into a spark dataframe. The first one contains in the subtitle column only the words present in the film and the second one also includes the punctuation marks.\n",
    "\n"
   ]
  },
  {
   "cell_type": "markdown",
   "metadata": {
    "heading_collapsed": true
   },
   "source": [
    "### Dataframe manipulation"
   ]
  },
  {
   "cell_type": "markdown",
   "metadata": {
    "hidden": true
   },
   "source": [
    "We define a function that retrieves the tokens from the elements (`w` array) and returns an array of subtitles, where each subtitle is a list of tokens."
   ]
  },
  {
   "cell_type": "code",
   "execution_count": 5,
   "metadata": {
    "hidden": true
   },
   "outputs": [],
   "source": [
    "def to_subtitles_array(sentences):\n",
    "    \"\"\"Function to map the elements (a struct containing tokens)\n",
    "    to a list of list of tokens \"\"\"\n",
    "    s_list = []\n",
    "    if sentences is None:\n",
    "        return s_list\n",
    "    for words in sentences:\n",
    "        w_list = []\n",
    "        if words and \"w\" in words and words[\"w\"]:\n",
    "            for w in words[\"w\"]:\n",
    "                if '_VALUE' in w and w['_VALUE']:\n",
    "                    w_list.append(w['_VALUE'])\n",
    "                \n",
    "            s_list.append(w_list)\n",
    "\n",
    "    return s_list"
   ]
  },
  {
   "cell_type": "code",
   "execution_count": 6,
   "metadata": {
    "hidden": true
   },
   "outputs": [],
   "source": [
    "# Function to split genres\n",
    "udf_split = psf.udf(lambda s: s.split(',') if s is not None else \"\", ArrayType(StringType()))"
   ]
  },
  {
   "cell_type": "code",
   "execution_count": 7,
   "metadata": {
    "hidden": true
   },
   "outputs": [],
   "source": [
    "# Transform to spark function\n",
    "udf_subtitles_array = psf.udf(to_subtitles_array, ArrayType(ArrayType(StringType())))\n",
    "# Convert array of words into a single string\n",
    "udf_sentence = psf.udf(lambda x: ' '.join(x), StringType())"
   ]
  },
  {
   "cell_type": "code",
   "execution_count": 8,
   "metadata": {
    "hidden": true
   },
   "outputs": [],
   "source": [
    "# Check correct schema\n",
    "def has_correct_schema(df):\n",
    "    arguments = [\"meta.conversion.sentences\",\n",
    "                 \"meta.source.year\", \n",
    "                 \"meta.subtitle.blocks\",\n",
    "                 \"meta.subtitle.duration\",\n",
    "                 \"meta.subtitle.language\",\n",
    "                 \"s\"]\n",
    "    for col in arguments:\n",
    "        try:\n",
    "            df[col]\n",
    "        except AnalysisException:\n",
    "            return False\n",
    "    return True\n",
    "\n",
    "schema_films = StructType([StructField('tconst', StringType(), False),\n",
    "                           StructField('num_sentences', LongType(), True),\n",
    "                           StructField('year', LongType(), True),\n",
    "                           StructField('blocks', LongType(), True),\n",
    "                           StructField('subtitle_mins', DoubleType(), True),\n",
    "                           StructField('subtitles', ArrayType(ArrayType(StringType())), True)])"
   ]
  },
  {
   "cell_type": "markdown",
   "metadata": {
    "hidden": true
   },
   "source": [
    "The function below structures our data to the format we want to then process all the queries we need. \n",
    "We join the movie with the proper IMDb id, we get all the subtitles and convert the subtitle duration to seconds."
   ]
  },
  {
   "cell_type": "code",
   "execution_count": 9,
   "metadata": {
    "hidden": true
   },
   "outputs": [],
   "source": [
    "def clean_df(df_document, imdb_id):\n",
    "    \"\"\"Restructures and selects the columns of a dataframe of an XML\n",
    "    file with its corresponding IMDB Id\"\"\"\n",
    "    # Create IMDb ID and subtitles column\n",
    "    df_film_sentences = df_document.withColumn(\"tconst\", psf.lit(\"tt\" + imdb_id))\\\n",
    "                                   .withColumn(\"subtitles\", udf_subtitles_array(\"s\"))\n",
    "    \n",
    "    # Select metadata and previously created columns\n",
    "    df_result = df_film_sentences.selectExpr(\"tconst\",\n",
    "                                             \"meta.conversion.sentences as num_sentences\",\n",
    "                                             \"meta.source.year\", \n",
    "                                             \"meta.subtitle.blocks\",\n",
    "                                             \"meta.subtitle.duration as subtitle_duration\",\n",
    "                                             \"meta.subtitle.language\",\n",
    "                                             \"subtitles\")\n",
    "    # Split genre column and convert subtitle duration to seconds\n",
    "    df_result = df_result.withColumn(\"subtitle_mins\", \n",
    "                                     psf.unix_timestamp(df_result.subtitle_duration, \"HH:mm:ss,SSS\") / 60)\n",
    "    # Discard redundant columns\n",
    "    df_result =  df_result.select(\"tconst\", \n",
    "                                  \"num_sentences\", \n",
    "                                  \"year\", \n",
    "                                  \"blocks\", \n",
    "                                  psf.when(psf.col(\"subtitle_mins\") > 0, psf.col(\"subtitle_mins\"))\\\n",
    "                                     .otherwise(None)\\\n",
    "                                     .alias(\"subtitle_mins\"), \n",
    "                                  \"subtitles\")\n",
    "    return df_result"
   ]
  },
  {
   "cell_type": "markdown",
   "metadata": {
    "hidden": true
   },
   "source": [
    "As we must process several XML files into dataframe, we define a function that does this."
   ]
  },
  {
   "cell_type": "code",
   "execution_count": 10,
   "metadata": {
    "hidden": true
   },
   "outputs": [],
   "source": [
    "def load_df(path):\n",
    "    \"\"\"Load an XML subtitles file into a dataframe\"\"\"\n",
    "    df_film = sqlContext.read.format('com.databricks.spark.xml')\\\n",
    "                             .options(rowTag='document')\\\n",
    "                             .load(path)\n",
    "    return df_film"
   ]
  },
  {
   "cell_type": "code",
   "execution_count": 11,
   "metadata": {
    "hidden": true
   },
   "outputs": [],
   "source": [
    "def unionAll(*dfs):\n",
    "    first, rest = dfs[0], dfs[1:]  # Python 3.x, for 2.x you'll have to unpack manually\n",
    "    return first.sql_ctx.createDataFrame(\n",
    "        first.sql_ctx._sc.union([df.rdd for df in dfs]),\n",
    "        first.schema\n",
    "    )\n",
    "#df_films = unionAll(*film_list)"
   ]
  },
  {
   "cell_type": "code",
   "execution_count": 12,
   "metadata": {
    "hidden": true
   },
   "outputs": [],
   "source": [
    "df_films = spark.read.parquet(\"parquets/films.parquet\")"
   ]
  },
  {
   "cell_type": "markdown",
   "metadata": {
    "hidden": true
   },
   "source": [
    "The total films we will be focusing on then is:"
   ]
  },
  {
   "cell_type": "code",
   "execution_count": 13,
   "metadata": {
    "hidden": true
   },
   "outputs": [
    {
     "data": {
      "text/plain": [
       "4286"
      ]
     },
     "execution_count": 13,
     "metadata": {},
     "output_type": "execute_result"
    }
   ],
   "source": [
    "df_films.count()"
   ]
  },
  {
   "cell_type": "code",
   "execution_count": 14,
   "metadata": {
    "hidden": true,
    "scrolled": true
   },
   "outputs": [
    {
     "name": "stdout",
     "output_type": "stream",
     "text": [
      "root\n",
      " |-- tconst: string (nullable = true)\n",
      " |-- num_sentences: long (nullable = true)\n",
      " |-- year: long (nullable = true)\n",
      " |-- blocks: long (nullable = true)\n",
      " |-- subtitle_mins: double (nullable = true)\n",
      " |-- subtitles: array (nullable = true)\n",
      " |    |-- element: array (containsNull = true)\n",
      " |    |    |-- element: string (containsNull = true)\n",
      "\n"
     ]
    }
   ],
   "source": [
    "df_films.printSchema()"
   ]
  },
  {
   "cell_type": "code",
   "execution_count": 15,
   "metadata": {
    "hidden": true
   },
   "outputs": [],
   "source": [
    "# Loading the data into a spark dataframe : \n",
    "\n",
    "PARQUET_DIR = 'parquets/'\n",
    "data = spark.read.parquet(PARQUET_DIR + 'films2.parquet')"
   ]
  },
  {
   "cell_type": "code",
   "execution_count": 16,
   "metadata": {
    "hidden": true
   },
   "outputs": [
    {
     "data": {
      "text/plain": [
       "['tconst', 'num_subtitles', 'year', 'blocks', 'subtitle_mins', 'subtitles']"
      ]
     },
     "execution_count": 16,
     "metadata": {},
     "output_type": "execute_result"
    }
   ],
   "source": [
    "data.columns "
   ]
  },
  {
   "cell_type": "markdown",
   "metadata": {
    "hidden": true
   },
   "source": [
    "From the original `.xml` the `tconst`, `num_subtitles`, `year`, `blocks`, `subtitle_mins`, `subtitles` columns were kept. "
   ]
  },
  {
   "cell_type": "markdown",
   "metadata": {},
   "source": [
    "## Exploration of the data "
   ]
  },
  {
   "cell_type": "markdown",
   "metadata": {},
   "source": [
    "At first we'll make a simple exploaration of our dataset, linking it to the IMDb one."
   ]
  },
  {
   "cell_type": "code",
   "execution_count": 17,
   "metadata": {},
   "outputs": [],
   "source": [
    "df_movies = df_basics.join(df_ratings, [\"tconst\"])\\\n",
    "                     .filter(df_basics.titleType == \"movie\")\\\n",
    "                     .filter(df_ratings.numVotes >= 5000)\n",
    "\n",
    "df_films_stats= df_films.join(df_movies,[\"tconst\"])\\\n",
    "                        .drop(\"subtitles\")\\\n",
    "                        .toPandas()"
   ]
  },
  {
   "cell_type": "code",
   "execution_count": 18,
   "metadata": {},
   "outputs": [
    {
     "name": "stdout",
     "output_type": "stream",
     "text": [
      "+---------+---------+--------------------+--------------------+-------+---------+-------+--------------+--------------------+-------------+--------+\n",
      "|   tconst|titleType|        primaryTitle|       originalTitle|isAdult|startYear|endYear|runtimeMinutes|              genres|averageRating|numVotes|\n",
      "+---------+---------+--------------------+--------------------+-------+---------+-------+--------------+--------------------+-------------+--------+\n",
      "|tt0004972|    movie|The Birth of a Na...|The Birth of a Na...|      0|     1915|     \\N|         195.0|[Drama, History, ...|          6.7|   19727|\n",
      "|tt0006864|    movie|Intolerance: Love...|Intolerance: Love...|      0|     1916|     \\N|         163.0|    [Drama, History]|          8.0|   12412|\n",
      "|tt0009968|    movie|     Broken Blossoms|Broken Blossoms o...|      0|     1919|     \\N|          90.0|    [Drama, Romance]|          7.6|    8285|\n",
      "|tt0010323|    movie|The Cabinet of Dr...|Das Cabinet des D...|      0|     1920|     \\N|          76.0|[Fantasy, Horror,...|          8.1|   48001|\n",
      "|tt0011237|    movie|           The Golem|Der Golem, wie er...|      0|     1920|     \\N|          91.0|   [Fantasy, Horror]|          7.2|    5561|\n",
      "|tt0012349|    movie|             The Kid|             The Kid|      0|     1921|     \\N|          68.0|[Comedy, Drama, F...|          8.3|   91231|\n",
      "|tt0012364|    movie|The Phantom Carriage|           Körkarlen|      0|     1921|     \\N|         100.0|[Drama, Fantasy, ...|          8.1|    8464|\n",
      "|tt0013086|    movie|Dr. Mabuse: The G...|Dr. Mabuse, der S...|      0|     1922|     \\N|         242.0|[Crime, Mystery, ...|          7.9|    6263|\n",
      "|tt0013257|    movie|               Häxan|               Häxan|      0|     1922|     \\N|          91.0|[Documentary, Fan...|          7.7|    9757|\n",
      "|tt0013427|    movie| Nanook of the North| Nanook of the North|      0|     1922|     \\N|          78.0|       [Documentary]|          7.7|    9335|\n",
      "|tt0013442|    movie|           Nosferatu|Nosferatu, eine S...|      0|     1922|     \\N|          94.0|   [Fantasy, Horror]|          8.0|   78620|\n",
      "|tt0014341|    movie|     Our Hospitality|     Our Hospitality|      0|     1923|     \\N|          65.0|[Comedy, Romance,...|          7.9|    8822|\n",
      "|tt0014429|    movie|        Safety Last!|        Safety Last!|      0|     1923|     \\N|          70.0|  [Comedy, Thriller]|          8.2|   15667|\n",
      "|tt0015064|    movie|      The Last Laugh|     Der letzte Mann|      0|     1924|     \\N|          77.0|             [Drama]|          8.1|   10730|\n",
      "|tt0015163|    movie|       The Navigator|       The Navigator|      0|     1924|     \\N|          59.0|[Action, Comedy, ...|          8.0|    7894|\n",
      "|tt0015324|    movie|        Sherlock Jr.|        Sherlock Jr.|      0|     1924|     \\N|          45.0|[Action, Comedy, ...|          8.2|   30204|\n",
      "|tt0015361|    movie|              Strike|             Stachka|      0|     1925|     \\N|          82.0|             [Drama]|          7.6|    6040|\n",
      "|tt0015624|    movie|      The Big Parade|      The Big Parade|      0|     1925|     \\N|         151.0|[Drama, Romance, ...|          8.2|    5581|\n",
      "|tt0015648|    movie| Battleship Potemkin|Bronenosets Potemkin|      0|     1925|     \\N|          75.0|    [Drama, History]|          8.0|   46778|\n",
      "|tt0015864|    movie|       The Gold Rush|       The Gold Rush|      0|     1925|     \\N|          95.0|[Adventure, Comed...|          8.2|   85761|\n",
      "+---------+---------+--------------------+--------------------+-------+---------+-------+--------------+--------------------+-------------+--------+\n",
      "only showing top 20 rows\n",
      "\n"
     ]
    }
   ],
   "source": [
    "df_movies.show()"
   ]
  },
  {
   "cell_type": "markdown",
   "metadata": {},
   "source": [
    "### What genres are present in our dataset ? "
   ]
  },
  {
   "cell_type": "markdown",
   "metadata": {},
   "source": [
    "Here is the distribution of the different appearing genres of our dataset, we need to consider aswell that a movie might can have multiple genres : __comedy__ and __drama__, for instance."
   ]
  },
  {
   "cell_type": "code",
   "execution_count": 95,
   "metadata": {},
   "outputs": [
    {
     "data": {
      "image/png": "[encoded data removed]",
      "text/plain": [
       "<matplotlib.figure.Figure at 0x29b39d67710>"
      ]
     },
     "metadata": {},
     "output_type": "display_data"
    }
   ],
   "source": [
    "# TODO Change style of graphe \n",
    "# TODO add x-axis label\n",
    "# Plotting genre distribution \n",
    "genres = [item for sublist in df_films_stats[\"genres\"] for item in sublist]\n",
    "ax = pd.Series(genres).groupby(genres).count().sort_values().plot.barh(figsize=(10,10))"
   ]
  },
  {
   "cell_type": "markdown",
   "metadata": {},
   "source": [
    "### How is our dataset distributed through time?"
   ]
  },
  {
   "cell_type": "code",
   "execution_count": 20,
   "metadata": {},
   "outputs": [
    {
     "name": "stdout",
     "output_type": "stream",
     "text": [
      "Oldest movie in our dataset was released on: 1922\n",
      "Newest movie in our dataset was released on: 2018\n"
     ]
    },
    {
     "data": {
      "image/png": "[encoded data removed]",
      "text/plain": [
       "<matplotlib.figure.Figure at 0x29b1e60d0f0>"
      ]
     },
     "metadata": {},
     "output_type": "display_data"
    }
   ],
   "source": [
    "# TODO Change style of graphe \n",
    "print(\"Oldest movie in our dataset was released on: {:}\".format(df_films_stats[\"year\"].min()))\n",
    "print(\"Newest movie in our dataset was released on: {:}\".format(df_films_stats[\"year\"].max()))\n",
    "ax = df_films_stats[\"year\"].plot.hist(bins=96, figsize=(10,5))"
   ]
  },
  {
   "cell_type": "markdown",
   "metadata": {},
   "source": [
    "As we can see the data is not distributed evenly through time, a lot of years are missing and more recent films appear more. It will be then difficult to take time into account as a good metric to predict the rating given the uneven distribution"
   ]
  },
  {
   "cell_type": "markdown",
   "metadata": {},
   "source": [
    "### How is the total film runtime distributed?"
   ]
  },
  {
   "cell_type": "code",
   "execution_count": 21,
   "metadata": {},
   "outputs": [
    {
     "name": "stdout",
     "output_type": "stream",
     "text": [
      "Shortest movie in our dataset is: 45.0 minutes long\n",
      "Longest movie in our dataset is: 467.0 minutes long\n"
     ]
    },
    {
     "data": {
      "image/png": "[encoded data removed]",
      "text/plain": [
       "<matplotlib.figure.Figure at 0x29b1e631470>"
      ]
     },
     "metadata": {},
     "output_type": "display_data"
    }
   ],
   "source": [
    "# TODO Change style of graphe \n",
    "print(\"Shortest movie in our dataset is: {:} minutes long\".format(df_films_stats[\"runtimeMinutes\"].min()))\n",
    "print(\"Longest movie in our dataset is: {:} minutes long\".format(df_films_stats[\"runtimeMinutes\"].max()))\n",
    "\n",
    "# TODO add x-axis label!\n",
    "ax = df_films_stats[\"runtimeMinutes\"].plot.hist(bins=60, figsize=(10,5))"
   ]
  },
  {
   "cell_type": "markdown",
   "metadata": {},
   "source": [
    "Apart from some outliers, our data is well centered to the runtime value of 100 minutes."
   ]
  },
  {
   "cell_type": "markdown",
   "metadata": {},
   "source": [
    "### What about the ratings?"
   ]
  },
  {
   "cell_type": "code",
   "execution_count": 88,
   "metadata": {},
   "outputs": [
    {
     "name": "stdout",
     "output_type": "stream",
     "text": [
      "Worst rated movie in our dataset has: 1.7 rating\n",
      "Best rated movie in our dataset has: 9.4 rating\n",
      "Average rating in our dataset is 6.7\n"
     ]
    },
    {
     "data": {
      "text/plain": [
       "<matplotlib.text.Text at 0x29b218719b0>"
      ]
     },
     "execution_count": 88,
     "metadata": {},
     "output_type": "execute_result"
    },
    {
     "data": {
      "image/png": "[encoded data removed]",
      "text/plain": [
       "<matplotlib.figure.Figure at 0x29b39d22ef0>"
      ]
     },
     "metadata": {},
     "output_type": "display_data"
    }
   ],
   "source": [
    "# TODO Change style of graphe \n",
    "print(\"Worst rated movie in our dataset has: {:.1f} rating\".format(df_films_stats[\"averageRating\"].min()))\n",
    "print(\"Best rated movie in our dataset has: {:.1f} rating\".format(df_films_stats[\"averageRating\"].max()))\n",
    "print(\"Average rating in our dataset is {:.1f}\".format(df_films_stats[\"averageRating\"].mean()))\n",
    "ax = df_films_stats[\"averageRating\"].plot.hist(bins=100, figsize=(10,5))\n",
    "ax.set_xlabel(\"Average Rating\")\n",
    "ax.savefig"
   ]
  },
  {
   "cell_type": "code",
   "execution_count": 23,
   "metadata": {},
   "outputs": [
    {
     "data": {
      "text/html": [
       "<div>\n",
       "<style scoped>\n",
       "    .dataframe tbody tr th:only-of-type {\n",
       "        vertical-align: middle;\n",
       "    }\n",
       "\n",
       "    .dataframe tbody tr th {\n",
       "        vertical-align: top;\n",
       "    }\n",
       "\n",
       "    .dataframe thead th {\n",
       "        text-align: right;\n",
       "    }\n",
       "</style>\n",
       "<table border=\"1\" class=\"dataframe\">\n",
       "  <thead>\n",
       "    <tr style=\"text-align: right;\">\n",
       "      <th></th>\n",
       "      <th>tconst</th>\n",
       "      <th>num_sentences</th>\n",
       "      <th>year</th>\n",
       "      <th>blocks</th>\n",
       "      <th>subtitle_mins</th>\n",
       "      <th>titleType</th>\n",
       "      <th>primaryTitle</th>\n",
       "      <th>originalTitle</th>\n",
       "      <th>isAdult</th>\n",
       "      <th>startYear</th>\n",
       "      <th>endYear</th>\n",
       "      <th>runtimeMinutes</th>\n",
       "      <th>genres</th>\n",
       "      <th>averageRating</th>\n",
       "      <th>numVotes</th>\n",
       "    </tr>\n",
       "  </thead>\n",
       "  <tbody>\n",
       "    <tr>\n",
       "      <th>2977</th>\n",
       "      <td>tt0252487</td>\n",
       "      <td>1617</td>\n",
       "      <td>1975</td>\n",
       "      <td>675</td>\n",
       "      <td>24.450000</td>\n",
       "      <td>movie</td>\n",
       "      <td>The Chaos Class</td>\n",
       "      <td>Hababam Sinifi</td>\n",
       "      <td>0</td>\n",
       "      <td>1975</td>\n",
       "      <td>\\N</td>\n",
       "      <td>87.0</td>\n",
       "      <td>[Comedy, Drama]</td>\n",
       "      <td>9.4</td>\n",
       "      <td>32554</td>\n",
       "    </tr>\n",
       "    <tr>\n",
       "      <th>3781</th>\n",
       "      <td>tt5813916</td>\n",
       "      <td>1570</td>\n",
       "      <td>2016</td>\n",
       "      <td>1440</td>\n",
       "      <td>71.366667</td>\n",
       "      <td>movie</td>\n",
       "      <td>The Mountain II</td>\n",
       "      <td>Dag II</td>\n",
       "      <td>0</td>\n",
       "      <td>2016</td>\n",
       "      <td>\\N</td>\n",
       "      <td>135.0</td>\n",
       "      <td>[Drama, War]</td>\n",
       "      <td>9.4</td>\n",
       "      <td>98731</td>\n",
       "    </tr>\n",
       "    <tr>\n",
       "      <th>3938</th>\n",
       "      <td>tt5275892</td>\n",
       "      <td>6236</td>\n",
       "      <td>2016</td>\n",
       "      <td>1829</td>\n",
       "      <td>406.050000</td>\n",
       "      <td>movie</td>\n",
       "      <td>O.J.: Made in America</td>\n",
       "      <td>O.J.: Made in America</td>\n",
       "      <td>0</td>\n",
       "      <td>2016</td>\n",
       "      <td>\\N</td>\n",
       "      <td>467.0</td>\n",
       "      <td>[Biography, Crime, Documentary]</td>\n",
       "      <td>9.0</td>\n",
       "      <td>14176</td>\n",
       "    </tr>\n",
       "    <tr>\n",
       "      <th>1218</th>\n",
       "      <td>tt0084302</td>\n",
       "      <td>1045</td>\n",
       "      <td>1982</td>\n",
       "      <td>462</td>\n",
       "      <td>29.433333</td>\n",
       "      <td>movie</td>\n",
       "      <td>The Marathon Family</td>\n",
       "      <td>Maratonci trce pocasni krug</td>\n",
       "      <td>0</td>\n",
       "      <td>1982</td>\n",
       "      <td>\\N</td>\n",
       "      <td>92.0</td>\n",
       "      <td>[Comedy, Drama]</td>\n",
       "      <td>9.0</td>\n",
       "      <td>12553</td>\n",
       "    </tr>\n",
       "    <tr>\n",
       "      <th>1675</th>\n",
       "      <td>tt0468569</td>\n",
       "      <td>2050</td>\n",
       "      <td>2008</td>\n",
       "      <td>694</td>\n",
       "      <td>86.433333</td>\n",
       "      <td>movie</td>\n",
       "      <td>The Dark Knight</td>\n",
       "      <td>The Dark Knight</td>\n",
       "      <td>0</td>\n",
       "      <td>2008</td>\n",
       "      <td>\\N</td>\n",
       "      <td>152.0</td>\n",
       "      <td>[Action, Crime, Drama]</td>\n",
       "      <td>9.0</td>\n",
       "      <td>1986545</td>\n",
       "    </tr>\n",
       "    <tr>\n",
       "      <th>3151</th>\n",
       "      <td>tt0252488</td>\n",
       "      <td>1689</td>\n",
       "      <td>1975</td>\n",
       "      <td>1113</td>\n",
       "      <td>23.283333</td>\n",
       "      <td>movie</td>\n",
       "      <td>The Chaos Class Failed the Class</td>\n",
       "      <td>Hababam Sinifi Sinifta Kaldi</td>\n",
       "      <td>0</td>\n",
       "      <td>1976</td>\n",
       "      <td>\\N</td>\n",
       "      <td>91.0</td>\n",
       "      <td>[Comedy]</td>\n",
       "      <td>9.0</td>\n",
       "      <td>18838</td>\n",
       "    </tr>\n",
       "    <tr>\n",
       "      <th>1028</th>\n",
       "      <td>tt0060196</td>\n",
       "      <td>2071</td>\n",
       "      <td>1966</td>\n",
       "      <td>1434</td>\n",
       "      <td>282.416667</td>\n",
       "      <td>movie</td>\n",
       "      <td>The Good, the Bad and the Ugly</td>\n",
       "      <td>Il buono, il brutto, il cattivo</td>\n",
       "      <td>0</td>\n",
       "      <td>1966</td>\n",
       "      <td>\\N</td>\n",
       "      <td>161.0</td>\n",
       "      <td>[Western]</td>\n",
       "      <td>8.9</td>\n",
       "      <td>598247</td>\n",
       "    </tr>\n",
       "    <tr>\n",
       "      <th>444</th>\n",
       "      <td>tt0108052</td>\n",
       "      <td>2917</td>\n",
       "      <td>1993</td>\n",
       "      <td>1133</td>\n",
       "      <td>126.366667</td>\n",
       "      <td>movie</td>\n",
       "      <td>Schindler's List</td>\n",
       "      <td>Schindler's List</td>\n",
       "      <td>0</td>\n",
       "      <td>1993</td>\n",
       "      <td>\\N</td>\n",
       "      <td>195.0</td>\n",
       "      <td>[Biography, Drama, History]</td>\n",
       "      <td>8.9</td>\n",
       "      <td>1042076</td>\n",
       "    </tr>\n",
       "    <tr>\n",
       "      <th>1172</th>\n",
       "      <td>tt1375666</td>\n",
       "      <td>1570</td>\n",
       "      <td>2010</td>\n",
       "      <td>1190</td>\n",
       "      <td>79.416667</td>\n",
       "      <td>movie</td>\n",
       "      <td>Inception</td>\n",
       "      <td>Inception</td>\n",
       "      <td>0</td>\n",
       "      <td>2010</td>\n",
       "      <td>\\N</td>\n",
       "      <td>148.0</td>\n",
       "      <td>[Action, Adventure, Sci-Fi]</td>\n",
       "      <td>8.8</td>\n",
       "      <td>1766484</td>\n",
       "    </tr>\n",
       "    <tr>\n",
       "      <th>1967</th>\n",
       "      <td>tt0214915</td>\n",
       "      <td>1537</td>\n",
       "      <td>1993</td>\n",
       "      <td>1269</td>\n",
       "      <td>95.950000</td>\n",
       "      <td>movie</td>\n",
       "      <td>Manichithrathazhu</td>\n",
       "      <td>Manichithrathazhu</td>\n",
       "      <td>0</td>\n",
       "      <td>1993</td>\n",
       "      <td>\\N</td>\n",
       "      <td>169.0</td>\n",
       "      <td>[Comedy, Horror, Musical]</td>\n",
       "      <td>8.8</td>\n",
       "      <td>5845</td>\n",
       "    </tr>\n",
       "  </tbody>\n",
       "</table>\n",
       "</div>"
      ],
      "text/plain": [
       "         tconst  num_sentences  year  blocks  subtitle_mins titleType  \\\n",
       "2977  tt0252487           1617  1975     675      24.450000     movie   \n",
       "3781  tt5813916           1570  2016    1440      71.366667     movie   \n",
       "3938  tt5275892           6236  2016    1829     406.050000     movie   \n",
       "1218  tt0084302           1045  1982     462      29.433333     movie   \n",
       "1675  tt0468569           2050  2008     694      86.433333     movie   \n",
       "3151  tt0252488           1689  1975    1113      23.283333     movie   \n",
       "1028  tt0060196           2071  1966    1434     282.416667     movie   \n",
       "444   tt0108052           2917  1993    1133     126.366667     movie   \n",
       "1172  tt1375666           1570  2010    1190      79.416667     movie   \n",
       "1967  tt0214915           1537  1993    1269      95.950000     movie   \n",
       "\n",
       "                          primaryTitle                    originalTitle  \\\n",
       "2977                   The Chaos Class                   Hababam Sinifi   \n",
       "3781                   The Mountain II                           Dag II   \n",
       "3938             O.J.: Made in America            O.J.: Made in America   \n",
       "1218               The Marathon Family      Maratonci trce pocasni krug   \n",
       "1675                   The Dark Knight                  The Dark Knight   \n",
       "3151  The Chaos Class Failed the Class     Hababam Sinifi Sinifta Kaldi   \n",
       "1028    The Good, the Bad and the Ugly  Il buono, il brutto, il cattivo   \n",
       "444                   Schindler's List                 Schindler's List   \n",
       "1172                         Inception                        Inception   \n",
       "1967                 Manichithrathazhu                Manichithrathazhu   \n",
       "\n",
       "     isAdult startYear endYear  runtimeMinutes  \\\n",
       "2977       0      1975      \\N            87.0   \n",
       "3781       0      2016      \\N           135.0   \n",
       "3938       0      2016      \\N           467.0   \n",
       "1218       0      1982      \\N            92.0   \n",
       "1675       0      2008      \\N           152.0   \n",
       "3151       0      1976      \\N            91.0   \n",
       "1028       0      1966      \\N           161.0   \n",
       "444        0      1993      \\N           195.0   \n",
       "1172       0      2010      \\N           148.0   \n",
       "1967       0      1993      \\N           169.0   \n",
       "\n",
       "                               genres  averageRating  numVotes  \n",
       "2977                  [Comedy, Drama]            9.4     32554  \n",
       "3781                     [Drama, War]            9.4     98731  \n",
       "3938  [Biography, Crime, Documentary]            9.0     14176  \n",
       "1218                  [Comedy, Drama]            9.0     12553  \n",
       "1675           [Action, Crime, Drama]            9.0   1986545  \n",
       "3151                         [Comedy]            9.0     18838  \n",
       "1028                        [Western]            8.9    598247  \n",
       "444       [Biography, Drama, History]            8.9   1042076  \n",
       "1172      [Action, Adventure, Sci-Fi]            8.8   1766484  \n",
       "1967        [Comedy, Horror, Musical]            8.8      5845  "
      ]
     },
     "execution_count": 23,
     "metadata": {},
     "output_type": "execute_result"
    }
   ],
   "source": [
    "df_films_stats.sort_values(\"averageRating\", ascending=False).head(10)"
   ]
  },
  {
   "cell_type": "markdown",
   "metadata": {},
   "source": [
    "## Simple statistics: searching for a correlation between average IMDb rating and text features. "
   ]
  },
  {
   "cell_type": "markdown",
   "metadata": {},
   "source": [
    "To begin, some \"raw\" features are extracted from the subtitles and the metadata that they were shipped with : \n",
    "* the total number of words relative to the movie duration. \n",
    "* the total number of sentences relative to the movie duration.\n",
    "* the mean average length of the subtitles.\n",
    "* the subtitles to movie duration ratio.\n",
    "* the number of distinct words divided by the length of the movie, the total number of words and the mean average length of the sentences."
   ]
  },
  {
   "cell_type": "code",
   "execution_count": 52,
   "metadata": {},
   "outputs": [],
   "source": [
    "def word_statistics(df_films):\n",
    "    # Explode the sentences t\n",
    "    df_words = df_films.select('*', psf.explode('subtitles').alias('words'))\n",
    "    df_words = df_words.select('*', psf.explode('words').alias('word'))\n",
    "\n",
    "    df_word_counts = df_words.groupby(\"tconst\", \"num_sentences\",\"subtitle_mins\")\\\n",
    "                             .agg(psf.count(\"word\").alias(\"num_words\"), \n",
    "                                  psf.countDistinct(\"word\").alias(\"num_distinct_words\"))\\\n",
    "                             .join(df_basics, ['tconst'], 'inner')\\\n",
    "                             .withColumn(\"norm_num_words\",\n",
    "                                         psf.col(\"num_words\") / psf.col(\"runtimeMinutes\"))\\\n",
    "                             .withColumn(\"norm_num_sents\",\n",
    "                                         psf.col(\"num_sentences\") / psf.col(\"runtimeMinutes\"))\\\n",
    "                             .withColumn(\"times_ratio\",\n",
    "                                         psf.when(psf.col(\"subtitle_mins\").isNotNull(), \n",
    "                                                  psf.col(\"subtitle_mins\") / psf.col(\"runtimeMinutes\") * 100))\\\n",
    "                             .withColumn(\"mean_length_sentences\",\n",
    "                                         psf.col(\"num_words\") / psf.col(\"num_sentences\"))\\\n",
    "                             .withColumn(\"distinct_index\", \n",
    "                                         1000 * psf.col(\"num_distinct_words\") /(psf.col(\"num_sentences\")*\n",
    "                                                                                psf.col(\"runtimeMinutes\")*\n",
    "                                                                                psf.col(\"num_words\")))\\\n",
    "                             .withColumn(\"times_ratio\",\n",
    "                                         psf.when(psf.col(\"subtitle_mins\").isNotNull(), \n",
    "                                                  psf.col(\"subtitle_mins\") / psf.col(\"runtimeMinutes\") * 100))\n",
    "    \n",
    "    df_word_counts = df_word_counts.select(\"tconst\", \n",
    "                                           \"num_words\",\n",
    "                                           \"norm_num_words\",\n",
    "                                           \"num_distinct_words\",\n",
    "                                           \"distinct_index\",\n",
    "                                           \"num_sentences\",\n",
    "                                           \"norm_num_sents\",\n",
    "                                           \"mean_length_sentences\",\n",
    "                                           \"subtitle_mins\",\n",
    "                                           \"runtimeMinutes\", \n",
    "                                           \"times_ratio\")\n",
    "    return df_word_counts"
   ]
  },
  {
   "cell_type": "code",
   "execution_count": 53,
   "metadata": {},
   "outputs": [],
   "source": [
    "# load data  \n",
    "\n",
    "# df_films = spark.read.parquet(\"parquets/films.parquet\")"
   ]
  },
  {
   "cell_type": "code",
   "execution_count": 26,
   "metadata": {
    "scrolled": false
   },
   "outputs": [],
   "source": [
    "# Generating the df of statistics \n",
    "df_stats = word_statistics(df_films)"
   ]
  },
  {
   "cell_type": "code",
   "execution_count": 27,
   "metadata": {
    "scrolled": true
   },
   "outputs": [
    {
     "name": "stdout",
     "output_type": "stream",
     "text": [
      "root\n",
      " |-- tconst: string (nullable = true)\n",
      " |-- num_words: long (nullable = false)\n",
      " |-- norm_num_words: double (nullable = true)\n",
      " |-- num_distinct_words: long (nullable = false)\n",
      " |-- distinct_index: double (nullable = true)\n",
      " |-- num_sentences: long (nullable = true)\n",
      " |-- norm_num_sents: double (nullable = true)\n",
      " |-- mean_length_sentences: double (nullable = true)\n",
      " |-- subtitle_mins: double (nullable = true)\n",
      " |-- runtimeMinutes: double (nullable = true)\n",
      " |-- times_ratio: double (nullable = true)\n",
      "\n"
     ]
    }
   ],
   "source": [
    "df_stats.printSchema()"
   ]
  },
  {
   "cell_type": "code",
   "execution_count": 28,
   "metadata": {},
   "outputs": [],
   "source": [
    "# Saving the df of statistics \n",
    "#df_stats.write.mode(\"overwrite\").parquet(\"parquets/stats.parquet\")"
   ]
  },
  {
   "cell_type": "markdown",
   "metadata": {},
   "source": [
    "### Plots "
   ]
  },
  {
   "cell_type": "markdown",
   "metadata": {},
   "source": [
    "This section regroups the plots of the computed statistics to explore the data and look for particularities of what is considered a \"good\" movie and a \"bad\" movie. "
   ]
  },
  {
   "cell_type": "markdown",
   "metadata": {
    "heading_collapsed": true
   },
   "source": [
    "#### Conversion to pandas dataframe "
   ]
  },
  {
   "cell_type": "code",
   "execution_count": 54,
   "metadata": {
    "hidden": true
   },
   "outputs": [],
   "source": [
    "# Load from parquet \n",
    "df_words_stats = spark.read.parquet(\"parquets/stats.parquet\")"
   ]
  },
  {
   "cell_type": "code",
   "execution_count": 55,
   "metadata": {
    "hidden": true
   },
   "outputs": [],
   "source": [
    "# join with ratings to get average rating: \n",
    "df_words_ratings = df_words_stats.join(other=df_ratings, \n",
    "                                       on='tconst', \n",
    "                                       how='inner')\n",
    "# join with basics to get title:\n",
    "df_words_ratings = df_words_ratings.join(other=df_basics.select('tconst',\n",
    "                                                                'originalTitle'), \n",
    "                                         on='tconst', \n",
    "                                         how='inner')"
   ]
  },
  {
   "cell_type": "code",
   "execution_count": 56,
   "metadata": {
    "hidden": true
   },
   "outputs": [],
   "source": [
    "df_words_ratings_pd = df_words_ratings.toPandas()"
   ]
  },
  {
   "cell_type": "code",
   "execution_count": 57,
   "metadata": {
    "hidden": true
   },
   "outputs": [
    {
     "data": {
      "text/html": [
       "<div>\n",
       "<style scoped>\n",
       "    .dataframe tbody tr th:only-of-type {\n",
       "        vertical-align: middle;\n",
       "    }\n",
       "\n",
       "    .dataframe tbody tr th {\n",
       "        vertical-align: top;\n",
       "    }\n",
       "\n",
       "    .dataframe thead th {\n",
       "        text-align: right;\n",
       "    }\n",
       "</style>\n",
       "<table border=\"1\" class=\"dataframe\">\n",
       "  <thead>\n",
       "    <tr style=\"text-align: right;\">\n",
       "      <th></th>\n",
       "      <th>tconst</th>\n",
       "      <th>num_words</th>\n",
       "      <th>norm_num_words</th>\n",
       "      <th>num_distinct_words</th>\n",
       "      <th>distinct_index</th>\n",
       "      <th>num_sentences</th>\n",
       "      <th>norm_num_sents</th>\n",
       "      <th>mean_length_sentences</th>\n",
       "      <th>subtitle_mins</th>\n",
       "      <th>runtimeMinutes</th>\n",
       "      <th>times_ratio</th>\n",
       "      <th>averageRating</th>\n",
       "      <th>numVotes</th>\n",
       "      <th>originalTitle</th>\n",
       "    </tr>\n",
       "  </thead>\n",
       "  <tbody>\n",
       "    <tr>\n",
       "      <th>0</th>\n",
       "      <td>tt0032553</td>\n",
       "      <td>7294</td>\n",
       "      <td>58.352000</td>\n",
       "      <td>1753</td>\n",
       "      <td>1.297352e-06</td>\n",
       "      <td>1482</td>\n",
       "      <td>11.856000</td>\n",
       "      <td>4.921727</td>\n",
       "      <td>59.716667</td>\n",
       "      <td>125.0</td>\n",
       "      <td>47.773333</td>\n",
       "      <td>8.5</td>\n",
       "      <td>172669</td>\n",
       "      <td>The Great Dictator</td>\n",
       "    </tr>\n",
       "    <tr>\n",
       "      <th>1</th>\n",
       "      <td>tt0032599</td>\n",
       "      <td>14828</td>\n",
       "      <td>161.173913</td>\n",
       "      <td>2187</td>\n",
       "      <td>5.560755e-07</td>\n",
       "      <td>2883</td>\n",
       "      <td>31.336957</td>\n",
       "      <td>5.143254</td>\n",
       "      <td>31.350000</td>\n",
       "      <td>92.0</td>\n",
       "      <td>34.076087</td>\n",
       "      <td>8.0</td>\n",
       "      <td>47110</td>\n",
       "      <td>His Girl Friday</td>\n",
       "    </tr>\n",
       "    <tr>\n",
       "      <th>2</th>\n",
       "      <td>tt0036323</td>\n",
       "      <td>7253</td>\n",
       "      <td>74.773196</td>\n",
       "      <td>1494</td>\n",
       "      <td>1.669453e-06</td>\n",
       "      <td>1272</td>\n",
       "      <td>13.113402</td>\n",
       "      <td>5.702044</td>\n",
       "      <td>33.850000</td>\n",
       "      <td>97.0</td>\n",
       "      <td>34.896907</td>\n",
       "      <td>7.6</td>\n",
       "      <td>7040</td>\n",
       "      <td>Sahara</td>\n",
       "    </tr>\n",
       "    <tr>\n",
       "      <th>3</th>\n",
       "      <td>tt0039305</td>\n",
       "      <td>9832</td>\n",
       "      <td>98.320000</td>\n",
       "      <td>1876</td>\n",
       "      <td>1.194775e-06</td>\n",
       "      <td>1597</td>\n",
       "      <td>15.970000</td>\n",
       "      <td>6.156544</td>\n",
       "      <td>36.100000</td>\n",
       "      <td>100.0</td>\n",
       "      <td>36.100000</td>\n",
       "      <td>7.2</td>\n",
       "      <td>5443</td>\n",
       "      <td>Dead Reckoning</td>\n",
       "    </tr>\n",
       "    <tr>\n",
       "      <th>4</th>\n",
       "      <td>tt0063688</td>\n",
       "      <td>4469</td>\n",
       "      <td>43.813725</td>\n",
       "      <td>1173</td>\n",
       "      <td>2.491077e-06</td>\n",
       "      <td>1033</td>\n",
       "      <td>10.127451</td>\n",
       "      <td>4.326234</td>\n",
       "      <td>40.683333</td>\n",
       "      <td>102.0</td>\n",
       "      <td>39.885621</td>\n",
       "      <td>7.0</td>\n",
       "      <td>19581</td>\n",
       "      <td>The Thomas Crown Affair</td>\n",
       "    </tr>\n",
       "  </tbody>\n",
       "</table>\n",
       "</div>"
      ],
      "text/plain": [
       "      tconst  num_words  norm_num_words  num_distinct_words  distinct_index  \\\n",
       "0  tt0032553       7294       58.352000                1753    1.297352e-06   \n",
       "1  tt0032599      14828      161.173913                2187    5.560755e-07   \n",
       "2  tt0036323       7253       74.773196                1494    1.669453e-06   \n",
       "3  tt0039305       9832       98.320000                1876    1.194775e-06   \n",
       "4  tt0063688       4469       43.813725                1173    2.491077e-06   \n",
       "\n",
       "   num_sentences  norm_num_sents  mean_length_sentences  subtitle_mins  \\\n",
       "0           1482       11.856000               4.921727      59.716667   \n",
       "1           2883       31.336957               5.143254      31.350000   \n",
       "2           1272       13.113402               5.702044      33.850000   \n",
       "3           1597       15.970000               6.156544      36.100000   \n",
       "4           1033       10.127451               4.326234      40.683333   \n",
       "\n",
       "   runtimeMinutes  times_ratio  averageRating  numVotes  \\\n",
       "0           125.0    47.773333            8.5    172669   \n",
       "1            92.0    34.076087            8.0     47110   \n",
       "2            97.0    34.896907            7.6      7040   \n",
       "3           100.0    36.100000            7.2      5443   \n",
       "4           102.0    39.885621            7.0     19581   \n",
       "\n",
       "             originalTitle  \n",
       "0       The Great Dictator  \n",
       "1          His Girl Friday  \n",
       "2                   Sahara  \n",
       "3           Dead Reckoning  \n",
       "4  The Thomas Crown Affair  "
      ]
     },
     "execution_count": 57,
     "metadata": {},
     "output_type": "execute_result"
    }
   ],
   "source": [
    "df_words_ratings_pd.head()"
   ]
  },
  {
   "cell_type": "markdown",
   "metadata": {
    "hidden": true
   },
   "source": [
    "Using the resulting dataframe we first look at it statistics for each entry.\n",
    "Then we plot each column vs the average rating to see if we find some kind of linear dependency.\n",
    "We also plot the histograms of each metric for films we consider \"good\" and films we consider \"bad\" to see if we have different distributions for such metrics."
   ]
  },
  {
   "cell_type": "code",
   "execution_count": 58,
   "metadata": {
    "hidden": true,
    "scrolled": false
   },
   "outputs": [
    {
     "name": "stdout",
     "output_type": "stream",
     "text": [
      "Means:\n",
      "num_words                 7651.918129\n",
      "norm_num_words              70.718676\n",
      "num_distinct_words        1507.922807\n",
      "distinct_index               0.000006\n",
      "num_sentences             1459.899649\n",
      "norm_num_sents              13.564508\n",
      "mean_length_sentences        5.306130\n",
      "subtitle_mins               45.923166\n",
      "runtimeMinutes             108.877193\n",
      "times_ratio                 40.146395\n",
      "averageRating                6.683205\n",
      "numVotes                 54557.711813\n",
      "dtype: float64 \n",
      "\n",
      "Medians:\n",
      "num_words                 7256.000000\n",
      "norm_num_words              67.918239\n",
      "num_distinct_words        1497.000000\n",
      "distinct_index               0.000001\n",
      "num_sentences             1401.000000\n",
      "norm_num_sents              13.058824\n",
      "mean_length_sentences        5.104018\n",
      "subtitle_mins               39.666667\n",
      "runtimeMinutes             104.000000\n",
      "times_ratio                 38.015873\n",
      "averageRating                6.800000\n",
      "numVotes                 16644.000000\n",
      "dtype: float64 \n",
      "\n",
      "Std deviations\n",
      "num_words                  3556.178555\n",
      "norm_num_words               29.920034\n",
      "num_distinct_words          470.698426\n",
      "distinct_index                0.000070\n",
      "num_sentences               634.925318\n",
      "norm_num_sents                5.648096\n",
      "mean_length_sentences         1.233918\n",
      "subtitle_mins                29.366042\n",
      "runtimeMinutes               22.927162\n",
      "times_ratio                  18.584565\n",
      "averageRating                 1.028043\n",
      "numVotes                 109766.183038\n",
      "dtype: float64\n"
     ]
    }
   ],
   "source": [
    "print(\"Means:\")\n",
    "print(df_words_ratings_pd.mean(), \"\\n\")\n",
    "print(\"Medians:\")\n",
    "print(df_words_ratings_pd.median(), \"\\n\")\n",
    "print(\"Std deviations\")\n",
    "print(df_words_ratings_pd.std())"
   ]
  },
  {
   "cell_type": "markdown",
   "metadata": {
    "heading_collapsed": true
   },
   "source": [
    "#### Correlations "
   ]
  },
  {
   "cell_type": "code",
   "execution_count": 107,
   "metadata": {
    "hidden": true
   },
   "outputs": [],
   "source": [
    "#TODO: what to do wid dat ?"
   ]
  },
  {
   "cell_type": "markdown",
   "metadata": {
    "hidden": true
   },
   "source": [
    "We compute the correlation between our"
   ]
  },
  {
   "cell_type": "code",
   "execution_count": 59,
   "metadata": {
    "hidden": true
   },
   "outputs": [
    {
     "data": {
      "text/plain": [
       "num_words                0.138906\n",
       "norm_num_words           0.003646\n",
       "num_distinct_words       0.114942\n",
       "distinct_index           0.019917\n",
       "num_sentences            0.042028\n",
       "norm_num_sents          -0.106126\n",
       "mean_length_sentences    0.199009\n",
       "subtitle_mins            0.269166\n",
       "runtimeMinutes           0.303423\n",
       "times_ratio              0.210585\n",
       "averageRating            1.000000\n",
       "numVotes                 0.226780\n",
       "Name: averageRating, dtype: float64"
      ]
     },
     "execution_count": 59,
     "metadata": {},
     "output_type": "execute_result"
    }
   ],
   "source": [
    "df_words_ratings_pd.corr()[\"averageRating\"]"
   ]
  },
  {
   "cell_type": "markdown",
   "metadata": {
    "heading_collapsed": true
   },
   "source": [
    "#### Plots for words "
   ]
  },
  {
   "cell_type": "code",
   "execution_count": 64,
   "metadata": {
    "hidden": true,
    "scrolled": false
   },
   "outputs": [
    {
     "data": {
      "image/png": "[encoded data removed]",
      "text/plain": [
       "<Figure size 432x432 with 1 Axes>"
      ]
     },
     "metadata": {},
     "output_type": "display_data"
    }
   ],
   "source": [
    "ax = df_words_ratings_pd.plot.scatter(\"num_words\", \"averageRating\",\n",
    "                                      figsize=(6,6),\n",
    "                                      fontsize=14);\n",
    "plt.xlabel('Number of words',fontsize=14);\n",
    "plt.ylabel('Average Rating IMDb',fontsize=14);"
   ]
  },
  {
   "cell_type": "code",
   "execution_count": 62,
   "metadata": {
    "hidden": true
   },
   "outputs": [
    {
     "data": {
      "image/png": "[encoded data removed]",
      "text/plain": [
       "<Figure size 432x432 with 1 Axes>"
      ]
     },
     "metadata": {},
     "output_type": "display_data"
    }
   ],
   "source": [
    "ax = df_words_ratings_pd.plot.scatter(\"norm_num_words\", \"averageRating\",\n",
    "                                      figsize=(6,6),\n",
    "                                      fontsize=14);\n",
    "plt.xlabel('Normalized number of words',fontsize=14);\n",
    "plt.ylabel('Average Rating IMDb',fontsize=14);"
   ]
  },
  {
   "cell_type": "code",
   "execution_count": 63,
   "metadata": {
    "hidden": true
   },
   "outputs": [
    {
     "data": {
      "image/png": "[encoded data removed]",
      "text/plain": [
       "<Figure size 432x432 with 1 Axes>"
      ]
     },
     "metadata": {},
     "output_type": "display_data"
    }
   ],
   "source": [
    "plt.figure(figsize=(6,6))\n",
    "df_words_ratings_pd[df_words_ratings_pd.averageRating >= 8][\"norm_num_words\"].plot.hist(bins=40,fontsize=14)\n",
    "df_words_ratings_pd[df_words_ratings_pd.averageRating <= 5][\"norm_num_words\"].plot.hist(bins=40,fontsize=14)\n",
    "plt.xlabel('Normalized number of words',fontsize=14);\n",
    "plt.ylabel('Frequency',fontsize=14); "
   ]
  },
  {
   "cell_type": "markdown",
   "metadata": {
    "hidden": true
   },
   "source": [
    "##### Comments :"
   ]
  },
  {
   "cell_type": "markdown",
   "metadata": {
    "hidden": true
   },
   "source": [
    "Looking at the plots reveals that there is not clear distinction in the average IMDb rating based on how many subtitles are employed in a movie.\n",
    "\n",
    "* The first plot shows that most of the film use 5'000 to 15'000 words but that does not have a significant impact on the rating.\n",
    "* The idea behind a the ratio $ \\frac{x}{\\text{Length of Movie}}$ where $x$ here is the number of words used in the movie, is simply to take into accound that movie that is longer could have in proportion the same amount of words employed. Indeed, a longer movie is not necessarly more verbose, it could only have more words used in it because it is longer. \n",
    "* The second plot does not provide much more information than the first and actually shows data more evenly distributed. \n",
    "* Finally, to see if there is a clear distinction between what is considered a \"good\" (= average ratinge >= 8) and a \"bad\" movie (= average ratinge <= 5) we plot an histogram for both types. Again no partiucaler behaviour is noted.    "
   ]
  },
  {
   "cell_type": "markdown",
   "metadata": {
    "heading_collapsed": true
   },
   "source": [
    "#### Plots for distinct words : "
   ]
  },
  {
   "cell_type": "markdown",
   "metadata": {
    "hidden": true
   },
   "source": [
    "He iterate the previous analysis but this time looking at the distinct words. What is expected is that movies that use a larger vocabulary could have been written more caustiously, leading to better scenario and hence a better movie. "
   ]
  },
  {
   "cell_type": "code",
   "execution_count": 65,
   "metadata": {
    "hidden": true,
    "scrolled": false
   },
   "outputs": [
    {
     "data": {
      "image/png": "[encoded data removed]",
      "text/plain": [
       "<Figure size 432x432 with 1 Axes>"
      ]
     },
     "metadata": {},
     "output_type": "display_data"
    }
   ],
   "source": [
    "ax = df_words_ratings_pd.plot.scatter(\"num_distinct_words\", \"averageRating\",figsize=(6,6),fontsize=14);"
   ]
  },
  {
   "cell_type": "markdown",
   "metadata": {
    "hidden": true
   },
   "source": [
    "Again, no general trend can be seen. To bring all movies on equal footing reagrding the number of distinct words used in their subtitles, the number of distinct words is divided by : \n",
    "* the length of the movie\n",
    "* the number of words used \n",
    "* the number of sentences \n",
    "and multiplied by 1000 to have larger numbers. \n",
    "The intuition is that any this three parameters could influence the distinct number of words used : \n",
    "* longer movies provide more chances to use different words\n",
    "* the more words used, the more diversed they can be\n",
    "* more sentences provide more occasions to employ a larger vocabulary"
   ]
  },
  {
   "cell_type": "code",
   "execution_count": 73,
   "metadata": {
    "hidden": true,
    "scrolled": false
   },
   "outputs": [
    {
     "data": {
      "text/plain": [
       "Text(0,0.5,'Average Rating IMDb')"
      ]
     },
     "execution_count": 73,
     "metadata": {},
     "output_type": "execute_result"
    },
    {
     "data": {
      "image/png": "[encoded data removed]",
      "text/plain": [
       "<Figure size 576x432 with 1 Axes>"
      ]
     },
     "metadata": {},
     "output_type": "display_data"
    }
   ],
   "source": [
    "ax = df_words_ratings_pd.plot.scatter(\"distinct_index\",\n",
    "                                      \"averageRating\",\n",
    "                                      figsize=(8,6), \n",
    "                                      fontsize=14);\n",
    "plt.xlabel('Distinct Index', fontsize=14)\n",
    "plt.ylabel('Average Rating IMDb', fontsize=14)"
   ]
  },
  {
   "cell_type": "code",
   "execution_count": 41,
   "metadata": {
    "hidden": true
   },
   "outputs": [
    {
     "data": {
      "text/plain": [
       "count    4275.000000\n",
       "mean        0.005908\n",
       "std         0.069895\n",
       "min         0.000033\n",
       "25%         0.000924\n",
       "50%         0.001410\n",
       "75%         0.002246\n",
       "max         3.537245\n",
       "Name: distinct_index, dtype: float64"
      ]
     },
     "execution_count": 41,
     "metadata": {},
     "output_type": "execute_result"
    }
   ],
   "source": [
    "df_words_ratings_pd['distinct_index'].describe()"
   ]
  },
  {
   "cell_type": "markdown",
   "metadata": {
    "hidden": true
   },
   "source": [
    "By looking at the plote `distinct_index` vs `averageRating` and statistic description, we see that most of the movies are agglutinated to a single value as shown by the mean and the quartiles. "
   ]
  },
  {
   "cell_type": "code",
   "execution_count": 90,
   "metadata": {
    "hidden": true
   },
   "outputs": [
    {
     "data": {
      "image/png": "[encoded data removed]",
      "text/plain": [
       "<Figure size 432x432 with 1 Axes>"
      ]
     },
     "metadata": {},
     "output_type": "display_data"
    }
   ],
   "source": [
    "df_words_ratings_pd[df_words_ratings_pd.averageRating >= 8][\"num_distinct_words\"].plot.hist(bins=40);\n",
    "df_words_ratings_pd[df_words_ratings_pd.averageRating <= 5][\"num_distinct_words\"].plot.hist(bins=40,\n",
    "                                                                                            figsize=(6,6), \n",
    "                                                                                            fontsize=14);\n",
    "\n",
    "plt.xlabel('Number of distinct words', fontsize=14);\n",
    "plt.ylabel('Frequency', fontsize=14);"
   ]
  },
  {
   "cell_type": "markdown",
   "metadata": {
    "hidden": true
   },
   "source": [
    "##### Comments :"
   ]
  },
  {
   "cell_type": "markdown",
   "metadata": {
    "hidden": true
   },
   "source": [
    "Again no clear trend can be seen. \"Good\" or \"bad\" movies are apparently are unfortunately undistinguishable from the point of view of distinct.\n",
    "Some \"outliers\" showed up as we can see in the last plot. \n",
    "The only info we can retieve from this that some extremely verbose movie was a success but that does not mean that it sufficient to be a good movie. "
   ]
  },
  {
   "cell_type": "markdown",
   "metadata": {},
   "source": [
    "#### Plots for the number of  sentences and the mean length of sentences"
   ]
  },
  {
   "cell_type": "markdown",
   "metadata": {},
   "source": [
    "We continue the analysis at a different scale looking at the number of sentences in the movies and  the mean length of the sentences.  \n",
    "We define such quantity as : $\\bar{L} = \\frac{1}{N}\\sum_{s} l_{s}$ where $\\bar{L}$ is the average length of sentences, $l_s$ is the length of the sentence indexed by $s$ and $N$ the total number of sentences in the subtitle of the movie. \n",
    "$l_s$ is simply the number of words in a sentence."
   ]
  },
  {
   "cell_type": "code",
   "execution_count": 115,
   "metadata": {
    "scrolled": false
   },
   "outputs": [
    {
     "data": {
      "image/png": "[encoded data removed]",
      "text/plain": [
       "<Figure size 432x432 with 1 Axes>"
      ]
     },
     "metadata": {},
     "output_type": "display_data"
    }
   ],
   "source": [
    "ax = df_words_ratings_pd.plot.scatter(\"num_sentences\", \"averageRating\",\n",
    "                                      figsize=(6,6),\n",
    "                                      fontsize=14)\n",
    "\n",
    "plt.xlabel('Number of sentences', fontsize=14);\n",
    "plt.ylabel('Average IMDb Rating', fontsize=14);"
   ]
  },
  {
   "cell_type": "code",
   "execution_count": 116,
   "metadata": {
    "scrolled": true
   },
   "outputs": [
    {
     "data": {
      "image/png": "[encoded data removed]",
      "text/plain": [
       "<Figure size 432x432 with 1 Axes>"
      ]
     },
     "metadata": {},
     "output_type": "display_data"
    }
   ],
   "source": [
    "ax = df_words_ratings_pd.plot.scatter(\"norm_num_sents\", \"averageRating\",figsize=(6,6),fontsize=14);\n",
    "plt.xlabel('Normalized number of sentences', fontsize=14);\n",
    "plt.ylabel('Average IMDb Rating', fontsize=14);"
   ]
  },
  {
   "cell_type": "markdown",
   "metadata": {},
   "source": [
    "From the two plots above, it appears that again no clear trend can be established based on this statistics. \n",
    "Nevertherless, it seems that a larger number of sentences for the raw number of sentences and normalized with respect to movie length, correlates positevely with a higher IMDb rating. \n",
    "To have a higher IMDb rating it is not necessary to have longer sentences, as most of data is packed between a 1'000 and 3'000 sentences in the subtitles.  \n",
    "But, it can be observed that a positive correlation appears for the movies with the longest sentences: looking a at the data on the right edge of the blobe shows that as the number of sentences increase, the average IMDb rating increases, as if passed a certain number of sentences garanties a certain IMDb average rating. \n",
    "Without doubt it is not the effect of longer sentences that is observed here, but longer sentences are more complicated to be written. Thus it can give an idea on how well the scripts of this movies where written and that could correlate positively with higher IMDb."
   ]
  },
  {
   "cell_type": "code",
   "execution_count": 117,
   "metadata": {
    "scrolled": false
   },
   "outputs": [
    {
     "data": {
      "image/png": "[encoded data removed]",
      "text/plain": [
       "<Figure size 432x432 with 1 Axes>"
      ]
     },
     "metadata": {},
     "output_type": "display_data"
    }
   ],
   "source": [
    "# TODO do somtehing to visualize both \n",
    "\n",
    "df_words_ratings_pd[df_words_ratings_pd.averageRating <= 5][\"norm_num_sents\"].plot.hist(bins=40,\n",
    "                                                                                        figsize=(6,6),\n",
    "                                                                                        fontsize=14);\n",
    "df_words_ratings_pd[df_words_ratings_pd.averageRating >= 8][\"norm_num_sents\"].plot.hist(bins=40);\n",
    "plt.xlabel('Normalized number of sentences', fontsize=14);\n",
    "plt.ylabel('Frequency', fontsize=14);"
   ]
  },
  {
   "cell_type": "markdown",
   "metadata": {},
   "source": [
    "This last plot on the number of sentences shows that this features is not polarized between good or bad movies : \"good\" movies do not necessarly have long or short sentences and vice-versa for \"bad\" movies. "
   ]
  },
  {
   "cell_type": "code",
   "execution_count": 118,
   "metadata": {
    "scrolled": false
   },
   "outputs": [
    {
     "data": {
      "image/png": "[encoded data removed]",
      "text/plain": [
       "<Figure size 432x432 with 1 Axes>"
      ]
     },
     "metadata": {},
     "output_type": "display_data"
    }
   ],
   "source": [
    "ax = df_words_ratings_pd.plot.scatter(\"mean_length_sentences\", \"averageRating\",figsize=(6,6),fontsize=14);\n",
    "plt.xlabel('Mean length of sentences ', fontsize=14);\n",
    "plt.ylabel('Average IMDb rating', fontsize=14);"
   ]
  },
  {
   "cell_type": "code",
   "execution_count": 95,
   "metadata": {
    "scrolled": false
   },
   "outputs": [
    {
     "data": {
      "image/png": "[encoded data removed]",
      "text/plain": [
       "<Figure size 432x432 with 1 Axes>"
      ]
     },
     "metadata": {},
     "output_type": "display_data"
    }
   ],
   "source": [
    "df_words_ratings_pd[df_words_ratings_pd.averageRating >= 8][\"mean_length_sentences\"].plot.hist(bins=40);\n",
    "df_words_ratings_pd[df_words_ratings_pd.averageRating <= 5][\"mean_length_sentences\"].plot.hist(bins=40,\n",
    "                                                                                               figsize=(6,6),\n",
    "                                                                                               fontsize=14);\n",
    "plt.xlabel('Mean length of sentences', fontsize=14);\n",
    "plt.ylabel('Frequency', fontsize=14);"
   ]
  },
  {
   "cell_type": "code",
   "execution_count": null,
   "metadata": {},
   "outputs": [],
   "source": [
    "No plot show some clear difference between the two classes considdered: \"good\" and \"bad\" movies can not be distinguished by the mean average length.\n",
    "An explanation for this is found when considering the purpose the main use of subtitles in movies : dialogue.\n",
    "Dialogues tends to employ short sentences and in general, many people prefer short sentences as they are more easily understood. So the idea of longer sentences implying more \"written\". \n",
    "Nevertheless by looking at the plots of the total number of words versus the avarge IMDb rating it appear that writting longer sentences correlates positevely with the higher IMDb ratings (at the right edge of the blob made by the data). \n",
    "So what could be said is that, it is not a necessary condition but it seems that movies with the longest sentences on average have the better IMDb ratings in the end. "
   ]
  },
  {
   "cell_type": "markdown",
   "metadata": {
    "heading_collapsed": true
   },
   "source": [
    "#### Plots for durations "
   ]
  },
  {
   "cell_type": "code",
   "execution_count": 97,
   "metadata": {
    "hidden": true,
    "scrolled": false
   },
   "outputs": [
    {
     "data": {
      "image/png": "[encoded data removed]",
      "text/plain": [
       "<Figure size 432x432 with 1 Axes>"
      ]
     },
     "metadata": {},
     "output_type": "display_data"
    }
   ],
   "source": [
    "ax = df_words_ratings_pd.plot.scatter(\"subtitle_mins\", \"averageRating\",figsize=(6,6),fontsize=14);\n",
    "plt.xlabel('Subtitle minutes', fontsize=14);\n",
    "plt.ylabel('Average IMDb rating', fontsize=14);"
   ]
  },
  {
   "cell_type": "code",
   "execution_count": 100,
   "metadata": {
    "hidden": true,
    "scrolled": false
   },
   "outputs": [
    {
     "data": {
      "image/png": "[encoded data removed]",
      "text/plain": [
       "<Figure size 432x432 with 1 Axes>"
      ]
     },
     "metadata": {},
     "output_type": "display_data"
    }
   ],
   "source": [
    "ax = df_words_ratings_pd.plot.scatter(\"runtimeMinutes\", \"averageRating\",figsize=(6,6),fontsize=14);\n",
    "plt.xlabel('Length of movie ', fontsize=14);\n",
    "plt.ylabel('Average IMDb rating', fontsize=14);"
   ]
  },
  {
   "cell_type": "code",
   "execution_count": 106,
   "metadata": {
    "hidden": true,
    "scrolled": false
   },
   "outputs": [
    {
     "name": "stderr",
     "output_type": "stream",
     "text": [
      "<input>:2: DeprecationWarning: invalid escape sequence \\%\n",
      "<input>:2: DeprecationWarning: invalid escape sequence \\%\n",
      "<input>:2: DeprecationWarning: invalid escape sequence \\%\n",
      "<input>:2: DeprecationWarning: invalid escape sequence \\%\n",
      "<input>:2: DeprecationWarning: invalid escape sequence \\%\n",
      "<input>:2: DeprecationWarning: invalid escape sequence \\%\n",
      "<ipython-input-106-938e6b24b787>:2: DeprecationWarning: invalid escape sequence \\%\n",
      "  plt.xlabel('$\\\\tau_{subs}/ \\\\tau_{movies} [\\%]$', fontsize=14);\n"
     ]
    },
    {
     "data": {
      "image/png": "[encoded data removed]",
      "text/plain": [
       "<Figure size 432x432 with 1 Axes>"
      ]
     },
     "metadata": {},
     "output_type": "display_data"
    }
   ],
   "source": [
    "ax = df_words_ratings_pd.plot.scatter( \"times_ratio\", \"averageRating\",figsize=(6,6),fontsize=14);\n",
    "plt.xlabel('$\\\\tau_{subs}/ \\\\tau_{movies} [\\%]$', fontsize=14);\n",
    "plt.ylabel('Average IMDb rating', fontsize=14);"
   ]
  },
  {
   "cell_type": "markdown",
   "metadata": {},
   "source": [
    "#### to be classified "
   ]
  },
  {
   "cell_type": "code",
   "execution_count": 96,
   "metadata": {},
   "outputs": [
    {
     "data": {
      "text/plain": [
       "tconst                               tt5275892\n",
       "num_words                                59152\n",
       "norm_num_words                         126.664\n",
       "num_distinct_words                        5751\n",
       "distinct_index                      3.3385e-08\n",
       "num_sentences                             6236\n",
       "norm_num_sents                         13.3533\n",
       "mean_length_sentences                  9.48557\n",
       "subtitle_mins                           406.05\n",
       "runtimeMinutes                             467\n",
       "times_ratio                            86.9486\n",
       "averageRating                                9\n",
       "numVotes                                 14176\n",
       "originalTitle            O.J.: Made in America\n",
       "Name: 3927, dtype: object"
      ]
     },
     "execution_count": 96,
     "metadata": {},
     "output_type": "execute_result"
    }
   ],
   "source": [
    "#TODO : what's up with this \n",
    "df_words_ratings_pd.iloc[df_words_ratings_pd[\"num_distinct_words\"].idxmax()]"
   ]
  },
  {
   "cell_type": "markdown",
   "metadata": {
    "heading_collapsed": true
   },
   "source": [
    "### WORD ANALYSIS"
   ]
  },
  {
   "cell_type": "code",
   "execution_count": 54,
   "metadata": {
    "hidden": true
   },
   "outputs": [
    {
     "name": "stdout",
     "output_type": "stream",
     "text": [
      "+----+-------+\n",
      "|word|  count|\n",
      "+----+-------+\n",
      "|   I|1304701|\n",
      "| you|1074551|\n",
      "| the| 906553|\n",
      "|  to| 746516|\n",
      "|   a| 626537|\n",
      "|  it| 457048|\n",
      "|  of| 382511|\n",
      "|that| 363364|\n",
      "| You| 361943|\n",
      "| and| 344160|\n",
      "|  in| 319820|\n",
      "|  me| 318220|\n",
      "|  is| 314460|\n",
      "|  on| 230377|\n",
      "| for| 219431|\n",
      "|this| 209579|\n",
      "|your| 202776|\n",
      "|have| 201724|\n",
      "|  my| 200440|\n",
      "|What| 198087|\n",
      "+----+-------+\n",
      "only showing top 20 rows\n",
      "\n",
      "+---------+----+-----+\n",
      "|   tconst|word|count|\n",
      "+---------+----+-----+\n",
      "|tt5275892| the| 2380|\n",
      "|tt5275892|   I| 2040|\n",
      "|tt5275892|  to| 1519|\n",
      "|tt0048977|   I| 1424|\n",
      "|tt5275892|   a| 1343|\n",
      "|tt0829482|   I| 1328|\n",
      "|tt0064117|   I| 1320|\n",
      "|tt0380268| the| 1295|\n",
      "|tt5275892| and| 1224|\n",
      "|tt5275892| was| 1224|\n",
      "|tt0101912|   I| 1202|\n",
      "|tt5275892|that| 1199|\n",
      "|tt0031381|   I| 1180|\n",
      "|tt0052415|   I| 1172|\n",
      "|tt0102138| the| 1129|\n",
      "|tt2318527| YOU| 1124|\n",
      "|tt0478311|   I| 1115|\n",
      "|tt5275892|  of| 1106|\n",
      "|tt0031381| you| 1088|\n",
      "|tt0058461| the| 1079|\n",
      "+---------+----+-----+\n",
      "only showing top 20 rows\n",
      "\n"
     ]
    }
   ],
   "source": [
    "df_all = spark.read.parquet(\"parquets/words/allwords.parquet/\")\n",
    "df_film_words = spark.read.parquet(\"parquets/words/filmwords.parquet/\")\n",
    "df_all.sort(\"count\", ascending=False).show()\n",
    "df_film_words.sort(\"count\", ascending=False).show()\n"
   ]
  },
  {
   "cell_type": "code",
   "execution_count": 55,
   "metadata": {
    "hidden": true
   },
   "outputs": [],
   "source": [
    "nlp = spacy.load('en')\n",
    "spacy_stopwords = set(spacy.lang.en.stop_words.STOP_WORDS)\n",
    "df_film_words_filtered = df_film_words.filter(~psf.lower(df_film_words.word).isin(spacy_stopwords)).sort(\"count\", ascending=False)\n",
    "df_all_filtered =df_all.filter(~psf.lower(df_all.word).isin(spacy_stopwords)).sort(\"count\", ascending=False)"
   ]
  },
  {
   "cell_type": "markdown",
   "metadata": {
    "hidden": true
   },
   "source": [
    "Here we calculate the average word length of each word considering only non-stop words"
   ]
  },
  {
   "cell_type": "code",
   "execution_count": 56,
   "metadata": {
    "hidden": true
   },
   "outputs": [
    {
     "name": "stdout",
     "output_type": "stream",
     "text": [
      "+---------+------------------+\n",
      "|   tconst|    av_word_length|\n",
      "+---------+------------------+\n",
      "|tt0464049| 5.261352749568883|\n",
      "|tt0039305|  4.98247748844001|\n",
      "|tt0456165|   5.1687552213868|\n",
      "|tt0383028| 5.264967540274104|\n",
      "|tt1529572| 5.121131270010673|\n",
      "|tt0032599| 5.331725800895625|\n",
      "|tt0107840| 4.846733668341709|\n",
      "|tt0100142| 5.755446516192346|\n",
      "|tt1031969| 5.006596906278435|\n",
      "|tt0102216|5.5913200723327305|\n",
      "|tt0066193|5.1925498426023085|\n",
      "|tt3531824| 4.718718718718718|\n",
      "|tt1280558| 5.468712394705174|\n",
      "|tt0117718|  5.02393523407251|\n",
      "|tt1640548| 5.287601626016261|\n",
      "|tt0204946| 5.376195028680688|\n",
      "|tt0036323| 5.186022253129346|\n",
      "|tt1602476| 5.202265005662515|\n",
      "|tt2980210|5.4265878877400295|\n",
      "|tt0449010| 5.470213996529786|\n",
      "+---------+------------------+\n",
      "only showing top 20 rows\n",
      "\n"
     ]
    }
   ],
   "source": [
    "df_aux_word = df_film_words_filtered.selectExpr(\"tconst\", \"length(word) * count as product\", \"count\").groupBy(\"tconst\")\n",
    "df_word_length= df_aux_word.agg({\"count\": \"sum\", \"product\": \"sum\"})\n",
    "df_word_length = df_word_length.withColumn(\"av_word_length\", df_word_length[\"sum(product)\"]/ df_word_length[\"sum(count)\"])\\\n",
    "                                .select(\"tconst\", \"av_word_length\")\n",
    "df_word_length.show()"
   ]
  },
  {
   "cell_type": "code",
   "execution_count": 57,
   "metadata": {
    "hidden": true
   },
   "outputs": [],
   "source": [
    "df_word_length_pd = df_word_length.join(df_ratings, [\"tconst\"]).toPandas()"
   ]
  },
  {
   "cell_type": "code",
   "execution_count": 58,
   "metadata": {
    "hidden": true
   },
   "outputs": [
    {
     "data": {
      "text/plain": [
       "0.15255192780928192"
      ]
     },
     "execution_count": 58,
     "metadata": {},
     "output_type": "execute_result"
    },
    {
     "data": {
      "image/png": "[encoded data removed]",
      "text/plain": [
       "<matplotlib.figure.Figure at 0x29b21f07278>"
      ]
     },
     "metadata": {},
     "output_type": "display_data"
    }
   ],
   "source": [
    "ax = df_word_length_pd.plot.scatter(\"av_word_length\", \"averageRating\")\n",
    "df_word_length_pd.iloc[df_word_length_pd[\"av_word_length\"].idxmax()]\n",
    "plt.xlim(3,7)\n",
    "df_word_length_pd[\"av_word_length\"].corr(df_word_length_pd[\"averageRating\"])"
   ]
  },
  {
   "cell_type": "markdown",
   "metadata": {},
   "source": [
    "# Trying to predict the IMDb average rating:"
   ]
  },
  {
   "cell_type": "markdown",
   "metadata": {},
   "source": [
    "Even though we don't see a big dependency between the statistics found and the movie rating, we'll try to do a regression model based on them to see its accuracy, how well it predicts the rating. We don't expect a good result from the exploration performed before."
   ]
  },
  {
   "cell_type": "code",
   "execution_count": 59,
   "metadata": {},
   "outputs": [],
   "source": [
    "feature_columns = df_words_ratings_pd.columns[1:-2].drop(\"averageRating\")\n",
    "X = df_words_ratings_pd[feature_columns]\n",
    "normal_X = (X- X.mean()) /X.std()\n",
    "normal_X = normal_X.fillna(0)\n",
    "y = df_words_ratings_pd[\"averageRating\"]"
   ]
  },
  {
   "cell_type": "code",
   "execution_count": 60,
   "metadata": {
    "scrolled": true
   },
   "outputs": [],
   "source": [
    "regression = LinearRegression()\n",
    "predicted = cross_val_predict(regression, normal_X, y, cv=5)"
   ]
  },
  {
   "cell_type": "code",
   "execution_count": 61,
   "metadata": {
    "scrolled": false
   },
   "outputs": [
    {
     "data": {
      "image/png": "[encoded data removed]",
      "text/plain": [
       "<matplotlib.figure.Figure at 0x29b21f90438>"
      ]
     },
     "metadata": {},
     "output_type": "display_data"
    }
   ],
   "source": [
    "fig, ax = plt.subplots(figsize=(12, 8))\n",
    "ax.scatter(y, predicted, edgecolors=(0, 0, 0))\n",
    "ax.plot([min(y), max(y)], [min(y), max(y)], 'r--', lw=4)\n",
    "ax.set_xlabel('Original')\n",
    "ax.set_ylabel('Predicted')\n",
    "plt.show()"
   ]
  },
  {
   "cell_type": "markdown",
   "metadata": {},
   "source": [
    "As we can see and expected... no real causation, if we arbitrarily consider a good film one with more than 8 as rating, lets try and see if a logistic regression performs better. We don't expect the model to perform any better."
   ]
  },
  {
   "cell_type": "code",
   "execution_count": 62,
   "metadata": {},
   "outputs": [],
   "source": [
    "y = y.map(lambda x: 1 if x>= 8 else 0)"
   ]
  },
  {
   "cell_type": "code",
   "execution_count": 63,
   "metadata": {},
   "outputs": [
    {
     "name": "stderr",
     "output_type": "stream",
     "text": [
      "C:\\Users\\Martin\\Anaconda3\\lib\\site-packages\\sklearn\\metrics\\classification.py:1135: UndefinedMetricWarning: Precision is ill-defined and being set to 0.0 due to no predicted samples.\n",
      "  'precision', 'predicted', average, warn_for)\n",
      "C:\\Users\\Martin\\Anaconda3\\lib\\site-packages\\sklearn\\metrics\\classification.py:1135: UndefinedMetricWarning: Precision is ill-defined and being set to 0.0 due to no predicted samples.\n",
      "  'precision', 'predicted', average, warn_for)\n"
     ]
    },
    {
     "name": "stdout",
     "output_type": "stream",
     "text": [
      "Precision: 0.25 (+/- 0.63)\n",
      "Recall: 0.02 (+/- 0.04)\n"
     ]
    }
   ],
   "source": [
    "regression = LogisticRegression(solver='lbfgs')\n",
    "precision = cross_val_score(regression, normal_X, y, cv=10, scoring=\"precision\")\n",
    "recall = cross_val_score(regression, normal_X, y, cv=10, scoring=\"recall\")\n",
    "\n",
    "# Precision: avoid false positives\n",
    "print(\"Precision: %0.2f (+/- %0.2f)\" % (precision.mean(), precision.std() * 2))\n",
    "# Recall: avoid false negatives\n",
    "print(\"Recall: %0.2f (+/- %0.2f)\" % (recall.mean(), recall.std() * 2))"
   ]
  },
  {
   "cell_type": "markdown",
   "metadata": {},
   "source": [
    "Again we can see, the results are what we expected, no accurate prediction can be given from the given statistics"
   ]
  },
  {
   "cell_type": "markdown",
   "metadata": {},
   "source": [
    "These plots show us little relation between the found metrics and the actual film rating, the only thing we could state is that films with more text tend to be better rated. We now look at the different genres.\n"
   ]
  },
  {
   "cell_type": "markdown",
   "metadata": {
    "heading_collapsed": true
   },
   "source": [
    "## Genre Exploration"
   ]
  },
  {
   "cell_type": "markdown",
   "metadata": {
    "hidden": true
   },
   "source": [
    "Here we find the average rating for the 10 most represented genres."
   ]
  },
  {
   "cell_type": "code",
   "execution_count": 64,
   "metadata": {
    "hidden": true
   },
   "outputs": [],
   "source": [
    "df_genres = df_films.drop(\"subtitles\").join(df_basics.select(\"tconst\", \"genres\", \"primaryTitle\", \"runtimeMinutes\"), [\"tconst\"])\n",
    "df_genres= df_genres.join(df_ratings, [\"tconst\"])\n",
    "         "
   ]
  },
  {
   "cell_type": "code",
   "execution_count": 65,
   "metadata": {
    "hidden": true
   },
   "outputs": [],
   "source": [
    "df_genres_avRating = df_genres.select('*', psf.explode('genres').alias('genre')).groupBy(\"genre\").agg({\"averageRating\": \"mean\", \"*\": \"count\"})\n",
    "df_genres_rating_pd = df_genres_avRating.sort(\"count(1)\", ascending=False).limit(10).toPandas()"
   ]
  },
  {
   "cell_type": "markdown",
   "metadata": {
    "hidden": true
   },
   "source": [
    "We can see that there are no very big differences between genres apparently, though we can see that a Drama movie is more likely to have a good rating than a horror movie. From these statistics we could assume that the genre has somehow an influence in the film's average rating.\n"
   ]
  },
  {
   "cell_type": "code",
   "execution_count": 66,
   "metadata": {
    "hidden": true
   },
   "outputs": [
    {
     "data": {
      "image/png": "[encoded data removed]",
      "text/plain": [
       "<matplotlib.figure.Figure at 0x29b21fc5be0>"
      ]
     },
     "metadata": {},
     "output_type": "display_data"
    }
   ],
   "source": [
    "df_genres_rating_pd.sort_values(\"avg(averageRating)\", ascending=False).plot.bar(y=\"avg(averageRating)\", x=\"genre\")\n",
    "plt.ylim(5.5, 7.5)\n",
    "plt.show()"
   ]
  },
  {
   "cell_type": "markdown",
   "metadata": {
    "heading_collapsed": true
   },
   "source": [
    "## Time Exploration"
   ]
  },
  {
   "cell_type": "markdown",
   "metadata": {
    "hidden": true
   },
   "source": [
    "We categorize our films into 3 time periods"
   ]
  },
  {
   "cell_type": "code",
   "execution_count": 67,
   "metadata": {
    "hidden": true
   },
   "outputs": [],
   "source": [
    "def add_time_period(year):\n",
    "    if year < 1910 or year > 2018:\n",
    "        return \"NaN\"\n",
    "    elif year < 1960:\n",
    "        return \"1910-1950's\"\n",
    "    elif year < 2000:\n",
    "        return \"1960-1990's\"\n",
    "    else:\n",
    "        return \"2000's\"\n",
    "udf_period = psf.udf(add_time_period, StringType())    \n"
   ]
  },
  {
   "cell_type": "code",
   "execution_count": 68,
   "metadata": {
    "hidden": true
   },
   "outputs": [
    {
     "name": "stdout",
     "output_type": "stream",
     "text": [
      "+-----------+-----+\n",
      "|     period|count|\n",
      "+-----------+-----+\n",
      "|1960-1990's| 1361|\n",
      "|1910-1950's|  383|\n",
      "|     2000's| 2542|\n",
      "+-----------+-----+\n",
      "\n"
     ]
    }
   ],
   "source": [
    "df_words_ratings_periods = df_words_ratings.join(df_films.select(\"year\", \"tconst\"), [\"tconst\"]).withColumn(\"period\", udf_period(\"year\"))\n",
    "df_words_ratings_periods.groupBy(\"period\").count().show()"
   ]
  },
  {
   "cell_type": "markdown",
   "metadata": {
    "hidden": true
   },
   "source": [
    "Not very balanced"
   ]
  },
  {
   "cell_type": "code",
   "execution_count": 69,
   "metadata": {
    "hidden": true,
    "scrolled": true
   },
   "outputs": [
    {
     "name": "stdout",
     "output_type": "stream",
     "text": [
      "+-----------+------------------+\n",
      "|     period|avg(averageRating)|\n",
      "+-----------+------------------+\n",
      "|1960-1990's| 6.829757543980068|\n",
      "|1910-1950's| 7.587206303295205|\n",
      "|     2000's| 6.470495676637915|\n",
      "+-----------+------------------+\n",
      "\n"
     ]
    }
   ],
   "source": [
    "df_words_ratings_periods.groupBy(\"period\").agg({\"averageRating\": \"mean\"}).show()"
   ]
  },
  {
   "cell_type": "markdown",
   "metadata": {
    "hidden": true
   },
   "source": [
    "Are films getting worse? Can't be sure as the amount of films is not big enough but from our data it would seem so"
   ]
  },
  {
   "cell_type": "markdown",
   "metadata": {
    "hidden": true
   },
   "source": [
    "Check distributions for each time period"
   ]
  },
  {
   "cell_type": "code",
   "execution_count": 70,
   "metadata": {
    "hidden": true
   },
   "outputs": [],
   "source": [
    "df_periods_stats = df_words_ratings_periods.join(df_genres.select(\"tconst\", psf.explode('genres').alias('genre')), [\"tconst\"])\\\n",
    "                        .groupBy(\"period\", \"genre\").agg({\"averageRating\": \"mean\", \"*\": \"count\"})\n",
    "df_periods_stats_pd = df_periods_stats.toPandas()"
   ]
  },
  {
   "cell_type": "code",
   "execution_count": 71,
   "metadata": {
    "hidden": true
   },
   "outputs": [],
   "source": [
    "df_genres = df_films.drop(\"subtitles\").join(df_basics.select(\"tconst\", \"genres\", \"primaryTitle\", \"runtimeMinutes\"), [\"tconst\"])\n",
    "df_genres= df_genres.join(df_ratings, [\"tconst\"])\n",
    "         "
   ]
  },
  {
   "cell_type": "markdown",
   "metadata": {
    "hidden": true
   },
   "source": [
    "#### Subtitles to String and time period separation functions"
   ]
  },
  {
   "cell_type": "code",
   "execution_count": 72,
   "metadata": {
    "hidden": true
   },
   "outputs": [
    {
     "data": {
      "text/html": [
       "<div>\n",
       "<style scoped>\n",
       "    .dataframe tbody tr th:only-of-type {\n",
       "        vertical-align: middle;\n",
       "    }\n",
       "\n",
       "    .dataframe tbody tr th {\n",
       "        vertical-align: top;\n",
       "    }\n",
       "\n",
       "    .dataframe thead th {\n",
       "        text-align: right;\n",
       "    }\n",
       "</style>\n",
       "<table border=\"1\" class=\"dataframe\">\n",
       "  <thead>\n",
       "    <tr style=\"text-align: right;\">\n",
       "      <th></th>\n",
       "      <th>period</th>\n",
       "      <th>genre</th>\n",
       "      <th>avg(averageRating)</th>\n",
       "      <th>count(1)</th>\n",
       "    </tr>\n",
       "  </thead>\n",
       "  <tbody>\n",
       "    <tr>\n",
       "      <th>15</th>\n",
       "      <td>1910-1950's</td>\n",
       "      <td>Drama</td>\n",
       "      <td>7.636060</td>\n",
       "      <td>269</td>\n",
       "    </tr>\n",
       "    <tr>\n",
       "      <th>53</th>\n",
       "      <td>1910-1950's</td>\n",
       "      <td>Romance</td>\n",
       "      <td>7.595000</td>\n",
       "      <td>120</td>\n",
       "    </tr>\n",
       "    <tr>\n",
       "      <th>18</th>\n",
       "      <td>2000's</td>\n",
       "      <td>Biography</td>\n",
       "      <td>7.151351</td>\n",
       "      <td>185</td>\n",
       "    </tr>\n",
       "    <tr>\n",
       "      <th>60</th>\n",
       "      <td>1960-1990's</td>\n",
       "      <td>Drama</td>\n",
       "      <td>7.139177</td>\n",
       "      <td>753</td>\n",
       "    </tr>\n",
       "    <tr>\n",
       "      <th>23</th>\n",
       "      <td>1960-1990's</td>\n",
       "      <td>Romance</td>\n",
       "      <td>6.943056</td>\n",
       "      <td>216</td>\n",
       "    </tr>\n",
       "    <tr>\n",
       "      <th>39</th>\n",
       "      <td>2000's</td>\n",
       "      <td>Drama</td>\n",
       "      <td>6.735992</td>\n",
       "      <td>1442</td>\n",
       "    </tr>\n",
       "    <tr>\n",
       "      <th>49</th>\n",
       "      <td>1960-1990's</td>\n",
       "      <td>Crime</td>\n",
       "      <td>6.735563</td>\n",
       "      <td>284</td>\n",
       "    </tr>\n",
       "    <tr>\n",
       "      <th>36</th>\n",
       "      <td>1960-1990's</td>\n",
       "      <td>Thriller</td>\n",
       "      <td>6.734973</td>\n",
       "      <td>183</td>\n",
       "    </tr>\n",
       "    <tr>\n",
       "      <th>40</th>\n",
       "      <td>1960-1990's</td>\n",
       "      <td>Adventure</td>\n",
       "      <td>6.689202</td>\n",
       "      <td>213</td>\n",
       "    </tr>\n",
       "    <tr>\n",
       "      <th>56</th>\n",
       "      <td>2000's</td>\n",
       "      <td>Animation</td>\n",
       "      <td>6.614706</td>\n",
       "      <td>136</td>\n",
       "    </tr>\n",
       "    <tr>\n",
       "      <th>31</th>\n",
       "      <td>1960-1990's</td>\n",
       "      <td>Comedy</td>\n",
       "      <td>6.599436</td>\n",
       "      <td>532</td>\n",
       "    </tr>\n",
       "    <tr>\n",
       "      <th>57</th>\n",
       "      <td>2000's</td>\n",
       "      <td>Crime</td>\n",
       "      <td>6.555975</td>\n",
       "      <td>477</td>\n",
       "    </tr>\n",
       "    <tr>\n",
       "      <th>34</th>\n",
       "      <td>2000's</td>\n",
       "      <td>Romance</td>\n",
       "      <td>6.513379</td>\n",
       "      <td>441</td>\n",
       "    </tr>\n",
       "    <tr>\n",
       "      <th>8</th>\n",
       "      <td>1960-1990's</td>\n",
       "      <td>Action</td>\n",
       "      <td>6.476838</td>\n",
       "      <td>272</td>\n",
       "    </tr>\n",
       "    <tr>\n",
       "      <th>64</th>\n",
       "      <td>1960-1990's</td>\n",
       "      <td>Fantasy</td>\n",
       "      <td>6.392793</td>\n",
       "      <td>111</td>\n",
       "    </tr>\n",
       "    <tr>\n",
       "      <th>0</th>\n",
       "      <td>2000's</td>\n",
       "      <td>Adventure</td>\n",
       "      <td>6.390152</td>\n",
       "      <td>396</td>\n",
       "    </tr>\n",
       "    <tr>\n",
       "      <th>11</th>\n",
       "      <td>2000's</td>\n",
       "      <td>Action</td>\n",
       "      <td>6.362867</td>\n",
       "      <td>579</td>\n",
       "    </tr>\n",
       "    <tr>\n",
       "      <th>29</th>\n",
       "      <td>2000's</td>\n",
       "      <td>Mystery</td>\n",
       "      <td>6.293450</td>\n",
       "      <td>229</td>\n",
       "    </tr>\n",
       "    <tr>\n",
       "      <th>25</th>\n",
       "      <td>2000's</td>\n",
       "      <td>Fantasy</td>\n",
       "      <td>6.278571</td>\n",
       "      <td>168</td>\n",
       "    </tr>\n",
       "    <tr>\n",
       "      <th>2</th>\n",
       "      <td>2000's</td>\n",
       "      <td>Comedy</td>\n",
       "      <td>6.270935</td>\n",
       "      <td>898</td>\n",
       "    </tr>\n",
       "    <tr>\n",
       "      <th>46</th>\n",
       "      <td>1960-1990's</td>\n",
       "      <td>Horror</td>\n",
       "      <td>6.254861</td>\n",
       "      <td>144</td>\n",
       "    </tr>\n",
       "    <tr>\n",
       "      <th>51</th>\n",
       "      <td>2000's</td>\n",
       "      <td>Thriller</td>\n",
       "      <td>6.233034</td>\n",
       "      <td>445</td>\n",
       "    </tr>\n",
       "    <tr>\n",
       "      <th>16</th>\n",
       "      <td>2000's</td>\n",
       "      <td>Family</td>\n",
       "      <td>6.019231</td>\n",
       "      <td>104</td>\n",
       "    </tr>\n",
       "    <tr>\n",
       "      <th>63</th>\n",
       "      <td>2000's</td>\n",
       "      <td>Sci-Fi</td>\n",
       "      <td>6.007784</td>\n",
       "      <td>167</td>\n",
       "    </tr>\n",
       "    <tr>\n",
       "      <th>9</th>\n",
       "      <td>2000's</td>\n",
       "      <td>Horror</td>\n",
       "      <td>5.786377</td>\n",
       "      <td>345</td>\n",
       "    </tr>\n",
       "  </tbody>\n",
       "</table>\n",
       "</div>"
      ],
      "text/plain": [
       "         period      genre  avg(averageRating)  count(1)\n",
       "15  1910-1950's      Drama            7.636060       269\n",
       "53  1910-1950's    Romance            7.595000       120\n",
       "18       2000's  Biography            7.151351       185\n",
       "60  1960-1990's      Drama            7.139177       753\n",
       "23  1960-1990's    Romance            6.943056       216\n",
       "39       2000's      Drama            6.735992      1442\n",
       "49  1960-1990's      Crime            6.735563       284\n",
       "36  1960-1990's   Thriller            6.734973       183\n",
       "40  1960-1990's  Adventure            6.689202       213\n",
       "56       2000's  Animation            6.614706       136\n",
       "31  1960-1990's     Comedy            6.599436       532\n",
       "57       2000's      Crime            6.555975       477\n",
       "34       2000's    Romance            6.513379       441\n",
       "8   1960-1990's     Action            6.476838       272\n",
       "64  1960-1990's    Fantasy            6.392793       111\n",
       "0        2000's  Adventure            6.390152       396\n",
       "11       2000's     Action            6.362867       579\n",
       "29       2000's    Mystery            6.293450       229\n",
       "25       2000's    Fantasy            6.278571       168\n",
       "2        2000's     Comedy            6.270935       898\n",
       "46  1960-1990's     Horror            6.254861       144\n",
       "51       2000's   Thriller            6.233034       445\n",
       "16       2000's     Family            6.019231       104\n",
       "63       2000's     Sci-Fi            6.007784       167\n",
       "9        2000's     Horror            5.786377       345"
      ]
     },
     "execution_count": 72,
     "metadata": {},
     "output_type": "execute_result"
    }
   ],
   "source": [
    "df_periods_stats_pd[df_periods_stats_pd[\"count(1)\"] > 100].sort_values(\"avg(averageRating)\", ascending=False)"
   ]
  },
  {
   "cell_type": "markdown",
   "metadata": {},
   "source": [
    "## Text analysis"
   ]
  },
  {
   "cell_type": "markdown",
   "metadata": {},
   "source": [
    "As we can see, maybe using genre and the time period as parameter for a regression might result in better predictions, but it is clearly not good enough. We need to go deeper, look at the content of the actual text. We'll implement a sentiment analysis on some of the best films and some of the worst films and see if we can find some kind of dependency."
   ]
  },
  {
   "cell_type": "code",
   "execution_count": 73,
   "metadata": {},
   "outputs": [],
   "source": [
    "df_films_strings = spark.read.parquet(\"parquets/filmtext.parquet/\")"
   ]
  },
  {
   "cell_type": "markdown",
   "metadata": {},
   "source": [
    "### SENTIMENT ANALYSIS. \n",
    "\n",
    "For the sentiment analysis we take as metrics the average positive and negative sentiment of the film which we define as the total positive (negative) score of each sentence, divided by the total number of sentences. As these are fairly heavy computations we will look at only the best and worst to start. (the 50 best and the 50 worst)"
   ]
  },
  {
   "cell_type": "code",
   "execution_count": 74,
   "metadata": {},
   "outputs": [],
   "source": [
    "df_strings = df_films_strings.join(df_ratings, [\"tconst\"]).toPandas()"
   ]
  },
  {
   "cell_type": "code",
   "execution_count": 75,
   "metadata": {},
   "outputs": [],
   "source": [
    "analyzer = SentimentIntensityAnalyzer()\n",
    "def av_sentiments_film(text):\n",
    "    document = nlp(text)\n",
    "    positive_sent = 0\n",
    "    negative_sent = 0\n",
    "    sents = document.sents\n",
    "    count = 0\n",
    "    for sent in sents:\n",
    "        positive_sent += analyzer.polarity_scores(sent.text)['pos']\n",
    "        negative_sent += analyzer.polarity_scores(sent.text)['neg']\n",
    "        count += 1\n",
    "    return (positive_sent/count, negative_sent/count)\n"
   ]
  },
  {
   "cell_type": "code",
   "execution_count": 76,
   "metadata": {},
   "outputs": [],
   "source": [
    "#TODO CHoose number of subtitles,\n",
    "df_strings_best = df_strings.sort_values(\"averageRating\", ascending=False).head(100)\n",
    "df_strings_worst = df_strings.sort_values(\"averageRating\", ascending=True).head(100)\n",
    "df_strings_best[\"av_sentiment\"] = df_strings_best[\"text\"].apply(av_sentiments_film)\n",
    "df_strings_worst[\"av_sentiment\"] = df_strings_worst[\"text\"].apply(av_sentiments_film)\n"
   ]
  },
  {
   "cell_type": "code",
   "execution_count": 77,
   "metadata": {},
   "outputs": [],
   "source": [
    "df_strings_best[['positive', 'negative']] = df_strings_best['av_sentiment'].apply(pd.Series)\n",
    "df_strings_worst[['positive', 'negative']] = df_strings_worst['av_sentiment'].apply(pd.Series)"
   ]
  },
  {
   "cell_type": "code",
   "execution_count": 78,
   "metadata": {},
   "outputs": [
    {
     "name": "stdout",
     "output_type": "stream",
     "text": [
      "The median positive sentiment of best and worst films is\n",
      "0.10256194469591637\n",
      "0.12596920297233\n"
     ]
    }
   ],
   "source": [
    "print(\"The median positive sentiment of best and worst films is\")\n",
    "print(df_strings_best[\"positive\"].median())\n",
    "print(df_strings_worst[\"positive\"].median())"
   ]
  },
  {
   "cell_type": "code",
   "execution_count": 79,
   "metadata": {
    "scrolled": true
   },
   "outputs": [
    {
     "data": {
      "image/png": "[encoded data removed]",
      "text/plain": [
       "<matplotlib.figure.Figure at 0x29b207fd320>"
      ]
     },
     "metadata": {},
     "output_type": "display_data"
    }
   ],
   "source": [
    "ax = df_strings_best.plot.scatter(\"positive\", \"averageRating\")"
   ]
  },
  {
   "cell_type": "code",
   "execution_count": 80,
   "metadata": {
    "scrolled": true
   },
   "outputs": [
    {
     "data": {
      "image/png": "[encoded data removed]",
      "text/plain": [
       "<matplotlib.figure.Figure at 0x29b212a5940>"
      ]
     },
     "metadata": {},
     "output_type": "display_data"
    }
   ],
   "source": [
    "ax = df_strings_worst.plot.scatter(\"positive\", \"averageRating\")"
   ]
  },
  {
   "cell_type": "code",
   "execution_count": 81,
   "metadata": {},
   "outputs": [
    {
     "data": {
      "image/png": "[encoded data removed]",
      "text/plain": [
       "<matplotlib.figure.Figure at 0x29b2219b5c0>"
      ]
     },
     "metadata": {},
     "output_type": "display_data"
    }
   ],
   "source": [
    "df_strings_best[\"positive\"].plot.hist(alpha=0.8, label=\"best films\")\n",
    "df_strings_worst[\"positive\"].plot.hist(alpha=0.4, label=\"worst films\")\n",
    "plt.legend(loc='upper right')\n",
    "plt.show()"
   ]
  },
  {
   "cell_type": "code",
   "execution_count": 82,
   "metadata": {
    "scrolled": true
   },
   "outputs": [
    {
     "data": {
      "image/png": "[encoded data removed]",
      "text/plain": [
       "<matplotlib.figure.Figure at 0x29b215a9a58>"
      ]
     },
     "metadata": {},
     "output_type": "display_data"
    }
   ],
   "source": [
    "ax =df_strings_best.plot.scatter(\"negative\", \"averageRating\")"
   ]
  },
  {
   "cell_type": "code",
   "execution_count": 83,
   "metadata": {},
   "outputs": [
    {
     "data": {
      "image/png": "[encoded data removed]",
      "text/plain": [
       "<matplotlib.figure.Figure at 0x29b218b7198>"
      ]
     },
     "metadata": {},
     "output_type": "display_data"
    }
   ],
   "source": [
    "ax = df_strings_worst.plot.scatter(\"negative\", \"averageRating\")"
   ]
  },
  {
   "cell_type": "code",
   "execution_count": 96,
   "metadata": {},
   "outputs": [
    {
     "data": {
      "image/png": "[encoded data removed]",
      "text/plain": [
       "<matplotlib.figure.Figure at 0x29b39de7860>"
      ]
     },
     "metadata": {},
     "output_type": "display_data"
    }
   ],
   "source": [
    "df_strings_best[\"negative\"].plot.hist(alpha=0.8, label=\"best films\")\n",
    "df_strings_worst[\"negative\"].plot.hist(alpha=0.4, label=\"worst films\")\n",
    "plt.legend(loc='upper right')\n",
    "plt.xlabel(\"negative sentiment\")\n",
    "plt.show()"
   ]
  },
  {
   "cell_type": "code",
   "execution_count": 85,
   "metadata": {},
   "outputs": [
    {
     "name": "stdout",
     "output_type": "stream",
     "text": [
      "Median negative sentiment of best and worst films is\n",
      "0.07401094998503802\n",
      "0.0747541429630742\n"
     ]
    }
   ],
   "source": [
    "print(\"Median negative sentiment of best and worst films is\")\n",
    "print(df_strings_best[\"negative\"].median())\n",
    "print(df_strings_worst[\"negative\"].median())"
   ]
  },
  {
   "cell_type": "markdown",
   "metadata": {},
   "source": [
    "This plots dont seem to give us any relation between rating and average positive or negative sentiment of a film. We dont consider a larger data set as we can see no major relation. Only things we can conclude is that films in general have more of a positive sentiment than a negative sentiment, that good films tend to be a tiny bit less positive and less negative."
   ]
  },
  {
   "cell_type": "code",
   "execution_count": null,
   "metadata": {},
   "outputs": [],
   "source": []
  }
 ],
 "metadata": {
  "kernelspec": {
   "display_name": "Python 3",
   "language": "python",
   "name": "python3"
  },
  "language_info": {
   "codemirror_mode": {
    "name": "ipython",
    "version": 3
   },
   "file_extension": ".py",
   "mimetype": "text/x-python",
   "name": "python",
   "nbconvert_exporter": "python",
   "pygments_lexer": "ipython3",
   "version": "3.6.5"
  },
  "varInspector": {
   "cols": {
    "lenName": 16,
    "lenType": 16,
    "lenVar": 40
   },
   "kernels_config": {
    "python": {
     "delete_cmd_postfix": "",
     "delete_cmd_prefix": "del ",
     "library": "var_list.py",
     "varRefreshCmd": "print(var_dic_list())"
    },
    "r": {
     "delete_cmd_postfix": ") ",
     "delete_cmd_prefix": "rm(",
     "library": "var_list.r",
     "varRefreshCmd": "cat(var_dic_list()) "
    }
   },
   "types_to_exclude": [
    "module",
    "function",
    "builtin_function_or_method",
    "instance",
    "_Feature"
   ],
   "window_display": false
  }
 },
 "nbformat": 4,
 "nbformat_minor": 2
}
