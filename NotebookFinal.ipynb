{
 "cells": [
  {
   "cell_type": "markdown",
   "metadata": {},
   "source": [
    "# A Movie behind a Script\n"
   ]
  },
  {
   "cell_type": "code",
   "execution_count": 1,
   "metadata": {},
   "outputs": [],
   "source": [
    "import os\n",
    "import re\n",
    "import pandas as pd\n",
    "import numpy as np\n",
    "import matplotlib\n",
    "import matplotlib.pyplot as plt\n",
    "import findspark\n",
    "findspark.init()\n",
    "\n",
    "from pyspark.sql import *\n",
    "from pyspark.sql.types import *\n",
    "import pyspark.sql.functions as psf\n",
    "from pyspark.sql.utils import AnalysisException\n",
    "\n",
    "#NLP libraries\n",
    "import spacy, nltk, gensim, sklearn\n",
    "import pyLDAvis.gensim\n",
    "\n",
    "#Vader\n",
    "import vaderSentiment\n",
    "from vaderSentiment.vaderSentiment import SentimentIntensityAnalyzer\n",
    "\n",
    "from sklearn.linear_model import LinearRegression, LogisticRegression\n",
    "from sklearn.preprocessing import OneHotEncoder\n",
    "from pandas.plotting import scatter_matrix\n",
    "from sklearn.model_selection import cross_val_predict\n",
    "from sklearn.model_selection import cross_val_score\n",
    "import seaborn as sns\n",
    "\n",
    "#os.environ['PYSPARK_SUBMIT_ARGS'] = '--packages com.databricks:spark-xml_2.10:0.4.1 pyspark-shell'\n",
    "\n"
   ]
  },
  {
   "cell_type": "code",
   "execution_count": 2,
   "metadata": {},
   "outputs": [],
   "source": [
    "spark = SparkSession.builder.getOrCreate()\n",
    "#spark.conf.set('spark.sql.session.timeZone', 'UTC')\n",
    "sc = spark.sparkContext\n",
    "sqlContext = SQLContext(sc)"
   ]
  },
  {
   "cell_type": "markdown",
   "metadata": {},
   "source": [
    "# Overview of datasets\n",
    "\n",
    "The OpenSubtitles dataset is a compressed cluster of folders containing XML files. Each XML file is split into a script portion with the subtitles of the movie and a metadata portion with additional information about the movie or show. The name of the second-parent folder of the XML file is the corresponding IMDb identifier of the movie or show, thus allowing us to extract additional information from the IMDb dataset."
   ]
  },
  {
   "cell_type": "markdown",
   "metadata": {},
   "source": [
    "## IMDb Dataset"
   ]
  },
  {
   "cell_type": "markdown",
   "metadata": {},
   "source": [
    "We use the IMDb basics dataset, which provides us with a title's main information, and the ratings datasets, which provides us the IMDb rating and votes information for each title."
   ]
  },
  {
   "cell_type": "code",
   "execution_count": 3,
   "metadata": {
    "scrolled": true
   },
   "outputs": [
    {
     "name": "stdout",
     "output_type": "stream",
     "text": [
      "root\n",
      " |-- tconst: string (nullable = true)\n",
      " |-- titleType: string (nullable = true)\n",
      " |-- primaryTitle: string (nullable = true)\n",
      " |-- originalTitle: string (nullable = true)\n",
      " |-- isAdult: string (nullable = true)\n",
      " |-- startYear: string (nullable = true)\n",
      " |-- endYear: string (nullable = true)\n",
      " |-- runtimeMinutes: double (nullable = true)\n",
      " |-- genres: array (nullable = true)\n",
      " |    |-- element: string (containsNull = true)\n",
      "\n"
     ]
    }
   ],
   "source": [
    "df_basics = spark.read.parquet(\"parquets/basics.parquet\")\n",
    "df_basics.printSchema()"
   ]
  },
  {
   "cell_type": "code",
   "execution_count": 4,
   "metadata": {},
   "outputs": [
    {
     "name": "stdout",
     "output_type": "stream",
     "text": [
      "root\n",
      " |-- tconst: string (nullable = true)\n",
      " |-- averageRating: float (nullable = true)\n",
      " |-- numVotes: integer (nullable = true)\n",
      "\n"
     ]
    }
   ],
   "source": [
    "df_ratings = spark.read.parquet(\"parquets/ratings.parquet\")\n",
    "df_ratings.printSchema()"
   ]
  },
  {
   "cell_type": "markdown",
   "metadata": {
    "heading_collapsed": true
   },
   "source": [
    "## OpenSubtitles dataset\n",
    "\n",
    "The dataset consists of 31 GB of XML files distributed in the following file structure: \n",
    "\n",
    "```\n",
    "├── opensubtitle\n",
    "│   ├── OpenSubtitles2018\n",
    "│   │   ├── Year\n",
    "│   │   │   ├── Id\n",
    "│   │   │   │   ├── #######.xml.gz\n",
    "│   │   │   │   ├── #######.xml.gz\n",
    "│   ├── en.tar.gz\n",
    "│   ├── fr.tar.gz\n",
    "│   ├── zh_cn.tar.gz\n",
    "```\n",
    "where\n",
    "- `######` is a 6-digit unique identifier of the file on the OpenSubtitles dataset.\n",
    "- `Year` is the year the movie or episode was made.\n",
    "- `Id` is a 5 to 7 digit identifier (if it's 7-digit it's also an IMDb identifier).\n",
    "\n",
    "The subtitles are provided in different languages. We only analyze the `OpenSubtitles2018` folder and it's the only folder we detail.\n",
    "\n",
    "The decompressed XML files vary in size, ranging from 5KB to 9000KB sized files.\n",
    "\n",
    "Each XML file is split into a `document` and `metadata` section."
   ]
  },
  {
   "cell_type": "markdown",
   "metadata": {
    "hidden": true
   },
   "source": [
    "### Document\n",
    "\n",
    "The `document` section contains all the **subtitles** and its general structure is the following:\n",
    "\n",
    "```\n",
    "├── s\n",
    "│   ├── time: Integer\n",
    "│   ├── w: String\n",
    "```\n",
    "\n",
    "An example snippet of an XML file:\n",
    "\n",
    "```xml\n",
    "  <s id=\"1\">\n",
    "    <time id=\"T1S\" value=\"00:00:51,819\" />\n",
    "    <w id=\"1.1\">Travis</w>\n",
    "    <w id=\"1.2\">.</w>\n",
    "    <time id=\"T1E\" value=\"00:00:53,352\" />\n",
    "  </s>\n",
    "```\n",
    "\n",
    "The subtitles in each XML file are stored by **blocks** denoted by `s` with a unique `id` attribute (integers in increasing order starting at 1).  \n",
    "\n",
    "Each block (`<s id=\"1\">` for instance) has a:  \n",
    "\n",
    "1. Set of timestamps (denoted by `time`) with\n",
    " - A timestamp `id` attribute that can take two different formats: `T#S` or `T#E`, where _S_ indicates _start_, _E_ indicates _end_ and _#_ is an increasing integer. \n",
    " - A `value` attribute which has the format `HH:mm:ss,fff`.\n",
    "\n",
    "2. Set of words (denoted by `w`) with\n",
    " - an `id` attribute that is simply an increasing number of decimal numbers of the format `X.Y` where X is the string id and Y is the word id within the corresponding string\n",
    " - a non-empty `value` attribute that contains a token: a word or a punctuation character. \n",
    "\n",
    "It sometimes also has an `alternative`, `initial` and `emphasis` attribute.  \n",
    "\n",
    " - The `initial` attribute generally corresponds to slang words or mispronounced words because of an accent such as _lyin'_ instead of _lying_.  \n",
    " - The `alternative` attribute is another way of displaying the subtitle for example _HOW_ instead of _how_.\n",
    " - The `emphasis` attribute is a boolean."
   ]
  },
  {
   "cell_type": "markdown",
   "metadata": {
    "hidden": true
   },
   "source": [
    "### Metadata\n",
    "\n",
    "The `metadata` section has the following structure:\n",
    "\n",
    "```\n",
    "├── Conversion\n",
    "│   ├── corrected_words: Integer\n",
    "│   ├── sentences: Integer\n",
    "│   ├── tokens: Integer\n",
    "│   ├── encoding: String (always utf-8)\n",
    "│   ├── unknown_words: Integer\n",
    "│   ├── ignored_blocks: Integer\n",
    "│   ├── truecased_words: Integer\n",
    "├── Subtitle\n",
    "│   ├── language: String\n",
    "│   ├── date: String\n",
    "│   ├── duration: String\n",
    "│   ├── cds: String (presented as #/# where # is an int)\n",
    "│   ├── blocks: Integer\n",
    "│   ├── confidence: Double\n",
    "├── Source\n",
    "│   ├── genre: String[] (up to 3 genres)\n",
    "│   ├── year: Integer\n",
    "│   ├── duration: Integer (in minutes)\n",
    "│   ├── original: String\n",
    "│   ├── country: String\n",
    "```\n",
    "\n",
    "We note that some XML files may not have all the entries. \n",
    "We can use the metadata to obtain additional information about the movie or show's subtitles and compute certain statistics. "
   ]
  },
  {
   "cell_type": "markdown",
   "metadata": {},
   "source": [
    "## Exploration of our data sets\n",
    "\n",
    "Going through the dataset we notice a few things:\n",
    "\n",
    "1. The dataset has meaningless folders. For example, the folder 1858/ is empty.\n",
    "2. Dataset contains XML files that are not related to movies or TV shows. For example, the folder 666/ contains Justin Bieber song subtitles.  \n",
    "3. Trailer of films can be present in the dataset. For example, the folder 2018/ we found for example Black Panther teaser trailer subtitles.\n",
    "4. Each movie might have more than 1 subtitle file.\n",
    "5. Some subtitle files contain text that is not related to the movie, like credits to the person who made the subtitles.\n",
    "7. Each block may have an arbitrary number (including 0) of timestamps associated to it.\n",
    "\n",
    "To solve points 1, 2 and 3 we decide to take only files associated with valid IMDb id's of movies with more than 5000 reviews.\n",
    "\n",
    "To solve point 4, we simply take the first one.\n",
    "\n",
    "To solve point 6, we keep movies that have a correct IMDb identifier. Hence, all the files in folders that don't have a 7-digit folder name are dropped.\n",
    "\n",
    "To solve point 7, we decide not to associate a timestamp to each word.\n",
    " \n",
    "We extract the desired dataset information into a parquet file using the script `parquet2.py` (TODO rename). From this parquet we extract all the information for the data analysis."
   ]
  },
  {
   "cell_type": "markdown",
   "metadata": {},
   "source": [
    "Moreover, to avoid confusion, we set some naming conventions. We refer to certain attributes as follows:\n",
    "\n",
    "- The `s` array as **blocks**\n",
    "- An element of blocks, as a **block**.\n",
    "- The `w` array as **elements**\n",
    "- An element of elements, as **element**.\n",
    "- `_VALUE` as a **token**\n",
    "- A **subtitle** is a list of tokens"
   ]
  },
  {
   "cell_type": "markdown",
   "metadata": {},
   "source": [
    "# Data analysis"
   ]
  },
  {
   "cell_type": "markdown",
   "metadata": {},
   "source": [
    "## Objective and structure"
   ]
  },
  {
   "cell_type": "markdown",
   "metadata": {},
   "source": [
    "As stated in our abstract, our main goal is to try to find a relation between a film subtitles and the average rating: __What makes a movie good or bad?__  \n",
    "\n",
    "To answer the question we follow this structured plan:\n",
    "1. **Selection of data**: Select and clean data relevant to our problem.\n",
    "2. **Exploration of data**: Analyze the distribution of different features of our data, such as most represented genres, years, etc.\n",
    "3. **Extract features** from the subtitles. Try to find correlations between such features and movies average ratings.\n",
    "4. Implement a **linear regression** using such statistics.\n",
    "5. **Analysis**: Comment results.\n",
    "6. **Natural Language Processing (NLP)**: Use NLP tools such as sentiment analysis and topic detection to extract additional features. TODO\n",
    "7. Test a **regression** using the new features\n",
    "8. **Conclusion**"
   ]
  },
  {
   "cell_type": "markdown",
   "metadata": {},
   "source": [
    "## Selection of the data"
   ]
  },
  {
   "cell_type": "markdown",
   "metadata": {
    "hidden": true
   },
   "source": [
    "To see if one can predict the average IMDb rating using the subtitles of a movie, the data is restricted according to the following criteria:\n",
    "1. __the movie must have been rated at least 5000 times__: indeed we consider this a good minimum threshold to estimate the public approval of a film. In comparison, for a movie to be included in the IMDb top 250 movies, a movie must receive at least 25,000 user ratings.\n",
    "2. __the file identifier must be a valid IMDb identifier__: this ensures that the corresponding IMDb data is present in the `basics` and `rating`. \n",
    "3. __the title type must be of a movie__.\n",
    "\n",
    "We also define helper functions :\n",
    "\n",
    "- a function that retrieves the tokens from the elements (`w` array) and returns an array of subtitles, where each subtitle is a list of tokens.\n",
    "- a function to split the genres. Multiple genres are provided as a single string, so we must define a function to split the string and return an array of genres.\n",
    "- a function that joins all the words of a movie\n",
    "- a function that determines whether an XML document has the correct schema and can thus be processed for our analysis.\n",
    "\n",
    "The helper functions help us fulfill certain criteria laid out above. The script `parquet2.py` is ran on the cluster to load the `.xml` files into a spark dataframe containing the movie information required for our analysis, which is then stored in a parquet file for convenience."
   ]
  },
  {
   "cell_type": "code",
   "execution_count": 5,
   "metadata": {
    "hidden": true
   },
   "outputs": [],
   "source": [
    "def to_subtitles_array(sentences):\n",
    "    \"\"\"Function to map the elements (a struct containing tokens)\n",
    "    to a list of list of tokens \"\"\"\n",
    "    s_list = []\n",
    "    if sentences is None:\n",
    "        return s_list\n",
    "    for words in sentences:\n",
    "        w_list = []\n",
    "        if words and \"w\" in words and words[\"w\"]:\n",
    "            for w in words[\"w\"]:\n",
    "                if '_VALUE' in w and w['_VALUE']:\n",
    "                    w_list.append(w['_VALUE'])\n",
    "                \n",
    "            s_list.append(w_list)\n",
    "\n",
    "    return s_list"
   ]
  },
  {
   "cell_type": "code",
   "execution_count": 6,
   "metadata": {
    "hidden": true
   },
   "outputs": [],
   "source": [
    "# Function to split genres\n",
    "udf_split = psf.udf(lambda s: s.split(',') if s is not None else \"\", ArrayType(StringType()))"
   ]
  },
  {
   "cell_type": "code",
   "execution_count": 7,
   "metadata": {
    "hidden": true
   },
   "outputs": [],
   "source": [
    "# Transform to spark function\n",
    "udf_subtitles_array = psf.udf(to_subtitles_array, ArrayType(ArrayType(StringType())))\n",
    "# Convert array of words into a single string\n",
    "udf_sentence = psf.udf(lambda x: ' '.join(x), StringType())"
   ]
  },
  {
   "cell_type": "code",
   "execution_count": 8,
   "metadata": {
    "hidden": true
   },
   "outputs": [],
   "source": [
    "# Check correct schema\n",
    "def has_correct_schema(df):\n",
    "    arguments = [\"meta.conversion.sentences\",\n",
    "                 \"meta.source.year\", \n",
    "                 \"meta.subtitle.blocks\",\n",
    "                 \"meta.subtitle.duration\",\n",
    "                 \"meta.subtitle.language\",\n",
    "                 \"s\"]\n",
    "    for col in arguments:\n",
    "        try:\n",
    "            df[col]\n",
    "        except AnalysisException:\n",
    "            return False\n",
    "    return True\n",
    "\n",
    "schema_films = StructType([StructField('tconst', StringType(), False),\n",
    "                           StructField('num_sentences', LongType(), True),\n",
    "                           StructField('year', LongType(), True),\n",
    "                           StructField('blocks', LongType(), True),\n",
    "                           StructField('subtitle_mins', DoubleType(), True),\n",
    "                           StructField('subtitles', ArrayType(ArrayType(StringType())), True)])"
   ]
  },
  {
   "cell_type": "markdown",
   "metadata": {
    "hidden": true
   },
   "source": [
    "The function below structures our data to the format we want to then process all the queries we need. \n",
    "We link the movie with the proper IMDb id, we get all the subtitles and convert the subtitle duration to seconds."
   ]
  },
  {
   "cell_type": "code",
   "execution_count": 9,
   "metadata": {
    "hidden": true
   },
   "outputs": [],
   "source": [
    "def clean_df(df_document, imdb_id):\n",
    "    \"\"\"Restructures and selects the columns of a dataframe of an XML\n",
    "    file with its corresponding IMDB Id\"\"\"\n",
    "    # Create IMDb ID and subtitles column\n",
    "    df_film_sentences = df_document.withColumn(\"tconst\", psf.lit(\"tt\" + imdb_id))\\\n",
    "                                   .withColumn(\"subtitles\", udf_subtitles_array(\"s\"))\n",
    "    \n",
    "    # Select metadata and previously created columns\n",
    "    df_result = df_film_sentences.selectExpr(\"tconst\",\n",
    "                                             \"meta.conversion.sentences as num_sentences\",\n",
    "                                             \"meta.source.year\", \n",
    "                                             \"meta.subtitle.blocks\",\n",
    "                                             \"meta.subtitle.duration as subtitle_duration\",\n",
    "                                             \"meta.subtitle.language\",\n",
    "                                             \"subtitles\")\n",
    "    # Split genre column and convert subtitle duration to seconds\n",
    "    df_result = df_result.withColumn(\"subtitle_mins\", \n",
    "                                     psf.unix_timestamp(df_result.subtitle_duration, \"HH:mm:ss,SSS\") / 60)\n",
    "    # Discard redundant columns\n",
    "    df_result =  df_result.select(\"tconst\", \n",
    "                                  \"num_sentences\", \n",
    "                                  \"year\", \n",
    "                                  \"blocks\", \n",
    "                                  psf.when(psf.col(\"subtitle_mins\") > 0, psf.col(\"subtitle_mins\"))\\\n",
    "                                     .otherwise(None)\\\n",
    "                                     .alias(\"subtitle_mins\"), \n",
    "                                  \"subtitles\")\n",
    "    return df_result"
   ]
  },
  {
   "cell_type": "markdown",
   "metadata": {
    "hidden": true
   },
   "source": [
    "As we must process several XML files into dataframe, we define a function that does this."
   ]
  },
  {
   "cell_type": "code",
   "execution_count": 10,
   "metadata": {
    "hidden": true
   },
   "outputs": [],
   "source": [
    "def load_df(path):\n",
    "    \"\"\"Load an XML subtitles file into a dataframe\"\"\"\n",
    "    df_film = sqlContext.read.format('com.databricks.spark.xml')\\\n",
    "                             .options(rowTag='document')\\\n",
    "                             .load(path)\n",
    "    return df_film"
   ]
  },
  {
   "cell_type": "markdown",
   "metadata": {},
   "source": [
    "We can't generate a single parquet file for all of our movies in one process, so we use the following function to merge several parquet files onto 1."
   ]
  },
  {
   "cell_type": "code",
   "execution_count": 11,
   "metadata": {
    "hidden": true
   },
   "outputs": [],
   "source": [
    "def unionAll(*dfs):\n",
    "    first, rest = dfs[0], dfs[1:]  # Python 3.x, for 2.x you'll have to unpack manually\n",
    "    return first.sql_ctx.createDataFrame(\n",
    "        first.sql_ctx._sc.union([df.rdd for df in dfs]),\n",
    "        first.schema\n",
    "    )\n",
    "#df_films = unionAll(*film_list)"
   ]
  },
  {
   "cell_type": "markdown",
   "metadata": {},
   "source": [
    "## Exploration of the data "
   ]
  },
  {
   "cell_type": "markdown",
   "metadata": {},
   "source": [
    "The data can be accessed by loading `films.parquet` and `films2.parquet` into a spark dataframe. The first one contains in the subtitle column only the words present in the film and the second one also includes the punctuation marks."
   ]
  },
  {
   "cell_type": "code",
   "execution_count": 12,
   "metadata": {
    "hidden": true
   },
   "outputs": [],
   "source": [
    "df_films = spark.read.parquet(\"parquets/films.parquet\")"
   ]
  },
  {
   "cell_type": "markdown",
   "metadata": {
    "hidden": true
   },
   "source": [
    "The total films we will be focusing on then is:"
   ]
  },
  {
   "cell_type": "code",
   "execution_count": 13,
   "metadata": {
    "hidden": true
   },
   "outputs": [
    {
     "data": {
      "text/plain": [
       "4286"
      ]
     },
     "execution_count": 13,
     "metadata": {},
     "output_type": "execute_result"
    }
   ],
   "source": [
    "df_films.count()"
   ]
  },
  {
   "cell_type": "markdown",
   "metadata": {},
   "source": [
    "The dataframe we work with has the following form:"
   ]
  },
  {
   "cell_type": "code",
   "execution_count": 14,
   "metadata": {
    "hidden": true,
    "scrolled": true
   },
   "outputs": [
    {
     "name": "stdout",
     "output_type": "stream",
     "text": [
      "root\n",
      " |-- tconst: string (nullable = true)\n",
      " |-- num_sentences: long (nullable = true)\n",
      " |-- year: long (nullable = true)\n",
      " |-- blocks: long (nullable = true)\n",
      " |-- subtitle_mins: double (nullable = true)\n",
      " |-- subtitles: array (nullable = true)\n",
      " |    |-- element: array (containsNull = true)\n",
      " |    |    |-- element: string (containsNull = true)\n",
      "\n"
     ]
    }
   ],
   "source": [
    "df_films.printSchema()"
   ]
  },
  {
   "cell_type": "code",
   "execution_count": 15,
   "metadata": {
    "hidden": true
   },
   "outputs": [],
   "source": [
    "# Loading the data into a spark dataframe : \n",
    "\n",
    "PARQUET_DIR = 'parquets/'\n",
    "data = spark.read.parquet(PARQUET_DIR + 'films2.parquet')"
   ]
  },
  {
   "cell_type": "code",
   "execution_count": 16,
   "metadata": {
    "hidden": true
   },
   "outputs": [
    {
     "data": {
      "text/plain": [
       "['tconst', 'num_subtitles', 'year', 'blocks', 'subtitle_mins', 'subtitles']"
      ]
     },
     "execution_count": 16,
     "metadata": {},
     "output_type": "execute_result"
    }
   ],
   "source": [
    "data.columns "
   ]
  },
  {
   "cell_type": "markdown",
   "metadata": {
    "hidden": true
   },
   "source": [
    "From the original `.xml` the `tconst`, `num_subtitles`, `year`, `blocks`, `subtitle_mins`, `subtitles` columns are kept. "
   ]
  },
  {
   "cell_type": "markdown",
   "metadata": {},
   "source": [
    "We first make a simple exploration of our dataset, joining it with the IMDb ratings dataframe."
   ]
  },
  {
   "cell_type": "code",
   "execution_count": 17,
   "metadata": {},
   "outputs": [],
   "source": [
    "df_movies = df_basics.join(df_ratings, [\"tconst\"])\\\n",
    "                     .filter(df_basics.titleType == \"movie\")\\\n",
    "                     .filter(df_ratings.numVotes >= 5000)\n",
    "\n",
    "df_films_stats = df_films.join(df_movies,[\"tconst\"])\\\n",
    "                         .drop(\"subtitles\")\\\n",
    "                         .toPandas()"
   ]
  },
  {
   "cell_type": "code",
   "execution_count": 18,
   "metadata": {},
   "outputs": [
    {
     "name": "stdout",
     "output_type": "stream",
     "text": [
      "+---------+---------+--------------------+--------------------+-------+---------+-------+--------------+--------------------+-------------+--------+\n",
      "|   tconst|titleType|        primaryTitle|       originalTitle|isAdult|startYear|endYear|runtimeMinutes|              genres|averageRating|numVotes|\n",
      "+---------+---------+--------------------+--------------------+-------+---------+-------+--------------+--------------------+-------------+--------+\n",
      "|tt0004972|    movie|The Birth of a Na...|The Birth of a Na...|      0|     1915|     \\N|         195.0|[Drama, History, ...|          6.7|   19727|\n",
      "|tt0006864|    movie|Intolerance: Love...|Intolerance: Love...|      0|     1916|     \\N|         163.0|    [Drama, History]|          8.0|   12412|\n",
      "|tt0009968|    movie|     Broken Blossoms|Broken Blossoms o...|      0|     1919|     \\N|          90.0|    [Drama, Romance]|          7.6|    8285|\n",
      "|tt0010323|    movie|The Cabinet of Dr...|Das Cabinet des D...|      0|     1920|     \\N|          76.0|[Fantasy, Horror,...|          8.1|   48001|\n",
      "|tt0011237|    movie|           The Golem|Der Golem, wie er...|      0|     1920|     \\N|          91.0|   [Fantasy, Horror]|          7.2|    5561|\n",
      "|tt0012349|    movie|             The Kid|             The Kid|      0|     1921|     \\N|          68.0|[Comedy, Drama, F...|          8.3|   91231|\n",
      "|tt0012364|    movie|The Phantom Carriage|           Körkarlen|      0|     1921|     \\N|         100.0|[Drama, Fantasy, ...|          8.1|    8464|\n",
      "|tt0013086|    movie|Dr. Mabuse: The G...|Dr. Mabuse, der S...|      0|     1922|     \\N|         242.0|[Crime, Mystery, ...|          7.9|    6263|\n",
      "|tt0013257|    movie|               Häxan|               Häxan|      0|     1922|     \\N|          91.0|[Documentary, Fan...|          7.7|    9757|\n",
      "|tt0013427|    movie| Nanook of the North| Nanook of the North|      0|     1922|     \\N|          78.0|       [Documentary]|          7.7|    9335|\n",
      "|tt0013442|    movie|           Nosferatu|Nosferatu, eine S...|      0|     1922|     \\N|          94.0|   [Fantasy, Horror]|          8.0|   78620|\n",
      "|tt0014341|    movie|     Our Hospitality|     Our Hospitality|      0|     1923|     \\N|          65.0|[Comedy, Romance,...|          7.9|    8822|\n",
      "|tt0014429|    movie|        Safety Last!|        Safety Last!|      0|     1923|     \\N|          70.0|  [Comedy, Thriller]|          8.2|   15667|\n",
      "|tt0015064|    movie|      The Last Laugh|     Der letzte Mann|      0|     1924|     \\N|          77.0|             [Drama]|          8.1|   10730|\n",
      "|tt0015163|    movie|       The Navigator|       The Navigator|      0|     1924|     \\N|          59.0|[Action, Comedy, ...|          8.0|    7894|\n",
      "|tt0015324|    movie|        Sherlock Jr.|        Sherlock Jr.|      0|     1924|     \\N|          45.0|[Action, Comedy, ...|          8.2|   30204|\n",
      "|tt0015361|    movie|              Strike|             Stachka|      0|     1925|     \\N|          82.0|             [Drama]|          7.6|    6040|\n",
      "|tt0015624|    movie|      The Big Parade|      The Big Parade|      0|     1925|     \\N|         151.0|[Drama, Romance, ...|          8.2|    5581|\n",
      "|tt0015648|    movie| Battleship Potemkin|Bronenosets Potemkin|      0|     1925|     \\N|          75.0|    [Drama, History]|          8.0|   46778|\n",
      "|tt0015864|    movie|       The Gold Rush|       The Gold Rush|      0|     1925|     \\N|          95.0|[Adventure, Comed...|          8.2|   85761|\n",
      "+---------+---------+--------------------+--------------------+-------+---------+-------+--------------+--------------------+-------------+--------+\n",
      "only showing top 20 rows\n",
      "\n"
     ]
    }
   ],
   "source": [
    "df_movies.show()"
   ]
  },
  {
   "cell_type": "markdown",
   "metadata": {},
   "source": [
    "### What genres are present in our dataset ? "
   ]
  },
  {
   "cell_type": "markdown",
   "metadata": {},
   "source": [
    "Here is the distribution of the different appearing genres of our dataset, we need to consider aswell that a movie might can have multiple genres : __comedy__ and __drama__, for instance."
   ]
  },
  {
   "cell_type": "code",
   "execution_count": 19,
   "metadata": {},
   "outputs": [
    {
     "data": {
      "image/png": "[encoded data removed]",
      "text/plain": [
       "<matplotlib.figure.Figure at 0x1a21457240>"
      ]
     },
     "metadata": {},
     "output_type": "display_data"
    }
   ],
   "source": [
    "# TODO Change style of graphe \n",
    "# TODO add x-axis label\n",
    "# Plotting genre distribution \n",
    "genres = [item for sublist in df_films_stats[\"genres\"] for item in sublist]\n",
    "ax = pd.Series(genres).groupby(genres).count().sort_values().plot.barh(figsize=(10,10))"
   ]
  },
  {
   "cell_type": "markdown",
   "metadata": {},
   "source": [
    "### How is our dataset distributed through time?"
   ]
  },
  {
   "cell_type": "code",
   "execution_count": 20,
   "metadata": {},
   "outputs": [
    {
     "name": "stdout",
     "output_type": "stream",
     "text": [
      "Oldest movie in our dataset was released on: 1922\n",
      "Newest movie in our dataset was released on: 2018\n"
     ]
    },
    {
     "data": {
      "image/png": "[encoded data removed]",
      "text/plain": [
       "<matplotlib.figure.Figure at 0x1a214e5550>"
      ]
     },
     "metadata": {},
     "output_type": "display_data"
    }
   ],
   "source": [
    "# TODO Change style of graphe \n",
    "print(\"Oldest movie in our dataset was released on: {:}\".format(df_films_stats[\"year\"].min()))\n",
    "print(\"Newest movie in our dataset was released on: {:}\".format(df_films_stats[\"year\"].max()))\n",
    "ax = df_films_stats[\"year\"].plot.hist(bins=96, figsize=(10,5))"
   ]
  },
  {
   "cell_type": "markdown",
   "metadata": {},
   "source": [
    "As we can see the data is not distributed evenly through time, a lot of years are missing and more recent films appear more. It will be then difficult to take time into account as a good metric to predict the rating given the uneven distribution"
   ]
  },
  {
   "cell_type": "markdown",
   "metadata": {},
   "source": [
    "### How is the total film runtime distributed?"
   ]
  },
  {
   "cell_type": "code",
   "execution_count": 21,
   "metadata": {},
   "outputs": [
    {
     "name": "stdout",
     "output_type": "stream",
     "text": [
      "Shortest movie in our dataset is: 45.0 minutes long\n",
      "Longest movie in our dataset is: 467.0 minutes long\n"
     ]
    },
    {
     "data": {
      "image/png": "[encoded data removed]",
      "text/plain": [
       "<matplotlib.figure.Figure at 0x1a21dbde48>"
      ]
     },
     "metadata": {},
     "output_type": "display_data"
    }
   ],
   "source": [
    "# TODO Change style of graphe \n",
    "print(\"Shortest movie in our dataset is: {:} minutes long\".format(df_films_stats[\"runtimeMinutes\"].min()))\n",
    "print(\"Longest movie in our dataset is: {:} minutes long\".format(df_films_stats[\"runtimeMinutes\"].max()))\n",
    "\n",
    "# TODO add x-axis label!\n",
    "ax = df_films_stats[\"runtimeMinutes\"].plot.hist(bins=60, figsize=(10,5))"
   ]
  },
  {
   "cell_type": "markdown",
   "metadata": {},
   "source": [
    "Apart from some outliers, our data is well centered to the runtime value of 100 minutes."
   ]
  },
  {
   "cell_type": "markdown",
   "metadata": {},
   "source": [
    "### What about the ratings?"
   ]
  },
  {
   "cell_type": "code",
   "execution_count": 23,
   "metadata": {},
   "outputs": [
    {
     "name": "stdout",
     "output_type": "stream",
     "text": [
      "Worst rated movie in our dataset has: 1.7 rating\n",
      "Best rated movie in our dataset has: 9.4 rating\n",
      "Average rating in our dataset is 6.7\n"
     ]
    },
    {
     "data": {
      "text/plain": [
       "Text(0.5,0,'Average Rating')"
      ]
     },
     "execution_count": 23,
     "metadata": {},
     "output_type": "execute_result"
    },
    {
     "data": {
      "image/png": "[encoded data removed]",
      "text/plain": [
       "<matplotlib.figure.Figure at 0x1a22298400>"
      ]
     },
     "metadata": {},
     "output_type": "display_data"
    }
   ],
   "source": [
    "# TODO Change style of graphe \n",
    "print(\"Worst rated movie in our dataset has: {:.1f} rating\".format(df_films_stats[\"averageRating\"].min()))\n",
    "print(\"Best rated movie in our dataset has: {:.1f} rating\".format(df_films_stats[\"averageRating\"].max()))\n",
    "print(\"Average rating in our dataset is {:.1f}\".format(df_films_stats[\"averageRating\"].mean()))\n",
    "ax = df_films_stats[\"averageRating\"].plot.hist(bins=100, figsize=(10,5))\n",
    "ax.set_xlabel(\"Average Rating\")\n",
    "# ax.savefig"
   ]
  },
  {
   "cell_type": "code",
   "execution_count": 24,
   "metadata": {},
   "outputs": [
    {
     "data": {
      "text/html": [
       "<div>\n",
       "<style scoped>\n",
       "    .dataframe tbody tr th:only-of-type {\n",
       "        vertical-align: middle;\n",
       "    }\n",
       "\n",
       "    .dataframe tbody tr th {\n",
       "        vertical-align: top;\n",
       "    }\n",
       "\n",
       "    .dataframe thead th {\n",
       "        text-align: right;\n",
       "    }\n",
       "</style>\n",
       "<table border=\"1\" class=\"dataframe\">\n",
       "  <thead>\n",
       "    <tr style=\"text-align: right;\">\n",
       "      <th></th>\n",
       "      <th>tconst</th>\n",
       "      <th>num_sentences</th>\n",
       "      <th>year</th>\n",
       "      <th>blocks</th>\n",
       "      <th>subtitle_mins</th>\n",
       "      <th>titleType</th>\n",
       "      <th>primaryTitle</th>\n",
       "      <th>originalTitle</th>\n",
       "      <th>isAdult</th>\n",
       "      <th>startYear</th>\n",
       "      <th>endYear</th>\n",
       "      <th>runtimeMinutes</th>\n",
       "      <th>genres</th>\n",
       "      <th>averageRating</th>\n",
       "      <th>numVotes</th>\n",
       "    </tr>\n",
       "  </thead>\n",
       "  <tbody>\n",
       "    <tr>\n",
       "      <th>2977</th>\n",
       "      <td>tt0252487</td>\n",
       "      <td>1617</td>\n",
       "      <td>1975</td>\n",
       "      <td>675</td>\n",
       "      <td>24.450000</td>\n",
       "      <td>movie</td>\n",
       "      <td>The Chaos Class</td>\n",
       "      <td>Hababam Sinifi</td>\n",
       "      <td>0</td>\n",
       "      <td>1975</td>\n",
       "      <td>\\N</td>\n",
       "      <td>87.0</td>\n",
       "      <td>[Comedy, Drama]</td>\n",
       "      <td>9.4</td>\n",
       "      <td>32554</td>\n",
       "    </tr>\n",
       "    <tr>\n",
       "      <th>3781</th>\n",
       "      <td>tt5813916</td>\n",
       "      <td>1570</td>\n",
       "      <td>2016</td>\n",
       "      <td>1440</td>\n",
       "      <td>71.366667</td>\n",
       "      <td>movie</td>\n",
       "      <td>The Mountain II</td>\n",
       "      <td>Dag II</td>\n",
       "      <td>0</td>\n",
       "      <td>2016</td>\n",
       "      <td>\\N</td>\n",
       "      <td>135.0</td>\n",
       "      <td>[Drama, War]</td>\n",
       "      <td>9.4</td>\n",
       "      <td>98731</td>\n",
       "    </tr>\n",
       "    <tr>\n",
       "      <th>3938</th>\n",
       "      <td>tt5275892</td>\n",
       "      <td>6236</td>\n",
       "      <td>2016</td>\n",
       "      <td>1829</td>\n",
       "      <td>406.050000</td>\n",
       "      <td>movie</td>\n",
       "      <td>O.J.: Made in America</td>\n",
       "      <td>O.J.: Made in America</td>\n",
       "      <td>0</td>\n",
       "      <td>2016</td>\n",
       "      <td>\\N</td>\n",
       "      <td>467.0</td>\n",
       "      <td>[Biography, Crime, Documentary]</td>\n",
       "      <td>9.0</td>\n",
       "      <td>14176</td>\n",
       "    </tr>\n",
       "    <tr>\n",
       "      <th>1218</th>\n",
       "      <td>tt0084302</td>\n",
       "      <td>1045</td>\n",
       "      <td>1982</td>\n",
       "      <td>462</td>\n",
       "      <td>29.433333</td>\n",
       "      <td>movie</td>\n",
       "      <td>The Marathon Family</td>\n",
       "      <td>Maratonci trce pocasni krug</td>\n",
       "      <td>0</td>\n",
       "      <td>1982</td>\n",
       "      <td>\\N</td>\n",
       "      <td>92.0</td>\n",
       "      <td>[Comedy, Drama]</td>\n",
       "      <td>9.0</td>\n",
       "      <td>12553</td>\n",
       "    </tr>\n",
       "    <tr>\n",
       "      <th>1675</th>\n",
       "      <td>tt0468569</td>\n",
       "      <td>2050</td>\n",
       "      <td>2008</td>\n",
       "      <td>694</td>\n",
       "      <td>86.433333</td>\n",
       "      <td>movie</td>\n",
       "      <td>The Dark Knight</td>\n",
       "      <td>The Dark Knight</td>\n",
       "      <td>0</td>\n",
       "      <td>2008</td>\n",
       "      <td>\\N</td>\n",
       "      <td>152.0</td>\n",
       "      <td>[Action, Crime, Drama]</td>\n",
       "      <td>9.0</td>\n",
       "      <td>1986545</td>\n",
       "    </tr>\n",
       "    <tr>\n",
       "      <th>3151</th>\n",
       "      <td>tt0252488</td>\n",
       "      <td>1689</td>\n",
       "      <td>1975</td>\n",
       "      <td>1113</td>\n",
       "      <td>23.283333</td>\n",
       "      <td>movie</td>\n",
       "      <td>The Chaos Class Failed the Class</td>\n",
       "      <td>Hababam Sinifi Sinifta Kaldi</td>\n",
       "      <td>0</td>\n",
       "      <td>1976</td>\n",
       "      <td>\\N</td>\n",
       "      <td>91.0</td>\n",
       "      <td>[Comedy]</td>\n",
       "      <td>9.0</td>\n",
       "      <td>18838</td>\n",
       "    </tr>\n",
       "    <tr>\n",
       "      <th>1028</th>\n",
       "      <td>tt0060196</td>\n",
       "      <td>2071</td>\n",
       "      <td>1966</td>\n",
       "      <td>1434</td>\n",
       "      <td>282.416667</td>\n",
       "      <td>movie</td>\n",
       "      <td>The Good, the Bad and the Ugly</td>\n",
       "      <td>Il buono, il brutto, il cattivo</td>\n",
       "      <td>0</td>\n",
       "      <td>1966</td>\n",
       "      <td>\\N</td>\n",
       "      <td>161.0</td>\n",
       "      <td>[Western]</td>\n",
       "      <td>8.9</td>\n",
       "      <td>598247</td>\n",
       "    </tr>\n",
       "    <tr>\n",
       "      <th>444</th>\n",
       "      <td>tt0108052</td>\n",
       "      <td>2917</td>\n",
       "      <td>1993</td>\n",
       "      <td>1133</td>\n",
       "      <td>126.366667</td>\n",
       "      <td>movie</td>\n",
       "      <td>Schindler's List</td>\n",
       "      <td>Schindler's List</td>\n",
       "      <td>0</td>\n",
       "      <td>1993</td>\n",
       "      <td>\\N</td>\n",
       "      <td>195.0</td>\n",
       "      <td>[Biography, Drama, History]</td>\n",
       "      <td>8.9</td>\n",
       "      <td>1042076</td>\n",
       "    </tr>\n",
       "    <tr>\n",
       "      <th>1172</th>\n",
       "      <td>tt1375666</td>\n",
       "      <td>1570</td>\n",
       "      <td>2010</td>\n",
       "      <td>1190</td>\n",
       "      <td>79.416667</td>\n",
       "      <td>movie</td>\n",
       "      <td>Inception</td>\n",
       "      <td>Inception</td>\n",
       "      <td>0</td>\n",
       "      <td>2010</td>\n",
       "      <td>\\N</td>\n",
       "      <td>148.0</td>\n",
       "      <td>[Action, Adventure, Sci-Fi]</td>\n",
       "      <td>8.8</td>\n",
       "      <td>1766484</td>\n",
       "    </tr>\n",
       "    <tr>\n",
       "      <th>1967</th>\n",
       "      <td>tt0214915</td>\n",
       "      <td>1537</td>\n",
       "      <td>1993</td>\n",
       "      <td>1269</td>\n",
       "      <td>95.950000</td>\n",
       "      <td>movie</td>\n",
       "      <td>Manichithrathazhu</td>\n",
       "      <td>Manichithrathazhu</td>\n",
       "      <td>0</td>\n",
       "      <td>1993</td>\n",
       "      <td>\\N</td>\n",
       "      <td>169.0</td>\n",
       "      <td>[Comedy, Horror, Musical]</td>\n",
       "      <td>8.8</td>\n",
       "      <td>5845</td>\n",
       "    </tr>\n",
       "  </tbody>\n",
       "</table>\n",
       "</div>"
      ],
      "text/plain": [
       "         tconst  num_sentences  year  blocks  subtitle_mins titleType  \\\n",
       "2977  tt0252487           1617  1975     675      24.450000     movie   \n",
       "3781  tt5813916           1570  2016    1440      71.366667     movie   \n",
       "3938  tt5275892           6236  2016    1829     406.050000     movie   \n",
       "1218  tt0084302           1045  1982     462      29.433333     movie   \n",
       "1675  tt0468569           2050  2008     694      86.433333     movie   \n",
       "3151  tt0252488           1689  1975    1113      23.283333     movie   \n",
       "1028  tt0060196           2071  1966    1434     282.416667     movie   \n",
       "444   tt0108052           2917  1993    1133     126.366667     movie   \n",
       "1172  tt1375666           1570  2010    1190      79.416667     movie   \n",
       "1967  tt0214915           1537  1993    1269      95.950000     movie   \n",
       "\n",
       "                          primaryTitle                    originalTitle  \\\n",
       "2977                   The Chaos Class                   Hababam Sinifi   \n",
       "3781                   The Mountain II                           Dag II   \n",
       "3938             O.J.: Made in America            O.J.: Made in America   \n",
       "1218               The Marathon Family      Maratonci trce pocasni krug   \n",
       "1675                   The Dark Knight                  The Dark Knight   \n",
       "3151  The Chaos Class Failed the Class     Hababam Sinifi Sinifta Kaldi   \n",
       "1028    The Good, the Bad and the Ugly  Il buono, il brutto, il cattivo   \n",
       "444                   Schindler's List                 Schindler's List   \n",
       "1172                         Inception                        Inception   \n",
       "1967                 Manichithrathazhu                Manichithrathazhu   \n",
       "\n",
       "     isAdult startYear endYear  runtimeMinutes  \\\n",
       "2977       0      1975      \\N            87.0   \n",
       "3781       0      2016      \\N           135.0   \n",
       "3938       0      2016      \\N           467.0   \n",
       "1218       0      1982      \\N            92.0   \n",
       "1675       0      2008      \\N           152.0   \n",
       "3151       0      1976      \\N            91.0   \n",
       "1028       0      1966      \\N           161.0   \n",
       "444        0      1993      \\N           195.0   \n",
       "1172       0      2010      \\N           148.0   \n",
       "1967       0      1993      \\N           169.0   \n",
       "\n",
       "                               genres  averageRating  numVotes  \n",
       "2977                  [Comedy, Drama]            9.4     32554  \n",
       "3781                     [Drama, War]            9.4     98731  \n",
       "3938  [Biography, Crime, Documentary]            9.0     14176  \n",
       "1218                  [Comedy, Drama]            9.0     12553  \n",
       "1675           [Action, Crime, Drama]            9.0   1986545  \n",
       "3151                         [Comedy]            9.0     18838  \n",
       "1028                        [Western]            8.9    598247  \n",
       "444       [Biography, Drama, History]            8.9   1042076  \n",
       "1172      [Action, Adventure, Sci-Fi]            8.8   1766484  \n",
       "1967        [Comedy, Horror, Musical]            8.8      5845  "
      ]
     },
     "execution_count": 24,
     "metadata": {},
     "output_type": "execute_result"
    }
   ],
   "source": [
    "df_films_stats.sort_values(\"averageRating\", ascending=False).head(10)"
   ]
  },
  {
   "cell_type": "markdown",
   "metadata": {},
   "source": [
    "We can see already that an outlier in our distribution plots will be the film \"OJ made in america\" as its runtime is 467 minutes long. We'll see explore the different outliers in our plots later on."
   ]
  },
  {
   "cell_type": "markdown",
   "metadata": {},
   "source": [
    "## Simple statistics: searching for a correlation between average IMDb rating and text features. "
   ]
  },
  {
   "cell_type": "markdown",
   "metadata": {},
   "source": [
    "\"Raw\" features are extracted from the subtitles and the metadata : \n",
    "* the total number of words relative to the movie duration. \n",
    "* the total number of distinct words relative to the movie duration.\n",
    "* the total number of sentences relative to the movie duration.\n",
    "* the mean average length of the subtitles.\n",
    "* the subtitles to movie duration ratio.\n",
    "* the number of distinct words divided by the length of the movie, the total number of words and the mean average length of the sentences.\n",
    "\n",
    "We define the following method to extract these features from our dataframe."
   ]
  },
  {
   "cell_type": "code",
   "execution_count": 147,
   "metadata": {},
   "outputs": [],
   "source": [
    "def word_statistics(df_films):\n",
    "    # Explode the sentences t\n",
    "    df_words = df_films.select('*', psf.explode('subtitles').alias('words'))\n",
    "    df_words = df_words.select('*', psf.explode('words').alias('word'))\n",
    "\n",
    "    df_word_counts = df_words.groupby(\"tconst\", \"num_sentences\", \"subtitle_mins\")\\\n",
    "                             .agg(psf.count(\"word\").alias(\"num_words\"), \n",
    "                                  psf.countDistinct(\"word\").alias(\"num_distinct_words\"))\\\n",
    "                             .join(df_basics, ['tconst'], 'inner')\\\n",
    "                             .withColumn(\"words_per_min\",\n",
    "                                         psf.col(\"num_words\") / psf.col(\"runtimeMinutes\"))\\\n",
    "                             .withColumn(\"distinct_words_per_min\",\n",
    "                                         psf.col(\"num_distinct_words\") / psf.col(\"runtimeMinutes\"))\\\n",
    "                             .withColumn(\"sentences_per_min\",\n",
    "                                         psf.col(\"num_sentences\") / psf.col(\"runtimeMinutes\"))\\\n",
    "                             .withColumn(\"mean_length_sentences\",\n",
    "                                         psf.col(\"num_words\") / psf.col(\"num_sentences\"))\\\n",
    "                             .withColumn(\"distinct_index\", \n",
    "                                         1000 * psf.col(\"num_distinct_words\") /(psf.col(\"num_sentences\")*\n",
    "                                                                                psf.col(\"runtimeMinutes\")*\n",
    "                                                                                psf.col(\"num_words\")))\\\n",
    "                             .withColumn(\"times_ratio\",\n",
    "                                         psf.when(psf.col(\"subtitle_mins\").isNotNull(), \n",
    "                                                  psf.col(\"subtitle_mins\") / psf.col(\"runtimeMinutes\") * 100))\n",
    "    \n",
    "    df_word_counts = df_word_counts.select(\"tconst\",\n",
    "                                           \"num_words\",\n",
    "                                           \"num_distinct_words\",\n",
    "                                           \"num_sentences\",\n",
    "                                           \"subtitle_mins\",\n",
    "                                           \"runtimeMinutes\",\n",
    "                                           \"mean_length_sentences\",\n",
    "                                           \"words_per_min\",\n",
    "                                           \"distinct_words_per_min\",\n",
    "                                           \"sentences_per_min\",\n",
    "                                           \"distinct_index\",\n",
    "                                           \"times_ratio\")\n",
    "    return df_word_counts"
   ]
  },
  {
   "cell_type": "code",
   "execution_count": 148,
   "metadata": {},
   "outputs": [],
   "source": [
    "# load data  \n",
    "\n",
    "# df_films = spark.read.parquet(\"parquets/films.parquet\")"
   ]
  },
  {
   "cell_type": "code",
   "execution_count": 149,
   "metadata": {
    "scrolled": false
   },
   "outputs": [],
   "source": [
    "# Generating the df of statistics \n",
    "# df_stats = word_statistics(df_films)"
   ]
  },
  {
   "cell_type": "code",
   "execution_count": 150,
   "metadata": {
    "scrolled": true
   },
   "outputs": [],
   "source": [
    "# df_stats.printSchema()"
   ]
  },
  {
   "cell_type": "code",
   "execution_count": 151,
   "metadata": {},
   "outputs": [],
   "source": [
    "# Saving the df of statistics \n",
    "# df_stats.write.mode(\"overwrite\").parquet(\"parquets/stats.parquet\")"
   ]
  },
  {
   "cell_type": "markdown",
   "metadata": {},
   "source": [
    "### Plots "
   ]
  },
  {
   "cell_type": "markdown",
   "metadata": {},
   "source": [
    "For each feature we plot a scatter plot vs movies' average ratings to search for a dependency between each feature and a movie's average."
   ]
  },
  {
   "cell_type": "markdown",
   "metadata": {},
   "source": [
    "#### Conversion to pandas dataframe "
   ]
  },
  {
   "cell_type": "code",
   "execution_count": 152,
   "metadata": {},
   "outputs": [],
   "source": [
    "# Load from parquet \n",
    "df_words_stats = spark.read.parquet(\"parquets/stats.parquet\")"
   ]
  },
  {
   "cell_type": "code",
   "execution_count": 180,
   "metadata": {},
   "outputs": [],
   "source": [
    "# join with ratings to get average rating: \n",
    "df_words_ratings = df_words_stats.join(other=df_ratings, \n",
    "                                       on='tconst', \n",
    "                                       how='inner')\n",
    "# join with basics to get title:\n",
    "# df_words_ratings = df_words_ratings.join(other=df_basics.select('tconst',\n",
    "#                                                                 'originalTitle', \n",
    "#                                                                 'titleType'), \n",
    "#                                          on='tconst', \n",
    "#                                          how='inner')"
   ]
  },
  {
   "cell_type": "code",
   "execution_count": 181,
   "metadata": {},
   "outputs": [],
   "source": [
    "df_words_ratings_pd = df_words_ratings.toPandas()"
   ]
  },
  {
   "cell_type": "code",
   "execution_count": 182,
   "metadata": {
    "scrolled": false
   },
   "outputs": [
    {
     "data": {
      "text/html": [
       "<div>\n",
       "<style scoped>\n",
       "    .dataframe tbody tr th:only-of-type {\n",
       "        vertical-align: middle;\n",
       "    }\n",
       "\n",
       "    .dataframe tbody tr th {\n",
       "        vertical-align: top;\n",
       "    }\n",
       "\n",
       "    .dataframe thead th {\n",
       "        text-align: right;\n",
       "    }\n",
       "</style>\n",
       "<table border=\"1\" class=\"dataframe\">\n",
       "  <thead>\n",
       "    <tr style=\"text-align: right;\">\n",
       "      <th></th>\n",
       "      <th>tconst</th>\n",
       "      <th>num_words</th>\n",
       "      <th>num_distinct_words</th>\n",
       "      <th>num_sentences</th>\n",
       "      <th>subtitle_mins</th>\n",
       "      <th>runtimeMinutes</th>\n",
       "      <th>mean_length_sentences</th>\n",
       "      <th>words_per_min</th>\n",
       "      <th>distinct_words_per_min</th>\n",
       "      <th>sentences_per_min</th>\n",
       "      <th>distinct_index</th>\n",
       "      <th>times_ratio</th>\n",
       "      <th>averageRating</th>\n",
       "      <th>numVotes</th>\n",
       "    </tr>\n",
       "  </thead>\n",
       "  <tbody>\n",
       "    <tr>\n",
       "      <th>0</th>\n",
       "      <td>tt0013086</td>\n",
       "      <td>5515</td>\n",
       "      <td>1498</td>\n",
       "      <td>723</td>\n",
       "      <td>206.866667</td>\n",
       "      <td>242.0</td>\n",
       "      <td>7.627939</td>\n",
       "      <td>22.789256</td>\n",
       "      <td>6.190083</td>\n",
       "      <td>2.987603</td>\n",
       "      <td>0.001552</td>\n",
       "      <td>85.482094</td>\n",
       "      <td>7.9</td>\n",
       "      <td>6263</td>\n",
       "    </tr>\n",
       "    <tr>\n",
       "      <th>1</th>\n",
       "      <td>tt0013257</td>\n",
       "      <td>4110</td>\n",
       "      <td>1291</td>\n",
       "      <td>344</td>\n",
       "      <td>44.700000</td>\n",
       "      <td>91.0</td>\n",
       "      <td>11.947674</td>\n",
       "      <td>45.164835</td>\n",
       "      <td>14.186813</td>\n",
       "      <td>3.780220</td>\n",
       "      <td>0.010034</td>\n",
       "      <td>49.120879</td>\n",
       "      <td>7.7</td>\n",
       "      <td>9757</td>\n",
       "    </tr>\n",
       "    <tr>\n",
       "      <th>2</th>\n",
       "      <td>tt0013442</td>\n",
       "      <td>1324</td>\n",
       "      <td>586</td>\n",
       "      <td>169</td>\n",
       "      <td>32.650000</td>\n",
       "      <td>94.0</td>\n",
       "      <td>7.834320</td>\n",
       "      <td>14.085106</td>\n",
       "      <td>6.234043</td>\n",
       "      <td>1.797872</td>\n",
       "      <td>0.027861</td>\n",
       "      <td>34.734043</td>\n",
       "      <td>8.0</td>\n",
       "      <td>78620</td>\n",
       "    </tr>\n",
       "    <tr>\n",
       "      <th>3</th>\n",
       "      <td>tt0015064</td>\n",
       "      <td>145</td>\n",
       "      <td>113</td>\n",
       "      <td>15</td>\n",
       "      <td>23.450000</td>\n",
       "      <td>77.0</td>\n",
       "      <td>9.666667</td>\n",
       "      <td>1.883117</td>\n",
       "      <td>1.467532</td>\n",
       "      <td>0.194805</td>\n",
       "      <td>0.674728</td>\n",
       "      <td>30.454545</td>\n",
       "      <td>8.1</td>\n",
       "      <td>10730</td>\n",
       "    </tr>\n",
       "    <tr>\n",
       "      <th>4</th>\n",
       "      <td>tt0015163</td>\n",
       "      <td>487</td>\n",
       "      <td>299</td>\n",
       "      <td>75</td>\n",
       "      <td>NaN</td>\n",
       "      <td>59.0</td>\n",
       "      <td>6.493333</td>\n",
       "      <td>8.254237</td>\n",
       "      <td>5.067797</td>\n",
       "      <td>1.271186</td>\n",
       "      <td>0.138749</td>\n",
       "      <td>NaN</td>\n",
       "      <td>8.0</td>\n",
       "      <td>7894</td>\n",
       "    </tr>\n",
       "  </tbody>\n",
       "</table>\n",
       "</div>"
      ],
      "text/plain": [
       "      tconst  num_words  num_distinct_words  num_sentences  subtitle_mins  \\\n",
       "0  tt0013086       5515                1498            723     206.866667   \n",
       "1  tt0013257       4110                1291            344      44.700000   \n",
       "2  tt0013442       1324                 586            169      32.650000   \n",
       "3  tt0015064        145                 113             15      23.450000   \n",
       "4  tt0015163        487                 299             75            NaN   \n",
       "\n",
       "   runtimeMinutes  mean_length_sentences  words_per_min  \\\n",
       "0           242.0               7.627939      22.789256   \n",
       "1            91.0              11.947674      45.164835   \n",
       "2            94.0               7.834320      14.085106   \n",
       "3            77.0               9.666667       1.883117   \n",
       "4            59.0               6.493333       8.254237   \n",
       "\n",
       "   distinct_words_per_min  sentences_per_min  distinct_index  times_ratio  \\\n",
       "0                6.190083           2.987603        0.001552    85.482094   \n",
       "1               14.186813           3.780220        0.010034    49.120879   \n",
       "2                6.234043           1.797872        0.027861    34.734043   \n",
       "3                1.467532           0.194805        0.674728    30.454545   \n",
       "4                5.067797           1.271186        0.138749          NaN   \n",
       "\n",
       "   averageRating  numVotes  \n",
       "0            7.9      6263  \n",
       "1            7.7      9757  \n",
       "2            8.0     78620  \n",
       "3            8.1     10730  \n",
       "4            8.0      7894  "
      ]
     },
     "execution_count": 182,
     "metadata": {},
     "output_type": "execute_result"
    }
   ],
   "source": [
    "df_words_ratings_pd.head()"
   ]
  },
  {
   "cell_type": "code",
   "execution_count": 183,
   "metadata": {
    "scrolled": false
   },
   "outputs": [
    {
     "data": {
      "text/plain": [
       "count     4275.000000\n",
       "mean      7651.918129\n",
       "std       3556.178555\n",
       "min         25.000000\n",
       "25%       5324.500000\n",
       "50%       7256.000000\n",
       "75%       9513.000000\n",
       "max      59152.000000\n",
       "Name: num_words, dtype: float64"
      ]
     },
     "execution_count": 183,
     "metadata": {},
     "output_type": "execute_result"
    }
   ],
   "source": [
    "df_words_ratings_pd['num_words'].describe()"
   ]
  },
  {
   "cell_type": "markdown",
   "metadata": {},
   "source": [
    "We check aswell if we have many null values that might affect our statistics."
   ]
  },
  {
   "cell_type": "code",
   "execution_count": 184,
   "metadata": {
    "scrolled": true
   },
   "outputs": [
    {
     "data": {
      "text/plain": [
       "tconst                     0\n",
       "num_words                  0\n",
       "num_distinct_words         0\n",
       "num_sentences              0\n",
       "subtitle_mins             62\n",
       "runtimeMinutes             0\n",
       "mean_length_sentences      0\n",
       "words_per_min              0\n",
       "distinct_words_per_min     0\n",
       "sentences_per_min          0\n",
       "distinct_index             0\n",
       "times_ratio               62\n",
       "averageRating              0\n",
       "numVotes                   0\n",
       "dtype: int64"
      ]
     },
     "execution_count": 184,
     "metadata": {},
     "output_type": "execute_result"
    }
   ],
   "source": [
    "df_words_ratings_pd.isna().sum()"
   ]
  },
  {
   "cell_type": "markdown",
   "metadata": {},
   "source": [
    "The number is negligible and is due to the conversion of subtitle minutes of some XML files that had a slightly different datetime format. To avoid surprises we decide to drop films with null values."
   ]
  },
  {
   "cell_type": "code",
   "execution_count": 185,
   "metadata": {},
   "outputs": [],
   "source": [
    "df_words_ratings_pd = df_words_ratings_pd.dropna()"
   ]
  },
  {
   "cell_type": "markdown",
   "metadata": {},
   "source": [
    "Using the resulting dataframe we first look at it statistics for each entry.\n",
    "Then we plot each column vs the average rating to see if we find some kind of linear dependency.\n",
    "We also plot the histograms of each metric for films we consider \"good\" and films we consider \"bad\" to see if we have different distributions for such metrics. We take a balanced set aswell, we consider good films the ones that have more than 8 as imdb rating and bad those who have less than 5.2"
   ]
  },
  {
   "cell_type": "code",
   "execution_count": 192,
   "metadata": {},
   "outputs": [],
   "source": [
    "bad_movies = df_words_ratings_pd[df_words_ratings_pd.averageRating <= 5.2]\n",
    "good_movies = df_words_ratings_pd[df_words_ratings_pd.averageRating >= 8]"
   ]
  },
  {
   "cell_type": "code",
   "execution_count": 193,
   "metadata": {},
   "outputs": [
    {
     "data": {
      "text/plain": [
       "(353, 355)"
      ]
     },
     "execution_count": 193,
     "metadata": {},
     "output_type": "execute_result"
    }
   ],
   "source": [
    "(bad_movies[\"tconst\"].count(), good_movies[\"tconst\"].count())"
   ]
  },
  {
   "cell_type": "markdown",
   "metadata": {},
   "source": [
    "We see it is a fairly balanced set.\n",
    "\n",
    "We look at the statistical description of our statistics."
   ]
  },
  {
   "cell_type": "code",
   "execution_count": 187,
   "metadata": {
    "scrolled": false
   },
   "outputs": [
    {
     "data": {
      "text/html": [
       "<div>\n",
       "<style scoped>\n",
       "    .dataframe tbody tr th:only-of-type {\n",
       "        vertical-align: middle;\n",
       "    }\n",
       "\n",
       "    .dataframe tbody tr th {\n",
       "        vertical-align: top;\n",
       "    }\n",
       "\n",
       "    .dataframe thead th {\n",
       "        text-align: right;\n",
       "    }\n",
       "</style>\n",
       "<table border=\"1\" class=\"dataframe\">\n",
       "  <thead>\n",
       "    <tr style=\"text-align: right;\">\n",
       "      <th></th>\n",
       "      <th>num_words</th>\n",
       "      <th>num_distinct_words</th>\n",
       "      <th>num_sentences</th>\n",
       "      <th>subtitle_mins</th>\n",
       "      <th>runtimeMinutes</th>\n",
       "      <th>mean_length_sentences</th>\n",
       "      <th>words_per_min</th>\n",
       "      <th>distinct_words_per_min</th>\n",
       "      <th>sentences_per_min</th>\n",
       "      <th>distinct_index</th>\n",
       "      <th>times_ratio</th>\n",
       "      <th>averageRating</th>\n",
       "      <th>numVotes</th>\n",
       "    </tr>\n",
       "  </thead>\n",
       "  <tbody>\n",
       "    <tr>\n",
       "      <th>count</th>\n",
       "      <td>4213.000000</td>\n",
       "      <td>4213.000000</td>\n",
       "      <td>4213.000000</td>\n",
       "      <td>4213.000000</td>\n",
       "      <td>4213.000000</td>\n",
       "      <td>4213.000000</td>\n",
       "      <td>4213.000000</td>\n",
       "      <td>4213.000000</td>\n",
       "      <td>4213.000000</td>\n",
       "      <td>4213.000000</td>\n",
       "      <td>4213.000000</td>\n",
       "      <td>4213.000000</td>\n",
       "      <td>4.213000e+03</td>\n",
       "    </tr>\n",
       "    <tr>\n",
       "      <th>mean</th>\n",
       "      <td>7712.322336</td>\n",
       "      <td>1518.511749</td>\n",
       "      <td>1471.671018</td>\n",
       "      <td>45.923166</td>\n",
       "      <td>108.876810</td>\n",
       "      <td>5.302917</td>\n",
       "      <td>71.268341</td>\n",
       "      <td>14.181921</td>\n",
       "      <td>13.672092</td>\n",
       "      <td>0.003938</td>\n",
       "      <td>40.146395</td>\n",
       "      <td>6.681484</td>\n",
       "      <td>5.395586e+04</td>\n",
       "    </tr>\n",
       "    <tr>\n",
       "      <th>std</th>\n",
       "      <td>3514.555867</td>\n",
       "      <td>458.405460</td>\n",
       "      <td>625.768173</td>\n",
       "      <td>29.366042</td>\n",
       "      <td>22.844862</td>\n",
       "      <td>1.224145</td>\n",
       "      <td>29.476201</td>\n",
       "      <td>4.200260</td>\n",
       "      <td>5.557989</td>\n",
       "      <td>0.059104</td>\n",
       "      <td>18.584565</td>\n",
       "      <td>1.027939</td>\n",
       "      <td>1.089528e+05</td>\n",
       "    </tr>\n",
       "    <tr>\n",
       "      <th>min</th>\n",
       "      <td>31.000000</td>\n",
       "      <td>17.000000</td>\n",
       "      <td>3.000000</td>\n",
       "      <td>0.150000</td>\n",
       "      <td>60.000000</td>\n",
       "      <td>1.033333</td>\n",
       "      <td>0.313131</td>\n",
       "      <td>0.171717</td>\n",
       "      <td>0.033708</td>\n",
       "      <td>0.000033</td>\n",
       "      <td>0.227273</td>\n",
       "      <td>1.700000</td>\n",
       "      <td>5.001000e+03</td>\n",
       "    </tr>\n",
       "    <tr>\n",
       "      <th>25%</th>\n",
       "      <td>5389.000000</td>\n",
       "      <td>1227.000000</td>\n",
       "      <td>1055.000000</td>\n",
       "      <td>29.483333</td>\n",
       "      <td>94.000000</td>\n",
       "      <td>4.639791</td>\n",
       "      <td>51.443709</td>\n",
       "      <td>11.448980</td>\n",
       "      <td>10.021277</td>\n",
       "      <td>0.000918</td>\n",
       "      <td>31.344697</td>\n",
       "      <td>6.100000</td>\n",
       "      <td>8.155000e+03</td>\n",
       "    </tr>\n",
       "    <tr>\n",
       "      <th>50%</th>\n",
       "      <td>7280.000000</td>\n",
       "      <td>1501.000000</td>\n",
       "      <td>1407.000000</td>\n",
       "      <td>39.666667</td>\n",
       "      <td>104.000000</td>\n",
       "      <td>5.102339</td>\n",
       "      <td>68.149533</td>\n",
       "      <td>13.955556</td>\n",
       "      <td>13.114286</td>\n",
       "      <td>0.001398</td>\n",
       "      <td>38.015873</td>\n",
       "      <td>6.800000</td>\n",
       "      <td>1.660100e+04</td>\n",
       "    </tr>\n",
       "    <tr>\n",
       "      <th>75%</th>\n",
       "      <td>9531.000000</td>\n",
       "      <td>1802.000000</td>\n",
       "      <td>1811.000000</td>\n",
       "      <td>54.466667</td>\n",
       "      <td>118.000000</td>\n",
       "      <td>5.658429</td>\n",
       "      <td>88.277311</td>\n",
       "      <td>16.820896</td>\n",
       "      <td>16.886792</td>\n",
       "      <td>0.002207</td>\n",
       "      <td>45.739130</td>\n",
       "      <td>7.400000</td>\n",
       "      <td>4.992200e+04</td>\n",
       "    </tr>\n",
       "    <tr>\n",
       "      <th>max</th>\n",
       "      <td>59152.000000</td>\n",
       "      <td>5751.000000</td>\n",
       "      <td>7083.000000</td>\n",
       "      <td>504.083333</td>\n",
       "      <td>467.000000</td>\n",
       "      <td>17.637228</td>\n",
       "      <td>276.081633</td>\n",
       "      <td>33.767123</td>\n",
       "      <td>72.275510</td>\n",
       "      <td>3.537245</td>\n",
       "      <td>438.439716</td>\n",
       "      <td>9.400000</td>\n",
       "      <td>1.986545e+06</td>\n",
       "    </tr>\n",
       "  </tbody>\n",
       "</table>\n",
       "</div>"
      ],
      "text/plain": [
       "          num_words  num_distinct_words  num_sentences  subtitle_mins  \\\n",
       "count   4213.000000         4213.000000    4213.000000    4213.000000   \n",
       "mean    7712.322336         1518.511749    1471.671018      45.923166   \n",
       "std     3514.555867          458.405460     625.768173      29.366042   \n",
       "min       31.000000           17.000000       3.000000       0.150000   \n",
       "25%     5389.000000         1227.000000    1055.000000      29.483333   \n",
       "50%     7280.000000         1501.000000    1407.000000      39.666667   \n",
       "75%     9531.000000         1802.000000    1811.000000      54.466667   \n",
       "max    59152.000000         5751.000000    7083.000000     504.083333   \n",
       "\n",
       "       runtimeMinutes  mean_length_sentences  words_per_min  \\\n",
       "count     4213.000000            4213.000000    4213.000000   \n",
       "mean       108.876810               5.302917      71.268341   \n",
       "std         22.844862               1.224145      29.476201   \n",
       "min         60.000000               1.033333       0.313131   \n",
       "25%         94.000000               4.639791      51.443709   \n",
       "50%        104.000000               5.102339      68.149533   \n",
       "75%        118.000000               5.658429      88.277311   \n",
       "max        467.000000              17.637228     276.081633   \n",
       "\n",
       "       distinct_words_per_min  sentences_per_min  distinct_index  times_ratio  \\\n",
       "count             4213.000000        4213.000000     4213.000000  4213.000000   \n",
       "mean                14.181921          13.672092        0.003938    40.146395   \n",
       "std                  4.200260           5.557989        0.059104    18.584565   \n",
       "min                  0.171717           0.033708        0.000033     0.227273   \n",
       "25%                 11.448980          10.021277        0.000918    31.344697   \n",
       "50%                 13.955556          13.114286        0.001398    38.015873   \n",
       "75%                 16.820896          16.886792        0.002207    45.739130   \n",
       "max                 33.767123          72.275510        3.537245   438.439716   \n",
       "\n",
       "       averageRating      numVotes  \n",
       "count    4213.000000  4.213000e+03  \n",
       "mean        6.681484  5.395586e+04  \n",
       "std         1.027939  1.089528e+05  \n",
       "min         1.700000  5.001000e+03  \n",
       "25%         6.100000  8.155000e+03  \n",
       "50%         6.800000  1.660100e+04  \n",
       "75%         7.400000  4.992200e+04  \n",
       "max         9.400000  1.986545e+06  "
      ]
     },
     "execution_count": 187,
     "metadata": {},
     "output_type": "execute_result"
    }
   ],
   "source": [
    "# print(\"Means:\")\n",
    "# print(df_words_ratings_pd.mean(), \"\\n\")\n",
    "# print(\"Medians:\")\n",
    "# print(df_words_ratings_pd.median(), \"\\n\")\n",
    "# print(\"Std deviations\")\n",
    "# print(df_words_ratings_pd.std())\n",
    "df_words_ratings_pd.describe()"
   ]
  },
  {
   "cell_type": "markdown",
   "metadata": {},
   "source": [
    "### Correlations "
   ]
  },
  {
   "cell_type": "markdown",
   "metadata": {},
   "source": [
    "We compute the correlation between our statistics and the average rating of a film and we look at the different scatter plots. On the X-axis we put our statistics and on the Y-axis the average rating. We want to use the features that reveal the most information about the rating of a movie for a regression.\n",
    "\n",
    "We also plot the distribution of the found features for subsets of \"good movies\", as stated in the section just before. We want to see if their distributions are similar, if they reveal any additional information."
   ]
  },
  {
   "cell_type": "code",
   "execution_count": 188,
   "metadata": {
    "scrolled": true
   },
   "outputs": [
    {
     "data": {
      "text/plain": [
       "averageRating             1.000000\n",
       "runtimeMinutes            0.306696\n",
       "subtitle_mins             0.269166\n",
       "numVotes                  0.226106\n",
       "times_ratio               0.210585\n",
       "mean_length_sentences     0.201058\n",
       "num_words                 0.145732\n",
       "num_distinct_words        0.124272\n",
       "num_sentences             0.047552\n",
       "words_per_min             0.008016\n",
       "distinct_index            0.004574\n",
       "distinct_words_per_min   -0.074143\n",
       "sentences_per_min        -0.104072\n",
       "Name: averageRating, dtype: float64"
      ]
     },
     "execution_count": 188,
     "metadata": {},
     "output_type": "execute_result"
    }
   ],
   "source": [
    "df_words_ratings_pd.corr()[\"averageRating\"].sort_values(ascending=False)"
   ]
  },
  {
   "cell_type": "markdown",
   "metadata": {},
   "source": [
    "#### Plots for words "
   ]
  },
  {
   "cell_type": "markdown",
   "metadata": {},
   "source": [
    "We check whether raw features from the subtitles of the movies correlate with the average IMDb rating.  \n",
    "It starts with some features about the words used in the subtitles. "
   ]
  },
  {
   "cell_type": "code",
   "execution_count": 189,
   "metadata": {
    "scrolled": false
   },
   "outputs": [
    {
     "data": {
      "image/png": "[encoded data removed]",
      "text/plain": [
       "<matplotlib.figure.Figure at 0x1a23b49748>"
      ]
     },
     "metadata": {},
     "output_type": "display_data"
    }
   ],
   "source": [
    "ax = df_words_ratings_pd.plot.scatter(\"words_per_min\", \n",
    "                                      \"averageRating\",\n",
    "                                      figsize=(6,6),\n",
    "                                      fontsize=14);\n",
    "plt.xlabel('Number of words per min',fontsize=14);\n",
    "plt.ylabel('Average IMDb Rating',fontsize=14);"
   ]
  },
  {
   "cell_type": "code",
   "execution_count": 190,
   "metadata": {},
   "outputs": [
    {
     "data": {
      "image/png": "[encoded data removed]",
      "text/plain": [
       "<matplotlib.figure.Figure at 0x1a22d21e80>"
      ]
     },
     "metadata": {},
     "output_type": "display_data"
    }
   ],
   "source": [
    "plt.figure(figsize=(6,6))\n",
    "good_movies[\"num_words\"].plot.hist(bins=40,\n",
    "                                   fontsize=14, \n",
    "                                   alpha=0.8,\n",
    "                                   label=\"good films\")\n",
    "bad_movies[\"num_words\"].plot.hist(bins=40,\n",
    "                                  fontsize=14, \n",
    "                                  alpha=0.6, \n",
    "                                  label=\"bad films\")\n",
    "plt.xlabel('Number of words', fontsize=14);\n",
    "plt.ylabel('Frequency',fontsize=14); \n",
    "plt.legend(loc=\"upper right\", fontsize=12)\n",
    "plt.show()"
   ]
  },
  {
   "cell_type": "markdown",
   "metadata": {},
   "source": [
    "As we can see, there does not seem to be a major relation between the number of words in a movie and its rating, both good and bad films distributions are pretty similar though more words in a film seems to help it have a better rating.\n",
    "##### Outlier\n",
    "We can see there is a strange outlier in our scatter plot, we stated the film OJ made in america seemed odd as its runtime was more than 6 hours"
   ]
  },
  {
   "cell_type": "code",
   "execution_count": 191,
   "metadata": {},
   "outputs": [
    {
     "ename": "KeyError",
     "evalue": "'originalTitle'",
     "output_type": "error",
     "traceback": [
      "\u001b[0;31m---------------------------------------------------------------------------\u001b[0m",
      "\u001b[0;31mTypeError\u001b[0m                                 Traceback (most recent call last)",
      "\u001b[0;32m/anaconda3/lib/python3.6/site-packages/pandas/core/indexes/base.py\u001b[0m in \u001b[0;36mget_value\u001b[0;34m(self, series, key)\u001b[0m\n\u001b[1;32m   3123\u001b[0m             \u001b[0;32mtry\u001b[0m\u001b[0;34m:\u001b[0m\u001b[0;34m\u001b[0m\u001b[0m\n\u001b[0;32m-> 3124\u001b[0;31m                 \u001b[0;32mreturn\u001b[0m \u001b[0mlibindex\u001b[0m\u001b[0;34m.\u001b[0m\u001b[0mget_value_box\u001b[0m\u001b[0;34m(\u001b[0m\u001b[0ms\u001b[0m\u001b[0;34m,\u001b[0m \u001b[0mkey\u001b[0m\u001b[0;34m)\u001b[0m\u001b[0;34m\u001b[0m\u001b[0m\n\u001b[0m\u001b[1;32m   3125\u001b[0m             \u001b[0;32mexcept\u001b[0m \u001b[0mIndexError\u001b[0m\u001b[0;34m:\u001b[0m\u001b[0;34m\u001b[0m\u001b[0m\n",
      "\u001b[0;32mpandas/_libs/index.pyx\u001b[0m in \u001b[0;36mpandas._libs.index.get_value_box\u001b[0;34m()\u001b[0m\n",
      "\u001b[0;32mpandas/_libs/index.pyx\u001b[0m in \u001b[0;36mpandas._libs.index.get_value_box\u001b[0;34m()\u001b[0m\n",
      "\u001b[0;31mTypeError\u001b[0m: 'str' object cannot be interpreted as an integer",
      "\nDuring handling of the above exception, another exception occurred:\n",
      "\u001b[0;31mKeyError\u001b[0m                                  Traceback (most recent call last)",
      "\u001b[0;32m<ipython-input-191-31fe7df9235d>\u001b[0m in \u001b[0;36m<module>\u001b[0;34m()\u001b[0m\n\u001b[0;32m----> 1\u001b[0;31m \u001b[0mdf_words_ratings_pd\u001b[0m\u001b[0;34m.\u001b[0m\u001b[0miloc\u001b[0m\u001b[0;34m[\u001b[0m\u001b[0mdf_words_ratings_pd\u001b[0m\u001b[0;34m[\u001b[0m\u001b[0;34m\"num_words\"\u001b[0m\u001b[0;34m]\u001b[0m\u001b[0;34m.\u001b[0m\u001b[0midxmax\u001b[0m\u001b[0;34m(\u001b[0m\u001b[0;34m)\u001b[0m\u001b[0;34m]\u001b[0m\u001b[0;34m[\u001b[0m\u001b[0;34m\"originalTitle\"\u001b[0m\u001b[0;34m]\u001b[0m\u001b[0;34m\u001b[0m\u001b[0m\n\u001b[0m",
      "\u001b[0;32m/anaconda3/lib/python3.6/site-packages/pandas/core/series.py\u001b[0m in \u001b[0;36m__getitem__\u001b[0;34m(self, key)\u001b[0m\n\u001b[1;32m    765\u001b[0m         \u001b[0mkey\u001b[0m \u001b[0;34m=\u001b[0m \u001b[0mcom\u001b[0m\u001b[0;34m.\u001b[0m\u001b[0m_apply_if_callable\u001b[0m\u001b[0;34m(\u001b[0m\u001b[0mkey\u001b[0m\u001b[0;34m,\u001b[0m \u001b[0mself\u001b[0m\u001b[0;34m)\u001b[0m\u001b[0;34m\u001b[0m\u001b[0m\n\u001b[1;32m    766\u001b[0m         \u001b[0;32mtry\u001b[0m\u001b[0;34m:\u001b[0m\u001b[0;34m\u001b[0m\u001b[0m\n\u001b[0;32m--> 767\u001b[0;31m             \u001b[0mresult\u001b[0m \u001b[0;34m=\u001b[0m \u001b[0mself\u001b[0m\u001b[0;34m.\u001b[0m\u001b[0mindex\u001b[0m\u001b[0;34m.\u001b[0m\u001b[0mget_value\u001b[0m\u001b[0;34m(\u001b[0m\u001b[0mself\u001b[0m\u001b[0;34m,\u001b[0m \u001b[0mkey\u001b[0m\u001b[0;34m)\u001b[0m\u001b[0;34m\u001b[0m\u001b[0m\n\u001b[0m\u001b[1;32m    768\u001b[0m \u001b[0;34m\u001b[0m\u001b[0m\n\u001b[1;32m    769\u001b[0m             \u001b[0;32mif\u001b[0m \u001b[0;32mnot\u001b[0m \u001b[0mis_scalar\u001b[0m\u001b[0;34m(\u001b[0m\u001b[0mresult\u001b[0m\u001b[0;34m)\u001b[0m\u001b[0;34m:\u001b[0m\u001b[0;34m\u001b[0m\u001b[0m\n",
      "\u001b[0;32m/anaconda3/lib/python3.6/site-packages/pandas/core/indexes/base.py\u001b[0m in \u001b[0;36mget_value\u001b[0;34m(self, series, key)\u001b[0m\n\u001b[1;32m   3130\u001b[0m                     \u001b[0;32mraise\u001b[0m \u001b[0mInvalidIndexError\u001b[0m\u001b[0;34m(\u001b[0m\u001b[0mkey\u001b[0m\u001b[0;34m)\u001b[0m\u001b[0;34m\u001b[0m\u001b[0m\n\u001b[1;32m   3131\u001b[0m                 \u001b[0;32melse\u001b[0m\u001b[0;34m:\u001b[0m\u001b[0;34m\u001b[0m\u001b[0m\n\u001b[0;32m-> 3132\u001b[0;31m                     \u001b[0;32mraise\u001b[0m \u001b[0me1\u001b[0m\u001b[0;34m\u001b[0m\u001b[0m\n\u001b[0m\u001b[1;32m   3133\u001b[0m             \u001b[0;32mexcept\u001b[0m \u001b[0mException\u001b[0m\u001b[0;34m:\u001b[0m  \u001b[0;31m# pragma: no cover\u001b[0m\u001b[0;34m\u001b[0m\u001b[0m\n\u001b[1;32m   3134\u001b[0m                 \u001b[0;32mraise\u001b[0m \u001b[0me1\u001b[0m\u001b[0;34m\u001b[0m\u001b[0m\n",
      "\u001b[0;32m/anaconda3/lib/python3.6/site-packages/pandas/core/indexes/base.py\u001b[0m in \u001b[0;36mget_value\u001b[0;34m(self, series, key)\u001b[0m\n\u001b[1;32m   3116\u001b[0m         \u001b[0;32mtry\u001b[0m\u001b[0;34m:\u001b[0m\u001b[0;34m\u001b[0m\u001b[0m\n\u001b[1;32m   3117\u001b[0m             return self._engine.get_value(s, k,\n\u001b[0;32m-> 3118\u001b[0;31m                                           tz=getattr(series.dtype, 'tz', None))\n\u001b[0m\u001b[1;32m   3119\u001b[0m         \u001b[0;32mexcept\u001b[0m \u001b[0mKeyError\u001b[0m \u001b[0;32mas\u001b[0m \u001b[0me1\u001b[0m\u001b[0;34m:\u001b[0m\u001b[0;34m\u001b[0m\u001b[0m\n\u001b[1;32m   3120\u001b[0m             \u001b[0;32mif\u001b[0m \u001b[0mlen\u001b[0m\u001b[0;34m(\u001b[0m\u001b[0mself\u001b[0m\u001b[0;34m)\u001b[0m \u001b[0;34m>\u001b[0m \u001b[0;36m0\u001b[0m \u001b[0;32mand\u001b[0m \u001b[0mself\u001b[0m\u001b[0;34m.\u001b[0m\u001b[0minferred_type\u001b[0m \u001b[0;32min\u001b[0m \u001b[0;34m[\u001b[0m\u001b[0;34m'integer'\u001b[0m\u001b[0;34m,\u001b[0m \u001b[0;34m'boolean'\u001b[0m\u001b[0;34m]\u001b[0m\u001b[0;34m:\u001b[0m\u001b[0;34m\u001b[0m\u001b[0m\n",
      "\u001b[0;32mpandas/_libs/index.pyx\u001b[0m in \u001b[0;36mpandas._libs.index.IndexEngine.get_value\u001b[0;34m()\u001b[0m\n",
      "\u001b[0;32mpandas/_libs/index.pyx\u001b[0m in \u001b[0;36mpandas._libs.index.IndexEngine.get_value\u001b[0;34m()\u001b[0m\n",
      "\u001b[0;32mpandas/_libs/index.pyx\u001b[0m in \u001b[0;36mpandas._libs.index.IndexEngine.get_loc\u001b[0;34m()\u001b[0m\n",
      "\u001b[0;32mpandas/_libs/hashtable_class_helper.pxi\u001b[0m in \u001b[0;36mpandas._libs.hashtable.PyObjectHashTable.get_item\u001b[0;34m()\u001b[0m\n",
      "\u001b[0;32mpandas/_libs/hashtable_class_helper.pxi\u001b[0m in \u001b[0;36mpandas._libs.hashtable.PyObjectHashTable.get_item\u001b[0;34m()\u001b[0m\n",
      "\u001b[0;31mKeyError\u001b[0m: 'originalTitle'"
     ]
    }
   ],
   "source": [
    "df_words_ratings_pd.iloc[df_words_ratings_pd[\"num_words\"].idxmax()][\"originalTitle\"]"
   ]
  },
  {
   "cell_type": "markdown",
   "metadata": {},
   "source": [
    "The outlier is indeed OJ made in America. We need to consider the runtime of the movie to use the number of words as a metric as it is natural for a longer film to have more words. We do this next"
   ]
  },
  {
   "cell_type": "code",
   "execution_count": null,
   "metadata": {},
   "outputs": [],
   "source": [
    "ax = df_words_ratings_pd.plot.scatter(\"words_per_min\", \n",
    "                                      \"averageRating\",\n",
    "                                      figsize=(6,6),\n",
    "                                      fontsize=14);\n",
    "plt.xlabel('Number of words per min', fontsize=14);\n",
    "plt.ylabel('Average IMDb Rating', fontsize=14);"
   ]
  },
  {
   "cell_type": "code",
   "execution_count": null,
   "metadata": {},
   "outputs": [],
   "source": [
    "plt.figure(figsize=(6,6))\n",
    "good_movies[\"words_per_min\"].plot.hist(bins=40,\n",
    "                                       fontsize=14, \n",
    "                                       alpha=0.8,\n",
    "                                       label=\"good films\")\n",
    "bad_movies[\"words_per_min\"].plot.hist(bins=40,\n",
    "                                      fontsize=14, \n",
    "                                      alpha=0.6, \n",
    "                                      label=\"bad films\")\n",
    "plt.xlabel('Number of words per min',fontsize=14);\n",
    "plt.ylabel('Frequency', fontsize=14); \n",
    "plt.legend(loc=\"upper right\", fontsize=12)\n",
    "plt.show()"
   ]
  },
  {
   "cell_type": "markdown",
   "metadata": {},
   "source": [
    "As we can see there is no outlier like in our last plot as we divided by the total runtime of the movie. Though this statistic still does not reveal much about rating. Both good and bad films distributions are still very similar"
   ]
  },
  {
   "cell_type": "markdown",
   "metadata": {},
   "source": [
    "##### Comments :"
   ]
  },
  {
   "cell_type": "markdown",
   "metadata": {},
   "source": [
    "Looking at the plots reveals that there is not clear distinction in the average IMDb rating based on how many subtitles are employed in a movie.\n",
    "\n",
    "* The first plot shows that most of the film use 5'000 to 15'000 words but that does not have a significant impact on the rating.\n",
    "* The idea behind a the ratio $ \\frac{x}{\\text{Length of Movie}}$ where $x$ here is the number of words used in the movie, is simply to take into accound that movie that is longer could have in proportion the same amount of words employed. Indeed, a longer movie is not necessarly more verbose, it could only have more words used in it because it is longer. \n",
    "* The second plot does not provide much more information than the first and actually shows data more evenly distributed. \n"
   ]
  },
  {
   "cell_type": "markdown",
   "metadata": {},
   "source": [
    "#### Plots for distinct words : "
   ]
  },
  {
   "cell_type": "markdown",
   "metadata": {},
   "source": [
    "we iterate the previous analysis but this time looking at the distinct words. What is expected is that movies that use a larger vocabulary could have been written more caustiously, leading to better scenario and hence a better movie. "
   ]
  },
  {
   "cell_type": "code",
   "execution_count": null,
   "metadata": {
    "scrolled": false
   },
   "outputs": [],
   "source": [
    "ax = df_words_ratings_pd.plot.scatter(\"distinct_words_per_min\", \n",
    "                                      \"averageRating\",\n",
    "                                      figsize=(6,6),\n",
    "                                      fontsize=14);\n",
    "plt.xlabel('Number of distinct words per min', fontsize=14);\n",
    "plt.ylabel('Average IMDb Rating', fontsize=14);"
   ]
  },
  {
   "cell_type": "code",
   "execution_count": null,
   "metadata": {},
   "outputs": [],
   "source": [
    "#TODO : what's up with this \n",
    "df_words_ratings_pd.iloc[df_words_ratings_pd[\"num_distinct_words\"].idxmax()][\"originalTitle\"]"
   ]
  },
  {
   "cell_type": "code",
   "execution_count": null,
   "metadata": {},
   "outputs": [],
   "source": [
    "good_movies[\"num_distinct_words\"].plot.hist(bins=40,\n",
    "                                            alpha=0.8,\n",
    "                                            label=\"good films\");\n",
    "bad_movies[\"num_distinct_words\"].plot.hist(bins=40,\n",
    "                                           figsize=(6,6), \n",
    "                                           fontsize=14,alpha=0.6,\n",
    "                                           label=\"bad films\");\n",
    "\n",
    "plt.xlabel('Number of distinct words', fontsize=14);\n",
    "plt.ylabel('Frequency', fontsize=14);\n",
    "plt.legend(loc=\"upper right\", fontsize=12)\n",
    "plt.show()"
   ]
  },
  {
   "cell_type": "markdown",
   "metadata": {},
   "source": [
    "Again, no general trend can be seen. To bring all movies on equal footing regarding the number of distinct words used in their subtitles, the number of distinct words is divided by : \n",
    "* the length of the movie\n",
    "* the number of words used \n",
    "* the number of sentences \n",
    "and multiplied by 1000 to have larger numbers. \n",
    "The intuition is that any of these three parameters could influence the distinct number of words used : \n",
    "* longer movies provide more chances to use different words\n",
    "* the more words used, the more diverse they can be\n",
    "* more sentences provide more occasions to employ a larger vocabulary"
   ]
  },
  {
   "cell_type": "code",
   "execution_count": null,
   "metadata": {
    "scrolled": false
   },
   "outputs": [],
   "source": [
    "ax = df_words_ratings_pd.plot.scatter(\"distinct_index\",\n",
    "                                      \"averageRating\",\n",
    "                                      figsize=(8,6), \n",
    "                                      fontsize=14);\n",
    "plt.xlabel('Distinct Index', fontsize=14)\n",
    "plt.ylabel('Average IMDb Rating', fontsize=14)"
   ]
  },
  {
   "cell_type": "code",
   "execution_count": null,
   "metadata": {},
   "outputs": [],
   "source": [
    "df_words_ratings_pd['distinct_index'].describe()"
   ]
  },
  {
   "cell_type": "markdown",
   "metadata": {},
   "source": [
    "By looking at the plote `distinct_index` vs `averageRating` and statistic description, we see that most of the movies are agglutinated to a single value as shown by the mean and the quartiles. "
   ]
  },
  {
   "cell_type": "markdown",
   "metadata": {},
   "source": [
    "##### Comments :"
   ]
  },
  {
   "cell_type": "markdown",
   "metadata": {},
   "source": [
    "Again no clear trend can be seen. \"Good\" or \"bad\" movies are apparently are unfortunately undistinguishable from the point of view of distinct.\n",
    "Some \"outliers\" showed up as we can see in the last plot. \n",
    "The only info we can retieve from this that some extremely verbose movie was a success but that does not mean that it sufficient to be a good movie. "
   ]
  },
  {
   "cell_type": "markdown",
   "metadata": {},
   "source": [
    "#### Plots for the number of  sentences and the mean length of sentences"
   ]
  },
  {
   "cell_type": "markdown",
   "metadata": {},
   "source": [
    "We now instead of looking at the number of words, we look at the number of sentences, to see if this metric reveals something, though by what we found earlier with words, the distribution should be fairly similar."
   ]
  },
  {
   "cell_type": "code",
   "execution_count": null,
   "metadata": {
    "hidden": true,
    "scrolled": true
   },
   "outputs": [],
   "source": [
    "ax = df_words_ratings_pd.plot.scatter(\"sentences_per_min\", \"averageRating\",figsize=(6,6),fontsize=14);\n",
    "plt.xlabel('Number of sentences per min', fontsize=14);\n",
    "plt.ylabel('Average IMDb Rating', fontsize=14);"
   ]
  },
  {
   "cell_type": "markdown",
   "metadata": {
    "hidden": true
   },
   "source": [
    "From the plot above, it appears that again no clear trend can be established based on this statistics. \n",
    "Nevertherless, it seems that a larger number of sentences for the raw number of sentences and normalized with respect to movie length, correlates positevely with a higher IMDb rating. \n",
    "To have a higher IMDb rating it is not necessary to have longer sentences, as most of data is packed between a 1'000 and 3'000 sentences in the subtitles.  \n",
    "But, it can be observed that a positive correlation appears for the movies with the longest sentences: looking a at the data on the right edge of the blobe shows that as the number of sentences increase, the average IMDb rating increases, as if passed a certain number of sentences garanties a certain IMDb average rating. \n",
    "Without doubt it is not the effect of longer sentences that is observed here, but longer sentences are more complicated to be written. Thus it can give an idea on how well the scripts of this movies where written and that could correlate positively with higher IMDb."
   ]
  },
  {
   "cell_type": "code",
   "execution_count": null,
   "metadata": {
    "hidden": true,
    "scrolled": false
   },
   "outputs": [],
   "source": [
    "# TODO do somtehing to visualize both \n",
    "good_movies[\"sentences_per_min\"].plot.hist(bins=40, \n",
    "                                           alpha=0.8,\n",
    "                                           label=\"good films\");\n",
    "bad_movies[\"sentences_per_min\"].plot.hist(bins=40,\n",
    "                                          figsize=(6,6),\n",
    "                                          fontsize=14,\n",
    "                                          alpha=0.6,\n",
    "                                          label=\"bad films\");\n",
    "plt.xlabel('Sentences per min', fontsize=14);\n",
    "plt.ylabel('Frequency', fontsize=14);\n",
    "plt.legend(loc=\"upper right\", fontsize=12)\n",
    "plt.show()"
   ]
  },
  {
   "cell_type": "markdown",
   "metadata": {
    "hidden": true
   },
   "source": [
    "This last plot on the number of sentences shows that this features is not polarized between good or bad movies : \"good\" movies do not necessarly have long or short sentences and vice-versa for \"bad\" movies. "
   ]
  },
  {
   "cell_type": "markdown",
   "metadata": {},
   "source": [
    "We continue the analysis at a different scale looking at the number of sentences in the movies and  the mean length of the sentences.  \n",
    "We define such quantity as : $\\bar{L} = \\frac{1}{N}\\sum_{s} l_{s}$ where $\\bar{L}$ is the average length of sentences, $l_s$ is the length of the sentence indexed by $s$ and $N$ the total number of sentences in the subtitle of the movie. \n",
    "$l_s$ is simply the number of words in a sentence."
   ]
  },
  {
   "cell_type": "code",
   "execution_count": null,
   "metadata": {
    "hidden": true,
    "scrolled": false
   },
   "outputs": [],
   "source": [
    "ax = df_words_ratings_pd.plot.scatter(\"mean_length_sentences\", \"averageRating\",figsize=(6,6),fontsize=14);\n",
    "plt.xlabel('Mean length of sentences ', fontsize=14);\n",
    "plt.ylabel('Average IMDb rating', fontsize=14);"
   ]
  },
  {
   "cell_type": "code",
   "execution_count": null,
   "metadata": {
    "hidden": true
   },
   "outputs": [],
   "source": [
    "plt.figure(figsize=(6,6))\n",
    "good_movies[\"mean_length_sentences\"].plot.hist(bins=40,\n",
    "                                               fontsize=14, \n",
    "                                               alpha=0.8,\n",
    "                                               label=\"good films\")\n",
    "bad_movies[\"mean_length_sentences\"].plot.hist(bins=40,\n",
    "                                              fontsize=14, \n",
    "                                              alpha=0.6,\n",
    "                                              label=\"bad films\")\n",
    "plt.xlabel('Mean length of sentences',fontsize=14);\n",
    "plt.ylabel('Frequency',fontsize=14); \n",
    "plt.legend(loc=\"upper right\", fontsize=12)\n",
    "plt.show()"
   ]
  },
  {
   "cell_type": "markdown",
   "metadata": {
    "hidden": true
   },
   "source": [
    "No plot show some clear difference between the two classes considered: \"good\" and \"bad\" movies can not be distinguished by the mean length of sentences.\n",
    "An explanation for this is found when considering the purpose the main use of subtitles in movies : dialogue.\n",
    "Dialogues tends to employ short sentences and in general, many people prefer short sentences as they are more easily understood. So the idea of longer sentences implying more \"written\". \n",
    "Nevertheless by looking at the plots of the total number of words versus the avarge IMDb rating it appear that writting longer sentences correlates positevely with the higher IMDb ratings (at the right edge of the blob made by the data). \n",
    "So what could be said is that, it is not a necessary condition but it seems that movies with the longest sentences on average have the better IMDb ratings in the end. "
   ]
  },
  {
   "cell_type": "markdown",
   "metadata": {},
   "source": [
    "#### Plots for durations \n",
    "\n",
    "We look at the subtitle minutes in a film and also the subtitle minutes/runtime minues ratio, meaning the amount of time spoken in a film relative to the total runtime"
   ]
  },
  {
   "cell_type": "code",
   "execution_count": null,
   "metadata": {
    "scrolled": false
   },
   "outputs": [],
   "source": [
    "ax = df_words_ratings_pd.plot.scatter(\"subtitle_mins\", \"averageRating\",figsize=(6,6),fontsize=14);\n",
    "plt.xlabel('Subtitle minutes', fontsize=14);\n",
    "plt.ylabel('Average IMDb rating', fontsize=14);"
   ]
  },
  {
   "cell_type": "code",
   "execution_count": null,
   "metadata": {
    "scrolled": false
   },
   "outputs": [],
   "source": [
    "ax = df_words_ratings_pd.plot.scatter( \"times_ratio\", \"averageRating\",figsize=(6,6),fontsize=14);\n",
    "plt.xlabel('$\\\\tau_{subs}/ \\\\tau_{movies} [\\\\%]$', fontsize=14);\n",
    "plt.ylabel('Average IMDb rating', fontsize=14);"
   ]
  },
  {
   "cell_type": "markdown",
   "metadata": {},
   "source": [
    "#### Outlier?"
   ]
  },
  {
   "cell_type": "code",
   "execution_count": null,
   "metadata": {},
   "outputs": [],
   "source": [
    "df_words_ratings_pd.iloc[df_words_ratings_pd[\"times_ratio\"].idxmax()][\"originalTitle\"]"
   ]
  },
  {
   "cell_type": "markdown",
   "metadata": {
    "heading_collapsed": true
   },
   "source": [
    "### Word analysis"
   ]
  },
  {
   "cell_type": "markdown",
   "metadata": {
    "hidden": true
   },
   "source": [
    "We don't see any promising relations between the average rating of a film and the found statistics hence we decide to compute a final one representing the average word length in a film. We filter out stopwords to come up with the average length of words to extract a metric which helps us represent \"complexity\" of the movie, as longer words tend to be more complex words. We know this is not strictly true as we might find words in subtitles such as \"hahahaha\" but we compute it nontheless to see if we find some insightfull information."
   ]
  },
  {
   "cell_type": "code",
   "execution_count": null,
   "metadata": {
    "hidden": true
   },
   "outputs": [],
   "source": [
    "df_all = spark.read.parquet(\"parquets/words/allwords.parquet/\")\n",
    "df_film_words = spark.read.parquet(\"parquets/words/filmwords.parquet/\")\n",
    "df_all.sort(\"count\", ascending=False).show()\n",
    "df_film_words.sort(\"count\", ascending=False).show()"
   ]
  },
  {
   "cell_type": "code",
   "execution_count": null,
   "metadata": {
    "hidden": true
   },
   "outputs": [],
   "source": [
    "nlp = spacy.load('en')\n",
    "spacy_stopwords = set(spacy.lang.en.stop_words.STOP_WORDS)\n",
    "df_film_words_filtered = df_film_words.filter(~psf.lower(df_film_words.word).isin(spacy_stopwords)).sort(\"count\", ascending=False)\n",
    "df_all_filtered =df_all.filter(~psf.lower(df_all.word).isin(spacy_stopwords)).sort(\"count\", ascending=False)"
   ]
  },
  {
   "cell_type": "markdown",
   "metadata": {
    "hidden": true
   },
   "source": [
    "Here we calculate the average word length of each word considering only non-stop words"
   ]
  },
  {
   "cell_type": "code",
   "execution_count": null,
   "metadata": {
    "hidden": true
   },
   "outputs": [],
   "source": [
    "df_aux_word = df_film_words_filtered.selectExpr(\"tconst\", \"length(word) * count as product\", \"count\")\\\n",
    "                                    .groupBy(\"tconst\")\n",
    "df_word_length = df_aux_word.agg({\"count\": \"sum\", \n",
    "                                 \"product\": \"sum\"})\n",
    "df_word_length = df_word_length.withColumn(\"av_word_length\", \n",
    "                                           df_word_length[\"sum(product)\"] / df_word_length[\"sum(count)\"])\\\n",
    "                                .select(\"tconst\", \"av_word_length\")\n",
    "df_word_length.show()"
   ]
  },
  {
   "cell_type": "code",
   "execution_count": null,
   "metadata": {
    "hidden": true
   },
   "outputs": [],
   "source": [
    "df_word_length_pd = df_word_length.join(df_ratings, [\"tconst\"]).toPandas()"
   ]
  },
  {
   "cell_type": "code",
   "execution_count": null,
   "metadata": {
    "hidden": true
   },
   "outputs": [],
   "source": [
    "ax = df_word_length_pd.plot.scatter(\"av_word_length\", \n",
    "                                    \"averageRating\", \n",
    "                                    figsize=(6,6), \n",
    "                                    fontsize=14)\n",
    "df_word_length_pd.iloc[df_word_length_pd[\"av_word_length\"].idxmax()]\n",
    "df_word_length_pd[\"av_word_length\"].corr(df_word_length_pd[\"averageRating\"])\n",
    "plt.xlabel('Average Word length', fontsize=14);\n",
    "plt.ylabel('Average IMDb rating', fontsize=14);"
   ]
  },
  {
   "cell_type": "markdown",
   "metadata": {
    "hidden": true
   },
   "source": [
    "#### Outlier?\n",
    "There is a weird outlier in our distribution, we look into the subtitles to see why such anomaly is present"
   ]
  },
  {
   "cell_type": "markdown",
   "metadata": {
    "hidden": true
   },
   "source": [
    "We plot again the distribution without the outlier present to see if it might reveal a relation between average film rating and average word length."
   ]
  },
  {
   "cell_type": "code",
   "execution_count": null,
   "metadata": {
    "hidden": true
   },
   "outputs": [],
   "source": [
    "ax = df_word_length_pd.plot.scatter(\"av_word_length\", \n",
    "                                    \"averageRating\", \n",
    "                                    figsize=(6,6),\n",
    "                                    fontsize=14)\n",
    "df_word_length_pd.iloc[df_word_length_pd[\"av_word_length\"].idxmax()]\n",
    "plt.xlim(3,7)\n",
    "plt.xlabel('Average Word length', fontsize=14);\n",
    "plt.ylabel('Average IMDb rating', fontsize=14);"
   ]
  },
  {
   "cell_type": "markdown",
   "metadata": {
    "hidden": true
   },
   "source": [
    "As with the other stats before, this does not reveal a lot of information regarding the film's rating. We stop looking at this metric to predict the film rating."
   ]
  },
  {
   "cell_type": "markdown",
   "metadata": {},
   "source": [
    "# Trying to predict the IMDb average rating:"
   ]
  },
  {
   "cell_type": "markdown",
   "metadata": {},
   "source": [
    "Even though we don't see a big dependency between the statistics found and the movie rating, we'll try to do a regression model based on them to see its accuracy, how well it predicts the rating. We don't expect a good result from the exploration performed before. For the feature columns we take only those which had the bigger correlation and seemed to reveal more information about the rating."
   ]
  },
  {
   "cell_type": "code",
   "execution_count": null,
   "metadata": {},
   "outputs": [],
   "source": [
    "feature_columns = [\"runtimeMinutes\", \n",
    "                   \"subtitle_mins\",\n",
    "                   \"numVotes\",\n",
    "                   \"times_ratio\",\n",
    "                   \"mean_length_sentences\", \n",
    "                   \"num_words\",           \n",
    "                    \"num_distinct_words\"]\n",
    "X = df_words_ratings_pd[feature_columns]\n",
    "normal_X = (X- X.mean()) /X.std()\n",
    "normal_X = normal_X.fillna(0)\n",
    "y = df_words_ratings_pd[\"averageRating\"]"
   ]
  },
  {
   "cell_type": "code",
   "execution_count": null,
   "metadata": {
    "scrolled": true
   },
   "outputs": [],
   "source": [
    "regression = LinearRegression()\n",
    "predicted = cross_val_predict(regression, normal_X, y, cv=5)"
   ]
  },
  {
   "cell_type": "code",
   "execution_count": null,
   "metadata": {
    "scrolled": false
   },
   "outputs": [],
   "source": [
    "fig, ax = plt.subplots(figsize=(12, 8))\n",
    "ax.scatter(y, predicted, edgecolors=(0, 0, 0))\n",
    "ax.plot([min(y), max(y)], [min(y), max(y)], 'r--', lw=4)\n",
    "ax.set_xlabel('Original')\n",
    "ax.set_ylabel('Predicted')\n",
    "plt.show()"
   ]
  },
  {
   "cell_type": "markdown",
   "metadata": {},
   "source": [
    "As we can see and expected... no real causation, our model predicts that all films have a better rating than 6. This means that among the stats we have there is no information that might reveal when a film is bad."
   ]
  },
  {
   "cell_type": "markdown",
   "metadata": {},
   "source": [
    "These plots show us little relation between the found metrics and the actual film rating, the only thing we could state is that films with more text tend to be better rated. We now look at the different genres.\n"
   ]
  },
  {
   "cell_type": "markdown",
   "metadata": {
    "heading_collapsed": true
   },
   "source": [
    "## Genre Exploration"
   ]
  },
  {
   "cell_type": "markdown",
   "metadata": {
    "hidden": true
   },
   "source": [
    "Here we find the average rating for the 10 most represented genres."
   ]
  },
  {
   "cell_type": "code",
   "execution_count": null,
   "metadata": {
    "hidden": true
   },
   "outputs": [],
   "source": [
    "df_genres = df_films.drop(\"subtitles\").join(df_basics.select(\"tconst\", \n",
    "                                                             \"genres\", \n",
    "                                                             \"primaryTitle\", \n",
    "                                                             \"runtimeMinutes\"), \n",
    "                                            [\"tconst\"])\n",
    "df_genres = df_genres.join(df_ratings, [\"tconst\"])"
   ]
  },
  {
   "cell_type": "code",
   "execution_count": null,
   "metadata": {
    "hidden": true
   },
   "outputs": [],
   "source": [
    "df_genres_avRating = df_genres.select('*', \n",
    "                                      psf.explode('genres').alias('genre'))\\\n",
    "                              .groupBy(\"genre\").agg({\"averageRating\": \"mean\", \n",
    "                                                     \"*\": \"count\"})\n",
    "df_genres_rating_pd = df_genres_avRating.sort(\"count(1)\", ascending=False).limit(10).toPandas()"
   ]
  },
  {
   "cell_type": "markdown",
   "metadata": {
    "hidden": true
   },
   "source": [
    "We can see that there are no very big differences between genres apparently, though we can see that a Drama movie is more likely to have a good rating than a horror movie. From these statistics we could assume that the genre has somehow an influence in the film's average rating.\n"
   ]
  },
  {
   "cell_type": "code",
   "execution_count": null,
   "metadata": {
    "hidden": true
   },
   "outputs": [],
   "source": [
    "df_genres_rating_pd.sort_values(\"avg(averageRating)\", ascending=False).plot.bar(y=\"avg(averageRating)\", x=\"genre\")\n",
    "plt.ylim(5.5, 7.5)\n",
    "plt.show()"
   ]
  },
  {
   "cell_type": "markdown",
   "metadata": {
    "heading_collapsed": true
   },
   "source": [
    "## Time Exploration"
   ]
  },
  {
   "cell_type": "markdown",
   "metadata": {
    "hidden": true
   },
   "source": [
    "We categorize our films into 3 time periods"
   ]
  },
  {
   "cell_type": "code",
   "execution_count": null,
   "metadata": {
    "hidden": true
   },
   "outputs": [],
   "source": [
    "def add_time_period(year):\n",
    "    if year < 1910 or year > 2018:\n",
    "        return \"NaN\"\n",
    "    elif year < 1960:\n",
    "        return \"1910-1959\"\n",
    "    elif year < 2000:\n",
    "        return \"1960-1999\"\n",
    "    else:\n",
    "        return \"2000s\"\n",
    "udf_period = psf.udf(add_time_period, StringType())"
   ]
  },
  {
   "cell_type": "code",
   "execution_count": null,
   "metadata": {
    "hidden": true
   },
   "outputs": [],
   "source": [
    "df_words_ratings_periods = df_words_ratings.join(df_films.select(\"year\", \"tconst\"), [\"tconst\"])\\\n",
    "                                           .withColumn(\"period\", udf_period(\"year\"))\n",
    "df_words_ratings_periods.groupBy(\"period\").count().show()"
   ]
  },
  {
   "cell_type": "markdown",
   "metadata": {
    "hidden": true
   },
   "source": [
    "Not very balanced"
   ]
  },
  {
   "cell_type": "code",
   "execution_count": null,
   "metadata": {
    "hidden": true,
    "scrolled": true
   },
   "outputs": [],
   "source": [
    "df_words_ratings_periods.groupBy(\"period\").agg({\"averageRating\": \"mean\"}).show()"
   ]
  },
  {
   "cell_type": "markdown",
   "metadata": {
    "hidden": true
   },
   "source": [
    "Are films getting worse? Can't be sure as the amount of films is not big enough but from our data it would seem so"
   ]
  },
  {
   "cell_type": "markdown",
   "metadata": {
    "hidden": true
   },
   "source": [
    "Check distributions for each time period"
   ]
  },
  {
   "cell_type": "code",
   "execution_count": null,
   "metadata": {
    "hidden": true
   },
   "outputs": [],
   "source": [
    "df_periods_stats = df_words_ratings_periods.join(df_genres.select(\"tconst\", \n",
    "                                                                  psf.explode('genres').alias('genre')), \n",
    "                                                 [\"tconst\"])\\\n",
    "                                           .groupBy(\"period\", \"genre\").agg({\"averageRating\": \"mean\", \n",
    "                                                                            \"*\": \"count\"})\n",
    "df_periods_stats_pd = df_periods_stats.toPandas()"
   ]
  },
  {
   "cell_type": "code",
   "execution_count": null,
   "metadata": {
    "hidden": true
   },
   "outputs": [],
   "source": [
    "df_genres = df_films.drop(\"subtitles\").join(df_basics.select(\"tconst\", \n",
    "                                                             \"genres\", \n",
    "                                                             \"primaryTitle\", \n",
    "                                                             \"runtimeMinutes\"), \n",
    "                                            [\"tconst\"])\n",
    "df_genres= df_genres.join(df_ratings, [\"tconst\"])"
   ]
  },
  {
   "cell_type": "markdown",
   "metadata": {
    "hidden": true
   },
   "source": [
    "#### Subtitles to String and time period separation functions"
   ]
  },
  {
   "cell_type": "code",
   "execution_count": null,
   "metadata": {
    "hidden": true
   },
   "outputs": [],
   "source": [
    "df_periods_stats_pd[df_periods_stats_pd[\"count(1)\"] > 100].sort_values(\"avg(averageRating)\", ascending=False)"
   ]
  },
  {
   "cell_type": "markdown",
   "metadata": {},
   "source": [
    "## Text analysis"
   ]
  },
  {
   "cell_type": "markdown",
   "metadata": {},
   "source": [
    "As we can see, maybe using genre and the time period as parameter for a regression might result in better predictions, but it is clearly not good enough. We need to go deeper, look at the content of the actual text. We'll implement a sentiment analysis on some of the best films and some of the worst films and see if we can find some kind of dependency."
   ]
  },
  {
   "cell_type": "code",
   "execution_count": null,
   "metadata": {},
   "outputs": [],
   "source": [
    "df_films_strings = spark.read.parquet(\"parquets/filmtext.parquet/\")"
   ]
  },
  {
   "cell_type": "markdown",
   "metadata": {},
   "source": [
    "### SENTIMENT ANALYSIS. \n",
    "\n",
    "For the sentiment analysis we take as metrics the average positive and negative sentiment of the film which we define as the total positive (negative) score of each sentence, divided by the total number of sentences. As these are fairly heavy computations we will look at only the best and worst to start. (the 50 best and the 50 worst)"
   ]
  },
  {
   "cell_type": "code",
   "execution_count": null,
   "metadata": {},
   "outputs": [],
   "source": [
    "df_strings = df_films_strings.join(df_ratings, [\"tconst\"]).toPandas()"
   ]
  },
  {
   "cell_type": "code",
   "execution_count": null,
   "metadata": {},
   "outputs": [],
   "source": [
    "analyzer = SentimentIntensityAnalyzer()\n",
    "def av_sentiments_film(text):\n",
    "    document = nlp(text)\n",
    "    positive_sent = 0\n",
    "    negative_sent = 0\n",
    "    sents = document.sents\n",
    "    count = 0\n",
    "    for sent in sents:\n",
    "        positive_sent += analyzer.polarity_scores(sent.text)['pos']\n",
    "        negative_sent += analyzer.polarity_scores(sent.text)['neg']\n",
    "        count += 1\n",
    "    return (positive_sent/count, negative_sent/count)\n"
   ]
  },
  {
   "cell_type": "code",
   "execution_count": null,
   "metadata": {},
   "outputs": [],
   "source": [
    "#TODO CHoose number of subtitles,\n",
    "df_strings_best = df_strings.sort_values(\"averageRating\", ascending=False).head(100)\n",
    "df_strings_worst = df_strings.sort_values(\"averageRating\", ascending=True).head(100)\n",
    "df_strings_best[\"av_sentiment\"] = df_strings_best[\"text\"].apply(av_sentiments_film)\n",
    "df_strings_worst[\"av_sentiment\"] = df_strings_worst[\"text\"].apply(av_sentiments_film)\n"
   ]
  },
  {
   "cell_type": "code",
   "execution_count": null,
   "metadata": {},
   "outputs": [],
   "source": [
    "df_strings_best[['positive', 'negative']] = df_strings_best['av_sentiment'].apply(pd.Series)\n",
    "df_strings_worst[['positive', 'negative']] = df_strings_worst['av_sentiment'].apply(pd.Series)"
   ]
  },
  {
   "cell_type": "code",
   "execution_count": null,
   "metadata": {},
   "outputs": [],
   "source": [
    "print(\"The median positive sentiment of best and worst films is\")\n",
    "print(df_strings_best[\"positive\"].median())\n",
    "print(df_strings_worst[\"positive\"].median())"
   ]
  },
  {
   "cell_type": "code",
   "execution_count": null,
   "metadata": {
    "scrolled": true
   },
   "outputs": [],
   "source": [
    "ax = df_strings_best.plot.scatter(\"positive\", \"averageRating\")"
   ]
  },
  {
   "cell_type": "code",
   "execution_count": null,
   "metadata": {
    "scrolled": true
   },
   "outputs": [],
   "source": [
    "ax = df_strings_worst.plot.scatter(\"positive\", \"averageRating\")"
   ]
  },
  {
   "cell_type": "code",
   "execution_count": null,
   "metadata": {},
   "outputs": [],
   "source": [
    "df_strings_best[\"positive\"].plot.hist(alpha=0.8, label=\"best films\")\n",
    "df_strings_worst[\"positive\"].plot.hist(alpha=0.6, label=\"worst films\",figsize=(6,6),fontsize=14);\n",
    "plt.xlabel('Positive sentiment of movie ', fontsize=14);\n",
    "plt.ylabel('Frequency', fontsize=14);\n",
    "plt.legend(loc='upper right', fontsize=12)\n",
    "plt.show()"
   ]
  },
  {
   "cell_type": "code",
   "execution_count": null,
   "metadata": {
    "scrolled": true
   },
   "outputs": [],
   "source": [
    "ax = df_strings_best.plot.scatter(\"negative\", \"averageRating\")"
   ]
  },
  {
   "cell_type": "code",
   "execution_count": null,
   "metadata": {},
   "outputs": [],
   "source": [
    "ax = df_strings_worst.plot.scatter(\"negative\", \"averageRating\")"
   ]
  },
  {
   "cell_type": "code",
   "execution_count": null,
   "metadata": {},
   "outputs": [],
   "source": [
    "df_strings_best[\"negative\"].plot.hist(alpha=0.8, label=\"best films\")\n",
    "df_strings_worst[\"negative\"].plot.hist(alpha=0.6, label=\"worst films\",figsize=(6,6),fontsize=14);\n",
    "plt.xlabel('Negative sentiment of movie ', fontsize=14);\n",
    "plt.ylabel('Frequency', fontsize=14);\n",
    "plt.legend(loc='upper right', fontsize=12)\n",
    "plt.show()"
   ]
  },
  {
   "cell_type": "code",
   "execution_count": null,
   "metadata": {},
   "outputs": [],
   "source": [
    "print(\"Median negative sentiment of best and worst films is\")\n",
    "print(df_strings_best[\"negative\"].median())\n",
    "print(df_strings_worst[\"negative\"].median())"
   ]
  },
  {
   "cell_type": "markdown",
   "metadata": {},
   "source": [
    "This plots dont seem to give us any major relation between rating and average positive or negative sentiment of a film. We dont consider a larger data set as we can see no major relation. Only things we can conclude is that films in general have more of a positive sentiment than a negative sentiment, that good films tend to be a tiny bit less positive and less negative."
   ]
  },
  {
   "cell_type": "code",
   "execution_count": null,
   "metadata": {},
   "outputs": [],
   "source": []
  }
 ],
 "metadata": {
  "kernelspec": {
   "display_name": "Python 3",
   "language": "python",
   "name": "python3"
  },
  "language_info": {
   "codemirror_mode": {
    "name": "ipython",
    "version": 3
   },
   "file_extension": ".py",
   "mimetype": "text/x-python",
   "name": "python",
   "nbconvert_exporter": "python",
   "pygments_lexer": "ipython3",
   "version": "3.6.6"
  },
  "varInspector": {
   "cols": {
    "lenName": 16,
    "lenType": 16,
    "lenVar": 40
   },
   "kernels_config": {
    "python": {
     "delete_cmd_postfix": "",
     "delete_cmd_prefix": "del ",
     "library": "var_list.py",
     "varRefreshCmd": "print(var_dic_list())"
    },
    "r": {
     "delete_cmd_postfix": ") ",
     "delete_cmd_prefix": "rm(",
     "library": "var_list.r",
     "varRefreshCmd": "cat(var_dic_list()) "
    }
   },
   "types_to_exclude": [
    "module",
    "function",
    "builtin_function_or_method",
    "instance",
    "_Feature"
   ],
   "window_display": false
  }
 },
 "nbformat": 4,
 "nbformat_minor": 2
}
