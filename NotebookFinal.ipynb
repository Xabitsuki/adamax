{
 "cells": [
  {
   "cell_type": "markdown",
   "metadata": {},
   "source": [
    "# A Movie behind a Script\n"
   ]
  },
  {
   "cell_type": "code",
   "execution_count": 1,
   "metadata": {},
   "outputs": [],
   "source": [
    "import os\n",
    "import re\n",
    "import pandas as pd\n",
    "import numpy as np\n",
    "import matplotlib\n",
    "import matplotlib.pyplot as plt\n",
    "import findspark\n",
    "findspark.init()\n",
    "\n",
    "from pyspark.sql import *\n",
    "from pyspark.sql.types import *\n",
    "import pyspark.sql.functions as psf\n",
    "from pyspark.sql.utils import AnalysisException\n",
    "\n",
    "#NLP libraries\n",
    "import spacy, nltk, gensim, sklearn\n",
    "import pyLDAvis.gensim\n",
    "\n",
    "#Vader\n",
    "import vaderSentiment\n",
    "from vaderSentiment.vaderSentiment import SentimentIntensityAnalyzer\n",
    "\n",
    "from sklearn.linear_model import LinearRegression, LogisticRegression\n",
    "from sklearn.preprocessing import OneHotEncoder\n",
    "from pandas.plotting import scatter_matrix\n",
    "from sklearn.model_selection import cross_val_predict\n",
    "from sklearn.model_selection import cross_val_score\n",
    "import seaborn as sns\n",
    "\n",
    "#os.environ['PYSPARK_SUBMIT_ARGS'] = '--packages com.databricks:spark-xml_2.10:0.4.1 pyspark-shell'\n",
    "\n"
   ]
  },
  {
   "cell_type": "code",
   "execution_count": 2,
   "metadata": {},
   "outputs": [],
   "source": [
    "spark = SparkSession.builder.getOrCreate()\n",
    "spark.conf.set('spark.sql.session.timeZone', 'UTC')\n",
    "sc = spark.sparkContext\n",
    "sqlContext = SQLContext(sc)"
   ]
  },
  {
   "cell_type": "markdown",
   "metadata": {},
   "source": [
    "# Overview of datasets\n",
    "\n",
    "The OpenSubtitles dataset is a compressed cluster of folders containing XML files. Each XML file is split into a script portion with the subtitles of the movie and a metadata portion with additional information about the movie or show. The name of one of the parent folders of the XML file is the corresponding IMDb identifier of the movie or show, thus allowing us to extract additional information from the IMDb dataset."
   ]
  },
  {
   "cell_type": "markdown",
   "metadata": {},
   "source": [
    "## IMDb Dataset"
   ]
  },
  {
   "cell_type": "markdown",
   "metadata": {},
   "source": [
    "We use the IMDb basics dataset, which provides us with a title's main information, and the ratings datasets, which provides us the IMDb rating and votes information for each title."
   ]
  },
  {
   "cell_type": "code",
   "execution_count": 3,
   "metadata": {},
   "outputs": [
    {
     "name": "stdout",
     "output_type": "stream",
     "text": [
      "root\n",
      " |-- tconst: string (nullable = true)\n",
      " |-- titleType: string (nullable = true)\n",
      " |-- primaryTitle: string (nullable = true)\n",
      " |-- originalTitle: string (nullable = true)\n",
      " |-- isAdult: string (nullable = true)\n",
      " |-- startYear: string (nullable = true)\n",
      " |-- endYear: string (nullable = true)\n",
      " |-- runtimeMinutes: double (nullable = true)\n",
      " |-- genres: array (nullable = true)\n",
      " |    |-- element: string (containsNull = true)\n",
      "\n"
     ]
    }
   ],
   "source": [
    "df_basics = spark.read.parquet(\"parquets/basics.parquet\")\n",
    "df_basics.printSchema()"
   ]
  },
  {
   "cell_type": "code",
   "execution_count": 4,
   "metadata": {},
   "outputs": [
    {
     "name": "stdout",
     "output_type": "stream",
     "text": [
      "root\n",
      " |-- tconst: string (nullable = true)\n",
      " |-- averageRating: float (nullable = true)\n",
      " |-- numVotes: integer (nullable = true)\n",
      "\n"
     ]
    }
   ],
   "source": [
    "df_ratings = spark.read.parquet(\"parquets/ratings.parquet\")\n",
    "df_ratings.printSchema()"
   ]
  },
  {
   "cell_type": "code",
   "execution_count": 5,
   "metadata": {},
   "outputs": [],
   "source": [
    "# Function to split genres\n",
    "udf_split = psf.udf(lambda s: s.split(',') if s is not None else \"\", ArrayType(StringType()))"
   ]
  },
  {
   "cell_type": "markdown",
   "metadata": {
    "heading_collapsed": true
   },
   "source": [
    "## OpenSubtitles dataset\n",
    "\n",
    "The dataset consists of 31 GB of XML files distributed in the following file structure: \n",
    "\n",
    "```\n",
    "├── opensubtitle\n",
    "│   ├── OpenSubtitles2018\n",
    "│   │   ├── Year\n",
    "│   │   │   ├── Id\n",
    "│   │   │   │   ├── #######.xml.gz\n",
    "│   │   │   │   ├── #######.xml.gz\n",
    "│   ├── en.tar.gz\n",
    "│   ├── fr.tar.gz\n",
    "│   ├── zh_cn.tar.gz\n",
    "```\n",
    "where\n",
    "- `######` is a 6-digit unique identifier of the file on the OpenSubtitles dataset.\n",
    "- `Year` is the year the movie or episode was made.\n",
    "- `Id` is a 5 to 7 digit identifier (if it's 7-digit it's also an IMDb identifier).\n",
    "\n",
    "The subtitles are provided in different languages. We only analyze the `OpenSubtitles2018` folder and it's the only folder we detail.\n",
    "\n",
    "The decompressed XML files vary in size, ranging from 5KB to 9000KB sized files."
   ]
  },
  {
   "cell_type": "markdown",
   "metadata": {},
   "source": [
    "## XML Files\n",
    "\n",
    "Each XML file is split into a `document` and `metadata` section."
   ]
  },
  {
   "cell_type": "markdown",
   "metadata": {},
   "source": [
    "### Subtitles\n",
    "\n",
    "The `document` section contains all the subtitles and its general structure is the following:\n",
    "\n",
    "```\n",
    "├── s\n",
    "│   ├── time: Integer\n",
    "│   ├── w: String\n",
    "```\n",
    "\n",
    "An example snippet of an XML file:\n",
    "\n",
    "```xml\n",
    "  <s id=\"1\">\n",
    "    <time id=\"T1S\" value=\"00:00:51,819\" />\n",
    "    <w id=\"1.1\">Travis</w>\n",
    "    <w id=\"1.2\">.</w>\n",
    "    <time id=\"T1E\" value=\"00:00:53,352\" />\n",
    "  </s>\n",
    "```\n",
    "\n",
    "The subtitles in each XML file are stored by **blocks** denoted by `s` with a unique `id` attribute (integers in increasing order starting at 1).  \n",
    "\n",
    "Each block (`<s id=\"1\">` for instance) has a:  \n",
    "\n",
    "1. Set of timestamps (denoted by `time`) with\n",
    " - A timestamp `id` attribute that can take two different formats: `T#S` or `T#E`, where _S_ indicates _start_, _E_ indicates _end_ and _#_ is an increasing integer. \n",
    " - A `value` attribute which has the format `HH:mm:ss,fff`.\n",
    "\n",
    "2. Set of words (denoted by `w`) with\n",
    " - an `id` attribute that is simply an increasing number of decimal numbers of the format `X.Y` where X is the string id and Y is the word id within the corresponding string\n",
    " - a non-empty `value` attribute that contains a token: a word or a punctuation character. \n",
    "\n",
    "It sometimes also has an `alternative`, `initial` and `emphasis` attribute.  \n",
    "\n",
    " - The `initial` attribute generally corresponds to slang words or mispronounced words because of an accent such as _lyin'_ instead of _lying_.  \n",
    " - The `alternative` attribute is another way of displaying the subtitle for example _HOW_ instead of _how_.\n",
    " - The `emphasis` attribute is a boolean."
   ]
  },
  {
   "cell_type": "markdown",
   "metadata": {},
   "source": [
    "### Metadata\n",
    "\n",
    "The `metadata` section has the following structure:\n",
    "\n",
    "```\n",
    "├── Conversion\n",
    "│   ├── corrected_words: Integer\n",
    "│   ├── sentences: Integer\n",
    "│   ├── tokens: Integer\n",
    "│   ├── encoding: String (always utf-8)\n",
    "│   ├── unknown_words: Integer\n",
    "│   ├── ignored_blocks: Integer\n",
    "│   ├── truecased_words: Integer\n",
    "├── Subtitle\n",
    "│   ├── language: String\n",
    "│   ├── date: String\n",
    "│   ├── duration: String\n",
    "│   ├── cds: String (presented as #/# where # is an int)\n",
    "│   ├── blocks: Integer\n",
    "│   ├── confidence: Double\n",
    "├── Source\n",
    "│   ├── genre: String[] (up to 3 genres)\n",
    "│   ├── year: Integer\n",
    "│   ├── duration: Integer (in minutes)\n",
    "│   ├── original: String\n",
    "│   ├── country: String\n",
    "```\n",
    "\n",
    "We note that some XML files may not have all the entries. \n",
    "We can use the metadata to obtain additional information about the movie or show's subtitles and compute certain statistics. "
   ]
  },
  {
   "cell_type": "markdown",
   "metadata": {},
   "source": [
    "## Document dataframe"
   ]
  },
  {
   "cell_type": "markdown",
   "metadata": {},
   "source": [
    "## Exploration\n",
    "\n",
    "Going through the dataset we notice a few things:\n",
    "\n",
    "1. The dataset has meaningless folders. For example, the folder 1858/ is empty.\n",
    "2. Dataset contains XML files that are not related to movies or TV shows. For example, the folder 666/ contains Justin Bieber song subtitles.  \n",
    "3. Trailer of films can be present in the dataset. For example, the folder 2018/ we found for example Black Panther teaser trailer subtitles.\n",
    "4. Each movie might have more than 1 subtitle file.\n",
    "5. Some subtitle files contain text that is not related to the movie, like credits to the person who made the subtitles.\n",
    "7. Each block may have an arbitrary number (including 0) of timestamps associated to it.\n",
    "\n",
    "To solve points 1, 2 and 3 we decide to take only files associated with valid imdb id's of movies with more than 5000 reviews.\n",
    "\n",
    "To solve point 4, we simply take the first one.\n",
    "\n",
    "To solve point 6, we keep movies that have a correct IMDb identifier. Hence, all the files in folders that don't have a 7-digit folder name are dropped.\n",
    "\n",
    "To solve point 7, we decide not to associate a timestamp to each word.\n",
    " \n",
    "We extract the desired dataset information into a parquet file using the script `parquet2.py` (TODO rename). From this parquet we extract all the information for the data analysis."
   ]
  },
  {
   "cell_type": "markdown",
   "metadata": {},
   "source": [
    "Moreover, to avoid confusion, we set some naming conventions. We refer to certain attributes as follows:\n",
    "\n",
    "- The `s` array as **blocks**\n",
    "- An element of blocks, as a **block**.\n",
    "- The `w` array as **elements**\n",
    "- An element of elements, as **element**.\n",
    "- `_VALUE` as a **token**\n",
    "- A **subtitle** is a list of tokens"
   ]
  },
  {
   "cell_type": "markdown",
   "metadata": {},
   "source": [
    "# Data analysis"
   ]
  },
  {
   "cell_type": "markdown",
   "metadata": {},
   "source": [
    "## Objective and structure"
   ]
  },
  {
   "cell_type": "markdown",
   "metadata": {},
   "source": [
    "As stated in our abstract, our main goal is to try to find a relation between a film subtitles and the average rating.  \n",
    "__What makes a movie good or bad?__  \n",
    "To try and answer the question we follow a structured plan.\n",
    "1. Select the proper data: The one that is actually relevant to answer the question\n",
    "2. Explore the data: See the distribution of different features of our data such as most represented genres, years, etc.\n",
    "3. Extract statistics of the subtitles trying to find correlations between such statistics and a film average rating.\n",
    "4. Implement a linear regression using such statistics.\n",
    "5. Analysis\n",
    "6. Use NLP tools to extract additional features\n",
    "7. Test a regression using the new features\n",
    "8. Conclusion"
   ]
  },
  {
   "cell_type": "markdown",
   "metadata": {},
   "source": [
    "After doing an analysis of the files and considering the statistics we want to obtain taking the size of our data into account, we decide to load the metadata and subtitles directly into 1 dataframe where we manipulate it as before. We decide not to extract all tokens at first as it would induce into very heavy computations. We store the text in an array of subtitles where each subtitle is an array of tokens."
   ]
  },
  {
   "cell_type": "code",
   "execution_count": 6,
   "metadata": {
    "scrolled": false
   },
   "outputs": [],
   "source": [
    "# imdb_id = '6464116'\n",
    "# df_document_example = sqlContext.read.format('com.databricks.spark.xml')\\\n",
    "#                                      .options(rowTag='document') \\\n",
    "#                                      .load('sample_dataset/2017/6464116/6887453.xml.gz')\n",
    "# df_document_example.printSchema()\n",
    "# df_document_example.show()"
   ]
  },
  {
   "cell_type": "markdown",
   "metadata": {
    "heading_collapsed": true
   },
   "source": [
    "### Dataframe manipulation"
   ]
  },
  {
   "cell_type": "markdown",
   "metadata": {
    "hidden": true
   },
   "source": [
    "We define a function that retrieves the tokens from the elements (`w` array) and returns an array of subtitles, where each subtitle is a list of tokens."
   ]
  },
  {
   "cell_type": "code",
   "execution_count": 7,
   "metadata": {
    "hidden": true
   },
   "outputs": [],
   "source": [
    "def to_subtitles_array(sentences):\n",
    "    \"\"\"Function to map the elements (a struct containing tokens)\n",
    "    to a list of list of tokens \"\"\"\n",
    "    s_list = []\n",
    "    if sentences is None:\n",
    "        return s_list\n",
    "    for words in sentences:\n",
    "        w_list = []\n",
    "        if words and \"w\" in words and words[\"w\"]:\n",
    "            for w in words[\"w\"]:\n",
    "                if '_VALUE' in w and w['_VALUE']:\n",
    "                    w_list.append(w['_VALUE'])\n",
    "                \n",
    "            s_list.append(w_list)\n",
    "\n",
    "    return s_list"
   ]
  },
  {
   "cell_type": "markdown",
   "metadata": {},
   "source": [
    "# Data analysis"
   ]
  },
  {
   "cell_type": "markdown",
   "metadata": {},
   "source": [
    "## Objective and structure"
   ]
  },
  {
   "cell_type": "markdown",
   "metadata": {},
   "source": [
    "As stated in our abstract, our main goal is to try to find a relation between a film subtitles and the average rating.  \n",
    "__What makes a movie good or bad?__  \n",
    "To try and answer the question we followed a structured plan.\n",
    "1. Select the proper data: The one that is actually relevant to answer the question\n",
    "2. Explore the data: See the distribution of different features of our data such as most represented genres, years, etc.\n",
    "3. Extract statistics of the subtitles trying to find correlations between such statistics and a film average rating.\n",
    "4. Implement a linear regression using such statistics.\n",
    "5. Analysis\n",
    "6. Use NLP tools to extract additional features\n",
    "7. Test a regression using the new features\n",
    "8. Conclusion"
   ]
  },
  {
   "cell_type": "markdown",
   "metadata": {},
   "source": [
    "## Selection of the data"
   ]
  },
  {
   "cell_type": "markdown",
   "metadata": {},
   "source": [
    "To see if one can predict the average IMDb rating using the subtiltes of a movie, the data is restricted according to two criterias:\n",
    "1. __the movie must have been rated at least 5000 times__: indeed, IMDb considers this a good metric to estimate the public actual approval of a film. \n",
    "2. __the file identifier must be a valid IMDB ID__: this ensures that the corresponding subtitle is of a movie and that the corresponind IMDb data is present in the `basics` and `rating`. \n",
    "To ensure these two criterias were fulfilled, we created a csv file containing all the id's of the movies by joining the ratings and basics datasets and filtering them by number of votes and title type. We only focus on movies, no tv shows or tv movies.\n",
    "\n",
    "Later on, one can see that joining the subtitles data with the IMDb data does not provoke a loss of data in the number of subtitles used.\n",
    "\n",
    "To fulfill this criteris the script `parquet2.py` following the same data structure mentioned above is run on the cluster to load the `.xml` files into spark dataframe for each year and for each subtitle fulfilling the 2 main filters.\n",
    "\n",
    "The data can be accessed by loading `films.parquet` and `films2.parquet` into a spark dataframe. The first one contains in the subtitle column only the words present in the film and the second one also includes the punctuation marks.\n",
    "\n"
   ]
  },
  {
   "cell_type": "markdown",
   "metadata": {
    "hidden": true
   },
   "source": [
    "Here we define a couple of udf functions we will later use for the manipulation of our dataset"
   ]
  },
  {
   "cell_type": "code",
   "execution_count": 8,
   "metadata": {
    "hidden": true
   },
   "outputs": [],
   "source": [
    "# Transform to spark function\n",
    "udf_subtitles_array = psf.udf(to_subtitles_array, ArrayType(ArrayType(StringType())))\n",
    "# Convert array of words into a single string\n",
    "udf_sentence = psf.udf(lambda x: ' '.join(x), StringType())"
   ]
  },
  {
   "cell_type": "code",
   "execution_count": 9,
   "metadata": {
    "hidden": true
   },
   "outputs": [],
   "source": [
    "# Check correct schema\n",
    "def has_correct_schema(df):\n",
    "    arguments = [\n",
    "                 \"meta.conversion.sentences\",\n",
    "                 \"meta.source.year\", \n",
    "                 \"meta.subtitle.blocks\",\n",
    "                 \"meta.subtitle.duration\",\n",
    "                 \"meta.subtitle.language\",\n",
    "                 \"s\"]\n",
    "    for col in arguments:\n",
    "        try:\n",
    "            df[col]\n",
    "        except AnalysisException:\n",
    "            return False\n",
    "    return True\n",
    "\n",
    "schema_films = StructType([StructField('tconst', StringType(), False),\n",
    "                               StructField('num_sentences', LongType(), True),\n",
    "                               StructField('year', LongType(), True),\n",
    "                               StructField('blocks', LongType(), True),\n",
    "                               StructField('subtitle_mins', DoubleType(), True),\n",
    "                               StructField('subtitles', ArrayType(ArrayType(StringType())), True)])"
   ]
  },
  {
   "cell_type": "markdown",
   "metadata": {
    "hidden": true
   },
   "source": [
    "The function below structures our data to the format we want to then process all the queries we need: We link the movie with the proper imdbID, we get all the subtitles, change the subtitle duration to be in seconds (We assume for this that they all have the same format and after exploring the dataset we know the vast majority does)."
   ]
  },
  {
   "cell_type": "code",
   "execution_count": 10,
   "metadata": {
    "hidden": true
   },
   "outputs": [],
   "source": [
    "#has_correct_schema(df_document_example)"
   ]
  },
  {
   "cell_type": "code",
   "execution_count": 11,
   "metadata": {
    "hidden": true
   },
   "outputs": [],
   "source": [
    "def clean_df(df_document, imdb_id):\n",
    "    \"\"\"Restructures and selects the columns of a dataframe of an XML\n",
    "    file with its corresponding IMDB Id\"\"\"\n",
    "    # Create IMDb ID and subtitles column\n",
    "    df_film_sentences = df_document.withColumn(\"tconst\", psf.lit(\"tt\" + imdb_id))\\\n",
    "                                   .withColumn(\"subtitles\", udf_subtitles_array(\"s\"))\n",
    "    \n",
    "    # Select metadata and previously created columns\n",
    "    df_result = df_film_sentences.selectExpr(\"tconst\",\n",
    "                                             \"meta.conversion.sentences as num_sentences\",\n",
    "                                             \"meta.source.year\", \n",
    "                                             \"meta.subtitle.blocks\",\n",
    "                                             \"meta.subtitle.duration as subtitle_duration\",\n",
    "                                             \"meta.subtitle.language\",\n",
    "                                             \"subtitles\")\n",
    "    # Split genre column and convert subtitle duration to seconds\n",
    "    df_result = df_result.withColumn(\"subtitle_mins\", \n",
    "                                     psf.unix_timestamp(df_result.subtitle_duration, \"HH:mm:ss,SSS\") / 60)\n",
    "    # Discard redundant columns\n",
    "    df_result =  df_result.select(\"tconst\", \n",
    "                                  \"num_sentences\", \n",
    "                                  \"year\", \n",
    "                                  \"blocks\", \n",
    "                                  psf.when(psf.col(\"subtitle_mins\") > 0, psf.col(\"subtitle_mins\"))\\\n",
    "                                     .otherwise(None)\\\n",
    "                                     .alias(\"subtitle_mins\"), \n",
    "                                  \"subtitles\")\n",
    "    return df_result"
   ]
  },
  {
   "cell_type": "markdown",
   "metadata": {
    "hidden": true
   },
   "source": [
    "Applying it on the example XML file, we see how our corresponding schema is much more simple."
   ]
  },
  {
   "cell_type": "code",
   "execution_count": 12,
   "metadata": {
    "hidden": true,
    "scrolled": true
   },
   "outputs": [],
   "source": [
    "# df_document_example = clean_df(df_document_example, imdb_id)\n",
    "# df_document_example.printSchema()\n",
    "# df_document_example.show()"
   ]
  },
  {
   "cell_type": "markdown",
   "metadata": {
    "hidden": true
   },
   "source": [
    "We generalize what we have done so far. We would like to create a dataframe for several XML files, so we define a function that does this."
   ]
  },
  {
   "cell_type": "code",
   "execution_count": 13,
   "metadata": {
    "hidden": true
   },
   "outputs": [],
   "source": [
    "def load_df(path):\n",
    "    \"\"\"Load an XML subtitles file into a dataframe\"\"\"\n",
    "    df_film = sqlContext.read.format('com.databricks.spark.xml')\\\n",
    "                             .options(rowTag='document')\\\n",
    "                             .load(path)\n",
    "    return df_film"
   ]
  },
  {
   "cell_type": "markdown",
   "metadata": {
    "hidden": true
   },
   "source": [
    "The code below creates a dataframe for all the XML files in the sample dataset. We will later expand it to cover a bigger quantity of films. We call it `df_films` because it contains all the information for each film/show in our datasets."
   ]
  },
  {
   "cell_type": "code",
   "execution_count": 14,
   "metadata": {
    "hidden": true,
    "scrolled": true
   },
   "outputs": [],
   "source": [
    "#path = \"sample_dataset/\"\n",
    "# Create empty dataframe with same schema\n",
    "\n",
    "\n",
    "#df_films = spark.createDataFrame([], schema_films)\n",
    "#film_list = []\n",
    "#for year in os.listdir(path):\n",
    " #   if not year.startswith('.'):\n",
    "  #      for imdb_id in os.listdir(path + year):\n",
    "   #         if not imdb_id.startswith('.'):\n",
    "    #            current_path = path + year + \"/\" + imdb_id\n",
    "     #           for idx, file in enumerate(os.listdir(current_path)):\n",
    "      #                  # Create a dataframe for each file\n",
    "       #                 df_document = load_df(current_path + '/' + file)\n",
    "        #                if has_correct_schema(df_document):\n",
    "                            # Restructure dataframe and add it to df_films\n",
    "         #                   film_list.append(clean_df(df_document, imdb_id))\n",
    "                        \n",
    "\n",
    "#             df_m.show()\n",
    "#             print(current_path + \"/\" + file)"
   ]
  },
  {
   "cell_type": "code",
   "execution_count": 15,
   "metadata": {
    "hidden": true
   },
   "outputs": [],
   "source": [
    "def unionAll(*dfs):\n",
    "    first, rest = dfs[0], dfs[1:]  # Python 3.x, for 2.x you'll have to unpack manually\n",
    "    return first.sql_ctx.createDataFrame(\n",
    "        first.sql_ctx._sc.union([df.rdd for df in dfs]),\n",
    "        first.schema\n",
    "    )\n",
    "#df_films = unionAll(*film_list)"
   ]
  },
  {
   "cell_type": "code",
   "execution_count": 16,
   "metadata": {},
   "outputs": [],
   "source": [
    "df_films = spark.read.parquet(\"parquets/films.parquet\")"
   ]
  },
  {
   "cell_type": "markdown",
   "metadata": {},
   "source": [
    "The total films we will be focusing on then is:"
   ]
  },
  {
   "cell_type": "code",
   "execution_count": 17,
   "metadata": {},
   "outputs": [
    {
     "data": {
      "text/plain": [
       "4286"
      ]
     },
     "execution_count": 17,
     "metadata": {},
     "output_type": "execute_result"
    }
   ],
   "source": [
    "df_films.count()"
   ]
  },
  {
   "cell_type": "code",
   "execution_count": 18,
   "metadata": {
    "scrolled": true
   },
   "outputs": [
    {
     "name": "stdout",
     "output_type": "stream",
     "text": [
      "root\n",
      " |-- tconst: string (nullable = true)\n",
      " |-- num_sentences: long (nullable = true)\n",
      " |-- year: long (nullable = true)\n",
      " |-- blocks: long (nullable = true)\n",
      " |-- subtitle_mins: double (nullable = true)\n",
      " |-- subtitles: array (nullable = true)\n",
      " |    |-- element: array (containsNull = true)\n",
      " |    |    |-- element: string (containsNull = true)\n",
      "\n"
     ]
    }
   ],
   "source": [
    "df_films.printSchema()"
   ]
  },
  {
   "cell_type": "code",
   "execution_count": 19,
   "metadata": {},
   "outputs": [],
   "source": [
    "# Loading the data into a spark dataframe : \n",
    "\n",
    "PARQUET_DIR = 'parquets/'\n",
    "data = spark.read.parquet(PARQUET_DIR + 'films2.parquet')"
   ]
  },
  {
   "cell_type": "code",
   "execution_count": 20,
   "metadata": {},
   "outputs": [
    {
     "data": {
      "text/plain": [
       "['tconst', 'num_subtitles', 'year', 'blocks', 'subtitle_mins', 'subtitles']"
      ]
     },
     "execution_count": 20,
     "metadata": {},
     "output_type": "execute_result"
    }
   ],
   "source": [
    "data.columns "
   ]
  },
  {
   "cell_type": "markdown",
   "metadata": {},
   "source": [
    "From the original `.xml` the `tconst`, `num_subtitles`, `year`, `blocks`, `subtitle_mins`, `subtitles` columns were kept. "
   ]
  },
  {
   "cell_type": "markdown",
   "metadata": {},
   "source": [
    "## Exploration of the data "
   ]
  },
  {
   "cell_type": "markdown",
   "metadata": {},
   "source": [
    "At first we'll make a simple exploaration of our dataset, linking it to the IMDb one."
   ]
  },
  {
   "cell_type": "code",
   "execution_count": 21,
   "metadata": {},
   "outputs": [],
   "source": [
    "df_movies = df_basics.join(df_ratings, [\"tconst\"])\\\n",
    "                     .filter(df_basics.titleType == \"movie\")\\\n",
    "                     .filter(df_ratings.numVotes >= 5000)\n",
    "\n",
    "df_films_stats= df_films.join(df_movies,[\"tconst\"])\\\n",
    "                        .drop(\"subtitles\")\\\n",
    "                        .toPandas()"
   ]
  },
  {
   "cell_type": "code",
   "execution_count": 22,
   "metadata": {},
   "outputs": [
    {
     "name": "stdout",
     "output_type": "stream",
     "text": [
      "+---------+---------+--------------------+--------------------+-------+---------+-------+--------------+--------------------+-------------+--------+\n",
      "|   tconst|titleType|        primaryTitle|       originalTitle|isAdult|startYear|endYear|runtimeMinutes|              genres|averageRating|numVotes|\n",
      "+---------+---------+--------------------+--------------------+-------+---------+-------+--------------+--------------------+-------------+--------+\n",
      "|tt0004972|    movie|The Birth of a Na...|The Birth of a Na...|      0|     1915|     \\N|         195.0|[Drama, History, ...|          6.7|   19727|\n",
      "|tt0006864|    movie|Intolerance: Love...|Intolerance: Love...|      0|     1916|     \\N|         163.0|    [Drama, History]|          8.0|   12412|\n",
      "|tt0009968|    movie|     Broken Blossoms|Broken Blossoms o...|      0|     1919|     \\N|          90.0|    [Drama, Romance]|          7.6|    8285|\n",
      "|tt0010323|    movie|The Cabinet of Dr...|Das Cabinet des D...|      0|     1920|     \\N|          76.0|[Fantasy, Horror,...|          8.1|   48001|\n",
      "|tt0011237|    movie|           The Golem|Der Golem, wie er...|      0|     1920|     \\N|          91.0|   [Fantasy, Horror]|          7.2|    5561|\n",
      "|tt0012349|    movie|             The Kid|             The Kid|      0|     1921|     \\N|          68.0|[Comedy, Drama, F...|          8.3|   91231|\n",
      "|tt0012364|    movie|The Phantom Carriage|           Körkarlen|      0|     1921|     \\N|         100.0|[Drama, Fantasy, ...|          8.1|    8464|\n",
      "|tt0013086|    movie|Dr. Mabuse: The G...|Dr. Mabuse, der S...|      0|     1922|     \\N|         242.0|[Crime, Mystery, ...|          7.9|    6263|\n",
      "|tt0013257|    movie|               Häxan|               Häxan|      0|     1922|     \\N|          91.0|[Documentary, Fan...|          7.7|    9757|\n",
      "|tt0013427|    movie| Nanook of the North| Nanook of the North|      0|     1922|     \\N|          78.0|       [Documentary]|          7.7|    9335|\n",
      "|tt0013442|    movie|           Nosferatu|Nosferatu, eine S...|      0|     1922|     \\N|          94.0|   [Fantasy, Horror]|          8.0|   78620|\n",
      "|tt0014341|    movie|     Our Hospitality|     Our Hospitality|      0|     1923|     \\N|          65.0|[Comedy, Romance,...|          7.9|    8822|\n",
      "|tt0014429|    movie|        Safety Last!|        Safety Last!|      0|     1923|     \\N|          70.0|  [Comedy, Thriller]|          8.2|   15667|\n",
      "|tt0015064|    movie|      The Last Laugh|     Der letzte Mann|      0|     1924|     \\N|          77.0|             [Drama]|          8.1|   10730|\n",
      "|tt0015163|    movie|       The Navigator|       The Navigator|      0|     1924|     \\N|          59.0|[Action, Comedy, ...|          8.0|    7894|\n",
      "|tt0015324|    movie|        Sherlock Jr.|        Sherlock Jr.|      0|     1924|     \\N|          45.0|[Action, Comedy, ...|          8.2|   30204|\n",
      "|tt0015361|    movie|              Strike|             Stachka|      0|     1925|     \\N|          82.0|             [Drama]|          7.6|    6040|\n",
      "|tt0015624|    movie|      The Big Parade|      The Big Parade|      0|     1925|     \\N|         151.0|[Drama, Romance, ...|          8.2|    5581|\n",
      "|tt0015648|    movie| Battleship Potemkin|Bronenosets Potemkin|      0|     1925|     \\N|          75.0|    [Drama, History]|          8.0|   46778|\n",
      "|tt0015864|    movie|       The Gold Rush|       The Gold Rush|      0|     1925|     \\N|          95.0|[Adventure, Comed...|          8.2|   85761|\n",
      "+---------+---------+--------------------+--------------------+-------+---------+-------+--------------+--------------------+-------------+--------+\n",
      "only showing top 20 rows\n",
      "\n"
     ]
    }
   ],
   "source": [
    "df_movies.show()"
   ]
  },
  {
   "cell_type": "markdown",
   "metadata": {},
   "source": [
    "### What genres are present in our dataset ? "
   ]
  },
  {
   "cell_type": "markdown",
   "metadata": {},
   "source": [
    "Here is the distribution of the different appearing genres of our dataset, we need to consider aswell that a movie might can have multiple genres : __comedy__ and __drama__, for instance."
   ]
  },
  {
   "cell_type": "code",
   "execution_count": 23,
   "metadata": {},
   "outputs": [
    {
     "data": {
      "image/png": "[encoded data removed]",
      "text/plain": [
       "<matplotlib.figure.Figure at 0x1a21a79fd0>"
      ]
     },
     "metadata": {},
     "output_type": "display_data"
    }
   ],
   "source": [
    "# TODO Change style of graphe \n",
    "# Plotting genre distribution \n",
    "genres = [item for sublist in df_films_stats[\"genres\"] for item in sublist]\n",
    "ax = pd.Series(genres).groupby(genres).count().plot.barh(figsize=(10,10))"
   ]
  },
  {
   "cell_type": "markdown",
   "metadata": {},
   "source": [
    "### How is our dataset distributed through time?"
   ]
  },
  {
   "cell_type": "code",
   "execution_count": 24,
   "metadata": {},
   "outputs": [
    {
     "name": "stdout",
     "output_type": "stream",
     "text": [
      "Oldest movie in our dataset was released on: 1922\n",
      "Newest movie in our dataset was released on: 2018\n"
     ]
    },
    {
     "data": {
      "image/png": "[encoded data removed]",
      "text/plain": [
       "<matplotlib.figure.Figure at 0x1a21cac588>"
      ]
     },
     "metadata": {},
     "output_type": "display_data"
    }
   ],
   "source": [
    "# TODO Change style of graphe \n",
    "print(\"Oldest movie in our dataset was released on: {:}\".format(df_films_stats[\"year\"].min()))\n",
    "print(\"Newest movie in our dataset was released on: {:}\".format(df_films_stats[\"year\"].max()))\n",
    "ax = df_films_stats[\"year\"].plot.hist(bins=96, figsize=(10,5))"
   ]
  },
  {
   "cell_type": "markdown",
   "metadata": {},
   "source": [
    "As we can see the data is not distributed evenly through time, a lot of years are missing and more recent films appear more. It will be then difficult to take time into account as a good metric to predict the rating given the uneven distribution"
   ]
  },
  {
   "cell_type": "markdown",
   "metadata": {},
   "source": [
    "### How is the total film runtime distributed aswell?"
   ]
  },
  {
   "cell_type": "code",
   "execution_count": 25,
   "metadata": {},
   "outputs": [
    {
     "name": "stdout",
     "output_type": "stream",
     "text": [
      "Shortest movie in our dataset is: 45.0 minutes long\n",
      "Longest movie in our dataset is: 467.0 minutes long\n"
     ]
    },
    {
     "data": {
      "image/png": "[encoded data removed]",
      "text/plain": [
       "<matplotlib.figure.Figure at 0x1a219d1048>"
      ]
     },
     "metadata": {},
     "output_type": "display_data"
    }
   ],
   "source": [
    "# TODO Change style of graphe \n",
    "print(\"Shortest movie in our dataset is: {:} minutes long\".format(df_films_stats[\"runtimeMinutes\"].min()))\n",
    "print(\"Longest movie in our dataset is: {:} minutes long\".format(df_films_stats[\"runtimeMinutes\"].max()))\n",
    "\n",
    "ax = df_films_stats[\"runtimeMinutes\"].plot.hist(bins=60, figsize=(10,5))"
   ]
  },
  {
   "cell_type": "markdown",
   "metadata": {},
   "source": [
    "Apart from some outliers, our data is well centered to the runtime value of 100 minutes."
   ]
  },
  {
   "cell_type": "markdown",
   "metadata": {},
   "source": [
    "### What about the ratings?"
   ]
  },
  {
   "cell_type": "code",
   "execution_count": 26,
   "metadata": {},
   "outputs": [
    {
     "name": "stdout",
     "output_type": "stream",
     "text": [
      "Worst rated movie in our dataset has: 1.7 rating\n",
      "Best rated movie in our dataset has: 9.4 rating\n",
      "Average rating in our dataset is 6.7\n"
     ]
    },
    {
     "data": {
      "image/png": "[encoded data removed]",
      "text/plain": [
       "<matplotlib.figure.Figure at 0x1a22445128>"
      ]
     },
     "metadata": {},
     "output_type": "display_data"
    }
   ],
   "source": [
    "# TODO Change style of graphe \n",
    "print(\"Worst rated movie in our dataset has: {:.1f} rating\".format(df_films_stats[\"averageRating\"].min()))\n",
    "print(\"Best rated movie in our dataset has: {:.1f} rating\".format(df_films_stats[\"averageRating\"].max()))\n",
    "print(\"Average rating in our dataset is {:.1f}\".format(df_films_stats[\"averageRating\"].mean()))\n",
    "ax = df_films_stats[\"averageRating\"].plot.hist(bins=100, figsize=(10,5))"
   ]
  },
  {
   "cell_type": "code",
   "execution_count": 27,
   "metadata": {},
   "outputs": [
    {
     "data": {
      "text/html": [
       "<div>\n",
       "<style scoped>\n",
       "    .dataframe tbody tr th:only-of-type {\n",
       "        vertical-align: middle;\n",
       "    }\n",
       "\n",
       "    .dataframe tbody tr th {\n",
       "        vertical-align: top;\n",
       "    }\n",
       "\n",
       "    .dataframe thead th {\n",
       "        text-align: right;\n",
       "    }\n",
       "</style>\n",
       "<table border=\"1\" class=\"dataframe\">\n",
       "  <thead>\n",
       "    <tr style=\"text-align: right;\">\n",
       "      <th></th>\n",
       "      <th>tconst</th>\n",
       "      <th>num_sentences</th>\n",
       "      <th>year</th>\n",
       "      <th>blocks</th>\n",
       "      <th>subtitle_mins</th>\n",
       "      <th>titleType</th>\n",
       "      <th>primaryTitle</th>\n",
       "      <th>originalTitle</th>\n",
       "      <th>isAdult</th>\n",
       "      <th>startYear</th>\n",
       "      <th>endYear</th>\n",
       "      <th>runtimeMinutes</th>\n",
       "      <th>genres</th>\n",
       "      <th>averageRating</th>\n",
       "      <th>numVotes</th>\n",
       "    </tr>\n",
       "  </thead>\n",
       "  <tbody>\n",
       "    <tr>\n",
       "      <th>2977</th>\n",
       "      <td>tt0252487</td>\n",
       "      <td>1617</td>\n",
       "      <td>1975</td>\n",
       "      <td>675</td>\n",
       "      <td>24.450000</td>\n",
       "      <td>movie</td>\n",
       "      <td>The Chaos Class</td>\n",
       "      <td>Hababam Sinifi</td>\n",
       "      <td>0</td>\n",
       "      <td>1975</td>\n",
       "      <td>\\N</td>\n",
       "      <td>87.0</td>\n",
       "      <td>[Comedy, Drama]</td>\n",
       "      <td>9.4</td>\n",
       "      <td>32554</td>\n",
       "    </tr>\n",
       "    <tr>\n",
       "      <th>3781</th>\n",
       "      <td>tt5813916</td>\n",
       "      <td>1570</td>\n",
       "      <td>2016</td>\n",
       "      <td>1440</td>\n",
       "      <td>71.366667</td>\n",
       "      <td>movie</td>\n",
       "      <td>The Mountain II</td>\n",
       "      <td>Dag II</td>\n",
       "      <td>0</td>\n",
       "      <td>2016</td>\n",
       "      <td>\\N</td>\n",
       "      <td>135.0</td>\n",
       "      <td>[Drama, War]</td>\n",
       "      <td>9.4</td>\n",
       "      <td>98731</td>\n",
       "    </tr>\n",
       "    <tr>\n",
       "      <th>3938</th>\n",
       "      <td>tt5275892</td>\n",
       "      <td>6236</td>\n",
       "      <td>2016</td>\n",
       "      <td>1829</td>\n",
       "      <td>406.050000</td>\n",
       "      <td>movie</td>\n",
       "      <td>O.J.: Made in America</td>\n",
       "      <td>O.J.: Made in America</td>\n",
       "      <td>0</td>\n",
       "      <td>2016</td>\n",
       "      <td>\\N</td>\n",
       "      <td>467.0</td>\n",
       "      <td>[Biography, Crime, Documentary]</td>\n",
       "      <td>9.0</td>\n",
       "      <td>14176</td>\n",
       "    </tr>\n",
       "    <tr>\n",
       "      <th>1218</th>\n",
       "      <td>tt0084302</td>\n",
       "      <td>1045</td>\n",
       "      <td>1982</td>\n",
       "      <td>462</td>\n",
       "      <td>29.433333</td>\n",
       "      <td>movie</td>\n",
       "      <td>The Marathon Family</td>\n",
       "      <td>Maratonci trce pocasni krug</td>\n",
       "      <td>0</td>\n",
       "      <td>1982</td>\n",
       "      <td>\\N</td>\n",
       "      <td>92.0</td>\n",
       "      <td>[Comedy, Drama]</td>\n",
       "      <td>9.0</td>\n",
       "      <td>12553</td>\n",
       "    </tr>\n",
       "    <tr>\n",
       "      <th>1675</th>\n",
       "      <td>tt0468569</td>\n",
       "      <td>2050</td>\n",
       "      <td>2008</td>\n",
       "      <td>694</td>\n",
       "      <td>86.433333</td>\n",
       "      <td>movie</td>\n",
       "      <td>The Dark Knight</td>\n",
       "      <td>The Dark Knight</td>\n",
       "      <td>0</td>\n",
       "      <td>2008</td>\n",
       "      <td>\\N</td>\n",
       "      <td>152.0</td>\n",
       "      <td>[Action, Crime, Drama]</td>\n",
       "      <td>9.0</td>\n",
       "      <td>1986545</td>\n",
       "    </tr>\n",
       "    <tr>\n",
       "      <th>3151</th>\n",
       "      <td>tt0252488</td>\n",
       "      <td>1689</td>\n",
       "      <td>1975</td>\n",
       "      <td>1113</td>\n",
       "      <td>23.283333</td>\n",
       "      <td>movie</td>\n",
       "      <td>The Chaos Class Failed the Class</td>\n",
       "      <td>Hababam Sinifi Sinifta Kaldi</td>\n",
       "      <td>0</td>\n",
       "      <td>1976</td>\n",
       "      <td>\\N</td>\n",
       "      <td>91.0</td>\n",
       "      <td>[Comedy]</td>\n",
       "      <td>9.0</td>\n",
       "      <td>18838</td>\n",
       "    </tr>\n",
       "    <tr>\n",
       "      <th>1028</th>\n",
       "      <td>tt0060196</td>\n",
       "      <td>2071</td>\n",
       "      <td>1966</td>\n",
       "      <td>1434</td>\n",
       "      <td>282.416667</td>\n",
       "      <td>movie</td>\n",
       "      <td>The Good, the Bad and the Ugly</td>\n",
       "      <td>Il buono, il brutto, il cattivo</td>\n",
       "      <td>0</td>\n",
       "      <td>1966</td>\n",
       "      <td>\\N</td>\n",
       "      <td>161.0</td>\n",
       "      <td>[Western]</td>\n",
       "      <td>8.9</td>\n",
       "      <td>598247</td>\n",
       "    </tr>\n",
       "    <tr>\n",
       "      <th>444</th>\n",
       "      <td>tt0108052</td>\n",
       "      <td>2917</td>\n",
       "      <td>1993</td>\n",
       "      <td>1133</td>\n",
       "      <td>126.366667</td>\n",
       "      <td>movie</td>\n",
       "      <td>Schindler's List</td>\n",
       "      <td>Schindler's List</td>\n",
       "      <td>0</td>\n",
       "      <td>1993</td>\n",
       "      <td>\\N</td>\n",
       "      <td>195.0</td>\n",
       "      <td>[Biography, Drama, History]</td>\n",
       "      <td>8.9</td>\n",
       "      <td>1042076</td>\n",
       "    </tr>\n",
       "    <tr>\n",
       "      <th>1172</th>\n",
       "      <td>tt1375666</td>\n",
       "      <td>1570</td>\n",
       "      <td>2010</td>\n",
       "      <td>1190</td>\n",
       "      <td>79.416667</td>\n",
       "      <td>movie</td>\n",
       "      <td>Inception</td>\n",
       "      <td>Inception</td>\n",
       "      <td>0</td>\n",
       "      <td>2010</td>\n",
       "      <td>\\N</td>\n",
       "      <td>148.0</td>\n",
       "      <td>[Action, Adventure, Sci-Fi]</td>\n",
       "      <td>8.8</td>\n",
       "      <td>1766484</td>\n",
       "    </tr>\n",
       "    <tr>\n",
       "      <th>1967</th>\n",
       "      <td>tt0214915</td>\n",
       "      <td>1537</td>\n",
       "      <td>1993</td>\n",
       "      <td>1269</td>\n",
       "      <td>95.950000</td>\n",
       "      <td>movie</td>\n",
       "      <td>Manichithrathazhu</td>\n",
       "      <td>Manichithrathazhu</td>\n",
       "      <td>0</td>\n",
       "      <td>1993</td>\n",
       "      <td>\\N</td>\n",
       "      <td>169.0</td>\n",
       "      <td>[Comedy, Horror, Musical]</td>\n",
       "      <td>8.8</td>\n",
       "      <td>5845</td>\n",
       "    </tr>\n",
       "  </tbody>\n",
       "</table>\n",
       "</div>"
      ],
      "text/plain": [
       "         tconst  num_sentences  year  blocks  subtitle_mins titleType  \\\n",
       "2977  tt0252487           1617  1975     675      24.450000     movie   \n",
       "3781  tt5813916           1570  2016    1440      71.366667     movie   \n",
       "3938  tt5275892           6236  2016    1829     406.050000     movie   \n",
       "1218  tt0084302           1045  1982     462      29.433333     movie   \n",
       "1675  tt0468569           2050  2008     694      86.433333     movie   \n",
       "3151  tt0252488           1689  1975    1113      23.283333     movie   \n",
       "1028  tt0060196           2071  1966    1434     282.416667     movie   \n",
       "444   tt0108052           2917  1993    1133     126.366667     movie   \n",
       "1172  tt1375666           1570  2010    1190      79.416667     movie   \n",
       "1967  tt0214915           1537  1993    1269      95.950000     movie   \n",
       "\n",
       "                          primaryTitle                    originalTitle  \\\n",
       "2977                   The Chaos Class                   Hababam Sinifi   \n",
       "3781                   The Mountain II                           Dag II   \n",
       "3938             O.J.: Made in America            O.J.: Made in America   \n",
       "1218               The Marathon Family      Maratonci trce pocasni krug   \n",
       "1675                   The Dark Knight                  The Dark Knight   \n",
       "3151  The Chaos Class Failed the Class     Hababam Sinifi Sinifta Kaldi   \n",
       "1028    The Good, the Bad and the Ugly  Il buono, il brutto, il cattivo   \n",
       "444                   Schindler's List                 Schindler's List   \n",
       "1172                         Inception                        Inception   \n",
       "1967                 Manichithrathazhu                Manichithrathazhu   \n",
       "\n",
       "     isAdult startYear endYear  runtimeMinutes  \\\n",
       "2977       0      1975      \\N            87.0   \n",
       "3781       0      2016      \\N           135.0   \n",
       "3938       0      2016      \\N           467.0   \n",
       "1218       0      1982      \\N            92.0   \n",
       "1675       0      2008      \\N           152.0   \n",
       "3151       0      1976      \\N            91.0   \n",
       "1028       0      1966      \\N           161.0   \n",
       "444        0      1993      \\N           195.0   \n",
       "1172       0      2010      \\N           148.0   \n",
       "1967       0      1993      \\N           169.0   \n",
       "\n",
       "                               genres  averageRating  numVotes  \n",
       "2977                  [Comedy, Drama]            9.4     32554  \n",
       "3781                     [Drama, War]            9.4     98731  \n",
       "3938  [Biography, Crime, Documentary]            9.0     14176  \n",
       "1218                  [Comedy, Drama]            9.0     12553  \n",
       "1675           [Action, Crime, Drama]            9.0   1986545  \n",
       "3151                         [Comedy]            9.0     18838  \n",
       "1028                        [Western]            8.9    598247  \n",
       "444       [Biography, Drama, History]            8.9   1042076  \n",
       "1172      [Action, Adventure, Sci-Fi]            8.8   1766484  \n",
       "1967        [Comedy, Horror, Musical]            8.8      5845  "
      ]
     },
     "execution_count": 27,
     "metadata": {},
     "output_type": "execute_result"
    }
   ],
   "source": [
    "df_films_stats.sort_values(\"averageRating\", ascending=False).head(10)"
   ]
  },
  {
   "cell_type": "markdown",
   "metadata": {},
   "source": [
    "## Simple statistics: searching for a correlation between average IMDb rating and text features. "
   ]
  },
  {
   "cell_type": "markdown",
   "metadata": {},
   "source": [
    "To begin, some \"raw\" features are extracted from the subtitles and the meta-data that they were shipped with : \n",
    "* the total number of words relative to the movie duration. \n",
    "* the total number of sentences relative to the movie duration.\n",
    "* the mean average length of the subtitles.\n",
    "* the subtitles to movie duration ratio.\n",
    "* the number of distinct words divided by the length of the movie, the total number of words and the mean average length of the sentences."
   ]
  },
  {
   "cell_type": "code",
   "execution_count": 28,
   "metadata": {},
   "outputs": [],
   "source": [
    "def word_statistics(df_films):\n",
    "    # Explode the sentences t\n",
    "    df_words = df_films.select('*', psf.explode('subtitles').alias('words'))\n",
    "    df_words = df_words.select('*', psf.explode('words').alias('word'))\n",
    "    \n",
    "    df_word_counts = df_words.groupby(\"tconst\", \"num_sentences\",\"subtitle_mins\")\\\n",
    "                             .agg(psf.count(\"word\")\n",
    "                                     .alias(\"num_words\"), \n",
    "                                  psf.countDistinct(\"word\")\\\n",
    "                                     .alias(\"num_distinct_words\"))\\\n",
    "                             .join(df_basics, ['tconst'], 'inner')\\\n",
    "                             .withColumn(\"norm_num_words\",\n",
    "                                         psf.col(\"num_words\") / psf.col(\"runtimeMinutes\"))\\\n",
    "                             .withColumn(\"norm_num_sents\",\n",
    "                                         psf.col(\"num_sentences\") / psf.col(\"runtimeMinutes\")\n",
    "                                        )\\\n",
    "                             .withColumn(\"times_ratio\",\n",
    "                                         psf.when(psf.col(\"subtitle_mins\").isNotNull(), \n",
    "                                                  psf.col(\"subtitle_mins\") / psf.col(\"runtimeMinutes\") * 100)\n",
    "                                        )\\\n",
    "                             .withColumn(\"mean_length_sentences\",\n",
    "                                         psf.col(\"num_words\") / psf.col(\"num_sentences\")\n",
    "                                        )\\\n",
    "                             .withColumn(\"distinct_index\", \n",
    "                                         1000* psf.col(\"num_distinct_words\") /(psf.col(\"num_sentences\")*\n",
    "                                                                         psf.col(\"runtimeMinutes\")*\n",
    "                                                                         psf.col(\"num_words\")\n",
    "                                                                        )\n",
    "                                        )\\\n",
    "                             .withColumn(\"times_ratio\",\n",
    "                                         psf.when(psf.col(\"subtitle_mins\").isNotNull(), \n",
    "                                                  psf.col(\"subtitle_mins\") / psf.col(\"runtimeMinutes\") * 100))\n",
    "    \n",
    "    df_word_counts = df_word_counts.select(\"tconst\", \n",
    "                                           \"num_words\",\n",
    "                                           \"norm_num_words\",\n",
    "                                           \"num_distinct_words\",\n",
    "                                           \"distinct_index\",\n",
    "                                           \"num_sentences\",\n",
    "                                           \"norm_num_sents\",\n",
    "                                           \"mean_length_sentences\",\n",
    "                                           \"subtitle_mins\",\n",
    "                                           \"runtimeMinutes\", \n",
    "                                           \"times_ratio\", \n",
    "                                           )\n",
    "    return df_word_counts"
   ]
  },
  {
   "cell_type": "code",
   "execution_count": 29,
   "metadata": {},
   "outputs": [],
   "source": [
    "# load data  \n",
    "\n",
    "# df_films = spark.read.parquet(\"parquets/films.parquet\")"
   ]
  },
  {
   "cell_type": "code",
   "execution_count": 30,
   "metadata": {
    "scrolled": false
   },
   "outputs": [],
   "source": [
    "# Generating the df of statistics \n",
    "df_stats = word_statistics(df_films)"
   ]
  },
  {
   "cell_type": "code",
   "execution_count": 31,
   "metadata": {
    "scrolled": true
   },
   "outputs": [
    {
     "name": "stdout",
     "output_type": "stream",
     "text": [
      "root\n",
      " |-- tconst: string (nullable = true)\n",
      " |-- num_words: long (nullable = false)\n",
      " |-- norm_num_words: double (nullable = true)\n",
      " |-- num_distinct_words: long (nullable = false)\n",
      " |-- distinct_index: double (nullable = true)\n",
      " |-- num_sentences: long (nullable = true)\n",
      " |-- norm_num_sents: double (nullable = true)\n",
      " |-- mean_length_sentences: double (nullable = true)\n",
      " |-- subtitle_mins: double (nullable = true)\n",
      " |-- runtimeMinutes: double (nullable = true)\n",
      " |-- times_ratio: double (nullable = true)\n",
      "\n"
     ]
    }
   ],
   "source": [
    "df_stats.printSchema()"
   ]
  },
  {
   "cell_type": "code",
   "execution_count": 32,
   "metadata": {},
   "outputs": [],
   "source": [
    "# Saving the df of statistics \n",
    "#df_stats.write.mode(\"overwrite\").parquet(\"parquets/stats.parquet\")"
   ]
  },
  {
   "cell_type": "markdown",
   "metadata": {},
   "source": [
    "### Plots "
   ]
  },
  {
   "cell_type": "markdown",
   "metadata": {},
   "source": [
    "This section regroups the plots of the computed statistics to explore the data and look for particularities of what is considered a \"good\" movie and a \"bad\" movie. "
   ]
  },
  {
   "cell_type": "markdown",
   "metadata": {},
   "source": [
    "#### Conversion to pandas dataframe "
   ]
  },
  {
   "cell_type": "code",
   "execution_count": 33,
   "metadata": {},
   "outputs": [],
   "source": [
    "# Load from parquet \n",
    "df_words_stats = spark.read.parquet(\"parquets/stats.parquet\")"
   ]
  },
  {
   "cell_type": "code",
   "execution_count": 34,
   "metadata": {},
   "outputs": [],
   "source": [
    "# join with ratings to get average rating: \n",
    "df_words_ratings = df_words_stats.join(other=df_ratings, \n",
    "                                       on='tconst', \n",
    "                                       how='inner')\n",
    "# join with basics to get title:\n",
    "df_words_ratings = df_words_ratings.join(other=df_basics.select('tconst',\n",
    "                                           'originalTitle'), \n",
    "                                       on='tconst', \n",
    "                                       how='inner')"
   ]
  },
  {
   "cell_type": "code",
   "execution_count": 35,
   "metadata": {},
   "outputs": [
    {
     "name": "stderr",
     "output_type": "stream",
     "text": [
      "/anaconda3/lib/python3.6/site-packages/_pytest/fixtures.py:844: DeprecationWarning: The `convert` argument is deprecated in favor of `converter`.  It will be removed after 2019/01.\n",
      "  params = attr.ib(convert=attr.converters.optional(tuple))\n",
      "/anaconda3/lib/python3.6/site-packages/_pytest/fixtures.py:846: DeprecationWarning: The `convert` argument is deprecated in favor of `converter`.  It will be removed after 2019/01.\n",
      "  ids = attr.ib(default=None, convert=_ensure_immutable_ids)\n"
     ]
    },
    {
     "ename": "KeyboardInterrupt",
     "evalue": "",
     "output_type": "error",
     "traceback": [
      "\u001b[0;31m---------------------------------------------------------------------------\u001b[0m",
      "\u001b[0;31mKeyboardInterrupt\u001b[0m                         Traceback (most recent call last)",
      "\u001b[0;32m<ipython-input-35-7e004fa0f74d>\u001b[0m in \u001b[0;36m<module>\u001b[0;34m()\u001b[0m\n\u001b[0;32m----> 1\u001b[0;31m \u001b[0mdf_words_ratings_pd\u001b[0m \u001b[0;34m=\u001b[0m \u001b[0mdf_words_ratings\u001b[0m\u001b[0;34m.\u001b[0m\u001b[0mtoPandas\u001b[0m\u001b[0;34m(\u001b[0m\u001b[0;34m)\u001b[0m\u001b[0;34m\u001b[0m\u001b[0m\n\u001b[0m",
      "\u001b[0;32m/opt/spark/python/pyspark/sql/dataframe.py\u001b[0m in \u001b[0;36mtoPandas\u001b[0;34m(self)\u001b[0m\n\u001b[1;32m   1966\u001b[0m                 \u001b[0;32mraise\u001b[0m \u001b[0mRuntimeError\u001b[0m\u001b[0;34m(\u001b[0m\u001b[0;34m\"%s\\n%s\"\u001b[0m \u001b[0;34m%\u001b[0m \u001b[0;34m(\u001b[0m\u001b[0m_exception_message\u001b[0m\u001b[0;34m(\u001b[0m\u001b[0me\u001b[0m\u001b[0;34m)\u001b[0m\u001b[0;34m,\u001b[0m \u001b[0mmsg\u001b[0m\u001b[0;34m)\u001b[0m\u001b[0;34m)\u001b[0m\u001b[0;34m\u001b[0m\u001b[0m\n\u001b[1;32m   1967\u001b[0m         \u001b[0;32melse\u001b[0m\u001b[0;34m:\u001b[0m\u001b[0;34m\u001b[0m\u001b[0m\n\u001b[0;32m-> 1968\u001b[0;31m             \u001b[0mpdf\u001b[0m \u001b[0;34m=\u001b[0m \u001b[0mpd\u001b[0m\u001b[0;34m.\u001b[0m\u001b[0mDataFrame\u001b[0m\u001b[0;34m.\u001b[0m\u001b[0mfrom_records\u001b[0m\u001b[0;34m(\u001b[0m\u001b[0mself\u001b[0m\u001b[0;34m.\u001b[0m\u001b[0mcollect\u001b[0m\u001b[0;34m(\u001b[0m\u001b[0;34m)\u001b[0m\u001b[0;34m,\u001b[0m \u001b[0mcolumns\u001b[0m\u001b[0;34m=\u001b[0m\u001b[0mself\u001b[0m\u001b[0;34m.\u001b[0m\u001b[0mcolumns\u001b[0m\u001b[0;34m)\u001b[0m\u001b[0;34m\u001b[0m\u001b[0m\n\u001b[0m\u001b[1;32m   1969\u001b[0m \u001b[0;34m\u001b[0m\u001b[0m\n\u001b[1;32m   1970\u001b[0m             \u001b[0mdtype\u001b[0m \u001b[0;34m=\u001b[0m \u001b[0;34m{\u001b[0m\u001b[0;34m}\u001b[0m\u001b[0;34m\u001b[0m\u001b[0m\n",
      "\u001b[0;32m/opt/spark/python/pyspark/sql/dataframe.py\u001b[0m in \u001b[0;36mcollect\u001b[0;34m(self)\u001b[0m\n\u001b[1;32m    464\u001b[0m         \"\"\"\n\u001b[1;32m    465\u001b[0m         \u001b[0;32mwith\u001b[0m \u001b[0mSCCallSiteSync\u001b[0m\u001b[0;34m(\u001b[0m\u001b[0mself\u001b[0m\u001b[0;34m.\u001b[0m\u001b[0m_sc\u001b[0m\u001b[0;34m)\u001b[0m \u001b[0;32mas\u001b[0m \u001b[0mcss\u001b[0m\u001b[0;34m:\u001b[0m\u001b[0;34m\u001b[0m\u001b[0m\n\u001b[0;32m--> 466\u001b[0;31m             \u001b[0msock_info\u001b[0m \u001b[0;34m=\u001b[0m \u001b[0mself\u001b[0m\u001b[0;34m.\u001b[0m\u001b[0m_jdf\u001b[0m\u001b[0;34m.\u001b[0m\u001b[0mcollectToPython\u001b[0m\u001b[0;34m(\u001b[0m\u001b[0;34m)\u001b[0m\u001b[0;34m\u001b[0m\u001b[0m\n\u001b[0m\u001b[1;32m    467\u001b[0m         \u001b[0;32mreturn\u001b[0m \u001b[0mlist\u001b[0m\u001b[0;34m(\u001b[0m\u001b[0m_load_from_socket\u001b[0m\u001b[0;34m(\u001b[0m\u001b[0msock_info\u001b[0m\u001b[0;34m,\u001b[0m \u001b[0mBatchedSerializer\u001b[0m\u001b[0;34m(\u001b[0m\u001b[0mPickleSerializer\u001b[0m\u001b[0;34m(\u001b[0m\u001b[0;34m)\u001b[0m\u001b[0;34m)\u001b[0m\u001b[0;34m)\u001b[0m\u001b[0;34m)\u001b[0m\u001b[0;34m\u001b[0m\u001b[0m\n\u001b[1;32m    468\u001b[0m \u001b[0;34m\u001b[0m\u001b[0m\n",
      "\u001b[0;32m/opt/spark/python/lib/py4j-0.10.7-src.zip/py4j/java_gateway.py\u001b[0m in \u001b[0;36m__call__\u001b[0;34m(self, *args)\u001b[0m\n\u001b[1;32m   1253\u001b[0m             \u001b[0mproto\u001b[0m\u001b[0;34m.\u001b[0m\u001b[0mEND_COMMAND_PART\u001b[0m\u001b[0;34m\u001b[0m\u001b[0m\n\u001b[1;32m   1254\u001b[0m \u001b[0;34m\u001b[0m\u001b[0m\n\u001b[0;32m-> 1255\u001b[0;31m         \u001b[0manswer\u001b[0m \u001b[0;34m=\u001b[0m \u001b[0mself\u001b[0m\u001b[0;34m.\u001b[0m\u001b[0mgateway_client\u001b[0m\u001b[0;34m.\u001b[0m\u001b[0msend_command\u001b[0m\u001b[0;34m(\u001b[0m\u001b[0mcommand\u001b[0m\u001b[0;34m)\u001b[0m\u001b[0;34m\u001b[0m\u001b[0m\n\u001b[0m\u001b[1;32m   1256\u001b[0m         return_value = get_return_value(\n\u001b[1;32m   1257\u001b[0m             answer, self.gateway_client, self.target_id, self.name)\n",
      "\u001b[0;32m/opt/spark/python/lib/py4j-0.10.7-src.zip/py4j/java_gateway.py\u001b[0m in \u001b[0;36msend_command\u001b[0;34m(self, command, retry, binary)\u001b[0m\n\u001b[1;32m    983\u001b[0m         \u001b[0mconnection\u001b[0m \u001b[0;34m=\u001b[0m \u001b[0mself\u001b[0m\u001b[0;34m.\u001b[0m\u001b[0m_get_connection\u001b[0m\u001b[0;34m(\u001b[0m\u001b[0;34m)\u001b[0m\u001b[0;34m\u001b[0m\u001b[0m\n\u001b[1;32m    984\u001b[0m         \u001b[0;32mtry\u001b[0m\u001b[0;34m:\u001b[0m\u001b[0;34m\u001b[0m\u001b[0m\n\u001b[0;32m--> 985\u001b[0;31m             \u001b[0mresponse\u001b[0m \u001b[0;34m=\u001b[0m \u001b[0mconnection\u001b[0m\u001b[0;34m.\u001b[0m\u001b[0msend_command\u001b[0m\u001b[0;34m(\u001b[0m\u001b[0mcommand\u001b[0m\u001b[0;34m)\u001b[0m\u001b[0;34m\u001b[0m\u001b[0m\n\u001b[0m\u001b[1;32m    986\u001b[0m             \u001b[0;32mif\u001b[0m \u001b[0mbinary\u001b[0m\u001b[0;34m:\u001b[0m\u001b[0;34m\u001b[0m\u001b[0m\n\u001b[1;32m    987\u001b[0m                 \u001b[0;32mreturn\u001b[0m \u001b[0mresponse\u001b[0m\u001b[0;34m,\u001b[0m \u001b[0mself\u001b[0m\u001b[0;34m.\u001b[0m\u001b[0m_create_connection_guard\u001b[0m\u001b[0;34m(\u001b[0m\u001b[0mconnection\u001b[0m\u001b[0;34m)\u001b[0m\u001b[0;34m\u001b[0m\u001b[0m\n",
      "\u001b[0;32m/opt/spark/python/lib/py4j-0.10.7-src.zip/py4j/java_gateway.py\u001b[0m in \u001b[0;36msend_command\u001b[0;34m(self, command)\u001b[0m\n\u001b[1;32m   1150\u001b[0m \u001b[0;34m\u001b[0m\u001b[0m\n\u001b[1;32m   1151\u001b[0m         \u001b[0;32mtry\u001b[0m\u001b[0;34m:\u001b[0m\u001b[0;34m\u001b[0m\u001b[0m\n\u001b[0;32m-> 1152\u001b[0;31m             \u001b[0manswer\u001b[0m \u001b[0;34m=\u001b[0m \u001b[0msmart_decode\u001b[0m\u001b[0;34m(\u001b[0m\u001b[0mself\u001b[0m\u001b[0;34m.\u001b[0m\u001b[0mstream\u001b[0m\u001b[0;34m.\u001b[0m\u001b[0mreadline\u001b[0m\u001b[0;34m(\u001b[0m\u001b[0;34m)\u001b[0m\u001b[0;34m[\u001b[0m\u001b[0;34m:\u001b[0m\u001b[0;34m-\u001b[0m\u001b[0;36m1\u001b[0m\u001b[0;34m]\u001b[0m\u001b[0;34m)\u001b[0m\u001b[0;34m\u001b[0m\u001b[0m\n\u001b[0m\u001b[1;32m   1153\u001b[0m             \u001b[0mlogger\u001b[0m\u001b[0;34m.\u001b[0m\u001b[0mdebug\u001b[0m\u001b[0;34m(\u001b[0m\u001b[0;34m\"Answer received: {0}\"\u001b[0m\u001b[0;34m.\u001b[0m\u001b[0mformat\u001b[0m\u001b[0;34m(\u001b[0m\u001b[0manswer\u001b[0m\u001b[0;34m)\u001b[0m\u001b[0;34m)\u001b[0m\u001b[0;34m\u001b[0m\u001b[0m\n\u001b[1;32m   1154\u001b[0m             \u001b[0;32mif\u001b[0m \u001b[0manswer\u001b[0m\u001b[0;34m.\u001b[0m\u001b[0mstartswith\u001b[0m\u001b[0;34m(\u001b[0m\u001b[0mproto\u001b[0m\u001b[0;34m.\u001b[0m\u001b[0mRETURN_MESSAGE\u001b[0m\u001b[0;34m)\u001b[0m\u001b[0;34m:\u001b[0m\u001b[0;34m\u001b[0m\u001b[0m\n",
      "\u001b[0;32m/anaconda3/lib/python3.6/socket.py\u001b[0m in \u001b[0;36mreadinto\u001b[0;34m(self, b)\u001b[0m\n\u001b[1;32m    584\u001b[0m         \u001b[0;32mwhile\u001b[0m \u001b[0;32mTrue\u001b[0m\u001b[0;34m:\u001b[0m\u001b[0;34m\u001b[0m\u001b[0m\n\u001b[1;32m    585\u001b[0m             \u001b[0;32mtry\u001b[0m\u001b[0;34m:\u001b[0m\u001b[0;34m\u001b[0m\u001b[0m\n\u001b[0;32m--> 586\u001b[0;31m                 \u001b[0;32mreturn\u001b[0m \u001b[0mself\u001b[0m\u001b[0;34m.\u001b[0m\u001b[0m_sock\u001b[0m\u001b[0;34m.\u001b[0m\u001b[0mrecv_into\u001b[0m\u001b[0;34m(\u001b[0m\u001b[0mb\u001b[0m\u001b[0;34m)\u001b[0m\u001b[0;34m\u001b[0m\u001b[0m\n\u001b[0m\u001b[1;32m    587\u001b[0m             \u001b[0;32mexcept\u001b[0m \u001b[0mtimeout\u001b[0m\u001b[0;34m:\u001b[0m\u001b[0;34m\u001b[0m\u001b[0m\n\u001b[1;32m    588\u001b[0m                 \u001b[0mself\u001b[0m\u001b[0;34m.\u001b[0m\u001b[0m_timeout_occurred\u001b[0m \u001b[0;34m=\u001b[0m \u001b[0;32mTrue\u001b[0m\u001b[0;34m\u001b[0m\u001b[0m\n",
      "\u001b[0;31mKeyboardInterrupt\u001b[0m: "
     ]
    }
   ],
   "source": [
    "df_words_ratings_pd = df_words_ratings.toPandas()"
   ]
  },
  {
   "cell_type": "code",
   "execution_count": null,
   "metadata": {},
   "outputs": [],
   "source": [
    "df_words_ratings_pd.head()"
   ]
  },
  {
   "cell_type": "markdown",
   "metadata": {},
   "source": [
    "Using the resulting dataframe we first look at it statistics for each entry.\n",
    "Then we plot each column vs the average rating to see if we find some kind of linear dependency.\n",
    "We also plot the histograms of each metric for films we consider \"good\" and films we consider \"bad\" to see if we have different distributions for such metrics."
   ]
  },
  {
   "cell_type": "code",
   "execution_count": null,
   "metadata": {
    "scrolled": false
   },
   "outputs": [],
   "source": [
    "print(\"Means:\")\n",
    "print(df_words_ratings_pd.mean(), \"\\n\")\n",
    "print(\"Medians:\")\n",
    "print(df_words_ratings_pd.median(), \"\\n\")\n",
    "print(\"Std deviations\")\n",
    "print(df_words_ratings_pd.std())"
   ]
  },
  {
   "cell_type": "markdown",
   "metadata": {},
   "source": [
    "#### Correlations "
   ]
  },
  {
   "cell_type": "markdown",
   "metadata": {},
   "source": [
    "We compute the correlation between our"
   ]
  },
  {
   "cell_type": "code",
   "execution_count": null,
   "metadata": {},
   "outputs": [],
   "source": [
    "df_words_ratings_pd.corr()[\"averageRating\"]"
   ]
  },
  {
   "cell_type": "markdown",
   "metadata": {},
   "source": [
    "#### Plots for words "
   ]
  },
  {
   "cell_type": "code",
   "execution_count": null,
   "metadata": {},
   "outputs": [],
   "source": [
    "#TODO do something for the axis "
   ]
  },
  {
   "cell_type": "code",
   "execution_count": null,
   "metadata": {
    "scrolled": true
   },
   "outputs": [],
   "source": [
    "ax = df_words_ratings_pd.plot.scatter(\"num_words\", \"averageRating\")"
   ]
  },
  {
   "cell_type": "code",
   "execution_count": null,
   "metadata": {},
   "outputs": [],
   "source": [
    "ax = df_words_ratings_pd.plot.scatter(\"norm_num_words\", \"averageRating\")"
   ]
  },
  {
   "cell_type": "code",
   "execution_count": null,
   "metadata": {},
   "outputs": [],
   "source": [
    "df_words_ratings_pd[df_words_ratings_pd.averageRating >= 8][\"norm_num_words\"].plot.hist(bins=40)\n",
    "df_words_ratings_pd[df_words_ratings_pd.averageRating <= 5][\"norm_num_words\"].plot.hist(bins=40)\n",
    "plt.show()"
   ]
  },
  {
   "cell_type": "markdown",
   "metadata": {},
   "source": [
    "##### Comments :"
   ]
  },
  {
   "cell_type": "markdown",
   "metadata": {},
   "source": [
    "Looking at the plots reveals that there is not clear distinction in the average IMDb rating based on how many subtitles are employed in a movie.\n",
    "\n",
    "* The first plot shows that most of the film use 5'000 to 15'000 words but that does not have a significant impact on the rating.\n",
    "* The idea behind a the ratio $ \\frac{x}{\\text{Length of Movie}}$ where $x$ here is the number of words used in the movie, is simply to take into accound that movie that is longer could have in proportion the same amount of words employed. Indeed, a longer movie is not necessarly more verbose, it could only have more words used in it because it is longer. \n",
    "* The second plot does not provide much more information than the first and actually shows data more evenly distributed. \n",
    "* Finally, to see if there is a clear distinction between what is considered a \"good\" (= average ratinge >= 8) and a \"bad\" movie (= average ratinge <= 5) we plot an histogram for both types. Again no partiucaler behaviour is noted.    "
   ]
  },
  {
   "cell_type": "markdown",
   "metadata": {},
   "source": [
    "#### Plots for distinct words : "
   ]
  },
  {
   "cell_type": "markdown",
   "metadata": {},
   "source": [
    "He iterate the previous analysis but this time looking at the distinct words. What is expected is that movies that use a larger vocabulary could have been written more caustiously, leading to better scenario and hence a better movie. "
   ]
  },
  {
   "cell_type": "code",
   "execution_count": null,
   "metadata": {
    "scrolled": false
   },
   "outputs": [],
   "source": [
    "ax = df_words_ratings_pd.plot.scatter(\"num_distinct_words\", \"averageRating\")"
   ]
  },
  {
   "cell_type": "markdown",
   "metadata": {},
   "source": [
    "Again, no general trend can be seen. To bring all movies on equal footing reagrding the number of distinct words used in their subtitles, the number of distinct words is divided by : \n",
    "* the length of the movie\n",
    "* the number of words used \n",
    "* the number of sentences \n",
    "and multiplied by 1000 to have larger numbers. \n",
    "The intuition is that any this three parameters could influence the distinct number of words used : \n",
    "* longer movies provide more chances to use different words\n",
    "* the more words used, the more diversed they can be\n",
    "* more sentences provide more occasions to employ a larger vocabulary"
   ]
  },
  {
   "cell_type": "code",
   "execution_count": null,
   "metadata": {
    "scrolled": true
   },
   "outputs": [],
   "source": [
    "ax = df_words_ratings_pd.plot.scatter(\"distinct_index\", \"averageRating\");\n",
    "ax.set_xlim([-0.001,2]);"
   ]
  },
  {
   "cell_type": "code",
   "execution_count": null,
   "metadata": {},
   "outputs": [],
   "source": [
    "df_words_ratings_pd['distinct_index'].describe()"
   ]
  },
  {
   "cell_type": "markdown",
   "metadata": {},
   "source": [
    "By looking at the plote `distinct_index` vs `averageRating` and statistic description, we see that most of the movies is agglutinated to a single value as shown by the mean and the quartiles. "
   ]
  },
  {
   "cell_type": "code",
   "execution_count": null,
   "metadata": {},
   "outputs": [],
   "source": [
    "#TODO do something to visualize both \n",
    "df_words_ratings_pd[df_words_ratings_pd.averageRating >= 8][\"num_distinct_words\"].plot.hist(bins=40);\n",
    "df_words_ratings_pd[df_words_ratings_pd.averageRating <= 5][\"num_distinct_words\"].plot.hist(bins=40);\n",
    "\n"
   ]
  },
  {
   "cell_type": "markdown",
   "metadata": {},
   "source": [
    "##### Comments :"
   ]
  },
  {
   "cell_type": "markdown",
   "metadata": {},
   "source": [
    "Again "
   ]
  },
  {
   "cell_type": "markdown",
   "metadata": {
    "heading_collapsed": true
   },
   "source": [
    "#### Plots for the number of  sentences"
   ]
  },
  {
   "cell_type": "code",
   "execution_count": null,
   "metadata": {
    "hidden": true,
    "scrolled": true
   },
   "outputs": [],
   "source": [
    "ax = df_words_ratings_pd.plot.scatter(\"num_sentences\", \"averageRating\")"
   ]
  },
  {
   "cell_type": "code",
   "execution_count": null,
   "metadata": {
    "hidden": true
   },
   "outputs": [],
   "source": [
    "ax = df_words_ratings_pd.plot.scatter(\"norm_num_sents\", \"averageRating\")"
   ]
  },
  {
   "cell_type": "code",
   "execution_count": null,
   "metadata": {
    "hidden": true,
    "scrolled": false
   },
   "outputs": [],
   "source": [
    "# TODO do somtehing to visualize both \n",
    "df_words_ratings_pd[df_words_ratings_pd.averageRating >= 8][\"norm_num_sents\"].plot.hist(bins=40);\n",
    "df_words_ratings_pd[df_words_ratings_pd.averageRating <= 5][\"norm_num_sents\"].plot.hist(bins=40);\n"
   ]
  },
  {
   "cell_type": "markdown",
   "metadata": {
    "heading_collapsed": true
   },
   "source": [
    "#### Plots for the mean length of sentences"
   ]
  },
  {
   "cell_type": "code",
   "execution_count": null,
   "metadata": {
    "hidden": true
   },
   "outputs": [],
   "source": [
    "#TODO described how mean length of sentences is computed "
   ]
  },
  {
   "cell_type": "code",
   "execution_count": null,
   "metadata": {
    "hidden": true,
    "scrolled": true
   },
   "outputs": [],
   "source": [
    "ax = df_words_ratings_pd.plot.scatter(\"mean_length_sentences\", \"averageRating\")"
   ]
  },
  {
   "cell_type": "code",
   "execution_count": null,
   "metadata": {
    "hidden": true
   },
   "outputs": [],
   "source": [
    "df_words_ratings_pd[df_words_ratings_pd.averageRating >= 8][\"mean_length_sentences\"].plot.hist(bins=40);\n",
    "df_words_ratings_pd[df_words_ratings_pd.averageRating <= 5][\"mean_length_sentences\"].plot.hist(bins=40);"
   ]
  },
  {
   "cell_type": "markdown",
   "metadata": {
    "heading_collapsed": true
   },
   "source": [
    "#### Plots for durations "
   ]
  },
  {
   "cell_type": "code",
   "execution_count": null,
   "metadata": {
    "hidden": true,
    "scrolled": true
   },
   "outputs": [],
   "source": [
    "ax = df_words_ratings_pd.plot.scatter(\"subtitle_mins\", \"averageRating\")"
   ]
  },
  {
   "cell_type": "code",
   "execution_count": null,
   "metadata": {
    "hidden": true,
    "scrolled": true
   },
   "outputs": [],
   "source": [
    "ax = df_words_ratings_pd.plot.scatter(\"runtimeMinutes\", \"averageRating\")"
   ]
  },
  {
   "cell_type": "code",
   "execution_count": null,
   "metadata": {
    "hidden": true
   },
   "outputs": [],
   "source": [
    "ax = df_words_ratings_pd.plot.scatter( \"times_ratio\", \"averageRating\")"
   ]
  },
  {
   "cell_type": "markdown",
   "metadata": {},
   "source": [
    "#### to be classified "
   ]
  },
  {
   "cell_type": "code",
   "execution_count": null,
   "metadata": {},
   "outputs": [],
   "source": [
    "df_words_ratings_pd[df_words_ratings_pd.averageRating >= 8][\"mean_length_sentences\"].plot.hist(bins=40);\n",
    "df_words_ratings_pd[df_words_ratings_pd.averageRating <= 5][\"mean_length_sentences\"].plot.hist(bins=40);"
   ]
  },
  {
   "cell_type": "code",
   "execution_count": null,
   "metadata": {},
   "outputs": [],
   "source": [
    "# TODO : what to do with this \n",
    "df_words_ratings_pd[df_words_ratings_pd.averageRating >= 8][\"num_distinct_words\"].plot.hist(bins=40);\n",
    "df_words_ratings_pd[df_words_ratings_pd.averageRating <= 5][\"num_distinct_words\"].plot.hist(bins=40);\n",
    "df_words_ratings_pd.iloc[df_words_ratings_pd[\"num_distinct_words\"].idxmax()]"
   ]
  },
  {
   "cell_type": "markdown",
   "metadata": {},
   "source": [
    "### WORD ANALYSIS"
   ]
  },
  {
   "cell_type": "code",
   "execution_count": null,
   "metadata": {},
   "outputs": [],
   "source": [
    "df_all = spark.read.parquet(\"parquets/words/allwords.parquet/\")\n",
    "df_film_words = spark.read.parquet(\"parquets/words/filmwords.parquet/\")\n",
    "df_all.sort(\"count\", ascending=False).show()\n",
    "df_film_words.sort(\"count\", ascending=False).show()\n"
   ]
  },
  {
   "cell_type": "code",
   "execution_count": null,
   "metadata": {},
   "outputs": [],
   "source": [
    "nlp = spacy.load('en')\n",
    "spacy_stopwords = set(spacy.lang.en.stop_words.STOP_WORDS)\n",
    "df_film_words_filtered = df_film_words.filter(~psf.lower(df_film_words.word).isin(spacy_stopwords)).sort(\"count\", ascending=False)\n",
    "df_all_filtered =df_all.filter(~psf.lower(df_all.word).isin(spacy_stopwords)).sort(\"count\", ascending=False)"
   ]
  },
  {
   "cell_type": "markdown",
   "metadata": {},
   "source": [
    "Here we calculate the average word length of each word considering only non-stop words"
   ]
  },
  {
   "cell_type": "code",
   "execution_count": null,
   "metadata": {},
   "outputs": [],
   "source": [
    "df_aux_word = df_film_words_filtered.selectExpr(\"tconst\", \"length(word) * count as product\", \"count\").groupBy(\"tconst\")\n",
    "df_word_length= df_aux_word.agg({\"count\": \"sum\", \"product\": \"sum\"})\n",
    "df_word_length = df_word_length.withColumn(\"av_word_length\", df_word_length[\"sum(product)\"]/ df_word_length[\"sum(count)\"])\\\n",
    "                                .select(\"tconst\", \"av_word_length\")\n",
    "df_word_length.show()"
   ]
  },
  {
   "cell_type": "code",
   "execution_count": null,
   "metadata": {},
   "outputs": [],
   "source": [
    "df_word_length_pd = df_word_length.join(df_ratings, [\"tconst\"]).toPandas()"
   ]
  },
  {
   "cell_type": "code",
   "execution_count": null,
   "metadata": {},
   "outputs": [],
   "source": [
    "ax = df_word_length_pd.plot.scatter(\"av_word_length\", \"averageRating\")\n",
    "df_word_length_pd.iloc[df_word_length_pd[\"av_word_length\"].idxmax()]\n",
    "plt.xlim(3,7)\n",
    "df_word_length_pd[\"av_word_length\"].corr(df_word_length_pd[\"averageRating\"])"
   ]
  },
  {
   "cell_type": "markdown",
   "metadata": {},
   "source": [
    "# Trying to predict the IMDb average rating:"
   ]
  },
  {
   "cell_type": "markdown",
   "metadata": {},
   "source": [
    "Even though we don't see a big dependency between the statistics found and the movie rating, we'll try to do a regression model based on them to see its accuracy, how well it predicts the rating. We don't expect a good result from the exploration performed before."
   ]
  },
  {
   "cell_type": "code",
   "execution_count": null,
   "metadata": {},
   "outputs": [],
   "source": [
    "feature_columns = df_words_ratings_pd.columns[1:-2].drop(\"averageRating\")\n",
    "X = df_words_ratings_pd[feature_columns]\n",
    "normal_X = (X- X.mean()) /X.std()\n",
    "normal_X = normal_X.fillna(0)\n",
    "y = df_words_ratings_pd[\"averageRating\"]"
   ]
  },
  {
   "cell_type": "code",
   "execution_count": null,
   "metadata": {
    "scrolled": true
   },
   "outputs": [],
   "source": [
    "regression = LinearRegression()\n",
    "predicted = cross_val_predict(regression, normal_X, y, cv=5)"
   ]
  },
  {
   "cell_type": "code",
   "execution_count": null,
   "metadata": {
    "scrolled": false
   },
   "outputs": [],
   "source": [
    "fig, ax = plt.subplots(figsize=(12, 8))\n",
    "ax.scatter(y, predicted, edgecolors=(0, 0, 0))\n",
    "ax.plot([min(y), max(y)], [min(y), max(y)], 'r--', lw=4)\n",
    "ax.set_xlabel('Original')\n",
    "ax.set_ylabel('Predicted')\n",
    "plt.show()"
   ]
  },
  {
   "cell_type": "markdown",
   "metadata": {},
   "source": [
    "As we can see and expected... no real causation, if we arbitrarily consider a good film one with more than 8 as rating, lets try and see if a logistic regression performs better. We don't expect the model to perform any better."
   ]
  },
  {
   "cell_type": "code",
   "execution_count": null,
   "metadata": {},
   "outputs": [],
   "source": [
    "y = y.map(lambda x: 1 if x>= 8 else 0)"
   ]
  },
  {
   "cell_type": "code",
   "execution_count": null,
   "metadata": {},
   "outputs": [],
   "source": [
    "regression = LogisticRegression(solver='lbfgs')\n",
    "precision = cross_val_score(regression, normal_X, y, cv=10, scoring=\"precision\")\n",
    "recall = cross_val_score(regression, normal_X, y, cv=10, scoring=\"recall\")\n",
    "\n",
    "# Precision: avoid false positives\n",
    "print(\"Precision: %0.2f (+/- %0.2f)\" % (precision.mean(), precision.std() * 2))\n",
    "# Recall: avoid false negatives\n",
    "print(\"Recall: %0.2f (+/- %0.2f)\" % (recall.mean(), recall.std() * 2))"
   ]
  },
  {
   "cell_type": "markdown",
   "metadata": {},
   "source": [
    "Again we can see, the results are what we expected, no accurate prediction can be given from the given statistics"
   ]
  },
  {
   "cell_type": "markdown",
   "metadata": {},
   "source": [
    "These plots show us little relation between the found metrics and the actual film rating, the only thing we could state is that films with more text tend to be better rated. We now look at the different genres.\n"
   ]
  },
  {
   "cell_type": "markdown",
   "metadata": {
    "heading_collapsed": true
   },
   "source": [
    "## Genre Exploration"
   ]
  },
  {
   "cell_type": "markdown",
   "metadata": {
    "hidden": true
   },
   "source": [
    "Here we find the average rating for the 10 most represented genres."
   ]
  },
  {
   "cell_type": "code",
   "execution_count": null,
   "metadata": {
    "hidden": true
   },
   "outputs": [],
   "source": [
    "df_genres = df_films.drop(\"subtitles\").join(df_basics.select(\"tconst\", \"genres\", \"primaryTitle\", \"runtimeMinutes\"), [\"tconst\"])\n",
    "df_genres= df_genres.join(df_ratings, [\"tconst\"])\n",
    "         "
   ]
  },
  {
   "cell_type": "code",
   "execution_count": null,
   "metadata": {
    "hidden": true
   },
   "outputs": [],
   "source": [
    "df_genres_avRating = df_genres.select('*', psf.explode('genres').alias('genre')).groupBy(\"genre\").agg({\"averageRating\": \"mean\", \"*\": \"count\"})\n",
    "df_genres_rating_pd = df_genres_avRating.sort(\"count(1)\", ascending=False).limit(10).toPandas()"
   ]
  },
  {
   "cell_type": "markdown",
   "metadata": {
    "hidden": true
   },
   "source": [
    "We can see that there are no very big differences between genres apparently, though we can see that a Drama movie is more likely to have a good rating than a horror movie. From these statistics we could assume that the genre has somehow an influence in the film's average rating.\n"
   ]
  },
  {
   "cell_type": "code",
   "execution_count": null,
   "metadata": {
    "hidden": true
   },
   "outputs": [],
   "source": [
    "df_genres_rating_pd.sort_values(\"avg(averageRating)\", ascending=False).plot.bar(y=\"avg(averageRating)\", x=\"genre\")\n",
    "plt.ylim(5.5, 7.5)\n",
    "plt.show()"
   ]
  },
  {
   "cell_type": "markdown",
   "metadata": {
    "heading_collapsed": true
   },
   "source": [
    "## Time Exploration"
   ]
  },
  {
   "cell_type": "markdown",
   "metadata": {
    "hidden": true
   },
   "source": [
    "We categorize our films into 3 time periods"
   ]
  },
  {
   "cell_type": "code",
   "execution_count": null,
   "metadata": {
    "hidden": true
   },
   "outputs": [],
   "source": [
    "def add_time_period(year):\n",
    "    if year < 1910 or year > 2018:\n",
    "        return \"NaN\"\n",
    "    elif year < 1960:\n",
    "        return \"1910-1950's\"\n",
    "    elif year < 2000:\n",
    "        return \"1960-1990's\"\n",
    "    else:\n",
    "        return \"2000's\"\n",
    "udf_period = psf.udf(add_time_period, StringType())    \n"
   ]
  },
  {
   "cell_type": "code",
   "execution_count": null,
   "metadata": {
    "hidden": true
   },
   "outputs": [],
   "source": [
    "df_words_ratings_periods = df_words_ratings.join(df_films.select(\"year\", \"tconst\"), [\"tconst\"]).withColumn(\"period\", udf_period(\"year\"))\n",
    "df_words_ratings_periods.groupBy(\"period\").count().show()"
   ]
  },
  {
   "cell_type": "markdown",
   "metadata": {
    "hidden": true
   },
   "source": [
    "Not very balanced"
   ]
  },
  {
   "cell_type": "code",
   "execution_count": null,
   "metadata": {
    "hidden": true,
    "scrolled": true
   },
   "outputs": [],
   "source": [
    "df_words_ratings_periods.groupBy(\"period\").agg({\"averageRating\": \"mean\"}).show()"
   ]
  },
  {
   "cell_type": "markdown",
   "metadata": {
    "hidden": true
   },
   "source": [
    "Are films getting worse? Can't be sure as the amount of films is not big enough but from our data it would seem so"
   ]
  },
  {
   "cell_type": "markdown",
   "metadata": {
    "hidden": true
   },
   "source": [
    "Check distributions for each time period"
   ]
  },
  {
   "cell_type": "code",
   "execution_count": null,
   "metadata": {
    "hidden": true
   },
   "outputs": [],
   "source": [
    "df_periods_stats = df_words_ratings_periods.join(df_genres.select(\"tconst\", psf.explode('genres').alias('genre')), [\"tconst\"])\\\n",
    "                        .groupBy(\"period\", \"genre\").agg({\"averageRating\": \"mean\", \"*\": \"count\"})\n",
    "df_periods_stats_pd = df_periods_stats.toPandas()"
   ]
  },
  {
   "cell_type": "code",
   "execution_count": null,
   "metadata": {
    "hidden": true
   },
   "outputs": [],
   "source": [
    "df_genres = df_films.drop(\"subtitles\").join(df_basics.select(\"tconst\", \"genres\", \"primaryTitle\", \"runtimeMinutes\"), [\"tconst\"])\n",
    "df_genres= df_genres.join(df_ratings, [\"tconst\"])\n",
    "         "
   ]
  },
  {
   "cell_type": "markdown",
   "metadata": {
    "hidden": true
   },
   "source": [
    "#### Subtitles to String and time period separation functions"
   ]
  },
  {
   "cell_type": "code",
   "execution_count": null,
   "metadata": {
    "hidden": true
   },
   "outputs": [],
   "source": [
    "df_periods_stats_pd[df_periods_stats_pd[\"count(1)\"] > 100].sort_values(\"avg(averageRating)\", ascending=False)"
   ]
  },
  {
   "cell_type": "markdown",
   "metadata": {},
   "source": [
    "## Text analysis"
   ]
  },
  {
   "cell_type": "markdown",
   "metadata": {},
   "source": [
    "As we can see, maybe using genre and the time period as parameter for a regression might result in better predictions, but it is clearly not good enough. We need to go deeper, look at the content of the actual text. We'll implement a sentiment analysis on some of the best films and some of the worst films and see if we can find some kind of dependency."
   ]
  },
  {
   "cell_type": "code",
   "execution_count": null,
   "metadata": {},
   "outputs": [],
   "source": [
    "df_films_strings = spark.read.parquet(\"parquets/filmtext.parquet/\")"
   ]
  },
  {
   "cell_type": "markdown",
   "metadata": {},
   "source": [
    "### SENTIMENT ANALYSIS. \n",
    "\n",
    "For the sentiment analysis we take as metrics the average positive and negative sentiment of the film which we define as the total positive (negative) score of each sentence, divided by the total number of sentences. As these are fairly heavy computations we will look at only the best and worst to start. (the 50 best and the 50 worst)"
   ]
  },
  {
   "cell_type": "code",
   "execution_count": null,
   "metadata": {},
   "outputs": [],
   "source": [
    "df_strings = df_films_strings.join(df_ratings, [\"tconst\"]).toPandas()"
   ]
  },
  {
   "cell_type": "code",
   "execution_count": null,
   "metadata": {},
   "outputs": [],
   "source": [
    "analyzer = SentimentIntensityAnalyzer()\n",
    "def av_sentiments_film(text):\n",
    "    document = nlp(text)\n",
    "    positive_sent = 0\n",
    "    negative_sent = 0\n",
    "    sents = document.sents\n",
    "    count = 0\n",
    "    for sent in sents:\n",
    "        positive_sent += analyzer.polarity_scores(sent.text)['pos']\n",
    "        negative_sent += analyzer.polarity_scores(sent.text)['neg']\n",
    "        count += 1\n",
    "    return (positive_sent/count, negative_sent/count)\n"
   ]
  },
  {
   "cell_type": "code",
   "execution_count": null,
   "metadata": {},
   "outputs": [],
   "source": [
    "#TODO CHoose number of subtitles,\n",
    "df_strings_best = df_strings.sort_values(\"averageRating\", ascending=False).head(100)\n",
    "df_strings_worst = df_strings.sort_values(\"averageRating\", ascending=True).head(100)\n",
    "df_strings_best[\"av_sentiment\"] = df_strings_best[\"text\"].apply(av_sentiments_film)\n",
    "df_strings_worst[\"av_sentiment\"] = df_strings_worst[\"text\"].apply(av_sentiments_film)\n"
   ]
  },
  {
   "cell_type": "code",
   "execution_count": null,
   "metadata": {},
   "outputs": [],
   "source": [
    "df_strings_best[['positive', 'negative']] = df_strings_best['av_sentiment'].apply(pd.Series)\n",
    "df_strings_worst[['positive', 'negative']] = df_strings_worst['av_sentiment'].apply(pd.Series)"
   ]
  },
  {
   "cell_type": "code",
   "execution_count": null,
   "metadata": {},
   "outputs": [],
   "source": [
    "print(\"The median positive sentiment of best and worst films is\")\n",
    "print(df_strings_best[\"positive\"].median())\n",
    "print(df_strings_worst[\"positive\"].median())"
   ]
  },
  {
   "cell_type": "code",
   "execution_count": null,
   "metadata": {
    "scrolled": true
   },
   "outputs": [],
   "source": [
    "ax = df_strings_best.plot.scatter(\"positive\", \"averageRating\")"
   ]
  },
  {
   "cell_type": "code",
   "execution_count": null,
   "metadata": {
    "scrolled": true
   },
   "outputs": [],
   "source": [
    "ax = df_strings_worst.plot.scatter(\"positive\", \"averageRating\")"
   ]
  },
  {
   "cell_type": "code",
   "execution_count": null,
   "metadata": {},
   "outputs": [],
   "source": [
    "df_strings_best[\"positive\"].plot.hist(alpha=0.8, label=\"best films\")\n",
    "df_strings_worst[\"positive\"].plot.hist(alpha=0.4, label=\"worst films\")\n",
    "plt.legend(loc='upper right')\n",
    "plt.show()"
   ]
  },
  {
   "cell_type": "code",
   "execution_count": null,
   "metadata": {
    "scrolled": true
   },
   "outputs": [],
   "source": [
    "ax =df_strings_best.plot.scatter(\"negative\", \"averageRating\")"
   ]
  },
  {
   "cell_type": "code",
   "execution_count": null,
   "metadata": {},
   "outputs": [],
   "source": [
    "ax = df_strings_worst.plot.scatter(\"negative\", \"averageRating\")"
   ]
  },
  {
   "cell_type": "code",
   "execution_count": null,
   "metadata": {},
   "outputs": [],
   "source": [
    "df_strings_best[\"negative\"].plot.hist(alpha=0.8, label=\"best films\")\n",
    "df_strings_worst[\"negative\"].plot.hist(alpha=0.4, label=\"worst films\")\n",
    "plt.legend(loc='upper right')\n",
    "plt.show()"
   ]
  },
  {
   "cell_type": "code",
   "execution_count": null,
   "metadata": {},
   "outputs": [],
   "source": [
    "print(\"Median negative sentiment of best and worst films is\")\n",
    "print(df_strings_best[\"negative\"].median())\n",
    "print(df_strings_worst[\"negative\"].median())"
   ]
  },
  {
   "cell_type": "markdown",
   "metadata": {},
   "source": [
    "This plots dont seem to give us any relation between rating and average positive or negative sentiment of a film. We dont consider a larger data set as we can see no major relation. Only things we can conclude is that films in general have more of a positive sentiment than a negative sentiment, that good films tend to be a tiny bit less positive and less negative."
   ]
  }
 ],
 "metadata": {
  "kernelspec": {
   "display_name": "Python 3",
   "language": "python",
   "name": "python3"
  },
  "language_info": {
   "codemirror_mode": {
    "name": "ipython",
    "version": 3
   },
   "file_extension": ".py",
   "mimetype": "text/x-python",
   "name": "python",
   "nbconvert_exporter": "python",
   "pygments_lexer": "ipython3",
   "version": "3.6.6"
  },
  "varInspector": {
   "cols": {
    "lenName": 16,
    "lenType": 16,
    "lenVar": 40
   },
   "kernels_config": {
    "python": {
     "delete_cmd_postfix": "",
     "delete_cmd_prefix": "del ",
     "library": "var_list.py",
     "varRefreshCmd": "print(var_dic_list())"
    },
    "r": {
     "delete_cmd_postfix": ") ",
     "delete_cmd_prefix": "rm(",
     "library": "var_list.r",
     "varRefreshCmd": "cat(var_dic_list()) "
    }
   },
   "types_to_exclude": [
    "module",
    "function",
    "builtin_function_or_method",
    "instance",
    "_Feature"
   ],
   "window_display": false
  }
 },
 "nbformat": 4,
 "nbformat_minor": 2
}
