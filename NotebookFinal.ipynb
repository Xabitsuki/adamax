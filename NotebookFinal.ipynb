{
 "cells": [
  {
   "cell_type": "markdown",
   "metadata": {},
   "source": [
    "# A Movie behind a Script\n"
   ]
  },
  {
   "cell_type": "code",
   "execution_count": 1,
   "metadata": {},
   "outputs": [
    {
     "name": "stderr",
     "output_type": "stream",
     "text": [
      "C:\\Users\\Martin\\Anaconda3\\lib\\site-packages\\gensim\\utils.py:1197: UserWarning: detected Windows; aliasing chunkize to chunkize_serial\n",
      "  warnings.warn(\"detected Windows; aliasing chunkize to chunkize_serial\")\n"
     ]
    }
   ],
   "source": [
    "import os\n",
    "import re\n",
    "import pandas as pd\n",
    "import numpy as np\n",
    "import matplotlib\n",
    "import matplotlib.pyplot as plt\n",
    "%matplotlib inline \n",
    "\n",
    "import findspark\n",
    "findspark.init()\n",
    "\n",
    "from pyspark.sql import *\n",
    "from pyspark.sql.types import *\n",
    "import pyspark.sql.functions as psf\n",
    "from pyspark.sql.utils import AnalysisException\n",
    "\n",
    "from sacremoses import MosesDetokenizer\n",
    "\n",
    "#NLP libraries\n",
    "import spacy, nltk, gensim, sklearn\n",
    "import pyLDAvis.gensim\n",
    "\n",
    "#Gensim\n",
    "from gensim.models.phrases import Phrases\n",
    "from gensim.corpora import Dictionary\n",
    "from gensim.models import LdaMulticore\n",
    "\n",
    "#Vader\n",
    "import vaderSentiment\n",
    "from vaderSentiment.vaderSentiment import SentimentIntensityAnalyzer\n",
    "\n",
    "from sklearn.linear_model import LinearRegression, LogisticRegression\n",
    "from sklearn.preprocessing import OneHotEncoder\n",
    "from pandas.plotting import scatter_matrix\n",
    "from sklearn.model_selection import cross_val_predict\n",
    "from sklearn.model_selection import cross_val_score"
   ]
  },
  {
   "cell_type": "code",
   "execution_count": 2,
   "metadata": {},
   "outputs": [],
   "source": [
    "spark = SparkSession.builder.getOrCreate()\n",
    "#spark.conf.set('spark.sql.session.timeZone', 'UTC')\n",
    "sc = spark.sparkContext\n",
    "sqlContext = SQLContext(sc)"
   ]
  },
  {
   "cell_type": "markdown",
   "metadata": {},
   "source": [
    "# Overview of datasets\n",
    "\n",
    "The OpenSubtitles dataset is a compressed cluster of folders containing XML files. Each XML file is split into a script portion with the subtitles of the movie and a metadata portion with additional information about the movie or show. The name of the second-parent folder of the XML file is the corresponding IMDb identifier of the movie or show, thus allowing us to extract additional information from the IMDb dataset."
   ]
  },
  {
   "cell_type": "markdown",
   "metadata": {
    "heading_collapsed": true
   },
   "source": [
    "## IMDb Dataset"
   ]
  },
  {
   "cell_type": "markdown",
   "metadata": {
    "hidden": true
   },
   "source": [
    "We use the IMDb basics dataset, which provides us with a title's main information, and the ratings datasets, which provides us the IMDb rating and votes information for each title."
   ]
  },
  {
   "cell_type": "code",
   "execution_count": 3,
   "metadata": {
    "hidden": true,
    "scrolled": true
   },
   "outputs": [
    {
     "name": "stdout",
     "output_type": "stream",
     "text": [
      "root\n",
      " |-- tconst: string (nullable = true)\n",
      " |-- titleType: string (nullable = true)\n",
      " |-- primaryTitle: string (nullable = true)\n",
      " |-- originalTitle: string (nullable = true)\n",
      " |-- isAdult: string (nullable = true)\n",
      " |-- startYear: string (nullable = true)\n",
      " |-- endYear: string (nullable = true)\n",
      " |-- runtimeMinutes: double (nullable = true)\n",
      " |-- genres: array (nullable = true)\n",
      " |    |-- element: string (containsNull = true)\n",
      "\n"
     ]
    }
   ],
   "source": [
    "df_basics = spark.read.parquet(\"parquets/basics.parquet\")\n",
    "df_basics.printSchema()"
   ]
  },
  {
   "cell_type": "code",
   "execution_count": 4,
   "metadata": {
    "hidden": true
   },
   "outputs": [
    {
     "name": "stdout",
     "output_type": "stream",
     "text": [
      "root\n",
      " |-- tconst: string (nullable = true)\n",
      " |-- averageRating: float (nullable = true)\n",
      " |-- numVotes: integer (nullable = true)\n",
      "\n"
     ]
    }
   ],
   "source": [
    "df_ratings = spark.read.parquet(\"parquets/ratings.parquet\")\n",
    "df_ratings.printSchema()"
   ]
  },
  {
   "cell_type": "markdown",
   "metadata": {
    "heading_collapsed": true
   },
   "source": [
    "## OpenSubtitles dataset"
   ]
  },
  {
   "cell_type": "markdown",
   "metadata": {
    "hidden": true
   },
   "source": [
    "The dataset consists of 31 GB of XML files distributed in the following file structure: \n",
    "\n",
    "```\n",
    "├── opensubtitle\n",
    "│   ├── OpenSubtitles2018\n",
    "│   │   ├── Year\n",
    "│   │   │   ├── Id\n",
    "│   │   │   │   ├── #######.xml.gz\n",
    "│   │   │   │   ├── #######.xml.gz\n",
    "│   ├── en.tar.gz\n",
    "│   ├── fr.tar.gz\n",
    "│   ├── zh_cn.tar.gz\n",
    "```\n",
    "where\n",
    "- `######` is a 6-digit unique identifier of the file on the OpenSubtitles dataset.\n",
    "- `Year` is the year the movie or episode was made.\n",
    "- `Id` is a 5 to 7 digit identifier (if it's 7-digit it's also an IMDb identifier).\n",
    "\n",
    "The subtitles are provided in different languages. We only analyze the `OpenSubtitles2018` folder and it's the only folder we detail.\n",
    "\n",
    "The decompressed XML files vary in size, ranging from 5KB to 9000KB sized files.\n",
    "\n",
    "Each XML file is split into a `document` and `metadata` section."
   ]
  },
  {
   "cell_type": "markdown",
   "metadata": {
    "hidden": true
   },
   "source": [
    "### Document\n",
    "\n",
    "The `document` section contains all the **subtitles** and its general structure is the following:\n",
    "\n",
    "```\n",
    "├── s\n",
    "│   ├── time: Integer\n",
    "│   ├── w: String\n",
    "```\n",
    "\n",
    "An example snippet of an XML file:\n",
    "\n",
    "```xml\n",
    "  <s id=\"1\">\n",
    "    <time id=\"T1S\" value=\"00:00:51,819\" />\n",
    "    <w id=\"1.1\">Travis</w>\n",
    "    <w id=\"1.2\">.</w>\n",
    "    <time id=\"T1E\" value=\"00:00:53,352\" />\n",
    "  </s>\n",
    "```\n",
    "\n",
    "The subtitles in each XML file are stored by **blocks** denoted by `s` with a unique `id` attribute (integers in increasing order starting at 1).  \n",
    "\n",
    "Each block (`<s id=\"1\">` for instance) has a:  \n",
    "\n",
    "1. Set of timestamps (denoted by `time`) with\n",
    " - A timestamp `id` attribute that can take two different formats: `T#S` or `T#E`, where _S_ indicates _start_, _E_ indicates _end_ and _#_ is an increasing integer. \n",
    " - A `value` attribute which has the format `HH:mm:ss,fff`.\n",
    "\n",
    "2. Set of words (denoted by `w`) with\n",
    " - an `id` attribute that is simply an increasing number of decimal numbers of the format `X.Y` where X is the string id and Y is the word id within the corresponding string\n",
    " - a non-empty `value` attribute that contains a token: a word or a punctuation character. \n",
    "\n",
    "It sometimes also has an `alternative`, `initial` and `emphasis` attribute.  \n",
    "\n",
    " - The `initial` attribute generally corresponds to slang words or mispronounced words because of an accent such as _lyin'_ instead of _lying_.  \n",
    " - The `alternative` attribute is another way of displaying the subtitle for example _HOW_ instead of _how_.\n",
    " - The `emphasis` attribute is a boolean."
   ]
  },
  {
   "cell_type": "markdown",
   "metadata": {
    "hidden": true
   },
   "source": [
    "### Metadata\n",
    "\n",
    "The `metadata` section has the following structure:\n",
    "\n",
    "```\n",
    "├── Conversion\n",
    "│   ├── corrected_words: Integer\n",
    "│   ├── sentences: Integer\n",
    "│   ├── tokens: Integer\n",
    "│   ├── encoding: String (always utf-8)\n",
    "│   ├── unknown_words: Integer\n",
    "│   ├── ignored_blocks: Integer\n",
    "│   ├── truecased_words: Integer\n",
    "├── Subtitle\n",
    "│   ├── language: String\n",
    "│   ├── date: String\n",
    "│   ├── duration: String\n",
    "│   ├── cds: String (presented as #/# where # is an int)\n",
    "│   ├── blocks: Integer\n",
    "│   ├── confidence: Double\n",
    "├── Source\n",
    "│   ├── genre: String[] (up to 3 genres)\n",
    "│   ├── year: Integer\n",
    "│   ├── duration: Integer (in minutes)\n",
    "│   ├── original: String\n",
    "│   ├── country: String\n",
    "```\n",
    "\n",
    "We note that some XML files may not have all the entries. \n",
    "We can use the metadata to obtain additional information about the movie or show's subtitles and compute certain statistics. "
   ]
  },
  {
   "cell_type": "markdown",
   "metadata": {},
   "source": [
    "## Exploration of our data sets"
   ]
  },
  {
   "cell_type": "markdown",
   "metadata": {},
   "source": [
    "Going through the dataset we notice a few things:\n",
    "\n",
    "1. The dataset has meaningless folders. For example, the folder 1858/ is empty.\n",
    "2. Dataset contains XML files that are not related to movies or TV shows. For example, the folder 666/ contains Justin Bieber song subtitles.  \n",
    "3. Trailer of films can be present in the dataset. For example, the folder 2018/ we found for example Black Panther teaser trailer subtitles.\n",
    "4. Each movie might have more than 1 subtitle file.\n",
    "5. Some subtitle files contain text that is not related to the movie, like credits to the person who made the subtitles.\n",
    "7. Each block may have an arbitrary number (including 0) of timestamps associated to it.\n",
    "\n",
    "To solve points 1, 2 and 3 we decide to take only files associated with valid IMDb id's of movies with more than 5000 reviews.\n",
    "\n",
    "To solve point 4, we simply take the first one.\n",
    "\n",
    "To solve point 6, we keep movies that have a correct IMDb identifier. Hence, all the files in folders that don't have a 7-digit folder name are dropped.\n",
    "\n",
    "To solve point 7, we decide not to associate a timestamp to each word.\n",
    " \n",
    "We extract the desired dataset information into a parquet file using the script `parquet2.py` (TODO rename). From this parquet we extract all the information for the data analysis."
   ]
  },
  {
   "cell_type": "markdown",
   "metadata": {},
   "source": [
    "Moreover, to avoid confusion, we set some naming conventions. We refer to certain attributes as follows:\n",
    "\n",
    "- The `s` array as **blocks**\n",
    "- An element of blocks, as a **block**.\n",
    "- The `w` array as **elements**\n",
    "- An element of elements, as **element**.\n",
    "- `_VALUE` as a **token**\n",
    "- A **subtitle** is a list of tokens"
   ]
  },
  {
   "cell_type": "markdown",
   "metadata": {},
   "source": [
    "# Data analysis"
   ]
  },
  {
   "cell_type": "markdown",
   "metadata": {},
   "source": [
    "## Objective and structure"
   ]
  },
  {
   "cell_type": "markdown",
   "metadata": {},
   "source": [
    "As stated in our abstract, our main goal is to try to find a relation between a film subtitles and the average rating: __What makes a movie good or bad?__  \n",
    "\n",
    "To answer the question we follow this structured plan:\n",
    "1. **Selection of data**: Select and clean data relevant to our problem.\n",
    "2. **Exploration of data**: Analyze the distribution of different features of our data, such as most represented genres, years, etc.\n",
    "3. **Extract features** from the subtitles. Try to find correlations between such features and movies average ratings.\n",
    "4. Implement a **linear regression** using such statistics.\n",
    "5. **Analysis**: Comment results.\n",
    "6. **Natural Language Processing (NLP)**: Use NLP tools such as sentiment analysis and topic detection to extract additional features. TODO\n",
    "7. Test a **regression** using the new features\n",
    "8. **Conclusion**"
   ]
  },
  {
   "cell_type": "markdown",
   "metadata": {},
   "source": [
    "## Data selection"
   ]
  },
  {
   "cell_type": "markdown",
   "metadata": {},
   "source": [
    "To see if one can predict the average IMDb rating using the subtitles of a movie, the data is restricted according to the following criteria:\n",
    "1. __the movie must have been rated at least 5000 times__: indeed we consider this a good minimum threshold to estimate the public approval of a film. In comparison, for a movie to be included in the IMDb top 250 movies, a movie must receive at least 25,000 user ratings.\n",
    "2. __the file identifier must be a valid IMDb identifier__: this ensures that the corresponding IMDb data is present in the `basics` and `rating`. \n",
    "3. __the title type must be of a movie__.\n",
    "\n",
    "We also define helper functions :\n",
    "\n",
    "- a function that retrieves the tokens from the elements (`w` array) and returns an array of subtitles, where each subtitle is a list of tokens.\n",
    "- a function to split the genres. Multiple genres are provided as a single string, so we must define a function to split the string and return an array of genres.\n",
    "- a function that joins all the words of a movie\n",
    "- a function that determines whether an XML document has the correct schema and can thus be processed for our analysis.\n",
    "\n",
    "The helper functions help us fulfill certain criteria laid out above. The script `parquet2.py` is ran on the cluster to load the `.xml` files into a spark dataframe containing the movie information required for our analysis, which is then stored in a parquet file for convenience."
   ]
  },
  {
   "cell_type": "code",
   "execution_count": 5,
   "metadata": {},
   "outputs": [],
   "source": [
    "def to_subtitles_array(sentences):\n",
    "    \"\"\"Function to map the elements (a struct containing tokens)\n",
    "    to a list of list of tokens \"\"\"\n",
    "    s_list = []\n",
    "    if sentences is None:\n",
    "        return s_list\n",
    "    for words in sentences:\n",
    "        w_list = []\n",
    "        if words and \"w\" in words and words[\"w\"]:\n",
    "            for w in words[\"w\"]:\n",
    "                if '_VALUE' in w and w['_VALUE']:\n",
    "                    w_list.append(w['_VALUE'])\n",
    "                \n",
    "            s_list.append(w_list)\n",
    "\n",
    "    return s_list"
   ]
  },
  {
   "cell_type": "code",
   "execution_count": 6,
   "metadata": {},
   "outputs": [],
   "source": [
    "# Function to split genres\n",
    "udf_split = psf.udf(lambda s: s.split(',') if s is not None else \"\", ArrayType(StringType()))"
   ]
  },
  {
   "cell_type": "code",
   "execution_count": 7,
   "metadata": {},
   "outputs": [],
   "source": [
    "# Transform to spark function\n",
    "udf_subtitles_array = psf.udf(to_subtitles_array, ArrayType(ArrayType(StringType())))\n",
    "# Convert array of words into a single string\n",
    "udf_sentence = psf.udf(lambda x: ' '.join(x), StringType())"
   ]
  },
  {
   "cell_type": "code",
   "execution_count": 8,
   "metadata": {},
   "outputs": [],
   "source": [
    "# Check correct schema\n",
    "def has_correct_schema(df):\n",
    "    arguments = [\"meta.conversion.sentences\",\n",
    "                 \"meta.source.year\", \n",
    "                 \"meta.subtitle.blocks\",\n",
    "                 \"meta.subtitle.duration\",\n",
    "                 \"meta.subtitle.language\",\n",
    "                 \"s\"]\n",
    "    for col in arguments:\n",
    "        try:\n",
    "            df[col]\n",
    "        except AnalysisException:\n",
    "            return False\n",
    "    return True\n",
    "\n",
    "schema_films = StructType([StructField('tconst', StringType(), False),\n",
    "                           StructField('num_sentences', LongType(), True),\n",
    "                           StructField('year', LongType(), True),\n",
    "                           StructField('blocks', LongType(), True),\n",
    "                           StructField('subtitle_mins', DoubleType(), True),\n",
    "                           StructField('subtitles', ArrayType(ArrayType(StringType())), True)])"
   ]
  },
  {
   "cell_type": "markdown",
   "metadata": {},
   "source": [
    "The function below structures our data to the format we want to then process all the queries we need. \n",
    "We link the movie with the proper IMDb id, we get all the subtitles and convert the subtitle duration to seconds."
   ]
  },
  {
   "cell_type": "code",
   "execution_count": 9,
   "metadata": {},
   "outputs": [],
   "source": [
    "def clean_df(df_document, imdb_id):\n",
    "    \"\"\"Restructures and selects the columns of a dataframe of an XML\n",
    "    file with its corresponding IMDB Id\"\"\"\n",
    "    # Create IMDb ID and subtitles column\n",
    "    df_film_sentences = df_document.withColumn(\"tconst\", psf.lit(\"tt\" + imdb_id))\\\n",
    "                                   .withColumn(\"subtitles\", udf_subtitles_array(\"s\"))\n",
    "    \n",
    "    # Select metadata and previously created columns\n",
    "    df_result = df_film_sentences.selectExpr(\"tconst\",\n",
    "                                             \"meta.conversion.sentences as num_sentences\",\n",
    "                                             \"meta.source.year\", \n",
    "                                             \"meta.subtitle.blocks\",\n",
    "                                             \"meta.subtitle.duration as subtitle_duration\",\n",
    "                                             \"meta.subtitle.language\",\n",
    "                                             \"subtitles\")\n",
    "    # Split genre column and convert subtitle duration to seconds\n",
    "    df_result = df_result.withColumn(\"subtitle_mins\", \n",
    "                                     psf.unix_timestamp(df_result.subtitle_duration, \"HH:mm:ss,SSS\") / 60)\n",
    "    # Discard redundant columns\n",
    "    df_result =  df_result.select(\"tconst\", \n",
    "                                  \"num_sentences\", \n",
    "                                  \"year\", \n",
    "                                  \"blocks\", \n",
    "                                  psf.when(psf.col(\"subtitle_mins\") > 0, psf.col(\"subtitle_mins\"))\\\n",
    "                                     .otherwise(None)\\\n",
    "                                     .alias(\"subtitle_mins\"), \n",
    "                                  \"subtitles\")\n",
    "    return df_result"
   ]
  },
  {
   "cell_type": "markdown",
   "metadata": {},
   "source": [
    "As we must process several XML files into dataframe, we define a function that does this."
   ]
  },
  {
   "cell_type": "code",
   "execution_count": 10,
   "metadata": {},
   "outputs": [],
   "source": [
    "def load_df(path):\n",
    "    \"\"\"Load an XML subtitles file into a dataframe\"\"\"\n",
    "    df_film = sqlContext.read.format('com.databricks.spark.xml')\\\n",
    "                             .options(rowTag='document')\\\n",
    "                             .load(path)\n",
    "    return df_film"
   ]
  },
  {
   "cell_type": "markdown",
   "metadata": {},
   "source": [
    "We can't generate a single parquet file for all of our movies in one process, so we use the following function to merge several parquet files onto 1."
   ]
  },
  {
   "cell_type": "code",
   "execution_count": 11,
   "metadata": {},
   "outputs": [],
   "source": [
    "def unionAll(*dfs):\n",
    "    first, rest = dfs[0], dfs[1:]  # Python 3.x, for 2.x you'll have to unpack manually\n",
    "    return first.sql_ctx.createDataFrame(\n",
    "        first.sql_ctx._sc.union([df.rdd for df in dfs]),\n",
    "        first.schema\n",
    "    )\n",
    "#df_films = unionAll(*film_list)"
   ]
  },
  {
   "cell_type": "markdown",
   "metadata": {},
   "source": [
    "The data can be accessed by loading `films.parquet` and `films2.parquet` into a spark dataframe. The first one contains in the subtitle column only the words present in the film and the second one also includes the punctuation marks."
   ]
  },
  {
   "cell_type": "markdown",
   "metadata": {},
   "source": [
    "## Droping NaNs : "
   ]
  },
  {
   "cell_type": "code",
   "execution_count": 12,
   "metadata": {},
   "outputs": [
    {
     "data": {
      "text/plain": [
       "4286"
      ]
     },
     "execution_count": 12,
     "metadata": {},
     "output_type": "execute_result"
    }
   ],
   "source": [
    "# Load data \n",
    "df_films = spark.read.parquet('parquets/films.parquet')\n",
    "df_films.count()"
   ]
  },
  {
   "cell_type": "markdown",
   "metadata": {},
   "source": [
    "We check if we have any null values that might affect our statistics."
   ]
  },
  {
   "cell_type": "code",
   "execution_count": 13,
   "metadata": {
    "scrolled": true
   },
   "outputs": [
    {
     "data": {
      "text/plain": [
       "4224"
      ]
     },
     "execution_count": 13,
     "metadata": {},
     "output_type": "execute_result"
    }
   ],
   "source": [
    "df_films.dropna().count()"
   ]
  },
  {
   "cell_type": "markdown",
   "metadata": {},
   "source": [
    "The number is fairly small and is due to the conversion of subtitle minutes of some XML files that had a slightly different datetime format. We drop films with null values to avoid incorrect data."
   ]
  },
  {
   "cell_type": "code",
   "execution_count": 14,
   "metadata": {},
   "outputs": [],
   "source": [
    "df_films_clean = df_films.dropna()"
   ]
  },
  {
   "cell_type": "markdown",
   "metadata": {},
   "source": [
    "We also noticed that some movies have the feature `subtitle_mins` with a negative value wich is a non-sense as it represents the time during which subtitles are displayed on the screen. We decided to drop this rows as well. "
   ]
  },
  {
   "cell_type": "code",
   "execution_count": 15,
   "metadata": {
    "scrolled": true
   },
   "outputs": [],
   "source": [
    "df_films = df_films.filter(df_films['subtitle_mins'] > 0)                "
   ]
  },
  {
   "cell_type": "code",
   "execution_count": 16,
   "metadata": {},
   "outputs": [],
   "source": [
    "# Save the dataframe \n",
    "df_films_clean.write.mode(\"overwrite\").parquet(\"parquets/filmsclean.parquet\")"
   ]
  },
  {
   "cell_type": "code",
   "execution_count": 17,
   "metadata": {},
   "outputs": [],
   "source": [
    "# Same for films2.parquet\n",
    "df_films2 = spark.read.parquet('parquets/films2.parquet')\n",
    "df_films2_clean = df_films2.dropna()\n",
    "df_films2_clean = df_films2.filter(df_films2['subtitle_mins'] > 0)        \n",
    "df_films_clean.write.mode(\"overwrite\").parquet(\"parquets/filmsclean2.parquet\")"
   ]
  },
  {
   "cell_type": "markdown",
   "metadata": {},
   "source": [
    "## Exploration of the data "
   ]
  },
  {
   "cell_type": "code",
   "execution_count": 18,
   "metadata": {},
   "outputs": [],
   "source": [
    "df_films = spark.read.parquet(\"parquets/filmsclean.parquet\")"
   ]
  },
  {
   "cell_type": "markdown",
   "metadata": {},
   "source": [
    "The total films we will be focusing on then is:"
   ]
  },
  {
   "cell_type": "code",
   "execution_count": 19,
   "metadata": {},
   "outputs": [
    {
     "data": {
      "text/plain": [
       "4224"
      ]
     },
     "execution_count": 19,
     "metadata": {},
     "output_type": "execute_result"
    }
   ],
   "source": [
    "df_films.count()"
   ]
  },
  {
   "cell_type": "markdown",
   "metadata": {},
   "source": [
    "The dataframe we work with has the following form:"
   ]
  },
  {
   "cell_type": "code",
   "execution_count": 20,
   "metadata": {
    "scrolled": true
   },
   "outputs": [
    {
     "name": "stdout",
     "output_type": "stream",
     "text": [
      "root\n",
      " |-- tconst: string (nullable = true)\n",
      " |-- num_sentences: long (nullable = true)\n",
      " |-- year: long (nullable = true)\n",
      " |-- blocks: long (nullable = true)\n",
      " |-- subtitle_mins: double (nullable = true)\n",
      " |-- subtitles: array (nullable = true)\n",
      " |    |-- element: array (containsNull = true)\n",
      " |    |    |-- element: string (containsNull = true)\n",
      "\n"
     ]
    }
   ],
   "source": [
    "df_films.printSchema()"
   ]
  },
  {
   "cell_type": "code",
   "execution_count": 21,
   "metadata": {
    "scrolled": true
   },
   "outputs": [
    {
     "data": {
      "text/plain": [
       "DataFrame[tconst: string, titleType: string, primaryTitle: string, originalTitle: string, isAdult: string, startYear: string, endYear: string, runtimeMinutes: double, genres: array<string>]"
      ]
     },
     "execution_count": 21,
     "metadata": {},
     "output_type": "execute_result"
    }
   ],
   "source": [
    "df_basics"
   ]
  },
  {
   "cell_type": "markdown",
   "metadata": {},
   "source": [
    "We first make a simple exploration of our dataset, joining it with the IMDb ratings dataframe."
   ]
  },
  {
   "cell_type": "code",
   "execution_count": 22,
   "metadata": {},
   "outputs": [
    {
     "data": {
      "text/plain": [
       "DataFrame[tconst: string, averageRating: float, numVotes: int]"
      ]
     },
     "execution_count": 22,
     "metadata": {},
     "output_type": "execute_result"
    }
   ],
   "source": [
    "df_ratings"
   ]
  },
  {
   "cell_type": "code",
   "execution_count": 23,
   "metadata": {},
   "outputs": [],
   "source": [
    "df_movies = df_basics.filter(df_basics['titleType'] == 'movie')\\\n",
    "                     .select('tconst','originalTitle','runtimeMinutes','genres',)\\\n",
    "                     .join(df_ratings.filter(df_ratings.numVotes >= 5000)\\\n",
    "                                     .select('tconst','averageRating'),\n",
    "                           on=\"tconst\")\n",
    "\n",
    "df_films_stats = df_films.join(df_movies,[\"tconst\"])\\\n",
    "                         .drop(\"subtitles\")\\\n",
    "                         .toPandas()"
   ]
  },
  {
   "cell_type": "code",
   "execution_count": 24,
   "metadata": {
    "scrolled": false
   },
   "outputs": [
    {
     "name": "stdout",
     "output_type": "stream",
     "text": [
      "+---------+--------------------+--------------+--------------------+-------------+\n",
      "|   tconst|       originalTitle|runtimeMinutes|              genres|averageRating|\n",
      "+---------+--------------------+--------------+--------------------+-------------+\n",
      "|tt0004972|The Birth of a Na...|         195.0|[Drama, History, ...|          6.7|\n",
      "|tt0006864|Intolerance: Love...|         163.0|    [Drama, History]|          8.0|\n",
      "|tt0009968|Broken Blossoms o...|          90.0|    [Drama, Romance]|          7.6|\n",
      "|tt0010323|Das Cabinet des D...|          76.0|[Fantasy, Horror,...|          8.1|\n",
      "|tt0011237|Der Golem, wie er...|          91.0|   [Fantasy, Horror]|          7.2|\n",
      "|tt0012349|             The Kid|          68.0|[Comedy, Drama, F...|          8.3|\n",
      "|tt0012364|           Körkarlen|         100.0|[Drama, Fantasy, ...|          8.1|\n",
      "|tt0013086|Dr. Mabuse, der S...|         242.0|[Crime, Mystery, ...|          7.9|\n",
      "|tt0013257|               Häxan|          91.0|[Documentary, Fan...|          7.7|\n",
      "|tt0013427| Nanook of the North|          78.0|       [Documentary]|          7.7|\n",
      "|tt0013442|Nosferatu, eine S...|          94.0|   [Fantasy, Horror]|          8.0|\n",
      "|tt0014341|     Our Hospitality|          65.0|[Comedy, Romance,...|          7.9|\n",
      "|tt0014429|        Safety Last!|          70.0|  [Comedy, Thriller]|          8.2|\n",
      "|tt0015064|     Der letzte Mann|          77.0|             [Drama]|          8.1|\n",
      "|tt0015163|       The Navigator|          59.0|[Action, Comedy, ...|          8.0|\n",
      "|tt0015324|        Sherlock Jr.|          45.0|[Action, Comedy, ...|          8.2|\n",
      "|tt0015361|             Stachka|          82.0|             [Drama]|          7.6|\n",
      "|tt0015624|      The Big Parade|         151.0|[Drama, Romance, ...|          8.2|\n",
      "|tt0015648|Bronenosets Potemkin|          75.0|    [Drama, History]|          8.0|\n",
      "|tt0015864|       The Gold Rush|          95.0|[Adventure, Comed...|          8.2|\n",
      "+---------+--------------------+--------------+--------------------+-------------+\n",
      "only showing top 20 rows\n",
      "\n"
     ]
    }
   ],
   "source": [
    "df_movies.show()"
   ]
  },
  {
   "cell_type": "markdown",
   "metadata": {},
   "source": [
    "### What genres are present in our dataset ? "
   ]
  },
  {
   "cell_type": "markdown",
   "metadata": {},
   "source": [
    "Here is the distribution of the different appearing genres of our dataset, we need to consider aswell that a movie might can have multiple genres : __comedy__ and __drama__, for instance."
   ]
  },
  {
   "cell_type": "code",
   "execution_count": 25,
   "metadata": {
    "scrolled": false
   },
   "outputs": [
    {
     "data": {
      "image/png": "[encoded data removed]",
      "text/plain": [
       "<matplotlib.figure.Figure at 0x1b97ce539e8>"
      ]
     },
     "metadata": {},
     "output_type": "display_data"
    }
   ],
   "source": [
    "# TODO Change style of graphe \n",
    "# TODO add x-axis label\n",
    "# Plotting genre distribution \n",
    "genres = [item for sublist in df_films_stats[\"genres\"] for item in sublist]\n",
    "ax = pd.Series(genres).groupby(genres).count().sort_values().plot.barh(figsize=(10,10))"
   ]
  },
  {
   "cell_type": "markdown",
   "metadata": {},
   "source": [
    "### How is our dataset distributed through time?"
   ]
  },
  {
   "cell_type": "code",
   "execution_count": 26,
   "metadata": {},
   "outputs": [
    {
     "name": "stdout",
     "output_type": "stream",
     "text": [
      "Oldest movie in our dataset was released on: 1922\n",
      "Newest movie in our dataset was released on: 2017\n"
     ]
    },
    {
     "data": {
      "image/png": "[encoded data removed]",
      "text/plain": [
       "<matplotlib.figure.Figure at 0x1b9175a4710>"
      ]
     },
     "metadata": {},
     "output_type": "display_data"
    }
   ],
   "source": [
    "# TODO Change style of graphe \n",
    "print(\"Oldest movie in our dataset was released on: {:}\".format(df_films_stats[\"year\"].min()))\n",
    "print(\"Newest movie in our dataset was released on: {:}\".format(df_films_stats[\"year\"].max()))\n",
    "ax = df_films_stats[\"year\"].plot.hist(bins=96, figsize=(10,5))"
   ]
  },
  {
   "cell_type": "markdown",
   "metadata": {},
   "source": [
    "As we can see the data is not distributed evenly through time, a lot of years are missing and more recent films appear more. It will be then difficult to take time into account as a good metric to predict the rating given the uneven distribution"
   ]
  },
  {
   "cell_type": "markdown",
   "metadata": {},
   "source": [
    "### How is the total film runtime distributed?"
   ]
  },
  {
   "cell_type": "code",
   "execution_count": 27,
   "metadata": {},
   "outputs": [
    {
     "name": "stdout",
     "output_type": "stream",
     "text": [
      "Shortest movie in our dataset is: 60.0 minutes long\n",
      "Longest movie in our dataset is: 467.0 minutes long\n"
     ]
    },
    {
     "data": {
      "image/png": "[encoded data removed]",
      "text/plain": [
       "<matplotlib.figure.Figure at 0x1b9177e1da0>"
      ]
     },
     "metadata": {},
     "output_type": "display_data"
    }
   ],
   "source": [
    "# TODO Change style of graphe \n",
    "print(\"Shortest movie in our dataset is: {:} minutes long\".format(df_films_stats[\"runtimeMinutes\"].min()))\n",
    "print(\"Longest movie in our dataset is: {:} minutes long\".format(df_films_stats[\"runtimeMinutes\"].max()))\n",
    "\n",
    "# TODO add x-axis label!\n",
    "ax = df_films_stats[\"runtimeMinutes\"].plot.hist(bins=60, figsize=(10,5))"
   ]
  },
  {
   "cell_type": "markdown",
   "metadata": {},
   "source": [
    "Apart from some outliers, our data is well centered to the runtime value of 100 minutes."
   ]
  },
  {
   "cell_type": "markdown",
   "metadata": {},
   "source": [
    "### What about the ratings?"
   ]
  },
  {
   "cell_type": "code",
   "execution_count": 28,
   "metadata": {},
   "outputs": [
    {
     "name": "stdout",
     "output_type": "stream",
     "text": [
      "Worst rated movie in our dataset has: 1.7 rating\n",
      "Best rated movie in our dataset has: 9.4 rating\n",
      "Average rating in our dataset is 6.7\n"
     ]
    },
    {
     "data": {
      "text/plain": [
       "<matplotlib.text.Text at 0x1b917b66d68>"
      ]
     },
     "execution_count": 28,
     "metadata": {},
     "output_type": "execute_result"
    },
    {
     "data": {
      "image/png": "[encoded data removed]",
      "text/plain": [
       "<matplotlib.figure.Figure at 0x1b917ac86d8>"
      ]
     },
     "metadata": {},
     "output_type": "display_data"
    }
   ],
   "source": [
    "# TODO Change style of graphe \n",
    "print(\"Worst rated movie in our dataset has: {:.1f} rating\".format(df_films_stats[\"averageRating\"].min()))\n",
    "print(\"Best rated movie in our dataset has: {:.1f} rating\".format(df_films_stats[\"averageRating\"].max()))\n",
    "print(\"Average rating in our dataset is {:.1f}\".format(df_films_stats[\"averageRating\"].mean()))\n",
    "ax = df_films_stats[\"averageRating\"].plot.hist(bins=100, figsize=(10,5))\n",
    "ax.set_xlabel(\"Average Rating\")\n",
    "# ax.savefig"
   ]
  },
  {
   "cell_type": "code",
   "execution_count": 29,
   "metadata": {},
   "outputs": [
    {
     "data": {
      "text/html": [
       "<div>\n",
       "<style scoped>\n",
       "    .dataframe tbody tr th:only-of-type {\n",
       "        vertical-align: middle;\n",
       "    }\n",
       "\n",
       "    .dataframe tbody tr th {\n",
       "        vertical-align: top;\n",
       "    }\n",
       "\n",
       "    .dataframe thead th {\n",
       "        text-align: right;\n",
       "    }\n",
       "</style>\n",
       "<table border=\"1\" class=\"dataframe\">\n",
       "  <thead>\n",
       "    <tr style=\"text-align: right;\">\n",
       "      <th></th>\n",
       "      <th>tconst</th>\n",
       "      <th>num_sentences</th>\n",
       "      <th>year</th>\n",
       "      <th>blocks</th>\n",
       "      <th>subtitle_mins</th>\n",
       "      <th>originalTitle</th>\n",
       "      <th>runtimeMinutes</th>\n",
       "      <th>genres</th>\n",
       "      <th>averageRating</th>\n",
       "    </tr>\n",
       "  </thead>\n",
       "  <tbody>\n",
       "    <tr>\n",
       "      <th>2936</th>\n",
       "      <td>tt0252487</td>\n",
       "      <td>1617</td>\n",
       "      <td>1975</td>\n",
       "      <td>675</td>\n",
       "      <td>24.450000</td>\n",
       "      <td>Hababam Sinifi</td>\n",
       "      <td>87.0</td>\n",
       "      <td>[Comedy, Drama]</td>\n",
       "      <td>9.4</td>\n",
       "    </tr>\n",
       "    <tr>\n",
       "      <th>3724</th>\n",
       "      <td>tt5813916</td>\n",
       "      <td>1570</td>\n",
       "      <td>2016</td>\n",
       "      <td>1440</td>\n",
       "      <td>71.366667</td>\n",
       "      <td>Dag II</td>\n",
       "      <td>135.0</td>\n",
       "      <td>[Drama, War]</td>\n",
       "      <td>9.4</td>\n",
       "    </tr>\n",
       "    <tr>\n",
       "      <th>3105</th>\n",
       "      <td>tt0252488</td>\n",
       "      <td>1689</td>\n",
       "      <td>1975</td>\n",
       "      <td>1113</td>\n",
       "      <td>23.283333</td>\n",
       "      <td>Hababam Sinifi Sinifta Kaldi</td>\n",
       "      <td>91.0</td>\n",
       "      <td>[Comedy]</td>\n",
       "      <td>9.0</td>\n",
       "    </tr>\n",
       "    <tr>\n",
       "      <th>3880</th>\n",
       "      <td>tt5275892</td>\n",
       "      <td>6236</td>\n",
       "      <td>2016</td>\n",
       "      <td>1829</td>\n",
       "      <td>406.050000</td>\n",
       "      <td>O.J.: Made in America</td>\n",
       "      <td>467.0</td>\n",
       "      <td>[Biography, Crime, Documentary]</td>\n",
       "      <td>9.0</td>\n",
       "    </tr>\n",
       "    <tr>\n",
       "      <th>1648</th>\n",
       "      <td>tt0468569</td>\n",
       "      <td>2050</td>\n",
       "      <td>2008</td>\n",
       "      <td>694</td>\n",
       "      <td>86.433333</td>\n",
       "      <td>The Dark Knight</td>\n",
       "      <td>152.0</td>\n",
       "      <td>[Action, Crime, Drama]</td>\n",
       "      <td>9.0</td>\n",
       "    </tr>\n",
       "    <tr>\n",
       "      <th>1193</th>\n",
       "      <td>tt0084302</td>\n",
       "      <td>1045</td>\n",
       "      <td>1982</td>\n",
       "      <td>462</td>\n",
       "      <td>29.433333</td>\n",
       "      <td>Maratonci trce pocasni krug</td>\n",
       "      <td>92.0</td>\n",
       "      <td>[Comedy, Drama]</td>\n",
       "      <td>9.0</td>\n",
       "    </tr>\n",
       "    <tr>\n",
       "      <th>430</th>\n",
       "      <td>tt0108052</td>\n",
       "      <td>2917</td>\n",
       "      <td>1993</td>\n",
       "      <td>1133</td>\n",
       "      <td>126.366667</td>\n",
       "      <td>Schindler's List</td>\n",
       "      <td>195.0</td>\n",
       "      <td>[Biography, Drama, History]</td>\n",
       "      <td>8.9</td>\n",
       "    </tr>\n",
       "    <tr>\n",
       "      <th>1006</th>\n",
       "      <td>tt0060196</td>\n",
       "      <td>2071</td>\n",
       "      <td>1966</td>\n",
       "      <td>1434</td>\n",
       "      <td>282.416667</td>\n",
       "      <td>Il buono, il brutto, il cattivo</td>\n",
       "      <td>161.0</td>\n",
       "      <td>[Western]</td>\n",
       "      <td>8.9</td>\n",
       "    </tr>\n",
       "    <tr>\n",
       "      <th>1147</th>\n",
       "      <td>tt1375666</td>\n",
       "      <td>1570</td>\n",
       "      <td>2010</td>\n",
       "      <td>1190</td>\n",
       "      <td>79.416667</td>\n",
       "      <td>Inception</td>\n",
       "      <td>148.0</td>\n",
       "      <td>[Action, Adventure, Sci-Fi]</td>\n",
       "      <td>8.8</td>\n",
       "    </tr>\n",
       "    <tr>\n",
       "      <th>3797</th>\n",
       "      <td>tt3417422</td>\n",
       "      <td>2603</td>\n",
       "      <td>2013</td>\n",
       "      <td>2423</td>\n",
       "      <td>102.816667</td>\n",
       "      <td>Drishyam</td>\n",
       "      <td>160.0</td>\n",
       "      <td>[Crime, Drama, Thriller]</td>\n",
       "      <td>8.8</td>\n",
       "    </tr>\n",
       "  </tbody>\n",
       "</table>\n",
       "</div>"
      ],
      "text/plain": [
       "         tconst  num_sentences  year  blocks  subtitle_mins  \\\n",
       "2936  tt0252487           1617  1975     675      24.450000   \n",
       "3724  tt5813916           1570  2016    1440      71.366667   \n",
       "3105  tt0252488           1689  1975    1113      23.283333   \n",
       "3880  tt5275892           6236  2016    1829     406.050000   \n",
       "1648  tt0468569           2050  2008     694      86.433333   \n",
       "1193  tt0084302           1045  1982     462      29.433333   \n",
       "430   tt0108052           2917  1993    1133     126.366667   \n",
       "1006  tt0060196           2071  1966    1434     282.416667   \n",
       "1147  tt1375666           1570  2010    1190      79.416667   \n",
       "3797  tt3417422           2603  2013    2423     102.816667   \n",
       "\n",
       "                        originalTitle  runtimeMinutes  \\\n",
       "2936                   Hababam Sinifi            87.0   \n",
       "3724                           Dag II           135.0   \n",
       "3105     Hababam Sinifi Sinifta Kaldi            91.0   \n",
       "3880            O.J.: Made in America           467.0   \n",
       "1648                  The Dark Knight           152.0   \n",
       "1193      Maratonci trce pocasni krug            92.0   \n",
       "430                  Schindler's List           195.0   \n",
       "1006  Il buono, il brutto, il cattivo           161.0   \n",
       "1147                        Inception           148.0   \n",
       "3797                         Drishyam           160.0   \n",
       "\n",
       "                               genres  averageRating  \n",
       "2936                  [Comedy, Drama]            9.4  \n",
       "3724                     [Drama, War]            9.4  \n",
       "3105                         [Comedy]            9.0  \n",
       "3880  [Biography, Crime, Documentary]            9.0  \n",
       "1648           [Action, Crime, Drama]            9.0  \n",
       "1193                  [Comedy, Drama]            9.0  \n",
       "430       [Biography, Drama, History]            8.9  \n",
       "1006                        [Western]            8.9  \n",
       "1147      [Action, Adventure, Sci-Fi]            8.8  \n",
       "3797         [Crime, Drama, Thriller]            8.8  "
      ]
     },
     "execution_count": 29,
     "metadata": {},
     "output_type": "execute_result"
    }
   ],
   "source": [
    "df_films_stats.sort_values(\"averageRating\", ascending=False).head(10)"
   ]
  },
  {
   "cell_type": "markdown",
   "metadata": {},
   "source": [
    "## Genre Exploration"
   ]
  },
  {
   "cell_type": "markdown",
   "metadata": {},
   "source": [
    "We want also to look at the average rating for the different genres. We first look at distribution the average genre ratings of our dataset compared to the whole IMDb data set, to see if the distribution is similar as we are dealing with a much smaller amount of films."
   ]
  },
  {
   "cell_type": "code",
   "execution_count": 30,
   "metadata": {},
   "outputs": [],
   "source": [
    "df_genres = df_films.drop(\"subtitles\").join(df_movies, [\"tconst\"])"
   ]
  },
  {
   "cell_type": "code",
   "execution_count": 35,
   "metadata": {},
   "outputs": [],
   "source": [
    "df_genres_avRating = df_genres.select('*', \n",
    "                                      psf.explode('genres').alias('genre'))\\\n",
    "                              .groupBy(\"genre\").agg({\"averageRating\": \"mean\", \n",
    "                                                     \"*\": \"count\"})\n",
    "df_genres_rating = df_genres_avRating.sort(\"count(1)\", ascending=False).limit(10)\\\n",
    "                                        .withColumnRenamed(\"avg(averageRating)\", \"Subtitle dataset rating\").drop(\"count(1)\")\n",
    "                "
   ]
  },
  {
   "cell_type": "code",
   "execution_count": 37,
   "metadata": {},
   "outputs": [],
   "source": [
    "df_imdb_avRating = df_movies.select('*', psf.explode('genres').alias('genre'))\\\n",
    "                            .groupBy(\"genre\").agg({\"averageRating\": \"mean\", \n",
    "                                                     \"*\": \"count\"})\n",
    "df_imdb_avRating = df_imdb_avRating.sort(\"count(1)\", ascending=False)\\\n",
    "                                      .limit(10).withColumnRenamed(\"avg(averageRating)\", \"IMDb dataset rating\").drop(\"count(1)\")\n",
    "df_all_ratings = df_imdb_avRating.join(df_genres_rating, [\"genre\"]).toPandas()"
   ]
  },
  {
   "cell_type": "code",
   "execution_count": 41,
   "metadata": {},
   "outputs": [
    {
     "data": {
      "image/png": "[encoded data removed]",
      "text/plain": [
       "<matplotlib.figure.Figure at 0x1b917e13f60>"
      ]
     },
     "metadata": {},
     "output_type": "display_data"
    }
   ],
   "source": [
    "yvar = [\"IMDb dataset rating\", \"Subtitle dataset rating\"]\n",
    "df_all_ratings.sort_values(\"IMDb dataset rating\", ascending=False).plot.bar(y=yvar, x=\"genre\", figsize=(10,10))\n",
    "plt.ylim(5.5, 7.1)\n",
    "plt.show()"
   ]
  },
  {
   "cell_type": "markdown",
   "metadata": {},
   "source": [
    "We can see that there are no very big differences between genres ratings apparently, though we can see that a Drama movie is more likely to have a good rating than a horror movie. From these statistics we could assume that the genre has somehow an influence in the film's average rating. The comparaison with the IMDB dataset shows that our data follows a very similar pattern with the genre ratings but generally having an better average rating than the IMDB data set, this can be explained as our dataset is smaller, the average values are impacted more by outliers"
   ]
  },
  {
   "cell_type": "markdown",
   "metadata": {},
   "source": [
    "## Time Exploration"
   ]
  },
  {
   "cell_type": "markdown",
   "metadata": {},
   "source": [
    "We categorize our subtitles distribution into 3 time periods as we have seen that our dataset is not balanced in terms of distribution through time. We extract the average rating of each period, aswell as the rating by genre."
   ]
  },
  {
   "cell_type": "code",
   "execution_count": 42,
   "metadata": {},
   "outputs": [],
   "source": [
    "def add_time_period(year):\n",
    "    if year < 1910 or year > 2018:\n",
    "        return \"NaN\"\n",
    "    elif year < 1960:\n",
    "        return \"1910-1959\"\n",
    "    elif year < 2000:\n",
    "        return \"1960-1999\"\n",
    "    else:\n",
    "        return \"2000s\"\n",
    "udf_period = psf.udf(add_time_period, StringType())"
   ]
  },
  {
   "cell_type": "code",
   "execution_count": 43,
   "metadata": {},
   "outputs": [],
   "source": [
    "df_ratings_periods = df_movies.join(df_films.select(\"year\", \"tconst\"), [\"tconst\"])\\\n",
    "                                            .withColumn(\"period\", udf_period(\"year\"))"
   ]
  },
  {
   "cell_type": "code",
   "execution_count": 44,
   "metadata": {
    "scrolled": true
   },
   "outputs": [
    {
     "name": "stdout",
     "output_type": "stream",
     "text": [
      "+---------+------------------+--------+\n",
      "|   period|avg(averageRating)|count(1)|\n",
      "+---------+------------------+--------+\n",
      "|    2000s| 6.465611225999668|    2495|\n",
      "|1910-1959| 7.583113493579673|     379|\n",
      "|1960-1999| 6.831037049823337|    1350|\n",
      "+---------+------------------+--------+\n",
      "\n"
     ]
    }
   ],
   "source": [
    "df_ratings_periods.groupBy(\"period\")\\\n",
    "                  .agg({\"averageRating\": \"mean\", \"*\": \"count\"})\\\n",
    "                  .show()"
   ]
  },
  {
   "cell_type": "markdown",
   "metadata": {},
   "source": [
    "__Are films getting worse?__  \n",
    "We cannot be sure as the amount of films is not big enough but from our data. \n",
    "Indeed we have much more data for the time period 1960-1999 than 1910-1959 as we have seen shown in the table above, and even more data for from 2000 up to now.\n",
    "This descrepency is easily understantable as the techniques of cinema progressed with science and it is easier and cheaper to make a movie today than it used to be.\n",
    "Another potential source of bias is the fact that the movies that sruvived through time are usually good movies. \n",
    "Thus, this movies have better IMDb avrage ratings and pull up the average rating for the given time period. \n",
    "On the contrary, most of the films that were produced more recently are present in IMDb and in the OpenSubtitles data set, but this movies do not necessarly have good ratings, and actually lower the average. "
   ]
  },
  {
   "cell_type": "markdown",
   "metadata": {},
   "source": [
    "With this ideas in mind, we check the distribution of average rating for the different genres present in our dataset for the different time periods. "
   ]
  },
  {
   "cell_type": "code",
   "execution_count": 45,
   "metadata": {},
   "outputs": [],
   "source": [
    "df_periods_stats = df_ratings_periods.join(df_genres.select(\"tconst\", \n",
    "                                                                  psf.explode('genres').alias('genre')), \n",
    "                                                 [\"tconst\"])\\\n",
    "                                           .groupBy(\"period\", \"genre\").agg({\"averageRating\": \"mean\", \n",
    "                                                                            \"*\": \"count\"})\n",
    "df_periods_stats_pd = df_periods_stats.toPandas()"
   ]
  },
  {
   "cell_type": "code",
   "execution_count": 46,
   "metadata": {},
   "outputs": [],
   "source": [
    "df_genres = df_films.drop(\"subtitles\").join(df_basics.select(\"tconst\", \n",
    "                                                             \"genres\", \n",
    "                                                             \"primaryTitle\", \n",
    "                                                             \"runtimeMinutes\"), \n",
    "                                            [\"tconst\"])\n",
    "df_genres= df_genres.join(df_ratings, [\"tconst\"])"
   ]
  },
  {
   "cell_type": "markdown",
   "metadata": {},
   "source": [
    "We decide to take film genres only with more than 100 appereances, to have better confidence in our results and we plot by time period again the average rating of each genre. We first look at the whole dataframe to see the \"best type of movie\" taking into account the period and the genre."
   ]
  },
  {
   "cell_type": "code",
   "execution_count": 47,
   "metadata": {},
   "outputs": [],
   "source": [
    "df_genre_period = df_periods_stats_pd[df_periods_stats_pd[\"count(1)\"] > 100].sort_values(\"count(1)\", ascending=False)"
   ]
  },
  {
   "cell_type": "code",
   "execution_count": 48,
   "metadata": {
    "scrolled": false
   },
   "outputs": [
    {
     "data": {
      "text/html": [
       "<div>\n",
       "<style scoped>\n",
       "    .dataframe tbody tr th:only-of-type {\n",
       "        vertical-align: middle;\n",
       "    }\n",
       "\n",
       "    .dataframe tbody tr th {\n",
       "        vertical-align: top;\n",
       "    }\n",
       "\n",
       "    .dataframe thead th {\n",
       "        text-align: right;\n",
       "    }\n",
       "</style>\n",
       "<table border=\"1\" class=\"dataframe\">\n",
       "  <thead>\n",
       "    <tr style=\"text-align: right;\">\n",
       "      <th></th>\n",
       "      <th>period</th>\n",
       "      <th>genre</th>\n",
       "      <th>avg(averageRating)</th>\n",
       "      <th>count(1)</th>\n",
       "    </tr>\n",
       "  </thead>\n",
       "  <tbody>\n",
       "    <tr>\n",
       "      <th>61</th>\n",
       "      <td>1910-1959</td>\n",
       "      <td>Drama</td>\n",
       "      <td>7.634457</td>\n",
       "      <td>267</td>\n",
       "    </tr>\n",
       "    <tr>\n",
       "      <th>52</th>\n",
       "      <td>1910-1959</td>\n",
       "      <td>Romance</td>\n",
       "      <td>7.581897</td>\n",
       "      <td>116</td>\n",
       "    </tr>\n",
       "    <tr>\n",
       "      <th>53</th>\n",
       "      <td>2000s</td>\n",
       "      <td>Biography</td>\n",
       "      <td>7.152717</td>\n",
       "      <td>184</td>\n",
       "    </tr>\n",
       "    <tr>\n",
       "      <th>47</th>\n",
       "      <td>1960-1999</td>\n",
       "      <td>Drama</td>\n",
       "      <td>7.139305</td>\n",
       "      <td>748</td>\n",
       "    </tr>\n",
       "    <tr>\n",
       "      <th>37</th>\n",
       "      <td>1960-1999</td>\n",
       "      <td>Romance</td>\n",
       "      <td>6.943056</td>\n",
       "      <td>216</td>\n",
       "    </tr>\n",
       "    <tr>\n",
       "      <th>64</th>\n",
       "      <td>1960-1999</td>\n",
       "      <td>Crime</td>\n",
       "      <td>6.737943</td>\n",
       "      <td>282</td>\n",
       "    </tr>\n",
       "    <tr>\n",
       "      <th>11</th>\n",
       "      <td>1960-1999</td>\n",
       "      <td>Thriller</td>\n",
       "      <td>6.734973</td>\n",
       "      <td>183</td>\n",
       "    </tr>\n",
       "    <tr>\n",
       "      <th>9</th>\n",
       "      <td>2000s</td>\n",
       "      <td>Drama</td>\n",
       "      <td>6.731527</td>\n",
       "      <td>1421</td>\n",
       "    </tr>\n",
       "    <tr>\n",
       "      <th>32</th>\n",
       "      <td>1960-1999</td>\n",
       "      <td>Adventure</td>\n",
       "      <td>6.689202</td>\n",
       "      <td>213</td>\n",
       "    </tr>\n",
       "    <tr>\n",
       "      <th>17</th>\n",
       "      <td>2000s</td>\n",
       "      <td>Animation</td>\n",
       "      <td>6.615267</td>\n",
       "      <td>131</td>\n",
       "    </tr>\n",
       "    <tr>\n",
       "      <th>50</th>\n",
       "      <td>1960-1999</td>\n",
       "      <td>Comedy</td>\n",
       "      <td>6.602657</td>\n",
       "      <td>527</td>\n",
       "    </tr>\n",
       "    <tr>\n",
       "      <th>24</th>\n",
       "      <td>2000s</td>\n",
       "      <td>Crime</td>\n",
       "      <td>6.553617</td>\n",
       "      <td>470</td>\n",
       "    </tr>\n",
       "    <tr>\n",
       "      <th>51</th>\n",
       "      <td>2000s</td>\n",
       "      <td>Romance</td>\n",
       "      <td>6.515103</td>\n",
       "      <td>437</td>\n",
       "    </tr>\n",
       "    <tr>\n",
       "      <th>57</th>\n",
       "      <td>1960-1999</td>\n",
       "      <td>Action</td>\n",
       "      <td>6.473801</td>\n",
       "      <td>271</td>\n",
       "    </tr>\n",
       "    <tr>\n",
       "      <th>19</th>\n",
       "      <td>1960-1999</td>\n",
       "      <td>Fantasy</td>\n",
       "      <td>6.392793</td>\n",
       "      <td>111</td>\n",
       "    </tr>\n",
       "    <tr>\n",
       "      <th>42</th>\n",
       "      <td>2000s</td>\n",
       "      <td>Adventure</td>\n",
       "      <td>6.374541</td>\n",
       "      <td>381</td>\n",
       "    </tr>\n",
       "    <tr>\n",
       "      <th>8</th>\n",
       "      <td>2000s</td>\n",
       "      <td>Action</td>\n",
       "      <td>6.339748</td>\n",
       "      <td>556</td>\n",
       "    </tr>\n",
       "    <tr>\n",
       "      <th>35</th>\n",
       "      <td>2000s</td>\n",
       "      <td>Fantasy</td>\n",
       "      <td>6.293252</td>\n",
       "      <td>163</td>\n",
       "    </tr>\n",
       "    <tr>\n",
       "      <th>38</th>\n",
       "      <td>2000s</td>\n",
       "      <td>Comedy</td>\n",
       "      <td>6.274521</td>\n",
       "      <td>887</td>\n",
       "    </tr>\n",
       "    <tr>\n",
       "      <th>58</th>\n",
       "      <td>1960-1999</td>\n",
       "      <td>Horror</td>\n",
       "      <td>6.270423</td>\n",
       "      <td>142</td>\n",
       "    </tr>\n",
       "    <tr>\n",
       "      <th>6</th>\n",
       "      <td>2000s</td>\n",
       "      <td>Mystery</td>\n",
       "      <td>6.267111</td>\n",
       "      <td>225</td>\n",
       "    </tr>\n",
       "    <tr>\n",
       "      <th>63</th>\n",
       "      <td>2000s</td>\n",
       "      <td>Thriller</td>\n",
       "      <td>6.228636</td>\n",
       "      <td>440</td>\n",
       "    </tr>\n",
       "    <tr>\n",
       "      <th>44</th>\n",
       "      <td>2000s</td>\n",
       "      <td>Family</td>\n",
       "      <td>6.024510</td>\n",
       "      <td>102</td>\n",
       "    </tr>\n",
       "    <tr>\n",
       "      <th>62</th>\n",
       "      <td>2000s</td>\n",
       "      <td>Sci-Fi</td>\n",
       "      <td>6.006832</td>\n",
       "      <td>161</td>\n",
       "    </tr>\n",
       "    <tr>\n",
       "      <th>40</th>\n",
       "      <td>2000s</td>\n",
       "      <td>Horror</td>\n",
       "      <td>5.777647</td>\n",
       "      <td>340</td>\n",
       "    </tr>\n",
       "  </tbody>\n",
       "</table>\n",
       "</div>"
      ],
      "text/plain": [
       "       period      genre  avg(averageRating)  count(1)\n",
       "61  1910-1959      Drama            7.634457       267\n",
       "52  1910-1959    Romance            7.581897       116\n",
       "53      2000s  Biography            7.152717       184\n",
       "47  1960-1999      Drama            7.139305       748\n",
       "37  1960-1999    Romance            6.943056       216\n",
       "64  1960-1999      Crime            6.737943       282\n",
       "11  1960-1999   Thriller            6.734973       183\n",
       "9       2000s      Drama            6.731527      1421\n",
       "32  1960-1999  Adventure            6.689202       213\n",
       "17      2000s  Animation            6.615267       131\n",
       "50  1960-1999     Comedy            6.602657       527\n",
       "24      2000s      Crime            6.553617       470\n",
       "51      2000s    Romance            6.515103       437\n",
       "57  1960-1999     Action            6.473801       271\n",
       "19  1960-1999    Fantasy            6.392793       111\n",
       "42      2000s  Adventure            6.374541       381\n",
       "8       2000s     Action            6.339748       556\n",
       "35      2000s    Fantasy            6.293252       163\n",
       "38      2000s     Comedy            6.274521       887\n",
       "58  1960-1999     Horror            6.270423       142\n",
       "6       2000s    Mystery            6.267111       225\n",
       "63      2000s   Thriller            6.228636       440\n",
       "44      2000s     Family            6.024510       102\n",
       "62      2000s     Sci-Fi            6.006832       161\n",
       "40      2000s     Horror            5.777647       340"
      ]
     },
     "execution_count": 48,
     "metadata": {},
     "output_type": "execute_result"
    }
   ],
   "source": [
    "df_genre_period.sort_values(\"avg(averageRating)\", ascending=False)"
   ]
  },
  {
   "cell_type": "markdown",
   "metadata": {},
   "source": [
    "We now plot the average rating for the different genres given a time period"
   ]
  },
  {
   "cell_type": "code",
   "execution_count": 50,
   "metadata": {},
   "outputs": [
    {
     "name": "stderr",
     "output_type": "stream",
     "text": [
      "C:\\Users\\Martin\\Anaconda3\\lib\\site-packages\\ipykernel_launcher.py:1: UserWarning: Boolean Series key will be reindexed to match DataFrame index.\n",
      "  \"\"\"Entry point for launching an IPython kernel.\n"
     ]
    },
    {
     "data": {
      "image/png": "[encoded data removed]",
      "text/plain": [
       "<matplotlib.figure.Figure at 0x1b917d7a278>"
      ]
     },
     "metadata": {},
     "output_type": "display_data"
    }
   ],
   "source": [
    "df_genre_period[df_periods_stats_pd.period == \"1960-1999\"].head(15)\\\n",
    "                    .sort_values(\"avg(averageRating)\", \n",
    "                                 ascending=False).plot.bar(x=\"genre\", y =\"avg(averageRating)\", figsize=(10,10))\n",
    "plt.ylim(5.5, 7.5)\n",
    "plt.show()"
   ]
  },
  {
   "cell_type": "code",
   "execution_count": 51,
   "metadata": {
    "scrolled": false
   },
   "outputs": [
    {
     "name": "stderr",
     "output_type": "stream",
     "text": [
      "C:\\Users\\Martin\\Anaconda3\\lib\\site-packages\\ipykernel_launcher.py:1: UserWarning: Boolean Series key will be reindexed to match DataFrame index.\n",
      "  \"\"\"Entry point for launching an IPython kernel.\n"
     ]
    },
    {
     "data": {
      "image/png": "[encoded data removed]",
      "text/plain": [
       "<matplotlib.figure.Figure at 0x1b9175b5710>"
      ]
     },
     "metadata": {},
     "output_type": "display_data"
    }
   ],
   "source": [
    "df_genre_period[df_periods_stats_pd.period == \"2000s\"].head(10)\\\n",
    "                    .sort_values(\"avg(averageRating)\", \n",
    "                                 ascending=False).plot.bar(x=\"genre\", y =\"avg(averageRating)\", figsize=(10,10))\n",
    "plt.ylim(5.5, 7.5)\n",
    "plt.show()"
   ]
  },
  {
   "cell_type": "code",
   "execution_count": null,
   "metadata": {},
   "outputs": [],
   "source": [
    "#TODO: on peut devrait en faire un tableau plutot que 2 plots pour tout résumé. "
   ]
  },
  {
   "cell_type": "markdown",
   "metadata": {},
   "source": [
    "As we can see, there is no major difference between both graphs. "
   ]
  },
  {
   "cell_type": "markdown",
   "metadata": {},
   "source": [
    "## Simple statistics: searching for a correlation between average IMDb rating and text features. "
   ]
  },
  {
   "cell_type": "markdown",
   "metadata": {},
   "source": [
    "\"Raw\" features are extracted from the subtitles and the metadata : \n",
    "* the total number of words relative to the movie duration. \n",
    "* the total number of distinct words relative to the movie duration.\n",
    "* the total number of sentences relative to the movie duration.\n",
    "* the mean average length of the subtitles.\n",
    "* the subtitles to movie duration ratio.\n",
    "* the number of distinct words divided by the length of the movie, the total number of words and the mean average length of the sentences.\n",
    "\n",
    "We define the following method to extract these features from our dataframe."
   ]
  },
  {
   "cell_type": "code",
   "execution_count": 52,
   "metadata": {},
   "outputs": [],
   "source": [
    "def word_statistics(df_films):\n",
    "    # Explode the sentences t\n",
    "    df_words = df_films.select('*', psf.explode('subtitles').alias('words'))\n",
    "    df_words = df_words.select('*', psf.explode('words').alias('word'))\n",
    "\n",
    "    df_word_counts = df_words.groupby(\"tconst\", \"num_sentences\", \"subtitle_mins\")\\\n",
    "                             .agg(psf.count(\"word\").alias(\"num_words\"), \n",
    "                                  psf.countDistinct(\"word\").alias(\"num_distinct_words\"))\\\n",
    "                             .join(df_basics, ['tconst'], 'inner')\\\n",
    "                             .withColumn(\"words_per_min\",\n",
    "                                         psf.col(\"num_words\") / psf.col(\"runtimeMinutes\"))\\\n",
    "                             .withColumn(\"distinct_words_per_min\",\n",
    "                                         psf.col(\"num_distinct_words\") / psf.col(\"runtimeMinutes\"))\\\n",
    "                             .withColumn(\"sentences_per_min\",\n",
    "                                         psf.col(\"num_sentences\") / psf.col(\"runtimeMinutes\"))\\\n",
    "                             .withColumn(\"mean_length_sentences\",\n",
    "                                         psf.col(\"num_words\") / psf.col(\"num_sentences\"))\\\n",
    "                             .withColumn(\"distinct_index\", \n",
    "                                         1000 * psf.col(\"num_distinct_words\") /(psf.col(\"num_sentences\")*\n",
    "                                                                                psf.col(\"runtimeMinutes\")*\n",
    "                                                                                psf.col(\"num_words\")))\\\n",
    "                             .withColumn(\"times_ratio\",\n",
    "                                         psf.when(psf.col(\"subtitle_mins\").isNotNull(), \n",
    "                                                  psf.col(\"subtitle_mins\") / psf.col(\"runtimeMinutes\") * 100))\n",
    "    \n",
    "    df_word_counts = df_word_counts.select(\"tconst\",\n",
    "                                           \"num_words\",\n",
    "                                           \"num_distinct_words\",\n",
    "                                           \"num_sentences\",\n",
    "                                           \"subtitle_mins\",\n",
    "                                           \"runtimeMinutes\",\n",
    "                                           \"mean_length_sentences\",\n",
    "                                           \"words_per_min\",\n",
    "                                           \"distinct_words_per_min\",\n",
    "                                           \"sentences_per_min\",\n",
    "                                           \"distinct_index\",\n",
    "                                           \"times_ratio\")\n",
    "    return df_word_counts"
   ]
  },
  {
   "cell_type": "code",
   "execution_count": 62,
   "metadata": {},
   "outputs": [
    {
     "ename": "AnalysisException",
     "evalue": "'Unable to infer schema for Parquet. It must be specified manually.;'",
     "output_type": "error",
     "traceback": [
      "\u001b[1;31m---------------------------------------------------------------------------\u001b[0m",
      "\u001b[1;31mPy4JJavaError\u001b[0m                             Traceback (most recent call last)",
      "\u001b[1;32mC:\\spark\\spark-2.3.2-bin-hadoop2.7\\python\\pyspark\\sql\\utils.py\u001b[0m in \u001b[0;36mdeco\u001b[1;34m(*a, **kw)\u001b[0m\n\u001b[0;32m     62\u001b[0m         \u001b[1;32mtry\u001b[0m\u001b[1;33m:\u001b[0m\u001b[1;33m\u001b[0m\u001b[0m\n\u001b[1;32m---> 63\u001b[1;33m             \u001b[1;32mreturn\u001b[0m \u001b[0mf\u001b[0m\u001b[1;33m(\u001b[0m\u001b[1;33m*\u001b[0m\u001b[0ma\u001b[0m\u001b[1;33m,\u001b[0m \u001b[1;33m**\u001b[0m\u001b[0mkw\u001b[0m\u001b[1;33m)\u001b[0m\u001b[1;33m\u001b[0m\u001b[0m\n\u001b[0m\u001b[0;32m     64\u001b[0m         \u001b[1;32mexcept\u001b[0m \u001b[0mpy4j\u001b[0m\u001b[1;33m.\u001b[0m\u001b[0mprotocol\u001b[0m\u001b[1;33m.\u001b[0m\u001b[0mPy4JJavaError\u001b[0m \u001b[1;32mas\u001b[0m \u001b[0me\u001b[0m\u001b[1;33m:\u001b[0m\u001b[1;33m\u001b[0m\u001b[0m\n",
      "\u001b[1;32mC:\\spark\\spark-2.3.2-bin-hadoop2.7\\python\\lib\\py4j-0.10.7-src.zip\\py4j\\protocol.py\u001b[0m in \u001b[0;36mget_return_value\u001b[1;34m(answer, gateway_client, target_id, name)\u001b[0m\n\u001b[0;32m    327\u001b[0m                     \u001b[1;34m\"An error occurred while calling {0}{1}{2}.\\n\"\u001b[0m\u001b[1;33m.\u001b[0m\u001b[1;33m\u001b[0m\u001b[0m\n\u001b[1;32m--> 328\u001b[1;33m                     format(target_id, \".\", name), value)\n\u001b[0m\u001b[0;32m    329\u001b[0m             \u001b[1;32melse\u001b[0m\u001b[1;33m:\u001b[0m\u001b[1;33m\u001b[0m\u001b[0m\n",
      "\u001b[1;31mPy4JJavaError\u001b[0m: An error occurred while calling o470.parquet.\n: org.apache.spark.sql.AnalysisException: Unable to infer schema for Parquet. It must be specified manually.;\r\n\tat org.apache.spark.sql.execution.datasources.DataSource$$anonfun$9.apply(DataSource.scala:208)\r\n\tat org.apache.spark.sql.execution.datasources.DataSource$$anonfun$9.apply(DataSource.scala:208)\r\n\tat scala.Option.getOrElse(Option.scala:121)\r\n\tat org.apache.spark.sql.execution.datasources.DataSource.getOrInferFileFormatSchema(DataSource.scala:207)\r\n\tat org.apache.spark.sql.execution.datasources.DataSource.resolveRelation(DataSource.scala:393)\r\n\tat org.apache.spark.sql.DataFrameReader.loadV1Source(DataFrameReader.scala:239)\r\n\tat org.apache.spark.sql.DataFrameReader.load(DataFrameReader.scala:227)\r\n\tat org.apache.spark.sql.DataFrameReader.parquet(DataFrameReader.scala:622)\r\n\tat sun.reflect.NativeMethodAccessorImpl.invoke0(Native Method)\r\n\tat sun.reflect.NativeMethodAccessorImpl.invoke(Unknown Source)\r\n\tat sun.reflect.DelegatingMethodAccessorImpl.invoke(Unknown Source)\r\n\tat java.lang.reflect.Method.invoke(Unknown Source)\r\n\tat py4j.reflection.MethodInvoker.invoke(MethodInvoker.java:244)\r\n\tat py4j.reflection.ReflectionEngine.invoke(ReflectionEngine.java:357)\r\n\tat py4j.Gateway.invoke(Gateway.java:282)\r\n\tat py4j.commands.AbstractCommand.invokeMethod(AbstractCommand.java:132)\r\n\tat py4j.commands.CallCommand.execute(CallCommand.java:79)\r\n\tat py4j.GatewayConnection.run(GatewayConnection.java:238)\r\n\tat java.lang.Thread.run(Unknown Source)\r\n",
      "\nDuring handling of the above exception, another exception occurred:\n",
      "\u001b[1;31mAnalysisException\u001b[0m                         Traceback (most recent call last)",
      "\u001b[1;32m<ipython-input-62-61dc86d628de>\u001b[0m in \u001b[0;36m<module>\u001b[1;34m()\u001b[0m\n\u001b[0;32m      1\u001b[0m \u001b[1;31m# Load data\u001b[0m\u001b[1;33m\u001b[0m\u001b[1;33m\u001b[0m\u001b[0m\n\u001b[1;32m----> 2\u001b[1;33m \u001b[0mdf_films\u001b[0m \u001b[1;33m=\u001b[0m \u001b[0mspark\u001b[0m\u001b[1;33m.\u001b[0m\u001b[0mread\u001b[0m\u001b[1;33m.\u001b[0m\u001b[0mparquet\u001b[0m\u001b[1;33m(\u001b[0m\u001b[1;34m\"parquets/filmsclean.parquet\"\u001b[0m\u001b[1;33m)\u001b[0m\u001b[1;33m\u001b[0m\u001b[0m\n\u001b[0m",
      "\u001b[1;32mC:\\spark\\spark-2.3.2-bin-hadoop2.7\\python\\pyspark\\sql\\readwriter.py\u001b[0m in \u001b[0;36mparquet\u001b[1;34m(self, *paths)\u001b[0m\n\u001b[0;32m    301\u001b[0m         \u001b[1;33m[\u001b[0m\u001b[1;33m(\u001b[0m\u001b[1;34m'name'\u001b[0m\u001b[1;33m,\u001b[0m \u001b[1;34m'string'\u001b[0m\u001b[1;33m)\u001b[0m\u001b[1;33m,\u001b[0m \u001b[1;33m(\u001b[0m\u001b[1;34m'year'\u001b[0m\u001b[1;33m,\u001b[0m \u001b[1;34m'int'\u001b[0m\u001b[1;33m)\u001b[0m\u001b[1;33m,\u001b[0m \u001b[1;33m(\u001b[0m\u001b[1;34m'month'\u001b[0m\u001b[1;33m,\u001b[0m \u001b[1;34m'int'\u001b[0m\u001b[1;33m)\u001b[0m\u001b[1;33m,\u001b[0m \u001b[1;33m(\u001b[0m\u001b[1;34m'day'\u001b[0m\u001b[1;33m,\u001b[0m \u001b[1;34m'int'\u001b[0m\u001b[1;33m)\u001b[0m\u001b[1;33m]\u001b[0m\u001b[1;33m\u001b[0m\u001b[0m\n\u001b[0;32m    302\u001b[0m         \"\"\"\n\u001b[1;32m--> 303\u001b[1;33m         \u001b[1;32mreturn\u001b[0m \u001b[0mself\u001b[0m\u001b[1;33m.\u001b[0m\u001b[0m_df\u001b[0m\u001b[1;33m(\u001b[0m\u001b[0mself\u001b[0m\u001b[1;33m.\u001b[0m\u001b[0m_jreader\u001b[0m\u001b[1;33m.\u001b[0m\u001b[0mparquet\u001b[0m\u001b[1;33m(\u001b[0m\u001b[0m_to_seq\u001b[0m\u001b[1;33m(\u001b[0m\u001b[0mself\u001b[0m\u001b[1;33m.\u001b[0m\u001b[0m_spark\u001b[0m\u001b[1;33m.\u001b[0m\u001b[0m_sc\u001b[0m\u001b[1;33m,\u001b[0m \u001b[0mpaths\u001b[0m\u001b[1;33m)\u001b[0m\u001b[1;33m)\u001b[0m\u001b[1;33m)\u001b[0m\u001b[1;33m\u001b[0m\u001b[0m\n\u001b[0m\u001b[0;32m    304\u001b[0m \u001b[1;33m\u001b[0m\u001b[0m\n\u001b[0;32m    305\u001b[0m     \u001b[1;33m@\u001b[0m\u001b[0mignore_unicode_prefix\u001b[0m\u001b[1;33m\u001b[0m\u001b[0m\n",
      "\u001b[1;32mC:\\spark\\spark-2.3.2-bin-hadoop2.7\\python\\lib\\py4j-0.10.7-src.zip\\py4j\\java_gateway.py\u001b[0m in \u001b[0;36m__call__\u001b[1;34m(self, *args)\u001b[0m\n\u001b[0;32m   1255\u001b[0m         \u001b[0manswer\u001b[0m \u001b[1;33m=\u001b[0m \u001b[0mself\u001b[0m\u001b[1;33m.\u001b[0m\u001b[0mgateway_client\u001b[0m\u001b[1;33m.\u001b[0m\u001b[0msend_command\u001b[0m\u001b[1;33m(\u001b[0m\u001b[0mcommand\u001b[0m\u001b[1;33m)\u001b[0m\u001b[1;33m\u001b[0m\u001b[0m\n\u001b[0;32m   1256\u001b[0m         return_value = get_return_value(\n\u001b[1;32m-> 1257\u001b[1;33m             answer, self.gateway_client, self.target_id, self.name)\n\u001b[0m\u001b[0;32m   1258\u001b[0m \u001b[1;33m\u001b[0m\u001b[0m\n\u001b[0;32m   1259\u001b[0m         \u001b[1;32mfor\u001b[0m \u001b[0mtemp_arg\u001b[0m \u001b[1;32min\u001b[0m \u001b[0mtemp_args\u001b[0m\u001b[1;33m:\u001b[0m\u001b[1;33m\u001b[0m\u001b[0m\n",
      "\u001b[1;32mC:\\spark\\spark-2.3.2-bin-hadoop2.7\\python\\pyspark\\sql\\utils.py\u001b[0m in \u001b[0;36mdeco\u001b[1;34m(*a, **kw)\u001b[0m\n\u001b[0;32m     67\u001b[0m                                              e.java_exception.getStackTrace()))\n\u001b[0;32m     68\u001b[0m             \u001b[1;32mif\u001b[0m \u001b[0ms\u001b[0m\u001b[1;33m.\u001b[0m\u001b[0mstartswith\u001b[0m\u001b[1;33m(\u001b[0m\u001b[1;34m'org.apache.spark.sql.AnalysisException: '\u001b[0m\u001b[1;33m)\u001b[0m\u001b[1;33m:\u001b[0m\u001b[1;33m\u001b[0m\u001b[0m\n\u001b[1;32m---> 69\u001b[1;33m                 \u001b[1;32mraise\u001b[0m \u001b[0mAnalysisException\u001b[0m\u001b[1;33m(\u001b[0m\u001b[0ms\u001b[0m\u001b[1;33m.\u001b[0m\u001b[0msplit\u001b[0m\u001b[1;33m(\u001b[0m\u001b[1;34m': '\u001b[0m\u001b[1;33m,\u001b[0m \u001b[1;36m1\u001b[0m\u001b[1;33m)\u001b[0m\u001b[1;33m[\u001b[0m\u001b[1;36m1\u001b[0m\u001b[1;33m]\u001b[0m\u001b[1;33m,\u001b[0m \u001b[0mstackTrace\u001b[0m\u001b[1;33m)\u001b[0m\u001b[1;33m\u001b[0m\u001b[0m\n\u001b[0m\u001b[0;32m     70\u001b[0m             \u001b[1;32mif\u001b[0m \u001b[0ms\u001b[0m\u001b[1;33m.\u001b[0m\u001b[0mstartswith\u001b[0m\u001b[1;33m(\u001b[0m\u001b[1;34m'org.apache.spark.sql.catalyst.analysis'\u001b[0m\u001b[1;33m)\u001b[0m\u001b[1;33m:\u001b[0m\u001b[1;33m\u001b[0m\u001b[0m\n\u001b[0;32m     71\u001b[0m                 \u001b[1;32mraise\u001b[0m \u001b[0mAnalysisException\u001b[0m\u001b[1;33m(\u001b[0m\u001b[0ms\u001b[0m\u001b[1;33m.\u001b[0m\u001b[0msplit\u001b[0m\u001b[1;33m(\u001b[0m\u001b[1;34m': '\u001b[0m\u001b[1;33m,\u001b[0m \u001b[1;36m1\u001b[0m\u001b[1;33m)\u001b[0m\u001b[1;33m[\u001b[0m\u001b[1;36m1\u001b[0m\u001b[1;33m]\u001b[0m\u001b[1;33m,\u001b[0m \u001b[0mstackTrace\u001b[0m\u001b[1;33m)\u001b[0m\u001b[1;33m\u001b[0m\u001b[0m\n",
      "\u001b[1;31mAnalysisException\u001b[0m: 'Unable to infer schema for Parquet. It must be specified manually.;'"
     ]
    }
   ],
   "source": [
    "# Load data  \n",
    "df_films = spark.read.parquet(\"parquets/filmsclean.parquet\")"
   ]
  },
  {
   "cell_type": "code",
   "execution_count": 54,
   "metadata": {
    "scrolled": false
   },
   "outputs": [],
   "source": [
    "# Generating the df of statistics \n",
    "df_stats = word_statistics(df_films)"
   ]
  },
  {
   "cell_type": "markdown",
   "metadata": {},
   "source": [
    "### Trailers in the dataset"
   ]
  },
  {
   "cell_type": "markdown",
   "metadata": {},
   "source": [
    "With this new statisitics computed, we noticed that some subtitles managed to passe through our filters.\n",
    "To discard those subtitles we look at how many words are used.\n",
    "We choose to discard words that used less than 600 words.  \n",
    "The idea is : Eminem in his song \"Rap God\" has the world record of words pronounced in a given time. \n",
    "On averaged he pronounced 4,28 words per sec.\n",
    "Thus, we expect people to speak at most at 2 words per sec. \n",
    "If a trailer lasts at maximum 300 seconds, that leads us to 600 words. \n",
    "Hence we discard the subtitles that have less 600 words.\n",
    "\n",
    "To add, nobody speaks faster than that so we remove movies that lead to a higher word per sec value."
   ]
  },
  {
   "cell_type": "code",
   "execution_count": 55,
   "metadata": {},
   "outputs": [],
   "source": [
    "df_stats = df_stats.filter(df_stats['num_words'] > 600)\n",
    "df_stats = df_stats.filter(~(df_stats['words_per_min']/60 > 4.28 ))"
   ]
  },
  {
   "cell_type": "code",
   "execution_count": 56,
   "metadata": {},
   "outputs": [],
   "source": [
    "df_stats.write.mode(\"overwrite\").parquet(\"parquets/statsclean.parquet\")"
   ]
  },
  {
   "cell_type": "code",
   "execution_count": 57,
   "metadata": {},
   "outputs": [],
   "source": [
    "df_films = df_films.join(other=df_stats.select('tconst'), \n",
    "                         on='tconst',\n",
    "                         how='inner')"
   ]
  },
  {
   "cell_type": "code",
   "execution_count": 58,
   "metadata": {},
   "outputs": [],
   "source": [
    "df_films = df_films.drop_duplicates()"
   ]
  },
  {
   "cell_type": "code",
   "execution_count": 59,
   "metadata": {},
   "outputs": [
    {
     "name": "stdout",
     "output_type": "stream",
     "text": [
      "+---------+-------------+----+------+------------------+--------------------+\n",
      "|   tconst|num_sentences|year|blocks|     subtitle_mins|           subtitles|\n",
      "+---------+-------------+----+------+------------------+--------------------+\n",
      "|tt0032553|         1482|1940|  1268| 59.71666666666667|[[At, the, end, o...|\n",
      "|tt0032599|         2883|1940|  1973|             31.35|[[Copy, boy], [Ma...|\n",
      "|tt0036323|         1272|1943|   499|             33.85|[[US, Tank, Detac...|\n",
      "|tt0039305|         1597|1947|  1148|              36.1|[[Get, your, Sund...|\n",
      "|tt0063688|         1033|1968|   768| 40.68333333333333|[[What, goin, on,...|\n",
      "|tt0066193|         1729|1970|  1023| 32.93333333333333|[[Gwen, come, on]...|\n",
      "|tt0100142|         1940|1990|  1517| 36.21666666666667|[[You, mustn, lis...|\n",
      "|tt0102216|         1561|1991|  1446| 33.38333333333333|[[The, rain, appe...|\n",
      "|tt0107840|         1737|1993|  1085| 43.88333333333333|[[You, like, the,...|\n",
      "|tt0117718|         1114|1996|  1183|52.333333333333336|[[Maine, Tourist,...|\n",
      "|tt0204946|         1823|2000|  1308|26.733333333333334|[[I, bitchin, gre...|\n",
      "|tt0383028|         2065|2008|  1484|              60.3|[[on, this, beaut...|\n",
      "|tt0449010|          916|2006|   879|             32.95|[[There, was, a, ...|\n",
      "|tt0456165|         2886|2005|  1173| 87.03333333333333|[[Good, Mornig, M...|\n",
      "|tt0463854|         1033|2007|   734|29.916666666666668|[[What, gonna, co...|\n",
      "|tt0464049|         1989|2006|   793|             47.65|[[d, Wish, me, lu...|\n",
      "|tt1031969|         2242|2008|   651| 37.88333333333333|[[BAND, PLAYING, ...|\n",
      "|tt1188990|          486|2008|   352|22.066666666666666|[[Cold, Prey, II]...|\n",
      "|tt1280558|         1552|2008|   564|            123.85|[[I, am, retiring...|\n",
      "|tt1529572|         1833|2010|  1606| 39.06666666666667|[[Cheerful, pop, ...|\n",
      "+---------+-------------+----+------+------------------+--------------------+\n",
      "only showing top 20 rows\n",
      "\n"
     ]
    }
   ],
   "source": [
    "df_films.show()"
   ]
  },
  {
   "cell_type": "code",
   "execution_count": 63,
   "metadata": {
    "scrolled": true
   },
   "outputs": [],
   "source": [
    "#df_films.write.mode(\"overwrite\").parquet(\"parquets/filmsclean.parquet\") #TODO Virer cette ligne ou la faire "
   ]
  },
  {
   "cell_type": "markdown",
   "metadata": {},
   "source": [
    "### Plots "
   ]
  },
  {
   "cell_type": "markdown",
   "metadata": {},
   "source": [
    "We provide a descriptive analysis of our features by producing scatter plots and histograms. We convert our Spark dataframe to a Pandas dataframe in order to produce plots."
   ]
  },
  {
   "cell_type": "markdown",
   "metadata": {},
   "source": [
    "#### Conversion to pandas dataframe "
   ]
  },
  {
   "cell_type": "code",
   "execution_count": null,
   "metadata": {},
   "outputs": [],
   "source": [
    "# Load from parquet \n",
    "df_words_stats = spark.read.parquet(\"parquets/statsclean.parquet\")"
   ]
  },
  {
   "cell_type": "code",
   "execution_count": null,
   "metadata": {},
   "outputs": [],
   "source": [
    "# join with ratings to get average rating: \n",
    "df_words_ratings = df_words_stats.join(other=df_ratings, \n",
    "                                       on='tconst', \n",
    "                                       how='inner')\n",
    "# join with basics to get title:\n",
    "df_words_ratings = df_words_ratings.join(other=df_basics.select('tconst',\n",
    "                                                                'originalTitle', \n",
    "                                                                'titleType'), \n",
    "                                         on='tconst', \n",
    "                                         how='inner')"
   ]
  },
  {
   "cell_type": "code",
   "execution_count": null,
   "metadata": {},
   "outputs": [],
   "source": [
    "df_words_ratings_pd = df_words_ratings.toPandas()"
   ]
  },
  {
   "cell_type": "code",
   "execution_count": null,
   "metadata": {
    "scrolled": true
   },
   "outputs": [],
   "source": [
    "df_words_ratings_pd.head()"
   ]
  },
  {
   "cell_type": "code",
   "execution_count": null,
   "metadata": {
    "scrolled": false
   },
   "outputs": [],
   "source": [
    "features = [\"words_per_min\", \"distinct_words_per_min\",\"sentences_per_min\",\"mean_length_sentences\",  \"distinct_index\",\"times_ratio\"]\n",
    "df_words_ratings_pd.describe()[features]"
   ]
  },
  {
   "cell_type": "markdown",
   "metadata": {},
   "source": [
    "### Scatter plots"
   ]
  },
  {
   "cell_type": "markdown",
   "metadata": {},
   "source": [
    "We compute the correlation between our statistics and the average rating of a film and we look at different scatter plots. On the X-axis we put our statistics and on the Y-axis the average rating. We want to use the features that reveal the most information about the rating of a movie for a regression."
   ]
  },
  {
   "cell_type": "code",
   "execution_count": null,
   "metadata": {},
   "outputs": [],
   "source": [
    "df_words_ratings_pd[\"averageRating\"].corr()[\"features\"]"
   ]
  },
  {
   "cell_type": "code",
   "execution_count": null,
   "metadata": {},
   "outputs": [],
   "source": [
    "fig, axes = plt.subplots(nrows=3, \n",
    "                         ncols=2, \n",
    "                         figsize=(30,30))\n",
    "\n",
    "df_words_ratings_pd.plot(kind=\"scatter\",\n",
    "                         ax=axes[0,0],\n",
    "                         x=\"words_per_min\",\n",
    "                         y=\"averageRating\",\n",
    "                         fontsize=20)\n",
    "df_words_ratings_pd.plot(kind=\"scatter\",\n",
    "                         ax=axes[0,1],\n",
    "                         sharey=True,\n",
    "                         x=\"distinct_words_per_min\", \n",
    "                         y=\"averageRating\",\n",
    "                         fontsize=20)\n",
    "df_words_ratings_pd.plot(kind=\"scatter\",\n",
    "                         ax=axes[1,0],\n",
    "                         x=\"sentences_per_min\", \n",
    "                         y=\"averageRating\",\n",
    "                         fontsize=20)\n",
    "df_words_ratings_pd.plot(kind=\"scatter\",\n",
    "                         ax=axes[1,1],\n",
    "                         x=\"mean_length_sentences\", \n",
    "                         y=\"averageRating\",\n",
    "                         fontsize=20)\n",
    "df_words_ratings_pd.plot(kind=\"scatter\",\n",
    "                         ax=axes[2,0],\n",
    "                         x=\"distinct_index\", \n",
    "                         y=\"averageRating\",\n",
    "                         fontsize=20)\n",
    "df_words_ratings_pd.plot(kind=\"scatter\",\n",
    "                         ax=axes[2,1],\n",
    "                         x=\"times_ratio\", \n",
    "                         y=\"averageRating\",\n",
    "                         fontsize=20)\n",
    "\n",
    "axes[0,0].set_xlabel(\"Words per minute\", \n",
    "                     fontsize=24)\n",
    "axes[0,1].set_xlabel(\"Distinct words per minute\", \n",
    "                     fontsize=24)\n",
    "axes[1,0].set_xlabel(\"Sentences per minute\", \n",
    "                     fontsize=24)\n",
    "axes[1,1].set_xlabel(\"Mean length sentences\", \n",
    "                     fontsize=24)\n",
    "axes[2,0].set_xlabel(\"Distinct index\", \n",
    "                     fontsize=24)\n",
    "axes[2,1].set_xlabel(\"$\\\\tau_{subs}/ \\\\tau_{movies} [\\\\%]$\", \n",
    "                     fontsize=24)\n",
    "\n",
    "axes[0,0].set_ylabel(\"Average IMDb rating\", \n",
    "                     fontsize=24)\n",
    "axes[1,0].set_ylabel(\"Average IMDb rating\", \n",
    "                     fontsize=24)\n",
    "axes[2,0].set_ylabel(\"Average IMDb rating\", \n",
    "                     fontsize=24)\n",
    "axes[2,1].set_xlim(0,100);\n"
   ]
  },
  {
   "cell_type": "markdown",
   "metadata": {},
   "source": [
    "#### Analysis\n"
   ]
  },
  {
   "cell_type": "markdown",
   "metadata": {},
   "source": [
    "The plots of word features, ``words per minute`` and ``distinct words per minute``  reveal that there is no clear distinction in the average IMDb rating based on the number of words employed in a movie.\n",
    "\n",
    "* The idea behind the ratio $\\frac{Number\\;of\\;Words}{\\text{Length of Movie}}$ is simply to take into account that a movie that is longer could have in proportion the same amount of words employed. Indeed, a longer movie is not necessarly more verbose, it could only have more words used in it because it is longer. \n",
    "* The second plot where we take into account also distinct words per minute does not provide much more information than the first and actually shows data more evenly distributed. \n",
    "\n",
    "From the ``mean sentence length`` plot, it appears that again no clear trend can be established based on this statistics. \n",
    "Nevertherless, it seems that a larger number of sentences for the raw number of sentences and normalized with respect to movie length, correlates positevely with a higher IMDb rating. \n",
    "To have a higher IMDb rating it is not necessary to have longer sentences, as most of data is packed between a 1'000 and 3'000 sentences in the subtitles.  \n",
    "But, it can be observed that a positive correlation appears for the movies with the longest sentences: looking at the data on the right edge of the blobe shows that as the number of sentences increase, the average IMDb rating increases, as if passed a certain number of sentences guarantees a certain IMDb average rating. \n",
    "Without doubt, it is not the effect of longer sentences that is observed here, but longer sentences are more complicated to be written. Thus it can give an idea on how well the scripts of this movies where written and that could correlate positively with higher IMDb.\n"
   ]
  },
  {
   "cell_type": "markdown",
   "metadata": {},
   "source": [
    "#### Outliers"
   ]
  },
  {
   "cell_type": "markdown",
   "metadata": {},
   "source": [
    "It is also interesting to see what is up with the outliers in our plots, we can see some values in extremely isolated places and we want to explain why they have such values"
   ]
  },
  {
   "cell_type": "markdown",
   "metadata": {},
   "source": [
    "### Histograms\n",
    "We also plot histograms of each feature for films considered \"good\" and \"bad\". We take a balanced set of good and bad films by considering good films as the ones that have more than 8 as IMDb rating and bad those who have less than 5.2."
   ]
  },
  {
   "cell_type": "code",
   "execution_count": null,
   "metadata": {},
   "outputs": [],
   "source": [
    "bad_movies = df_words_ratings_pd[df_words_ratings_pd.averageRating <= 5.2]\n",
    "good_movies = df_words_ratings_pd[df_words_ratings_pd.averageRating >= 8]"
   ]
  },
  {
   "cell_type": "code",
   "execution_count": null,
   "metadata": {},
   "outputs": [],
   "source": [
    "print(\"Number of bad movies: {}\".format(bad_movies[\"tconst\"].count())) \n",
    "print(\"Number of good movies: {}\".format(good_movies[\"tconst\"].count()))"
   ]
  },
  {
   "cell_type": "code",
   "execution_count": null,
   "metadata": {
    "scrolled": false
   },
   "outputs": [],
   "source": [
    "fig, axes = plt.subplots(nrows=3, \n",
    "                         ncols=2, \n",
    "                         figsize=(30,30))\n",
    "\n",
    "bad_movies[\"words_per_min\"].plot(kind=\"hist\",\n",
    "                                 ax=axes[0,0],\n",
    "                                 fontsize=20, \n",
    "                                 alpha=0.8, \n",
    "                                 label=\"bad films\", \n",
    "                                 bins=20)\n",
    "good_movies[\"words_per_min\"].plot(kind=\"hist\",\n",
    "                                  ax=axes[0,0],\n",
    "                                  fontsize=20,\n",
    "                                  alpha=0.6, \n",
    "                                  label=\"good films\",\n",
    "                                  bins=20)\n",
    "\n",
    "bad_movies[\"distinct_words_per_min\"].plot(kind=\"hist\",\n",
    "                                          ax=axes[0,1],\n",
    "                                          fontsize=20, \n",
    "                                          alpha=0.8,  \n",
    "                                          label=\"bad films\", \n",
    "                                          bins=20)\n",
    "good_movies[\"distinct_words_per_min\"].plot(kind=\"hist\",\n",
    "                                           ax=axes[0,1],\n",
    "                                           fontsize=20,\n",
    "                                           alpha=0.6, \n",
    "                                           label=\"good films\", \n",
    "                                           bins=20)\n",
    "\n",
    "bad_movies[\"sentences_per_min\"].plot(kind=\"hist\",\n",
    "                                     ax=axes[1,0],\n",
    "                                     fontsize=20, \n",
    "                                     alpha=0.8,  \n",
    "                                     label=\"bad films\", \n",
    "                                     bins=20)\n",
    "good_movies[\"sentences_per_min\"].plot(kind=\"hist\",\n",
    "                                      ax=axes[1,0],\n",
    "                                      fontsize=20,\n",
    "                                      alpha=0.6, \n",
    "                                      label=\"good films\", \n",
    "                                      bins=20)\n",
    "\n",
    "bad_movies[\"mean_length_sentences\"].plot(kind=\"hist\",\n",
    "                                         ax=axes[1,1],\n",
    "                                         fontsize=20, \n",
    "                                         alpha=0.8,  \n",
    "                                         label=\"bad films\", \n",
    "                                         bins=20)\n",
    "good_movies[\"mean_length_sentences\"].plot(kind=\"hist\",\n",
    "                                          ax=axes[1,1],\n",
    "                                          fontsize=20,\n",
    "                                          alpha=0.6, \n",
    "                                          label=\"good films\", \n",
    "                                          bins=20)\n",
    "\n",
    "bad_movies[\"distinct_index\"].plot(kind=\"hist\",\n",
    "                                  ax=axes[2,0],\n",
    "                                  fontsize=20, \n",
    "                                  alpha=0.8,  \n",
    "                                  label=\"bad films\", \n",
    "                                  bins=20)\n",
    "good_movies[\"distinct_index\"].plot(kind=\"hist\",\n",
    "                                   ax=axes[2,0],\n",
    "                                   fontsize=20,\n",
    "                                   alpha=0.6, \n",
    "                                   label=\"good films\", \n",
    "                                   bins=20)\n",
    "\n",
    "bad_movies[\"times_ratio\"].plot(kind=\"hist\",\n",
    "                               ax=axes[2,1],\n",
    "                               fontsize=20, \n",
    "                               alpha=0.8,  \n",
    "                               label=\"bad films\", \n",
    "                               bins=20)\n",
    "good_movies[\"times_ratio\"].plot(kind=\"hist\",\n",
    "                                ax=axes[2,1],\n",
    "                                fontsize=20,\n",
    "                                alpha=0.6, \n",
    "                                label=\"good films\", \n",
    "                                bins=20)\n",
    "\n",
    "\n",
    "axes[0,0].set_xlabel(\"Words per minute\", \n",
    "                     fontsize=24)\n",
    "axes[0,1].set_xlabel(\"Distinct words per minute\", \n",
    "                     fontsize=24)\n",
    "axes[1,0].set_xlabel(\"Sentences per minute\", \n",
    "                     fontsize=24)\n",
    "axes[1,1].set_xlabel(\"Mean length sentences\", \n",
    "                     fontsize=24)\n",
    "axes[2,0].set_xlabel(\"Distinct index\", \n",
    "                     fontsize=24)\n",
    "axes[2,1].set_xlabel(\"Subtitles to movie duration\", \n",
    "                     fontsize=24)\n",
    "\n",
    "axes[2,1].set_xlim(0,100)\n",
    "\n",
    "\n",
    "axes[0,0].set_ylabel(\"Frequency\", \n",
    "                     fontsize=24)\n",
    "axes[1,0].set_ylabel(\"Frequency\", \n",
    "                     fontsize=24)\n",
    "axes[0,1].set_ylabel(\"Frequency\", \n",
    "                     fontsize=24)\n",
    "axes[1,1].set_ylabel(\"Frequency\", \n",
    "                     fontsize=24)\n",
    "axes[2,0].set_ylabel(\"Frequency\", \n",
    "                     fontsize=24)\n",
    "axes[2,1].set_ylabel(\"Frequency\", \n",
    "                     fontsize=24)\n",
    "\n",
    "axes[0,0].legend(loc=\"upper right\", fontsize=20)\n",
    "axes[0,1].legend(loc=\"upper right\", fontsize=20)\n",
    "axes[1,0].legend(loc=\"upper right\", fontsize=20)\n",
    "axes[1,1].legend(loc=\"upper right\", fontsize=20)\n",
    "axes[2,0].legend(loc=\"upper right\", fontsize=20)\n",
    "axes[2,1].legend(loc=\"upper right\", fontsize=20)\n",
    "\n",
    "plt.savefig('graphs/histograms.png')"
   ]
  },
  {
   "cell_type": "markdown",
   "metadata": {},
   "source": [
    "#### Analysis\n",
    "As we can see from the resulting histograms, for all the different features we have distributions centered around the same values for both good and bad films. There is however a difference in the deviation from feature to feature. We can see for example that the mean length of sentence for good films takes larger values."
   ]
  },
  {
   "cell_type": "markdown",
   "metadata": {},
   "source": [
    "We compute the difference between our groups descriptive statistics aswell to get numerical results."
   ]
  },
  {
   "cell_type": "code",
   "execution_count": null,
   "metadata": {
    "scrolled": true
   },
   "outputs": [],
   "source": [
    "good_movies.describe()[features[:4]] - bad_movies.describe()[features[:4]]"
   ]
  },
  {
   "cell_type": "markdown",
   "metadata": {},
   "source": [
    "We can see that indeed both good and bad movie feature distributions are centered in similar axes and that apart from sentences per minute, the good films tend to have bigger standard deviations per film. "
   ]
  },
  {
   "cell_type": "markdown",
   "metadata": {},
   "source": [
    "#### Plots for words "
   ]
  },
  {
   "cell_type": "markdown",
   "metadata": {},
   "source": [
    "We start with the word features of subtitles. "
   ]
  },
  {
   "cell_type": "code",
   "execution_count": null,
   "metadata": {
    "scrolled": false
   },
   "outputs": [],
   "source": [
    "ax = df_words_ratings_pd.plot.scatter(\"num_words\", \n",
    "                                      \"averageRating\",\n",
    "                                      figsize=(6,6),\n",
    "                                      fontsize=14)\n",
    "ax.set_xlabel('Number of words', fontsize=14)\n",
    "ax.set_ylabel('Average IMDb Rating', fontsize=14)\n",
    "plt.show()"
   ]
  },
  {
   "cell_type": "markdown",
   "metadata": {},
   "source": [
    "##### Outlier\n",
    "We see an outlier in our scatter plot."
   ]
  },
  {
   "cell_type": "code",
   "execution_count": null,
   "metadata": {},
   "outputs": [],
   "source": [
    "df_words_ratings_pd.iloc[df_words_ratings_pd[\"num_words\"].idxmax()][\"originalTitle\"]"
   ]
  },
  {
   "cell_type": "markdown",
   "metadata": {},
   "source": [
    "It is natural for a longer film to have more words so we divide the number of words by the runtime of the movie."
   ]
  },
  {
   "cell_type": "code",
   "execution_count": null,
   "metadata": {
    "scrolled": false
   },
   "outputs": [],
   "source": [
    "ax = df_words_ratings_pd.plot.scatter(\"words_per_min\", \n",
    "                                      \"averageRating\",\n",
    "                                      figsize=(6,6),\n",
    "                                      fontsize=14)\n",
    "plt.xlabel('Number of words per min', fontsize=14)\n",
    "plt.ylabel('Average IMDb Rating', fontsize=14)\n",
    "plt.show()"
   ]
  },
  {
   "cell_type": "markdown",
   "metadata": {},
   "source": [
    "As we can see there is no outlier like in our previous plot. This statistic still does not reveal much about rating. "
   ]
  },
  {
   "cell_type": "code",
   "execution_count": null,
   "metadata": {},
   "outputs": [],
   "source": [
    "plt.figure(figsize=(6,6))\n",
    "good_movies[\"num_words\"].plot.hist(bins=40,\n",
    "                                   fontsize=14, \n",
    "                                   alpha=0.8,\n",
    "                                   label=\"good films\")\n",
    "bad_movies[\"num_words\"].plot.hist(bins=40,\n",
    "                                  fontsize=14, \n",
    "                                  alpha=0.6, \n",
    "                                  label=\"bad films\")\n",
    "plt.xlabel('Number of words', fontsize=14)\n",
    "plt.ylabel('Frequency',fontsize=14)\n",
    "plt.legend(loc=\"upper right\", fontsize=12)\n",
    "plt.show()"
   ]
  },
  {
   "cell_type": "markdown",
   "metadata": {},
   "source": [
    "There does not seem to be a major relation between the number of words in a movie and its rating, both good and bad films distributions are pretty similar though more words in a film seems to help it have a better rating."
   ]
  },
  {
   "cell_type": "code",
   "execution_count": null,
   "metadata": {},
   "outputs": [],
   "source": [
    "plt.figure(figsize=(6,6))\n",
    "good_movies[\"words_per_min\"].plot.hist(bins=40,\n",
    "                                       fontsize=14, \n",
    "                                       alpha=0.8,\n",
    "                                       label=\"good films\")\n",
    "bad_movies[\"words_per_min\"].plot.hist(bins=40,\n",
    "                                      fontsize=14, \n",
    "                                      alpha=0.6, \n",
    "                                      label=\"bad films\")\n",
    "plt.xlabel('Number of words per min',fontsize=14)\n",
    "plt.ylabel('Frequency', fontsize=14)\n",
    "plt.legend(loc=\"upper right\", fontsize=12)\n",
    "plt.show()"
   ]
  },
  {
   "cell_type": "markdown",
   "metadata": {},
   "source": [
    "Both good and bad films distributions of number of words per minute are very similar."
   ]
  },
  {
   "cell_type": "markdown",
   "metadata": {},
   "source": [
    "##### Comments :"
   ]
  },
  {
   "cell_type": "markdown",
   "metadata": {},
   "source": [
    "The plots reveal that there is no clear distinction in the average IMDb rating based on the number of words employed in a movie.\n",
    "\n",
    "* The first plot shows that most of the film use 5'000 to 15'000 words but that does not have a significant impact on the rating.\n",
    "* The idea behind the ratio $\\frac{Number\\;of\\;Words}{\\text{Length of Movie}}$ is simply to take into account that a movie that is longer could have in proportion the same amount of words employed. Indeed, a longer movie is not necessarly more verbose, it could only have more words used in it because it is longer. \n",
    "* The second does not provide much more information than the first and actually shows data more evenly distributed. \n"
   ]
  },
  {
   "cell_type": "markdown",
   "metadata": {},
   "source": [
    "#### Plots for distinct words : "
   ]
  },
  {
   "cell_type": "markdown",
   "metadata": {},
   "source": [
    "Doing the same analysis for distinct words, we expect movies that use a larger spread of vocabulary to have a more complex and rich script and thus to be better movies. "
   ]
  },
  {
   "cell_type": "code",
   "execution_count": null,
   "metadata": {
    "scrolled": false
   },
   "outputs": [],
   "source": [
    "ax = df_words_ratings_pd.plot.scatter(\"distinct_words_per_min\", \n",
    "                                      \"averageRating\",\n",
    "                                      figsize=(6,6),\n",
    "                                      fontsize=14)\n",
    "plt.xlabel('Number of distinct words per min', fontsize=14)\n",
    "plt.ylabel('Average IMDb Rating', fontsize=14)\n",
    "plt.show()"
   ]
  },
  {
   "cell_type": "code",
   "execution_count": null,
   "metadata": {},
   "outputs": [],
   "source": [
    "#TODO : what's up with this \n",
    "# df_words_ratings_pd.iloc[df_words_ratings_pd[\"num_distinct_words\"].idxmax()][\"originalTitle\"]"
   ]
  },
  {
   "cell_type": "code",
   "execution_count": null,
   "metadata": {},
   "outputs": [],
   "source": [
    "good_movies[\"num_distinct_words\"].plot.hist(bins=40,\n",
    "                                            alpha=0.8,\n",
    "                                            label=\"good films\")\n",
    "bad_movies[\"num_distinct_words\"].plot.hist(bins=40,\n",
    "                                           figsize=(6,6), \n",
    "                                           fontsize=14,alpha=0.6,\n",
    "                                           label=\"bad films\")\n",
    "\n",
    "plt.xlabel('Number of distinct words', fontsize=14)\n",
    "plt.ylabel('Frequency', fontsize=14)\n",
    "plt.legend(loc=\"upper right\", fontsize=12)\n",
    "plt.show()"
   ]
  },
  {
   "cell_type": "markdown",
   "metadata": {},
   "source": [
    "Again, no general trend can be seen. To bring all movies on equal footing regarding the number of distinct words used in their subtitles, the number of distinct words is divided by : \n",
    "* the length of the movie\n",
    "* the number of words used \n",
    "* the number of sentences \n",
    "and multiplied by 1000 to have larger numbers. \n",
    "The intuition is that any of these three parameters could influence the distinct number of words used : \n",
    "* longer movies provide more chances to use different words\n",
    "* the more words used, the more diverse they can be\n",
    "* more sentences provide more occasions to employ a larger vocabulary"
   ]
  },
  {
   "cell_type": "code",
   "execution_count": null,
   "metadata": {
    "scrolled": false
   },
   "outputs": [],
   "source": [
    "ax = df_words_ratings_pd.plot.scatter(\"distinct_index\",\n",
    "                                      \"averageRating\",\n",
    "                                      figsize=(8,6), \n",
    "                                      fontsize=14)\n",
    "plt.xlabel('Distinct Index', fontsize=14)\n",
    "plt.ylabel('Average IMDb Rating', fontsize=14)\n",
    "plt.show()"
   ]
  },
  {
   "cell_type": "code",
   "execution_count": null,
   "metadata": {},
   "outputs": [],
   "source": [
    "df_words_ratings_pd['distinct_index'].describe()"
   ]
  },
  {
   "cell_type": "markdown",
   "metadata": {},
   "source": [
    "By looking at the plot `distinct_index` vs `averageRating` and statistic description, we see that most of the movies are agglutinated to a single value as shown by the mean and the quartiles."
   ]
  },
  {
   "cell_type": "markdown",
   "metadata": {},
   "source": [
    "##### Comments :"
   ]
  },
  {
   "cell_type": "markdown",
   "metadata": {},
   "source": [
    "Again no clear trend can be seen. \"Good\" or \"bad\" movies are apparently are unfortunately undistinguishable from the point of view of distinct.\n",
    "Some \"outliers\" showed up as we can see in the last plot. \n",
    "The only info we can retrieve from this that some extremely verbose movie was a success but that does not mean that it sufficient to be a good movie. "
   ]
  },
  {
   "cell_type": "markdown",
   "metadata": {},
   "source": [
    "#### Plots for the number of  sentences and the mean length of sentences"
   ]
  },
  {
   "cell_type": "markdown",
   "metadata": {},
   "source": [
    "We now instead of looking at the number of words, we look at the number of sentences, to see if this metric reveals something, though by what we found earlier with words, the distribution should be fairly similar."
   ]
  },
  {
   "cell_type": "code",
   "execution_count": null,
   "metadata": {
    "scrolled": false
   },
   "outputs": [],
   "source": [
    "ax = df_words_ratings_pd.plot.scatter(\"sentences_per_min\", \n",
    "                                      \"averageRating\",\n",
    "                                      figsize=(6,6),\n",
    "                                      fontsize=14)\n",
    "plt.xlabel('Number of sentences per min', fontsize=14)\n",
    "plt.ylabel('Average IMDb Rating', fontsize=14)\n",
    "plt.show()"
   ]
  },
  {
   "cell_type": "markdown",
   "metadata": {},
   "source": []
  },
  {
   "cell_type": "code",
   "execution_count": null,
   "metadata": {
    "scrolled": false
   },
   "outputs": [],
   "source": [
    "# TODO do somtehing to visualize both \n",
    "good_movies[\"sentences_per_min\"].plot.hist(bins=40, \n",
    "                                           alpha=0.8,\n",
    "                                           label=\"good films\")\n",
    "bad_movies[\"sentences_per_min\"].plot.hist(bins=40,\n",
    "                                          figsize=(6,6),\n",
    "                                          fontsize=14,\n",
    "                                          alpha=0.6,\n",
    "                                          label=\"bad films\")\n",
    "plt.xlabel('Sentences per min', fontsize=14)\n",
    "plt.ylabel('Frequency', fontsize=14)\n",
    "plt.legend(loc=\"upper right\", fontsize=12)\n",
    "plt.show()"
   ]
  },
  {
   "cell_type": "markdown",
   "metadata": {},
   "source": [
    "This last plot on the number of sentences shows that this features is not polarized between good or bad movies : \"good\" movies do not necessarly have long or short sentences and vice-versa for \"bad\" movies. "
   ]
  },
  {
   "cell_type": "markdown",
   "metadata": {},
   "source": [
    "We continue the analysis at a different scale looking at the number of sentences in the movies and  the mean length of the sentences.  \n",
    "We define such quantity as : $\\bar{L} = \\frac{1}{N}\\sum_{s} l_{s}$ where $\\bar{L}$ is the average length of sentences, $l_s$ is the length of the sentence indexed by $s$ and $N$ the total number of sentences in the subtitle of the movie. \n",
    "$l_s$ is simply the number of words in a sentence."
   ]
  },
  {
   "cell_type": "code",
   "execution_count": null,
   "metadata": {
    "scrolled": false
   },
   "outputs": [],
   "source": [
    "ax = df_words_ratings_pd.plot.scatter(\"mean_length_sentences\", \"averageRating\",\n",
    "                                      figsize=(6,6),\n",
    "                                      fontsize=14)\n",
    "plt.xlabel('Mean length of sentences ', fontsize=14)\n",
    "plt.ylabel('Average IMDb rating', fontsize=14)\n",
    "plt.show()"
   ]
  },
  {
   "cell_type": "code",
   "execution_count": null,
   "metadata": {},
   "outputs": [],
   "source": [
    "plt.figure(figsize=(6,6))\n",
    "good_movies[\"mean_length_sentences\"].plot.hist(bins=40,\n",
    "                                               fontsize=14, \n",
    "                                               alpha=0.8,\n",
    "                                               label=\"good films\")\n",
    "bad_movies[\"mean_length_sentences\"].plot.hist(bins=40,\n",
    "                                              fontsize=14, \n",
    "                                              alpha=0.6,\n",
    "                                              label=\"bad films\")\n",
    "plt.xlabel('Mean length of sentences',fontsize=14);\n",
    "plt.ylabel('Frequency',fontsize=14); \n",
    "plt.legend(loc=\"upper right\", fontsize=12)\n",
    "plt.show()"
   ]
  },
  {
   "cell_type": "markdown",
   "metadata": {},
   "source": [
    "No plot show some clear difference between the two classes considered: \"good\" and \"bad\" movies can not be distinguished by the mean length of sentences.\n",
    "An explanation for this is found when considering the purpose the main use of subtitles in movies : dialogue.\n",
    "Dialogues tends to employ short sentences and in general, many people prefer short sentences as they are more easily understood. So the idea of longer sentences implying more \"written\". \n",
    "Nevertheless by looking at the plots of the total number of words versus the avarge IMDb rating it appear that writting longer sentences correlates positevely with the higher IMDb ratings (at the right edge of the blob made by the data). \n",
    "So what could be said is that, it is not a necessary condition but it seems that movies with the longest sentences on average have the better IMDb ratings in the end. "
   ]
  },
  {
   "cell_type": "markdown",
   "metadata": {},
   "source": [
    "#### Plots for durations \n",
    "\n",
    "We look at the subtitle minutes in a film and also the subtitle minutes/runtime minues ratio, meaning the amount of time spoken in a film relative to the total runtime"
   ]
  },
  {
   "cell_type": "code",
   "execution_count": null,
   "metadata": {
    "scrolled": false
   },
   "outputs": [],
   "source": [
    "ax = df_words_ratings_pd.plot.scatter(\"subtitle_mins\", \"averageRating\",figsize=(6,6),fontsize=14);\n",
    "plt.xlabel('Subtitle minutes', fontsize=14);\n",
    "plt.ylabel('Average IMDb rating', fontsize=14)\n",
    "plt.show()"
   ]
  },
  {
   "cell_type": "code",
   "execution_count": null,
   "metadata": {
    "scrolled": false
   },
   "outputs": [],
   "source": [
    "ax = df_words_ratings_pd.plot.scatter( \"times_ratio\", \"averageRating\",figsize=(6,6),fontsize=14);\n",
    "plt.xlabel('$\\\\tau_{subs}/ \\\\tau_{movies} [\\\\%]$', fontsize=14);\n",
    "plt.ylabel('Average IMDb rating', fontsize=14);\n",
    "plt.xlim(0,80)\n",
    "plt.show()"
   ]
  },
  {
   "cell_type": "markdown",
   "metadata": {},
   "source": [
    "#### Outlier?"
   ]
  },
  {
   "cell_type": "code",
   "execution_count": null,
   "metadata": {
    "scrolled": false
   },
   "outputs": [],
   "source": [
    "df_words_ratings_pd.corr()[\"averageRating\"].sort_values(ascending=False)"
   ]
  },
  {
   "cell_type": "markdown",
   "metadata": {},
   "source": [
    "### Word analysis"
   ]
  },
  {
   "cell_type": "markdown",
   "metadata": {},
   "source": [
    "We don't see any promising relations between the average rating of a film and the found statistics hence we decide to compute a final one representing the average word length in a film. We filter out stopwords to come up with the average length of words to extract a metric which helps us represent \"complexity\" of the movie, as longer words tend to be more complex words. We know this is not strictly true as we might find words in subtitles such as \"hahahaha\" but we compute it nontheless to see if we find some insightfull information."
   ]
  },
  {
   "cell_type": "code",
   "execution_count": null,
   "metadata": {},
   "outputs": [],
   "source": [
    "df_all = spark.read.parquet(\"parquets/words/allwords.parquet/\")\n",
    "df_film_words = spark.read.parquet(\"parquets/words/filmwords.parquet/\")\n",
    "df_all.sort(\"count\", ascending=False).show()\n",
    "df_film_words.sort(\"count\", ascending=False).show()"
   ]
  },
  {
   "cell_type": "code",
   "execution_count": null,
   "metadata": {},
   "outputs": [],
   "source": [
    "nlp = spacy.load('en')\n",
    "spacy_stopwords = set(spacy.lang.en.stop_words.STOP_WORDS)\n",
    "df_film_words_filtered = df_film_words.filter(~psf.lower(df_film_words.word).isin(spacy_stopwords)).sort(\"count\", ascending=False)\n",
    "df_all_filtered =df_all.filter(~psf.lower(df_all.word).isin(spacy_stopwords)).sort(\"count\", ascending=False)"
   ]
  },
  {
   "cell_type": "markdown",
   "metadata": {},
   "source": [
    "We calculate the average word length of each word considering only non-stop words"
   ]
  },
  {
   "cell_type": "code",
   "execution_count": null,
   "metadata": {},
   "outputs": [],
   "source": [
    "df_aux_word = df_film_words_filtered.selectExpr(\"tconst\", \"length(word) * count as product\", \"count\")\\\n",
    "                                    .groupBy(\"tconst\")\n",
    "df_word_length = df_aux_word.agg({\"count\": \"sum\", \n",
    "                                 \"product\": \"sum\"})\n",
    "df_word_length = df_word_length.withColumn(\"av_word_length\", \n",
    "                                           df_word_length[\"sum(product)\"] / df_word_length[\"sum(count)\"])\\\n",
    "                                .select(\"tconst\", \"av_word_length\")\n",
    "df_word_length.show()"
   ]
  },
  {
   "cell_type": "code",
   "execution_count": null,
   "metadata": {},
   "outputs": [],
   "source": [
    "df_word_length_pd = df_word_length.join(df_ratings, [\"tconst\"]).toPandas()"
   ]
  },
  {
   "cell_type": "code",
   "execution_count": null,
   "metadata": {},
   "outputs": [],
   "source": [
    "ax = df_word_length_pd.plot.scatter(\"av_word_length\", \n",
    "                                    \"averageRating\", \n",
    "                                    figsize=(6,6), \n",
    "                                    fontsize=14)\n",
    "\n",
    "df_word_length_pd[\"av_word_length\"].corr(df_word_length_pd[\"averageRating\"])\n",
    "plt.xlabel('Average Word length', fontsize=14);\n",
    "plt.ylabel('Average IMDb rating', fontsize=14);"
   ]
  },
  {
   "cell_type": "markdown",
   "metadata": {},
   "source": [
    "We can see that this feature does not reveal any insightfull information regarding the film rating hece we dont consider it as a feature for our classifier."
   ]
  },
  {
   "cell_type": "markdown",
   "metadata": {},
   "source": [
    "#### Outlier?\n",
    "There is a weird outlier in our distribution, we look into the subtitles to see why such anomaly is present"
   ]
  },
  {
   "cell_type": "markdown",
   "metadata": {},
   "source": [
    "We plot again the distribution without the outlier present to see if it might reveal a relation between average film rating and average word length."
   ]
  },
  {
   "cell_type": "code",
   "execution_count": null,
   "metadata": {},
   "outputs": [],
   "source": [
    "ax = df_word_length_pd.plot.scatter(\"av_word_length\", \n",
    "                                    \"averageRating\", \n",
    "                                    figsize=(6,6),\n",
    "                                    fontsize=14)\n",
    "df_word_length_pd.iloc[df_word_length_pd[\"av_word_length\"].idxmax()]\n",
    "plt.xlim(3,7)\n",
    "plt.xlabel('Average Word length', fontsize=14);\n",
    "plt.ylabel('Average IMDb rating', fontsize=14);"
   ]
  },
  {
   "cell_type": "markdown",
   "metadata": {},
   "source": [
    "# Trying to predict the IMDb average rating:"
   ]
  },
  {
   "cell_type": "markdown",
   "metadata": {},
   "source": [
    "Even though we don't see a big dependency between the statistics found and the movie rating, we'll try to do a regression model based on them to see its accuracy, how well it predicts the rating. We don't expect a good result from the exploration performed before. For the feature columns we take only those which had the bigger correlation and seemed to reveal more information about the rating."
   ]
  },
  {
   "cell_type": "code",
   "execution_count": null,
   "metadata": {},
   "outputs": [],
   "source": [
    "feature_columns = features\n",
    "X = df_words_ratings_pd[feature_columns]\n",
    "normal_X = (X- X.mean()) /X.std()\n",
    "normal_X = normal_X.fillna(0)\n",
    "y = df_words_ratings_pd[\"averageRating\"]"
   ]
  },
  {
   "cell_type": "code",
   "execution_count": null,
   "metadata": {
    "scrolled": true
   },
   "outputs": [],
   "source": [
    "regression = LinearRegression()\n",
    "predicted = cross_val_predict(regression, normal_X, y, cv=5)"
   ]
  },
  {
   "cell_type": "code",
   "execution_count": null,
   "metadata": {
    "scrolled": false
   },
   "outputs": [],
   "source": [
    "fig, ax = plt.subplots(figsize=(12, 8))\n",
    "ax.scatter(y, predicted, edgecolors=(0, 0, 0))\n",
    "ax.plot([min(y), max(y)], [min(y), max(y)], 'r--', lw=4)\n",
    "ax.set_xlabel('Original')\n",
    "ax.set_ylabel('Predicted')\n",
    "plt.show()"
   ]
  },
  {
   "cell_type": "markdown",
   "metadata": {},
   "source": [
    "As we can see and expected... no real causation, our model predicts that all films have a better rating than 6. This means that among the stats we have there is no information that might reveal when a film is bad."
   ]
  },
  {
   "cell_type": "markdown",
   "metadata": {},
   "source": [
    "These plots show us little relation between the found metrics and the actual film rating, the only thing we could state is that films with more text tend to be better rated. We now look at the different genres.\n"
   ]
  },
  {
   "cell_type": "markdown",
   "metadata": {},
   "source": [
    "## Text analysis"
   ]
  },
  {
   "cell_type": "markdown",
   "metadata": {},
   "source": [
    "As we can see, maybe using genre and the time period as parameter for a regression might result in better predictions, but it is clearly not good enough. We need to go deeper, look at the content of the actual text. We'll implement a sentiment analysis on some of the best films and some of the worst films and see if we can find some kind of dependency."
   ]
  },
  {
   "cell_type": "code",
   "execution_count": null,
   "metadata": {},
   "outputs": [],
   "source": [
    "df_films_strings = spark.read.parquet(\"parquets/filmtext.parquet/\")"
   ]
  },
  {
   "cell_type": "markdown",
   "metadata": {},
   "source": [
    "### SENTIMENT ANALYSIS. \n",
    "\n",
    "For the sentiment analysis we take as metrics the average positive and negative sentiment of the film which we define as the total positive (negative) score of each sentence, divided by the total number of sentences. As these are fairly heavy computations we will look at only the best and worst to start. (the 50 best and the 50 worst)"
   ]
  },
  {
   "cell_type": "code",
   "execution_count": null,
   "metadata": {},
   "outputs": [],
   "source": [
    "df_strings = df_films_strings.join(df_ratings, [\"tconst\"]).toPandas()"
   ]
  },
  {
   "cell_type": "code",
   "execution_count": null,
   "metadata": {},
   "outputs": [],
   "source": [
    "analyzer = SentimentIntensityAnalyzer()\n",
    "def av_sentiments_film(text):\n",
    "    document = nlp(text)\n",
    "    positive_sent = 0\n",
    "    negative_sent = 0\n",
    "    sents = document.sents\n",
    "    count = 0\n",
    "    for sent in sents:\n",
    "        positive_sent += analyzer.polarity_scores(sent.text)['pos']\n",
    "        negative_sent += analyzer.polarity_scores(sent.text)['neg']\n",
    "        count += 1\n",
    "    return (positive_sent/count, negative_sent/count)\n"
   ]
  },
  {
   "cell_type": "code",
   "execution_count": null,
   "metadata": {},
   "outputs": [],
   "source": [
    "#TODO CHoose number of subtitles,\n",
    "df_strings_best = df_strings.sort_values(\"averageRating\", ascending=False).head(100)\n",
    "df_strings_worst = df_strings.sort_values(\"averageRating\", ascending=True).head(100)\n",
    "df_strings_best[\"av_sentiment\"] = df_strings_best[\"text\"].apply(av_sentiments_film)\n",
    "df_strings_worst[\"av_sentiment\"] = df_strings_worst[\"text\"].apply(av_sentiments_film)\n"
   ]
  },
  {
   "cell_type": "code",
   "execution_count": null,
   "metadata": {},
   "outputs": [],
   "source": [
    "df_strings_best[['positive', 'negative']] = df_strings_best['av_sentiment'].apply(pd.Series)\n",
    "df_strings_worst[['positive', 'negative']] = df_strings_worst['av_sentiment'].apply(pd.Series)"
   ]
  },
  {
   "cell_type": "code",
   "execution_count": null,
   "metadata": {},
   "outputs": [],
   "source": [
    "print(\"The median positive sentiment of best and worst films is\")\n",
    "print(df_strings_best[\"positive\"].median())\n",
    "print(df_strings_worst[\"positive\"].median())"
   ]
  },
  {
   "cell_type": "code",
   "execution_count": null,
   "metadata": {
    "scrolled": true
   },
   "outputs": [],
   "source": [
    "ax = df_strings_best.plot.scatter(\"positive\", \"averageRating\")"
   ]
  },
  {
   "cell_type": "code",
   "execution_count": null,
   "metadata": {
    "scrolled": true
   },
   "outputs": [],
   "source": [
    "ax = df_strings_worst.plot.scatter(\"positive\", \"averageRating\")"
   ]
  },
  {
   "cell_type": "code",
   "execution_count": null,
   "metadata": {},
   "outputs": [],
   "source": [
    "df_strings_best[\"positive\"].plot.hist(alpha=0.8, label=\"best films\")\n",
    "df_strings_worst[\"positive\"].plot.hist(alpha=0.6, label=\"worst films\",figsize=(6,6),fontsize=14);\n",
    "plt.xlabel('Positive sentiment of movie ', fontsize=14);\n",
    "plt.ylabel('Frequency', fontsize=14);\n",
    "plt.legend(loc='upper right', fontsize=12)\n",
    "plt.show()"
   ]
  },
  {
   "cell_type": "code",
   "execution_count": null,
   "metadata": {
    "scrolled": true
   },
   "outputs": [],
   "source": [
    "ax = df_strings_best.plot.scatter(\"negative\", \"averageRating\")"
   ]
  },
  {
   "cell_type": "code",
   "execution_count": null,
   "metadata": {},
   "outputs": [],
   "source": [
    "ax = df_strings_worst.plot.scatter(\"negative\", \"averageRating\")"
   ]
  },
  {
   "cell_type": "code",
   "execution_count": null,
   "metadata": {},
   "outputs": [],
   "source": [
    "df_strings_best[\"negative\"].plot.hist(alpha=0.8, label=\"best films\")\n",
    "df_strings_worst[\"negative\"].plot.hist(alpha=0.6, label=\"worst films\",figsize=(6,6),fontsize=14);\n",
    "plt.xlabel('Negative sentiment of movie ', fontsize=14);\n",
    "plt.ylabel('Frequency', fontsize=14);\n",
    "plt.legend(loc='upper right', fontsize=12)\n",
    "plt.show()"
   ]
  },
  {
   "cell_type": "code",
   "execution_count": null,
   "metadata": {},
   "outputs": [],
   "source": [
    "print(\"Median negative sentiment of best and worst films is\")\n",
    "print(df_strings_best[\"negative\"].median())\n",
    "print(df_strings_worst[\"negative\"].median())"
   ]
  },
  {
   "cell_type": "markdown",
   "metadata": {},
   "source": [
    "This plots dont seem to give us any major relation between rating and average positive or negative sentiment of a film. We do not consider a larger data set as we can see no major relation.\n",
    "Only things we can conclude is that bad films in general, have more of a positive sentiment than a negative sentiment, that good films tend to be a tiny bit less positive and less negative. #TODO: c'est pas clair : en conclusion les good films sont plus neutres ?"
   ]
  },
  {
   "cell_type": "markdown",
   "metadata": {},
   "source": [
    "# Topic Detection"
   ]
  },
  {
   "cell_type": "markdown",
   "metadata": {},
   "source": [
    "### Start of processing "
   ]
  },
  {
   "cell_type": "code",
   "execution_count": null,
   "metadata": {},
   "outputs": [],
   "source": [
    "# Load data \n",
    "# Keeping only the subtiles\n",
    "df_text = spark.read.parquet('parquets/filmsclean2.parquet').select('tconst','subtitles')\n",
    "df_ratings = spark.read.parquet('parquets/ratings.parquet')\n",
    "df_basics = spark.read.parquet('parquets/basics.parquet')"
   ]
  },
  {
   "cell_type": "code",
   "execution_count": null,
   "metadata": {},
   "outputs": [],
   "source": [
    "# Joining with ratings to get best and worst movies \n",
    "df_tr = df_text.join(other=df_ratings.select('tconst','averageRating'), on='tconst', how='inner')\n",
    "df_tr = df_tr.join(other=df_basics.select('tconst','genres'), on='tconst', how='inner')"
   ]
  },
  {
   "cell_type": "code",
   "execution_count": null,
   "metadata": {},
   "outputs": [],
   "source": [
    "df_tr = df_tr.select(\"tconst\",'averageRating', 'subtitles',psf.explode_outer(\"genres\"))\n",
    "\n",
    "df_best = df_tr.filter(df_tr['averageRating'] >= 8)\n",
    "df_worst = df_tr.filter(df_tr['averageRating'] <= 5.2)"
   ]
  },
  {
   "cell_type": "code",
   "execution_count": null,
   "metadata": {},
   "outputs": [],
   "source": [
    "df_best.show()"
   ]
  },
  {
   "cell_type": "markdown",
   "metadata": {},
   "source": [
    "### Detokinizing the text"
   ]
  },
  {
   "cell_type": "code",
   "execution_count": null,
   "metadata": {},
   "outputs": [],
   "source": [
    "def subtitles_to_string(subtitles):\n",
    "    result = \"\"\n",
    "    for subtitle in subtitles:\n",
    "        test = MosesDetokenizer().detokenize(subtitle)\n",
    "        result += test + \"\\n\"\n",
    "    return result\n",
    "udf_subtitles_to_string = psf.udf(subtitles_to_string, StringType())"
   ]
  },
  {
   "cell_type": "code",
   "execution_count": null,
   "metadata": {},
   "outputs": [],
   "source": [
    "# Choosing best or worst \n",
    "df = df_best"
   ]
  },
  {
   "cell_type": "code",
   "execution_count": null,
   "metadata": {},
   "outputs": [],
   "source": [
    "df = df.withColumn(\"text\",\n",
    "                   udf_subtitles_to_string(\"subtitles\"))\n",
    "\n",
    "df = df.drop('subtitles')"
   ]
  },
  {
   "cell_type": "code",
   "execution_count": null,
   "metadata": {
    "scrolled": false
   },
   "outputs": [],
   "source": [
    "df.show()"
   ]
  },
  {
   "cell_type": "markdown",
   "metadata": {},
   "source": [
    "### NLP Pipe for genre"
   ]
  },
  {
   "cell_type": "code",
   "execution_count": null,
   "metadata": {},
   "outputs": [],
   "source": [
    "nlp = spacy.load('en')\n",
    "nlp.remove_pipe('parser')\n",
    "nlp.remove_pipe('tagger')"
   ]
  },
  {
   "cell_type": "code",
   "execution_count": null,
   "metadata": {},
   "outputs": [],
   "source": [
    "# Choose genre to look \n",
    "genre = 'Drama'"
   ]
  },
  {
   "cell_type": "code",
   "execution_count": null,
   "metadata": {},
   "outputs": [],
   "source": [
    "# Convert to Pandas \n",
    "df_pd = df.filter(df_best['col'] == genre).toPandas()"
   ]
  },
  {
   "cell_type": "code",
   "execution_count": null,
   "metadata": {},
   "outputs": [],
   "source": [
    "df_pd.count()"
   ]
  },
  {
   "cell_type": "code",
   "execution_count": null,
   "metadata": {},
   "outputs": [],
   "source": [
    "# Get subtitles \n",
    "texts_bests = df_pd['text'].values"
   ]
  },
  {
   "cell_type": "code",
   "execution_count": null,
   "metadata": {},
   "outputs": [],
   "source": [
    "# Remove new lines \n",
    "texts_bests = [\" \".join(t.split()) for t in texts_bests]\n",
    "# Convert Cap\n",
    "texts_bests = [text.lower() for text in texts_bests]"
   ]
  },
  {
   "cell_type": "code",
   "execution_count": null,
   "metadata": {
    "scrolled": true
   },
   "outputs": [],
   "source": [
    "STOPWORDS = spacy.lang.en.stop_words.STOP_WORDS\n",
    "\n",
    "processed_docs = list()\n",
    "for doc in nlp.pipe(texts_bests, n_threads=5, batch_size=10):\n",
    "\n",
    "    # Process document using Spacy NLP pipeline.\n",
    "    ents = doc.ents  # Named entities\n",
    "\n",
    "    # Keep only words (no numbers, no punctuation).\n",
    "    # Lemmatize tokens, remove punctuation and remove stopwords.\n",
    "    doc = [token.lemma_ for token in doc if token.is_alpha and not token.is_stop]\n",
    "\n",
    "    # Remove common words from a stopword list and keep only words of length 3 or more.\n",
    "    doc = [token for token in doc if token not in STOPWORDS and len(token) > 2]\n",
    "\n",
    "    # Add named entities, but only if they are a compound of more than word.\n",
    "    doc.extend([str(entity) for entity in ents if len(entity) > 1])\n",
    "\n",
    "    processed_docs.append(doc)\n",
    "    \n",
    "docs = processed_docs #### Va\n",
    "del processed_docs\n",
    "\n",
    "# Add bigrams to docs (only ones that appear 15 times or more).\n",
    "bigram = Phrases(docs, min_count=4)\n",
    "\n",
    "for idx in range(len(docs)):\n",
    "    for token in bigram[docs[idx]]:\n",
    "        if '_' in token:\n",
    "            # Token is a bigram, add to document.\n",
    "            docs[idx].append(token)\n",
    "\n",
    "# Create a dictionary representation of the documents, and filter out frequent and rare words.\n",
    "dictionary = Dictionary(docs)\n",
    "\n",
    "# Remove rare and common tokens.\n",
    "# Filter out words that occur too frequently or too rarely.\n",
    "max_freq = 0.5\n",
    "min_wordcount = 5\n",
    "dictionary.filter_extremes(no_below=min_wordcount, no_above=max_freq)\n",
    "\n",
    "# Bag-of-words representation of the documents.\n",
    "corpus = [dictionary.doc2bow(doc) for doc in docs]\n",
    "#MmCorpus.serialize(\"models/corpus.mm\", corpus)\n",
    "\n",
    "print('Number of unique tokens: %d' % len(dictionary))\n",
    "print('Number of chunks: %d' % len(corpus))\n",
    "\n",
    "seed = 42\n",
    "# models\n",
    "params = {'passes': 10, 'random_state': seed}\n",
    "base_models = dict()\n",
    "\n",
    "model = LdaMulticore(corpus=corpus,\n",
    "                     num_topics=3,\n",
    "                     id2word=dictionary,\n",
    "                     workers=6,\n",
    "                     passes=params['passes'],\n",
    "                     random_state=params['random_state'])\n",
    "\n",
    "sorted(model[corpus[0]],key=lambda x:x[1],reverse=True)"
   ]
  },
  {
   "cell_type": "markdown",
   "metadata": {},
   "source": [
    "### Plot topics"
   ]
  },
  {
   "cell_type": "code",
   "execution_count": null,
   "metadata": {},
   "outputs": [],
   "source": [
    "data =  pyLDAvis.gensim.prepare(model, corpus, dictionary)\n",
    "pyLDAvis.display(data)"
   ]
  },
  {
   "cell_type": "code",
   "execution_count": null,
   "metadata": {},
   "outputs": [],
   "source": []
  }
 ],
 "metadata": {
  "kernelspec": {
   "display_name": "Python 3",
   "language": "python",
   "name": "python3"
  },
  "language_info": {
   "codemirror_mode": {
    "name": "ipython",
    "version": 3
   },
   "file_extension": ".py",
   "mimetype": "text/x-python",
   "name": "python",
   "nbconvert_exporter": "python",
   "pygments_lexer": "ipython3",
   "version": "3.6.5"
  },
  "varInspector": {
   "cols": {
    "lenName": 16,
    "lenType": 16,
    "lenVar": 40
   },
   "kernels_config": {
    "python": {
     "delete_cmd_postfix": "",
     "delete_cmd_prefix": "del ",
     "library": "var_list.py",
     "varRefreshCmd": "print(var_dic_list())"
    },
    "r": {
     "delete_cmd_postfix": ") ",
     "delete_cmd_prefix": "rm(",
     "library": "var_list.r",
     "varRefreshCmd": "cat(var_dic_list()) "
    }
   },
   "types_to_exclude": [
    "module",
    "function",
    "builtin_function_or_method",
    "instance",
    "_Feature"
   ],
   "window_display": false
  }
 },
 "nbformat": 4,
 "nbformat_minor": 2
}
