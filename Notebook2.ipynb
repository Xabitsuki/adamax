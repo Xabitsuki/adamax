{
 "cells": [
  {
   "cell_type": "markdown",
   "metadata": {},
   "source": [
    "# A Movie behind a Script\n"
   ]
  },
  {
   "cell_type": "code",
   "execution_count": 1,
   "metadata": {},
   "outputs": [],
   "source": [
    "import os\n",
    "import re\n",
    "import pandas as pd\n",
    "#from datetime import datetime\n",
    "#import urllib.request\n",
    "\n",
    "import findspark\n",
    "findspark.init()\n",
    "\n",
    "from pyspark.sql import *\n",
    "from pyspark.sql.types import *\n",
    "import pyspark.sql.functions as psf\n",
    "from pyspark.sql.utils import AnalysisException\n",
    "\n",
    "import matplotlib\n",
    "import matplotlib.pyplot as plt\n",
    "%matplotlib inline\n",
    "os.environ['PYSPARK_SUBMIT_ARGS'] = '--packages com.databricks:spark-xml_2.10:0.4.1 pyspark-shell'"
   ]
  },
  {
   "cell_type": "code",
   "execution_count": 2,
   "metadata": {},
   "outputs": [],
   "source": [
    "spark = SparkSession.builder.getOrCreate()\n",
    "spark.conf.set('spark.sql.session.timeZone', 'UTC')\n",
    "sc = spark.sparkContext\n",
    "sqlContext = SQLContext(sc)"
   ]
  },
  {
   "cell_type": "markdown",
   "metadata": {},
   "source": [
    "# Overview of datasets\n",
    "\n",
    "The OpenSubtitles dataset is a compressed cluster of folders containing XML files. Each XML file is split into a script portion with the subtitles of the movie and a metadata portion with additional information about the movie or show. The name of one of the parent folders of the XML file is the corresponding IMDb identifier of the movie or show, thus allowing us to extract additional information from the IMDb dataset."
   ]
  },
  {
   "cell_type": "markdown",
   "metadata": {},
   "source": [
    "## IMDb Dataset"
   ]
  },
  {
   "cell_type": "markdown",
   "metadata": {},
   "source": [
    "We have at our disposal the IMDb ratings and basics dataset. "
   ]
  },
  {
   "cell_type": "code",
   "execution_count": 3,
   "metadata": {},
   "outputs": [],
   "source": [
    "# TODO scrape data https://datasets.imdbws.com/\n",
    "ratings_fn = \"title.ratings.tsv.gz\"\n",
    "basics_fn = \"title.basics.tsv.gz\""
   ]
  },
  {
   "cell_type": "code",
   "execution_count": 4,
   "metadata": {
    "scrolled": false
   },
   "outputs": [
    {
     "name": "stdout",
     "output_type": "stream",
     "text": [
      "+---------+-------------+--------+\n",
      "|   tconst|averageRating|numVotes|\n",
      "+---------+-------------+--------+\n",
      "|tt0000001|          5.8|    1440|\n",
      "|tt0000002|          6.3|     172|\n",
      "|tt0000003|          6.6|    1041|\n",
      "|tt0000004|          6.4|     102|\n",
      "|tt0000005|          6.2|    1735|\n",
      "|tt0000006|          5.5|      91|\n",
      "|tt0000007|          5.5|     579|\n",
      "|tt0000008|          5.6|    1539|\n",
      "|tt0000009|          5.6|      74|\n",
      "|tt0000010|          6.9|    5127|\n",
      "|tt0000011|          5.4|     214|\n",
      "|tt0000012|          7.4|    8599|\n",
      "|tt0000013|          5.7|    1318|\n",
      "|tt0000014|          7.2|    3739|\n",
      "|tt0000015|          6.2|     660|\n",
      "|tt0000016|          5.9|     982|\n",
      "|tt0000017|          4.8|     197|\n",
      "|tt0000018|          5.5|     414|\n",
      "|tt0000019|          6.6|      13|\n",
      "|tt0000020|          5.1|     232|\n",
      "+---------+-------------+--------+\n",
      "only showing top 20 rows\n",
      "\n"
     ]
    }
   ],
   "source": [
    "df_ratings = spark.read.option(\"header\", \"true\")\\\n",
    "                       .option(\"sep\", \"\\t\")\\\n",
    "                       .csv(\"imdb_data/\" + ratings_fn)\n",
    "df_ratings = df_ratings.selectExpr(\"tconst\", \n",
    "                                   \"cast(averageRating as float) averageRating\", \n",
    "                                   \"cast(numVotes as int) numVotes\")\n",
    "df_ratings.show()"
   ]
  },
  {
   "cell_type": "code",
   "execution_count": 5,
   "metadata": {},
   "outputs": [],
   "source": [
    "# writting into a .parquet file : \n",
    "# df_ratings.write.mode('overwrite').parquet('ratings.parquet')"
   ]
  },
  {
   "cell_type": "code",
   "execution_count": 6,
   "metadata": {
    "scrolled": false
   },
   "outputs": [
    {
     "name": "stdout",
     "output_type": "stream",
     "text": [
      "+---------+---------+--------------------+--------------------+-------+---------+-------+--------------+--------------------+\n",
      "|   tconst|titleType|        primaryTitle|       originalTitle|isAdult|startYear|endYear|runtimeMinutes|              genres|\n",
      "+---------+---------+--------------------+--------------------+-------+---------+-------+--------------+--------------------+\n",
      "|tt0000001|    short|          Carmencita|          Carmencita|      0|     1894|     \\N|           1.0|[Documentary, Short]|\n",
      "|tt0000002|    short|Le clown et ses c...|Le clown et ses c...|      0|     1892|     \\N|           5.0|  [Animation, Short]|\n",
      "|tt0000003|    short|      Pauvre Pierrot|      Pauvre Pierrot|      0|     1892|     \\N|           4.0|[Animation, Comed...|\n",
      "|tt0000004|    short|         Un bon bock|         Un bon bock|      0|     1892|     \\N|          null|  [Animation, Short]|\n",
      "|tt0000005|    short|    Blacksmith Scene|    Blacksmith Scene|      0|     1893|     \\N|           1.0|     [Comedy, Short]|\n",
      "|tt0000006|    short|   Chinese Opium Den|   Chinese Opium Den|      0|     1894|     \\N|           1.0|             [Short]|\n",
      "|tt0000007|    short|Corbett and Court...|Corbett and Court...|      0|     1894|     \\N|           1.0|      [Short, Sport]|\n",
      "|tt0000008|    short|Edison Kinetoscop...|Edison Kinetoscop...|      0|     1894|     \\N|           1.0|[Documentary, Short]|\n",
      "|tt0000009|    movie|          Miss Jerry|          Miss Jerry|      0|     1894|     \\N|          45.0|           [Romance]|\n",
      "|tt0000010|    short|Employees Leaving...|La sortie de l'us...|      0|     1895|     \\N|           1.0|[Documentary, Short]|\n",
      "|tt0000011|    short|Akrobatisches Pot...|Akrobatisches Pot...|      0|     1895|     \\N|           1.0|[Documentary, Short]|\n",
      "|tt0000012|    short|The Arrival of a ...|L'arrivée d'un tr...|      0|     1896|     \\N|           1.0|[Documentary, Short]|\n",
      "|tt0000013|    short|The Photographica...|Neuville-sur-Saôn...|      0|     1895|     \\N|           1.0|[Documentary, Short]|\n",
      "|tt0000014|    short|Tables Turned on ...|   L'arroseur arrosé|      0|     1895|     \\N|           1.0|     [Comedy, Short]|\n",
      "|tt0000015|    short| Autour d'une cabine| Autour d'une cabine|      0|     1894|     \\N|           2.0|  [Animation, Short]|\n",
      "|tt0000016|    short|Barque sortant du...|Barque sortant du...|      0|     1895|     \\N|           1.0|[Documentary, Short]|\n",
      "|tt0000017|    short|Italienischer Bau...|Italienischer Bau...|      0|     1895|     \\N|           1.0|[Documentary, Short]|\n",
      "|tt0000018|    short|Das boxende Känguruh|Das boxende Känguruh|      0|     1895|     \\N|           1.0|             [Short]|\n",
      "|tt0000019|    short|    The Clown Barber|    The Clown Barber|      0|     1898|     \\N|          null|     [Comedy, Short]|\n",
      "|tt0000020|    short|      The Derby 1895|      The Derby 1895|      0|     1895|     \\N|           1.0|[Documentary, Sho...|\n",
      "+---------+---------+--------------------+--------------------+-------+---------+-------+--------------+--------------------+\n",
      "only showing top 20 rows\n",
      "\n"
     ]
    }
   ],
   "source": [
    "# Function to split genres\n",
    "udf_split = psf.udf(lambda s: s.split(',') if s is not None else \"\", ArrayType(StringType()))\n",
    "\n",
    "df_basics = spark.read.option(\"header\", \"true\")\\\n",
    "                      .option(\"sep\", \"\\t\")\\\n",
    "                      .csv(\"imdb_data/\" + basics_fn)\n",
    "df_basics = df_basics.withColumn(\"rttmp\", df_basics.runtimeMinutes.cast(DoubleType()))\\\n",
    "                     .drop(\"runtimeMinutes\")\\\n",
    "                     .withColumnRenamed(\"rttmp\", \"runtimeMinutes\")\\\n",
    "                     .withColumn(\"gtmp\", udf_split(\"genres\"))\\\n",
    "                     .drop(\"genres\")\\\n",
    "                     .withColumnRenamed(\"gtmp\", \"genres\")\n",
    "df_basics.show()"
   ]
  },
  {
   "cell_type": "code",
   "execution_count": 7,
   "metadata": {
    "scrolled": false
   },
   "outputs": [],
   "source": [
    "# writting into a .parquet file : \n",
    "# df_basics.write.mode('overwrite').parquet('basics.parquet')"
   ]
  },
  {
   "cell_type": "markdown",
   "metadata": {
    "heading_collapsed": true
   },
   "source": [
    "## OpenSubtitles dataset\n",
    "\n",
    "The dataset consists of 31 GB of XML files distributed in the following file structure: \n",
    "\n",
    "```\n",
    "├── opensubtitle\n",
    "│   ├── OpenSubtitles2018\n",
    "│   │   ├── Year\n",
    "│   │   │   ├── Id\n",
    "│   │   │   │   ├── #######.xml.gz\n",
    "│   │   │   │   ├── #######.xml.gz\n",
    "│   ├── en.tar.gz\n",
    "│   ├── fr.tar.gz\n",
    "│   ├── zh_cn.tar.gz\n",
    "```\n",
    "where\n",
    "- `######` is a 6-digit unique identifier of the file on the OpenSubtitles dataset.\n",
    "- `Year` is the year the movie or episode was made.\n",
    "- `Id` is a 5 to 7 digit identifier (if it's 7-digit it's also an IMDb identifier).\n",
    "\n",
    "The subtitles are provided in different languages. We only analyze the `OpenSubtitles2018` folder and it's the only folder we detail.\n",
    "\n",
    "The decompressed XML files vary in size, ranging from 5KB to 9000KB sized files."
   ]
  },
  {
   "cell_type": "markdown",
   "metadata": {},
   "source": [
    "## XML Files\n",
    "\n",
    "Each XML file is split into a `document` and `metadata` section."
   ]
  },
  {
   "cell_type": "markdown",
   "metadata": {},
   "source": [
    "### Subtitles\n",
    "\n",
    "The `document` section contains all the subtitles and its general structure is the following:\n",
    "\n",
    "```\n",
    "├── s\n",
    "│   ├── time: Integer\n",
    "│   ├── w: String\n",
    "```\n",
    "\n",
    "An example snippet of an XML file:\n",
    "\n",
    "```xml\n",
    "  <s id=\"1\">\n",
    "    <time id=\"T1S\" value=\"00:00:51,819\" />\n",
    "    <w id=\"1.1\">Travis</w>\n",
    "    <w id=\"1.2\">.</w>\n",
    "    <time id=\"T1E\" value=\"00:00:53,352\" />\n",
    "  </s>\n",
    "```\n",
    "\n",
    "The subtitles in each XML file are stored by **blocks** denoted by `s` with a unique `id` attribute (integers in increasing order starting at 1).  \n",
    "\n",
    "Each block (`<s id=\"1\">` for instance) has a:  \n",
    "\n",
    "1. Set of timestamps (denoted by `time`) with\n",
    " - A timestamp `id` attribute that can take two different formats: `T#S` or `T#E`, where _S_ indicates _start_, _E_ indicates _end_ and _#_ is an increasing integer. \n",
    " - A `value` attribute which has the format `HH:mm:ss,fff`.\n",
    "\n",
    "2. Set of words (denoted by `w`) with\n",
    " - an `id` attribute that is simply an increasing number of decimal numbers of the format `X.Y` where X is the string id and Y is the word id within the corresponding string\n",
    " - a non-empty `value` attribute that contains a token: a word or a punctuation character. \n",
    "\n",
    "It sometimes also has an `alternative`, `initial` and `emphasis` attribute.  \n",
    "\n",
    " - The `initial` attribute generally corresponds to slang words or mispronounced words because of an accent such as _lyin'_ instead of _lying_.  \n",
    " - The `alternative` attribute is another way of displaying the subtitle for example _HOW_ instead of _how_.\n",
    " - The `emphasis` attribute is a boolean."
   ]
  },
  {
   "cell_type": "markdown",
   "metadata": {},
   "source": [
    "### Metadata\n",
    "\n",
    "The `metadata` section has the following structure:\n",
    "\n",
    "```\n",
    "├── Conversion\n",
    "│   ├── corrected_words: Integer\n",
    "│   ├── sentences: Integer\n",
    "│   ├── tokens: Integer\n",
    "│   ├── encoding: String (always utf-8)\n",
    "│   ├── unknown_words: Integer\n",
    "│   ├── ignored_blocks: Integer\n",
    "│   ├── truecased_words: Integer\n",
    "├── Subtitle\n",
    "│   ├── language: String\n",
    "│   ├── date: String\n",
    "│   ├── duration: String\n",
    "│   ├── cds: String (presented as #/# where # is an int)\n",
    "│   ├── blocks: Integer\n",
    "│   ├── confidence: Double\n",
    "├── Source\n",
    "│   ├── genre: String[] (up to 3 genres)\n",
    "│   ├── year: Integer\n",
    "│   ├── duration: Integer (in minutes)\n",
    "│   ├── original: String\n",
    "│   ├── country: String\n",
    "```\n",
    "\n",
    "We note that some XML files may not have all the entries. \n",
    "We can use the metadata to obtain additional information about the movie or show's subtitles and compute certain statistics. "
   ]
  },
  {
   "cell_type": "markdown",
   "metadata": {},
   "source": [
    "## Document dataframe"
   ]
  },
  {
   "cell_type": "markdown",
   "metadata": {},
   "source": [
    "## Exploration\n",
    "\n",
    "Going through the dataset we notice a few things:\n",
    "\n",
    "1. The dataset has meaningless folders. For example, the folder 1858/ is empty.\n",
    "2. Dataset contains XML files that are not related to movies or TV shows. For example, the folder 666/ contains Justin Bieber song subtitles.  \n",
    "3. Trailer of films can be present in the dataset. For example, the folder 2018/ we found for example Black Panther teaser trailer subtitles.\n",
    "4. Each movie might have more than 1 subtitle file.\n",
    "5. Some subtitle files contain text that is not related to the movie, like credits to the person who made the subtitles.\n",
    "6. The IDMDb folder name is not always a 7-digit number, meaning it is not always a valid IMDb identifer and we can't retrieve the IMDb info.\n",
    "7. Each block may have an arbitrary number (including 0) of timestamps associated to it.\n",
    "\n",
    "To solve points 1 and 2, we ignore all the folders which aren't inside the range of 1920-2018.\n",
    "\n",
    "To solve point 3, we drop trailers by looking at the `duration` field in the metadata section.\n",
    "\n",
    "To solve point 4, we simply take the first one.\n",
    "\n",
    "To solve point 6, we keep movies that have a correct IMDb identifier. Hence, all the files in folders that don't have a 7-digit folder name are dropped.\n",
    "\n",
    "To solve point 7, we decide not to associate a timestamp to each word for the moment.\n",
    " \n",
    "For the moment, we take a sample of the dataset from the cluster (see python script `extract_sample_2.py`) by collecting 1 or 2 movies for each year in the range 1920-2018."
   ]
  },
  {
   "cell_type": "markdown",
   "metadata": {},
   "source": [
    "## Putting it all together"
   ]
  },
  {
   "cell_type": "markdown",
   "metadata": {},
   "source": [
    "After doing an analysis of the files and considering the statistics we want to obtain taking the size of our data into account, we decide to load the metadata and subtitles directly into 1 dataframe where we manipulate it as before. We decide not to extract all tokens at first as it would induce into very heavy computations. We store the text in an array of subtitles where each subtitle is an array of tokens."
   ]
  },
  {
   "cell_type": "code",
   "execution_count": 8,
   "metadata": {},
   "outputs": [
    {
     "name": "stdout",
     "output_type": "stream",
     "text": [
      "root\n",
      " |-- _id: long (nullable = true)\n",
      " |-- meta: struct (nullable = true)\n",
      " |    |-- conversion: struct (nullable = true)\n",
      " |    |    |-- corrected_words: long (nullable = true)\n",
      " |    |    |-- encoding: string (nullable = true)\n",
      " |    |    |-- ignored_blocks: long (nullable = true)\n",
      " |    |    |-- sentences: long (nullable = true)\n",
      " |    |    |-- tokens: long (nullable = true)\n",
      " |    |    |-- truecased_words: long (nullable = true)\n",
      " |    |    |-- unknown_words: long (nullable = true)\n",
      " |    |-- source: struct (nullable = true)\n",
      " |    |    |-- duration: long (nullable = true)\n",
      " |    |    |-- genre: string (nullable = true)\n",
      " |    |    |-- year: long (nullable = true)\n",
      " |    |-- subtitle: struct (nullable = true)\n",
      " |    |    |-- blocks: long (nullable = true)\n",
      " |    |    |-- cds: string (nullable = true)\n",
      " |    |    |-- confidence: double (nullable = true)\n",
      " |    |    |-- date: string (nullable = true)\n",
      " |    |    |-- duration: string (nullable = true)\n",
      " |    |    |-- language: string (nullable = true)\n",
      " |-- s: array (nullable = true)\n",
      " |    |-- element: struct (containsNull = true)\n",
      " |    |    |-- _emphasis: boolean (nullable = true)\n",
      " |    |    |-- _id: long (nullable = true)\n",
      " |    |    |-- time: array (nullable = true)\n",
      " |    |    |    |-- element: struct (containsNull = true)\n",
      " |    |    |    |    |-- _VALUE: string (nullable = true)\n",
      " |    |    |    |    |-- _id: string (nullable = true)\n",
      " |    |    |    |    |-- _value: string (nullable = true)\n",
      " |    |    |-- w: array (nullable = true)\n",
      " |    |    |    |-- element: struct (containsNull = true)\n",
      " |    |    |    |    |-- _VALUE: string (nullable = true)\n",
      " |    |    |    |    |-- _alternative: string (nullable = true)\n",
      " |    |    |    |    |-- _emphasis: boolean (nullable = true)\n",
      " |    |    |    |    |-- _id: double (nullable = true)\n",
      "\n",
      "+-------+--------------------+--------------------+\n",
      "|    _id|                meta|                   s|\n",
      "+-------+--------------------+--------------------+\n",
      "|6887453|[[0, utf-8, 2, 96...|[[, 1, [[, T1S, 0...|\n",
      "+-------+--------------------+--------------------+\n",
      "\n"
     ]
    }
   ],
   "source": [
    "imdb_id = '6464116'\n",
    "df_document_example = sqlContext.read.format('com.databricks.spark.xml')\\\n",
    "                                     .options(rowTag='document') \\\n",
    "                                     .load('sample_dataset/2017/6464116/6887453.xml.gz')\n",
    "df_document_example.printSchema()\n",
    "df_document_example.show()"
   ]
  },
  {
   "cell_type": "markdown",
   "metadata": {},
   "source": [
    "To avoid confusion, we will set some naming conventions. We will refer to certain attributes as follows:\n",
    "\n",
    "- The `s` array as **blocks**\n",
    "- An element of blocks, as a **block**.\n",
    "- The `w` array as **elements**\n",
    "- An element of elements, as **element**.\n",
    "- `_VALUE` as a **token**\n",
    "- A **subtitle** is a list of tokens"
   ]
  },
  {
   "cell_type": "markdown",
   "metadata": {},
   "source": [
    "### Dataframe manipulation"
   ]
  },
  {
   "cell_type": "markdown",
   "metadata": {},
   "source": [
    "We define a function that retrieves the tokens from the elements (`w` array) and returns an array of subtitles, where each subtitle is a list of tokens."
   ]
  },
  {
   "cell_type": "code",
   "execution_count": 9,
   "metadata": {},
   "outputs": [],
   "source": [
    "def to_subtitles_array(sentences):\n",
    "    \"\"\"Function to map the elements (a struct containing tokens)\n",
    "    to a list of list of tokens \"\"\"\n",
    "    s_list = []\n",
    "    if sentences is None:\n",
    "        return s_list\n",
    "    for words in sentences:\n",
    "        w_list = []\n",
    "        if words and \"w\" in words and words[\"w\"]:\n",
    "            for w in words[\"w\"]:\n",
    "                if '_VALUE' in w and w['_VALUE']:\n",
    "                    w_list.append(w['_VALUE'])\n",
    "                \n",
    "            s_list.append(w_list)\n",
    "\n",
    "    return s_list"
   ]
  },
  {
   "cell_type": "markdown",
   "metadata": {},
   "source": [
    "Here we define a couple of udf functions we will later use for the manipulation of our dataset"
   ]
  },
  {
   "cell_type": "code",
   "execution_count": 10,
   "metadata": {},
   "outputs": [],
   "source": [
    "# Transform to spark function\n",
    "udf_subtitles_array = psf.udf(to_subtitles_array, ArrayType(ArrayType(StringType())))\n",
    "# Convert array of words into a single string\n",
    "udf_sentence = psf.udf(lambda x: ' '.join(x), StringType())\n"
   ]
  },
  {
   "cell_type": "code",
   "execution_count": 11,
   "metadata": {},
   "outputs": [],
   "source": [
    "#checks if correct schema\n",
    "def has_correct_schema(df):\n",
    "    arguments = [\n",
    "                 \"meta.conversion.sentences\",\n",
    "                 \"meta.source.year\", \n",
    "                 \"meta.subtitle.blocks\",\n",
    "                 \"meta.subtitle.duration\",\n",
    "                 \"meta.subtitle.language\",\n",
    "                 \"s\"]\n",
    "    for col in arguments:\n",
    "        try:\n",
    "            df[col]\n",
    "        except AnalysisException:\n",
    "            return False\n",
    "    return True\n",
    "\n",
    "schema_films = StructType([StructField('tconst', StringType(), False),\n",
    "                               StructField('num_sentences', LongType(), True),\n",
    "                               StructField('year', LongType(), True),\n",
    "                               StructField('blocks', LongType(), True),\n",
    "                               StructField('subtitle_mins', DoubleType(), True),\n",
    "                               StructField('subtitles', ArrayType(ArrayType(StringType())), True)])"
   ]
  },
  {
   "cell_type": "markdown",
   "metadata": {},
   "source": [
    "The function below structures our data to the format we want to then process all the queries we need: We link the movie with the proper imdbID, we get all the subtitles, change the subtitle duration to be in seconds (We assume for this that they all have the same format and after exploring the dataset we know the vast majority does)."
   ]
  },
  {
   "cell_type": "code",
   "execution_count": 12,
   "metadata": {},
   "outputs": [
    {
     "data": {
      "text/plain": [
       "True"
      ]
     },
     "execution_count": 12,
     "metadata": {},
     "output_type": "execute_result"
    }
   ],
   "source": [
    "has_correct_schema(df_document_example)"
   ]
  },
  {
   "cell_type": "code",
   "execution_count": 13,
   "metadata": {},
   "outputs": [],
   "source": [
    "def clean_df(df_document, imdb_id):\n",
    "    \"\"\"Restructures and selects the columns of a dataframe of an XML\n",
    "    file with its corresponding IMDB Id\"\"\"\n",
    "    # Create IMDb ID and subtitles column\n",
    "    df_film_sentences = df_document.withColumn(\"tconst\", psf.lit(\"tt\" + imdb_id))\\\n",
    "                                   .withColumn(\"subtitles\", udf_subtitles_array(\"s\"))\n",
    "    \n",
    "    # Select metadata and previously created columns\n",
    "    df_result = df_film_sentences.selectExpr(\"tconst\",\n",
    "                                             \"meta.conversion.sentences as num_sentences\",\n",
    "                                             \"meta.source.year\", \n",
    "                                             \"meta.subtitle.blocks\",\n",
    "                                             \"meta.subtitle.duration as subtitle_duration\",\n",
    "                                             \"meta.subtitle.language\",\n",
    "                                             \"subtitles\")\n",
    "    # Split genre column and convert subtitle duration to seconds\n",
    "    df_result = df_result.withColumn(\"subtitle_mins\", \n",
    "                                     psf.unix_timestamp(df_result.subtitle_duration, \"HH:mm:ss,SSS\") / 60)\n",
    "    # Discard redundant columns\n",
    "    df_result =  df_result.select(\"tconst\", \n",
    "                                  \"num_sentences\", \n",
    "                                  \"year\", \n",
    "                                  \"blocks\", \n",
    "                                  psf.when(psf.col(\"subtitle_mins\") > 0, psf.col(\"subtitle_mins\"))\\\n",
    "                                     .otherwise(None)\\\n",
    "                                     .alias(\"subtitle_mins\"), \n",
    "                                  \"subtitles\")\n",
    "    return df_result"
   ]
  },
  {
   "cell_type": "markdown",
   "metadata": {},
   "source": [
    "Applying it on the example XML file, we see how our corresponding schema is much more simple."
   ]
  },
  {
   "cell_type": "code",
   "execution_count": 14,
   "metadata": {
    "scrolled": true
   },
   "outputs": [
    {
     "name": "stdout",
     "output_type": "stream",
     "text": [
      "root\n",
      " |-- tconst: string (nullable = false)\n",
      " |-- num_sentences: long (nullable = true)\n",
      " |-- year: long (nullable = true)\n",
      " |-- blocks: long (nullable = true)\n",
      " |-- subtitle_mins: double (nullable = true)\n",
      " |-- subtitles: array (nullable = true)\n",
      " |    |-- element: array (containsNull = true)\n",
      " |    |    |-- element: string (containsNull = true)\n",
      "\n",
      "+---------+-------------+----+------+-------------+--------------------+\n",
      "|   tconst|num_sentences|year|blocks|subtitle_mins|           subtitles|\n",
      "+---------+-------------+----+------+-------------+--------------------+\n",
      "|tt6464116|          967|2017|   888|         40.7|[[[, shots, firin...|\n",
      "+---------+-------------+----+------+-------------+--------------------+\n",
      "\n"
     ]
    }
   ],
   "source": [
    "df_document_example = clean_df(df_document_example, imdb_id)\n",
    "df_document_example.printSchema()\n",
    "df_document_example.show()"
   ]
  },
  {
   "cell_type": "markdown",
   "metadata": {},
   "source": [
    "We generalize what we have done so far. We would like to create a dataframe for several XML files, so we define a function that does this."
   ]
  },
  {
   "cell_type": "code",
   "execution_count": 15,
   "metadata": {},
   "outputs": [],
   "source": [
    "def load_df(path):\n",
    "    \"\"\"Load an XML subtitles file into a dataframe\"\"\"\n",
    "    df_film = sqlContext.read.format('com.databricks.spark.xml')\\\n",
    "                             .options(rowTag='document')\\\n",
    "                             .load(path)\n",
    "    return df_film"
   ]
  },
  {
   "cell_type": "markdown",
   "metadata": {},
   "source": [
    "The code below creates a dataframe for all the XML files in the sample dataset. We will later expand it to cover a bigger quantity of films. We call it `df_films` because it contains all the information for each film/show in our datasets."
   ]
  },
  {
   "cell_type": "code",
   "execution_count": 16,
   "metadata": {
    "scrolled": true
   },
   "outputs": [],
   "source": [
    "#path = \"sample_dataset/\"\n",
    "# Create empty dataframe with same schema\n",
    "\n",
    "\n",
    "#df_films = spark.createDataFrame([], schema_films)\n",
    "#film_list = []\n",
    "#for year in os.listdir(path):\n",
    " #   if not year.startswith('.'):\n",
    "  #      for imdb_id in os.listdir(path + year):\n",
    "   #         if not imdb_id.startswith('.'):\n",
    "    #            current_path = path + year + \"/\" + imdb_id\n",
    "     #           for idx, file in enumerate(os.listdir(current_path)):\n",
    "      #                  # Create a dataframe for each file\n",
    "       #                 df_document = load_df(current_path + '/' + file)\n",
    "        #                if has_correct_schema(df_document):\n",
    "                            # Restructure dataframe and add it to df_films\n",
    "         #                   film_list.append(clean_df(df_document, imdb_id))\n",
    "                        \n",
    "\n",
    "#             df_m.show()\n",
    "#             print(current_path + \"/\" + file)"
   ]
  },
  {
   "cell_type": "code",
   "execution_count": 17,
   "metadata": {},
   "outputs": [],
   "source": [
    "def unionAll(*dfs):\n",
    "    first, rest = dfs[0], dfs[1:]  # Python 3.x, for 2.x you'll have to unpack manually\n",
    "    return first.sql_ctx.createDataFrame(\n",
    "        first.sql_ctx._sc.union([df.rdd for df in dfs]),\n",
    "        first.schema\n",
    "    )\n",
    "#df_films = unionAll(*film_list)"
   ]
  },
  {
   "cell_type": "markdown",
   "metadata": {},
   "source": [
    "We use the same structure to create dataframes which contain the entries we want to focus on, more specifically movies with more than 5000 reviews. The script can be found under the name `cluster/parquet2.py`. To filter the appropiate files we used the imdb datasets."
   ]
  },
  {
   "cell_type": "code",
   "execution_count": 18,
   "metadata": {},
   "outputs": [],
   "source": [
    "df_films = spark.read.parquet(\"parquets/films.parquet\")"
   ]
  },
  {
   "cell_type": "code",
   "execution_count": 19,
   "metadata": {
    "scrolled": true
   },
   "outputs": [],
   "source": [
    "#df_list = [spark.read.parquet(\"parquets/\" + path) for path in os.listdir(\"parquets\") if path != \".DS_Store\"]"
   ]
  },
  {
   "cell_type": "markdown",
   "metadata": {},
   "source": [
    "The total films we will be focusing on then is:"
   ]
  },
  {
   "cell_type": "code",
   "execution_count": 20,
   "metadata": {},
   "outputs": [
    {
     "data": {
      "text/plain": [
       "4286"
      ]
     },
     "execution_count": 20,
     "metadata": {},
     "output_type": "execute_result"
    }
   ],
   "source": [
    "#df_films = unionAll(*df_list)\n",
    "df_films.count()"
   ]
  },
  {
   "cell_type": "code",
   "execution_count": 21,
   "metadata": {},
   "outputs": [],
   "source": [
    "#df_films.write.parquet(\"parquets/films.parquet\")"
   ]
  },
  {
   "cell_type": "code",
   "execution_count": 22,
   "metadata": {},
   "outputs": [
    {
     "name": "stdout",
     "output_type": "stream",
     "text": [
      "+---------+-------------+----+------+------------------+--------------------+\n",
      "|   tconst|num_sentences|year|blocks|     subtitle_mins|           subtitles|\n",
      "+---------+-------------+----+------+------------------+--------------------+\n",
      "|tt5275892|         6236|2016|  1829|            406.05|[[As, a, kid, gro...|\n",
      "|tt2234155|         3562|2013|  3348|63.166666666666664|[[An, old, man, t...|\n",
      "|tt2318527|         7083|2013|  2793| 32.46666666666667|[[BELL, TOLLING],...|\n",
      "|tt2404463|         4078|2013|  3356| 60.11666666666667|[[Cleaned, correc...|\n",
      "|tt3311384|         1993|2013|  2116|59.016666666666666|[[CROWD, CHEERING...|\n",
      "|tt1398426|         3729|2015|  2768| 86.06666666666666|[[Police, Radio, ...|\n",
      "|tt4540710|         2018|2016|  1668| 67.23333333333333|[[Subtitle, made,...|\n",
      "|tt4257858|         1553|2015|  2415|              58.8|[[We, will, begin...|\n",
      "|tt2080374|         2889|2015|  2309|             62.15|[[MAN], [And, wit...|\n",
      "|tt4425064|         1807|2015|  1951| 68.61666666666666|[[After, hours, o...|\n",
      "|tt4987556|         2916|2015|  2560| 97.51666666666667|[[Define, your, e...|\n",
      "|tt1638364|         1864|2013|  2272|             61.15|[[SUBTITLES, BY],...|\n",
      "|tt1824254|         1364|2013|  2004|             67.05|[[groups, go, to,...|\n",
      "|tt3152624|         3926|2015|  2508| 62.78333333333333|[[Girls, your, mo...|\n",
      "|tt1229340|         3055|2013|  2622|              62.7|[[NARRATOR], [The...|\n",
      "|tt1980209|         2866|2013|  2517| 61.78333333333333|[[I, strong], [I,...|\n",
      "|tt5213534|         2090|2016|  2112|55.733333333333334|[[INTERVIEWER], [...|\n",
      "|tt3628584|         3018|2016|  2784|             49.15|[[Yes, sir, it, C...|\n",
      "|tt0884732|         3095|2015|  2560|             41.35|[[DIALING, PHONE]...|\n",
      "|tt5895028|         1215|2016|  1730| 39.68333333333333|[[Barack, Obama, ...|\n",
      "+---------+-------------+----+------+------------------+--------------------+\n",
      "only showing top 20 rows\n",
      "\n",
      "root\n",
      " |-- tconst: string (nullable = true)\n",
      " |-- num_sentences: long (nullable = true)\n",
      " |-- year: long (nullable = true)\n",
      " |-- blocks: long (nullable = true)\n",
      " |-- subtitle_mins: double (nullable = true)\n",
      " |-- subtitles: array (nullable = true)\n",
      " |    |-- element: array (containsNull = true)\n",
      " |    |    |-- element: string (containsNull = true)\n",
      "\n"
     ]
    }
   ],
   "source": [
    "df_films.show()\n",
    "df_films.printSchema()"
   ]
  },
  {
   "cell_type": "markdown",
   "metadata": {},
   "source": [
    "## Data analysis\n",
    "\n",
    "Here we discuss how we want to proceed with our data.\n",
    "\n",
    "We consider only films with more than 5,000 reviews as IMDb considers this a good metric to estimate the public actual approval of a film.\n",
    "\n",
    "We first start by analyzing the 1000 best films according to IMDB with more that 20000 reviews. We look into the resulting dataframe columns and  try to look for some kind of pattern. We look at: \n",
    "- the ratio of subtitle time per runtime, \n",
    "- the most used words in the films, \n",
    "- the ratio of distinct words per total number of words, \n",
    "- average sentence length, \n",
    "- number of sentences. \n",
    "\n",
    "We draw conclusions if we see any apparent relation. Afterwards if we can find a relation between rating and one of the resulting values, we do the same tests on the worst imdb films with more than 20000 reviews.. If we find that a relation holds for both groups we make a statement assuming there exists a relationship\n",
    "\n",
    "We know this is very vague and we cannot make a strong statement based on what we find, if we find anything because we don't take into consideration many variables such as the movie genre, the year of release, if it is an adult film or not. Also the country of origin is a variable to take into account but we don't have it yet. We can also check the box office for the best films.\n",
    "\n",
    "To proceed then, we ask what are the most popular genres and we look into how the statistics for the 10 most popular ones behave. Can we find any relationship between a genre and the statistics. We look aswell for relationships between genre and rating. Is the genre of a movie a variable which influences average rating. \n",
    "\n",
    "It is all interconnected, we ask ourselves for example, given an action movie, are the value of the statistics influential to its average rating. \n",
    "\n",
    "We havent taken TIME into account either! We look into different time periods, particular years where something occured (WW2 end or smth like that) and we try using the same statistics, to find relationships. We need to choose how to address the other variables such as genre and if it is an adult film or not.\n",
    "\n",
    "After analyzing this data if we find that there are actually dependencies between the values, we decide to create a small learning algorithm to predict the rating of a film given its script."
   ]
  },
  {
   "cell_type": "code",
   "execution_count": 23,
   "metadata": {},
   "outputs": [],
   "source": [
    "def word_statistics(df_films):\n",
    "    df_words = df_films.select('*', psf.explode('subtitles').alias('words'))\n",
    "    df_words = df_words.select('*', psf.explode('words').alias('word'))\n",
    "    \n",
    "    df_word_counts = df_words.groupby(\"tconst\", \"num_sentences\", \"blocks\", \"subtitle_mins\")\\\n",
    "                             .agg(psf.count(\"word\").alias(\"num_words\"), \n",
    "                                  psf.countDistinct(\"word\").alias(\"num_distinct_words\"))\\\n",
    "                             .join(df_basics, ['tconst'], 'inner')\\\n",
    "                             .withColumn(\"words_per_min\", \n",
    "                                         psf.col(\"num_words\") / psf.col(\"runtimeMinutes\"))\\\n",
    "                             .withColumn(\"sentences_per_min\", \n",
    "                                         psf.col(\"num_sentences\") / psf.col(\"runtimeMinutes\"))\\\n",
    "                             .withColumn(\"mean_length_sentences\",\n",
    "                                         psf.col(\"num_words\") / psf.col(\"num_sentences\"))\\\n",
    "                             .withColumn(\"distinct_words_per_min\", \n",
    "                                         psf.col(\"num_distinct_words\") / psf.col(\"runtimeMinutes\"))\\\n",
    "                             .withColumn(\"distinct_words_per_sentence\", \n",
    "                                         psf.col(\"num_distinct_words\") / psf.col(\"num_sentences\"))\\\n",
    "                             .withColumn(\"sentences_spread\",\n",
    "                                         psf.col(\"num_sentences\") / psf.col(\"blocks\"))\\\n",
    "                             .withColumn(\"subtitle_mins_perc\",\n",
    "                                         psf.when(psf.col(\"subtitle_mins\").isNotNull(), \n",
    "                                                  psf.col(\"subtitle_mins\") / psf.col(\"runtimeMinutes\") * 100))\n",
    "    \n",
    "    df_word_counts = df_word_counts.select(\"tconst\", \n",
    "                                           \"num_sentences\", \n",
    "                                           \"blocks\",\n",
    "                                           \"subtitle_mins\",\n",
    "                                           \"num_words\", \n",
    "                                           \"num_distinct_words\",\n",
    "                                           \"words_per_min\",\n",
    "                                           \"sentences_per_min\",\n",
    "                                           \"mean_length_sentences\",\n",
    "                                           \"distinct_words_per_min\",\n",
    "                                           \"distinct_words_per_sentence\",\n",
    "                                           \"sentences_spread\",\n",
    "                                           \"subtitle_mins_perc\")\n",
    "    return df_word_counts"
   ]
  },
  {
   "cell_type": "code",
   "execution_count": 24,
   "metadata": {},
   "outputs": [
    {
     "name": "stdout",
     "output_type": "stream",
     "text": [
      "+---------+-------------+------+------------------+---------+------------------+------------------+------------------+---------------------+----------------------+---------------------------+------------------+------------------+\n",
      "|   tconst|num_sentences|blocks|     subtitle_mins|num_words|num_distinct_words|     words_per_min| sentences_per_min|mean_length_sentences|distinct_words_per_min|distinct_words_per_sentence|  sentences_spread|subtitle_mins_perc|\n",
      "+---------+-------------+------+------------------+---------+------------------+------------------+------------------+---------------------+----------------------+---------------------------+------------------+------------------+\n",
      "|tt0047811|         1737|  1194|28.133333333333333|     8944|              1587|100.49438202247191| 19.51685393258427|    5.149107656879678|    17.831460674157302|         0.9136442141623489|1.4547738693467336| 31.61048689138577|\n",
      "|tt0049096|         1832|  1515| 41.11666666666667|    10934|              2022|108.25742574257426|18.138613861386137|    5.968340611353712|    20.019801980198018|         1.1037117903930131|1.2092409240924091| 40.70957095709571|\n",
      "|tt0052572|          598|   521| 39.53333333333333|     3292|               984| 31.35238095238095| 5.695238095238095|    5.505016722408027|     9.371428571428572|          1.645484949832776|1.1477927063339732| 37.65079365079365|\n",
      "|tt0058092|         2199|  1341|              56.0|    10381|              1892| 87.97457627118644|18.635593220338983|   4.7207821737153255|    16.033898305084747|         0.8603910868576625| 1.639821029082774| 47.45762711864407|\n",
      "|tt0076716|          991|   717|             47.15|     5287|              1311| 46.78761061946903| 8.769911504424778|    5.335015136226034|    11.601769911504425|         1.3229061553985872|1.3821478382147838| 41.72566371681416|\n",
      "|tt0084509|         1254|  1058| 35.43333333333333|     8075|              1576| 78.39805825242719|12.174757281553399|   6.4393939393939394|    15.300970873786408|         1.2567783094098883|1.1852551984877127| 34.40129449838187|\n",
      "|tt0095705|         1026|   832|18.433333333333334|     5882|              1496|              69.2|12.070588235294117|   5.7329434697855755|                  17.6|         1.4580896686159843|1.2331730769230769|21.686274509803923|\n",
      "|tt0097758|         1598|  1343| 38.11666666666667|     7399|              1491|             73.99|             15.98|    4.630162703379224|                 14.91|         0.9330413016270338|1.1898734177215189| 38.11666666666667|\n",
      "|tt0098382|         1092|   740|             37.65|     5525|              1530| 51.63551401869159|10.205607476635514|    5.059523809523809|    14.299065420560748|          1.401098901098901|1.4756756756756757| 35.18691588785047|\n",
      "|tt0100114|         1006|   712|29.316666666666666|     5281|              1263|56.784946236559136|10.817204301075268|    5.249502982107356|    13.580645161290322|         1.2554671968190856|1.4129213483146068|31.523297491039425|\n",
      "|tt0102426|         1085|   705|             24.05|     4162|              1207|43.354166666666664|11.302083333333334|   3.8359447004608294|    12.572916666666666|          1.112442396313364|1.5390070921985815|25.052083333333336|\n",
      "|tt0103110|          595|   696| 54.86666666666667|     4216|              1236| 36.66086956521739| 5.173913043478261|    7.085714285714285|    10.747826086956522|          2.077310924369748|0.8548850574712644| 47.71014492753623|\n",
      "|tt0107468|          904|   881|             37.05|     4999|              1393|49.495049504950494| 8.950495049504951|    5.529867256637168|    13.792079207920793|          1.540929203539823|1.0261066969353008| 36.68316831683168|\n",
      "|tt0116571|         1886|  1428| 44.31666666666667|     9130|              1572| 84.53703703703704|17.462962962962962|    4.840933191940615|    14.555555555555555|         0.8335100742311771|1.3207282913165266|41.033950617283956|\n",
      "|tt0409681|         1416|  1264|21.116666666666667|     8603|              1825| 95.58888888888889|15.733333333333333|    6.075564971751413|     20.27777777777778|         1.2888418079096045| 1.120253164556962|23.462962962962962|\n",
      "|tt0423294|         1322|  1394|17.983333333333334|     9098|              1448|107.03529411764706|15.552941176470588|    6.881996974281392|     17.03529411764706|         1.0953101361573374|0.9483500717360115| 21.15686274509804|\n",
      "|tt0427229|         1841|  1324|30.116666666666667|     9511|              1710| 98.05154639175258| 18.97938144329897|    5.166214014122759|    17.628865979381445|          0.928843020097773|1.3904833836858006| 31.04810996563574|\n",
      "|tt0443649|          541|   500|              35.0|     3468|               698| 31.81651376146789| 4.963302752293578|    6.410351201478743|    6.4036697247706424|         1.2902033271719038|             1.082| 32.11009174311927|\n",
      "|tt0452625|         1889|  1763|              41.2|     9253|              1737| 96.38541666666667|19.677083333333332|    4.898358920063526|              18.09375|         0.9195341450502912|1.0714690867838912| 42.91666666666667|\n",
      "|tt0454224|          714|   616| 32.28333333333333|     3497|               801| 38.01086956521739| 7.760869565217392|    4.897759103641457|     8.706521739130435|         1.1218487394957983|1.1590909090909092| 35.09057971014492|\n",
      "+---------+-------------+------+------------------+---------+------------------+------------------+------------------+---------------------+----------------------+---------------------------+------------------+------------------+\n",
      "only showing top 20 rows\n",
      "\n"
     ]
    }
   ],
   "source": [
    "df_word_stats = spark.read.parquet(\"parquets/stats.parquet\")\n",
    "df_word_stats.show()"
   ]
  },
  {
   "cell_type": "code",
   "execution_count": 25,
   "metadata": {},
   "outputs": [
    {
     "data": {
      "text/plain": [
       "4275"
      ]
     },
     "execution_count": 25,
     "metadata": {},
     "output_type": "execute_result"
    }
   ],
   "source": [
    "df_word_stats.count()"
   ]
  },
  {
   "cell_type": "code",
   "execution_count": 26,
   "metadata": {},
   "outputs": [],
   "source": [
    "# df_word_stats.write.mode(\"overwrite\").parquet(\"parquets/stats.parquet\")"
   ]
  },
  {
   "cell_type": "markdown",
   "metadata": {},
   "source": [
    "## Scatter plots"
   ]
  },
  {
   "cell_type": "code",
   "execution_count": 27,
   "metadata": {},
   "outputs": [
    {
     "name": "stdout",
     "output_type": "stream",
     "text": [
      "+---------+-------------+------+------------------+---------+------------------+------------------+-------------------+---------------------+----------------------+---------------------------+------------------+------------------+-------------+--------+\n",
      "|   tconst|num_sentences|blocks|     subtitle_mins|num_words|num_distinct_words|     words_per_min|  sentences_per_min|mean_length_sentences|distinct_words_per_min|distinct_words_per_sentence|  sentences_spread|subtitle_mins_perc|averageRating|numVotes|\n",
      "+---------+-------------+------+------------------+---------+------------------+------------------+-------------------+---------------------+----------------------+---------------------------+------------------+------------------+-------------+--------+\n",
      "|tt0013086|          723|    91|206.86666666666667|     5515|              1498|22.789256198347108|  2.987603305785124|   7.6279391424619645|     6.190082644628099|          2.071922544951591| 7.945054945054945| 85.48209366391185|          7.9|    6263|\n",
      "|tt0013257|          344|   496|              44.7|     4110|              1291| 45.16483516483517|   3.78021978021978|    11.94767441860465|    14.186813186813186|          3.752906976744186|0.6935483870967742|49.120879120879124|          7.7|    9757|\n",
      "|tt0013442|          169|   110|             32.65|     1324|               586|14.085106382978724|  1.797872340425532|    7.834319526627219|      6.23404255319149|          3.467455621301775|1.5363636363636364|34.734042553191486|          8.0|   78620|\n",
      "|tt0015064|           15|    23|             23.45|      145|               113|1.8831168831168832|0.19480519480519481|    9.666666666666666|    1.4675324675324675|          7.533333333333333|0.6521739130434783|30.454545454545457|          8.1|   10730|\n",
      "|tt0015163|           75|    67|              null|      487|               299| 8.254237288135593|  1.271186440677966|    6.493333333333333|     5.067796610169491|          3.986666666666667|1.1194029850746268|              null|          8.0|    7894|\n",
      "|tt0015324|           67|    58|              null|      391|               226| 8.688888888888888|  1.488888888888889|    5.835820895522388|     5.022222222222222|          3.373134328358209|1.1551724137931034|              null|          8.2|   30204|\n",
      "|tt0015361|          451|   434|18.083333333333332|     2074|               526| 25.29268292682927|                5.5|    4.598669623059867|     6.414634146341464|         1.1662971175166297|1.0391705069124424|22.052845528455283|          7.6|    6040|\n",
      "|tt0015648|          199|   194|11.016666666666667|      839|               444|11.186666666666667| 2.6533333333333333|     4.21608040201005|                  5.92|         2.2311557788944723|1.0257731958762886| 14.68888888888889|          8.0|   46778|\n",
      "|tt0015864|          304|   320| 8.583333333333334|     2290|               795|24.105263157894736|                3.2|    7.532894736842105|     8.368421052631579|         2.6151315789473686|              0.95| 9.035087719298247|          8.2|   85761|\n",
      "|tt0015881|          355|   251| 39.96666666666667|     2194|               747| 15.67142857142857| 2.5357142857142856|    6.180281690140845|     5.335714285714285|          2.104225352112676|1.4143426294820718| 28.54761904761905|          7.9|    8078|\n",
      "|tt0016220|          228|   221|             46.45|     1768|               677|19.010752688172044| 2.4516129032258065|    7.754385964912281|     7.279569892473118|          2.969298245614035|1.0316742081447965| 49.94623655913979|          7.7|   14561|\n",
      "|tt0016847|          240|   182| 46.13333333333333|     1338|               576|15.741176470588234|  2.823529411764706|                5.575|     6.776470588235294|                        2.4|1.3186813186813187| 54.27450980392157|          8.1|   12262|\n",
      "|tt0017136|          456|   659|              88.1|     5705|              1742|37.287581699346404|  2.980392156862745|   12.510964912280702|     11.38562091503268|         3.8201754385964914|0.6919575113808801| 57.58169934640522|          8.3|  137542|\n",
      "|tt0017925|           73|    56|              13.2|      479|               246| 7.149253731343284| 1.0895522388059702|    6.561643835616438|     3.671641791044776|         3.3698630136986303|1.3035714285714286| 19.70149253731343|          8.2|   68697|\n",
      "|tt0018037|          235|   209| 33.38333333333333|     1168|               385|13.272727272727273| 2.6704545454545454|    4.970212765957447|                 4.375|         1.6382978723404256| 1.124401913875598|37.935606060606055|          6.7|    7972|\n",
      "|tt0018217|          672|   754|             138.3|     3212|               670|22.619718309859156|  4.732394366197183|    4.779761904761905|      4.71830985915493|         0.9970238095238095|0.8912466843501327|  97.3943661971831|          7.5|    6094|\n",
      "|tt0018455|           56|    44|28.333333333333332|      340|               200| 3.617021276595745| 0.5957446808510638|    6.071428571428571|     2.127659574468085|         3.5714285714285716|1.2727272727272727|30.141843971631204|          8.2|   41274|\n",
      "|tt0018528|          143|   211|              null|     1069|               391| 16.96825396825397| 2.2698412698412698|    7.475524475524476|    6.2063492063492065|          2.734265734265734|0.6777251184834123|              null|          7.8|    6240|\n",
      "|tt0018742|          126|   122|15.083333333333334|      740|               345| 10.72463768115942|  1.826086956521739|    5.873015873015873|                   5.0|          2.738095238095238|1.0327868852459017| 21.85990338164251|          8.3|    8927|\n",
      "|tt0018773|          148|   145|10.183333333333334|      698|               313| 9.694444444444445| 2.0555555555555554|    4.716216216216216|     4.347222222222222|          2.114864864864865|1.0206896551724138|14.143518518518519|          8.1|   22156|\n",
      "+---------+-------------+------+------------------+---------+------------------+------------------+-------------------+---------------------+----------------------+---------------------------+------------------+------------------+-------------+--------+\n",
      "only showing top 20 rows\n",
      "\n"
     ]
    }
   ],
   "source": [
    "df_words_ratings = df_word_stats.join(df_ratings, \"tconst\")\n",
    "df_words_ratings.show()"
   ]
  },
  {
   "cell_type": "code",
   "execution_count": 28,
   "metadata": {},
   "outputs": [],
   "source": [
    "df_words_ratings_pd = df_words_ratings.toPandas()"
   ]
  },
  {
   "cell_type": "code",
   "execution_count": 29,
   "metadata": {},
   "outputs": [
    {
     "data": {
      "image/png": "[encoded data removed]",
      "text/plain": [
       "<matplotlib.figure.Figure at 0x110ae3908>"
      ]
     },
     "metadata": {},
     "output_type": "display_data"
    }
   ],
   "source": [
    "ax = df_words_ratings_pd.plot.scatter(\"num_sentences\", \"averageRating\")"
   ]
  },
  {
   "cell_type": "code",
   "execution_count": 30,
   "metadata": {},
   "outputs": [
    {
     "data": {
      "image/png": "[encoded data removed]",
      "text/plain": [
       "<matplotlib.figure.Figure at 0x10a5ee668>"
      ]
     },
     "metadata": {},
     "output_type": "display_data"
    }
   ],
   "source": [
    "ax = df_words_ratings_pd.plot.scatter(\"blocks\", \"averageRating\")"
   ]
  },
  {
   "cell_type": "code",
   "execution_count": 31,
   "metadata": {},
   "outputs": [
    {
     "data": {
      "image/png": "[encoded data removed]",
      "text/plain": [
       "<matplotlib.figure.Figure at 0x110eac588>"
      ]
     },
     "metadata": {},
     "output_type": "display_data"
    }
   ],
   "source": [
    "ax = df_words_ratings_pd.plot.scatter(\"subtitle_mins\", \"averageRating\")"
   ]
  },
  {
   "cell_type": "code",
   "execution_count": 32,
   "metadata": {},
   "outputs": [
    {
     "data": {
      "image/png": "[encoded data removed]",
      "text/plain": [
       "<matplotlib.figure.Figure at 0x10b862668>"
      ]
     },
     "metadata": {},
     "output_type": "display_data"
    }
   ],
   "source": [
    "ax = df_words_ratings_pd.plot.scatter(\"num_words\", \"averageRating\")"
   ]
  },
  {
   "cell_type": "code",
   "execution_count": 33,
   "metadata": {},
   "outputs": [
    {
     "data": {
      "image/png": "[encoded data removed]",
      "text/plain": [
       "<matplotlib.figure.Figure at 0x110b005f8>"
      ]
     },
     "metadata": {},
     "output_type": "display_data"
    }
   ],
   "source": [
    "ax = df_words_ratings_pd.plot.scatter(\"num_distinct_words\", \"averageRating\")"
   ]
  },
  {
   "cell_type": "code",
   "execution_count": 34,
   "metadata": {},
   "outputs": [
    {
     "data": {
      "image/png": "[encoded data removed]",
      "text/plain": [
       "<matplotlib.figure.Figure at 0x110b5add8>"
      ]
     },
     "metadata": {},
     "output_type": "display_data"
    }
   ],
   "source": [
    "ax = df_words_ratings_pd.plot.scatter(\"words_per_min\", \"averageRating\")"
   ]
  },
  {
   "cell_type": "code",
   "execution_count": 35,
   "metadata": {},
   "outputs": [
    {
     "data": {
      "image/png": "[encoded data removed]",
      "text/plain": [
       "<matplotlib.figure.Figure at 0x110cf95c0>"
      ]
     },
     "metadata": {},
     "output_type": "display_data"
    }
   ],
   "source": [
    "ax = df_words_ratings_pd.plot.scatter(\"sentences_per_min\", \"averageRating\")"
   ]
  },
  {
   "cell_type": "code",
   "execution_count": 36,
   "metadata": {},
   "outputs": [
    {
     "data": {
      "image/png": "[encoded data removed]",
      "text/plain": [
       "<matplotlib.figure.Figure at 0x110f707b8>"
      ]
     },
     "metadata": {},
     "output_type": "display_data"
    }
   ],
   "source": [
    "ax = df_words_ratings_pd.plot.scatter(\"mean_length_sentences\", \"averageRating\")"
   ]
  },
  {
   "cell_type": "code",
   "execution_count": 37,
   "metadata": {},
   "outputs": [
    {
     "data": {
      "image/png": "[encoded data removed]",
      "text/plain": [
       "<matplotlib.figure.Figure at 0x110f010b8>"
      ]
     },
     "metadata": {},
     "output_type": "display_data"
    }
   ],
   "source": [
    "ax = df_words_ratings_pd.plot.scatter(\"distinct_words_per_min\", \"averageRating\")"
   ]
  },
  {
   "cell_type": "code",
   "execution_count": 38,
   "metadata": {},
   "outputs": [
    {
     "data": {
      "image/png": "[encoded data removed]",
      "text/plain": [
       "<matplotlib.figure.Figure at 0x110c8ecc0>"
      ]
     },
     "metadata": {},
     "output_type": "display_data"
    }
   ],
   "source": [
    "ax = df_words_ratings_pd.plot.scatter(\"distinct_words_per_sentence\", \"averageRating\")"
   ]
  },
  {
   "cell_type": "code",
   "execution_count": 39,
   "metadata": {},
   "outputs": [
    {
     "data": {
      "image/png": "[encoded data removed]",
      "text/plain": [
       "<matplotlib.figure.Figure at 0x11a1a9c88>"
      ]
     },
     "metadata": {},
     "output_type": "display_data"
    }
   ],
   "source": [
    "ax = df_words_ratings_pd.plot.scatter(\"sentences_spread\", \"averageRating\")"
   ]
  },
  {
   "cell_type": "code",
   "execution_count": 40,
   "metadata": {},
   "outputs": [
    {
     "data": {
      "image/png": "[encoded data removed]",
      "text/plain": [
       "<matplotlib.figure.Figure at 0x110f08748>"
      ]
     },
     "metadata": {},
     "output_type": "display_data"
    }
   ],
   "source": [
    "ax = df_words_ratings_pd.plot.scatter(\"subtitle_mins_perc\", \"averageRating\")"
   ]
  },
  {
   "cell_type": "code",
   "execution_count": null,
   "metadata": {},
   "outputs": [],
   "source": []
  },
  {
   "cell_type": "code",
   "execution_count": 41,
   "metadata": {},
   "outputs": [],
   "source": [
    "df_filtered = df_ratings.filter(df_ratings.numVotes > 20000)\n",
    "df_50_best = df_films.join(df_filtered, [\"tconst\"])\\\n",
    "                     .orderBy(df_ratings.averageRating.desc())\\\n",
    "                     .select(\"num_sentences\", \n",
    "                             \"averageRating\", \n",
    "                             \"numVotes\", \"year\", \"tconst\")\\\n",
    "                     .take(50)"
   ]
  },
  {
   "cell_type": "code",
   "execution_count": 42,
   "metadata": {},
   "outputs": [],
   "source": [
    "#cest de la merde pour linstant vue la taille du dataset\n",
    "df_pd_example = pd.DataFrame(df_50_best)"
   ]
  },
  {
   "cell_type": "code",
   "execution_count": 43,
   "metadata": {},
   "outputs": [
    {
     "data": {
      "text/html": [
       "<div>\n",
       "<style scoped>\n",
       "    .dataframe tbody tr th:only-of-type {\n",
       "        vertical-align: middle;\n",
       "    }\n",
       "\n",
       "    .dataframe tbody tr th {\n",
       "        vertical-align: top;\n",
       "    }\n",
       "\n",
       "    .dataframe thead th {\n",
       "        text-align: right;\n",
       "    }\n",
       "</style>\n",
       "<table border=\"1\" class=\"dataframe\">\n",
       "  <thead>\n",
       "    <tr style=\"text-align: right;\">\n",
       "      <th></th>\n",
       "      <th>0</th>\n",
       "      <th>1</th>\n",
       "      <th>2</th>\n",
       "      <th>3</th>\n",
       "      <th>4</th>\n",
       "    </tr>\n",
       "  </thead>\n",
       "  <tbody>\n",
       "    <tr>\n",
       "      <th>0</th>\n",
       "      <td>1570</td>\n",
       "      <td>9.4</td>\n",
       "      <td>98731</td>\n",
       "      <td>2016</td>\n",
       "      <td>tt5813916</td>\n",
       "    </tr>\n",
       "    <tr>\n",
       "      <th>1</th>\n",
       "      <td>1617</td>\n",
       "      <td>9.4</td>\n",
       "      <td>32554</td>\n",
       "      <td>1975</td>\n",
       "      <td>tt0252487</td>\n",
       "    </tr>\n",
       "    <tr>\n",
       "      <th>2</th>\n",
       "      <td>2050</td>\n",
       "      <td>9.0</td>\n",
       "      <td>1986545</td>\n",
       "      <td>2008</td>\n",
       "      <td>tt0468569</td>\n",
       "    </tr>\n",
       "    <tr>\n",
       "      <th>3</th>\n",
       "      <td>2071</td>\n",
       "      <td>8.9</td>\n",
       "      <td>598247</td>\n",
       "      <td>1966</td>\n",
       "      <td>tt0060196</td>\n",
       "    </tr>\n",
       "    <tr>\n",
       "      <th>4</th>\n",
       "      <td>2917</td>\n",
       "      <td>8.9</td>\n",
       "      <td>1042076</td>\n",
       "      <td>1993</td>\n",
       "      <td>tt0108052</td>\n",
       "    </tr>\n",
       "    <tr>\n",
       "      <th>5</th>\n",
       "      <td>1570</td>\n",
       "      <td>8.8</td>\n",
       "      <td>1766484</td>\n",
       "      <td>2010</td>\n",
       "      <td>tt1375666</td>\n",
       "    </tr>\n",
       "    <tr>\n",
       "      <th>6</th>\n",
       "      <td>2603</td>\n",
       "      <td>8.8</td>\n",
       "      <td>21918</td>\n",
       "      <td>2013</td>\n",
       "      <td>tt3417422</td>\n",
       "    </tr>\n",
       "    <tr>\n",
       "      <th>7</th>\n",
       "      <td>2976</td>\n",
       "      <td>8.7</td>\n",
       "      <td>869871</td>\n",
       "      <td>1990</td>\n",
       "      <td>tt0099685</td>\n",
       "    </tr>\n",
       "    <tr>\n",
       "      <th>8</th>\n",
       "      <td>1952</td>\n",
       "      <td>8.7</td>\n",
       "      <td>801712</td>\n",
       "      <td>1975</td>\n",
       "      <td>tt0073486</td>\n",
       "    </tr>\n",
       "    <tr>\n",
       "      <th>9</th>\n",
       "      <td>1399</td>\n",
       "      <td>8.6</td>\n",
       "      <td>1083316</td>\n",
       "      <td>1991</td>\n",
       "      <td>tt0102926</td>\n",
       "    </tr>\n",
       "    <tr>\n",
       "      <th>10</th>\n",
       "      <td>3134</td>\n",
       "      <td>8.6</td>\n",
       "      <td>339060</td>\n",
       "      <td>1946</td>\n",
       "      <td>tt0038650</td>\n",
       "    </tr>\n",
       "    <tr>\n",
       "      <th>11</th>\n",
       "      <td>1570</td>\n",
       "      <td>8.6</td>\n",
       "      <td>28147</td>\n",
       "      <td>2008</td>\n",
       "      <td>tt1152758</td>\n",
       "    </tr>\n",
       "    <tr>\n",
       "      <th>12</th>\n",
       "      <td>1695</td>\n",
       "      <td>8.6</td>\n",
       "      <td>1083609</td>\n",
       "      <td>1977</td>\n",
       "      <td>tt0076759</td>\n",
       "    </tr>\n",
       "    <tr>\n",
       "      <th>13</th>\n",
       "      <td>742</td>\n",
       "      <td>8.5</td>\n",
       "      <td>185327</td>\n",
       "      <td>1988</td>\n",
       "      <td>tt0095327</td>\n",
       "    </tr>\n",
       "    <tr>\n",
       "      <th>14</th>\n",
       "      <td>1133</td>\n",
       "      <td>8.5</td>\n",
       "      <td>875210</td>\n",
       "      <td>1991</td>\n",
       "      <td>tt0103064</td>\n",
       "    </tr>\n",
       "    <tr>\n",
       "      <th>15</th>\n",
       "      <td>1482</td>\n",
       "      <td>8.5</td>\n",
       "      <td>172669</td>\n",
       "      <td>1940</td>\n",
       "      <td>tt0032553</td>\n",
       "    </tr>\n",
       "    <tr>\n",
       "      <th>16</th>\n",
       "      <td>2285</td>\n",
       "      <td>8.5</td>\n",
       "      <td>108850</td>\n",
       "      <td>2016</td>\n",
       "      <td>tt5074352</td>\n",
       "    </tr>\n",
       "    <tr>\n",
       "      <th>17</th>\n",
       "      <td>1795</td>\n",
       "      <td>8.5</td>\n",
       "      <td>1025762</td>\n",
       "      <td>2006</td>\n",
       "      <td>tt0482571</td>\n",
       "    </tr>\n",
       "    <tr>\n",
       "      <th>18</th>\n",
       "      <td>1041</td>\n",
       "      <td>8.5</td>\n",
       "      <td>261367</td>\n",
       "      <td>1968</td>\n",
       "      <td>tt0064116</td>\n",
       "    </tr>\n",
       "    <tr>\n",
       "      <th>19</th>\n",
       "      <td>964</td>\n",
       "      <td>8.5</td>\n",
       "      <td>192040</td>\n",
       "      <td>1988</td>\n",
       "      <td>tt0095765</td>\n",
       "    </tr>\n",
       "    <tr>\n",
       "      <th>20</th>\n",
       "      <td>2428</td>\n",
       "      <td>8.5</td>\n",
       "      <td>1037421</td>\n",
       "      <td>2006</td>\n",
       "      <td>tt0407887</td>\n",
       "    </tr>\n",
       "    <tr>\n",
       "      <th>21</th>\n",
       "      <td>1448</td>\n",
       "      <td>8.5</td>\n",
       "      <td>1166708</td>\n",
       "      <td>2000</td>\n",
       "      <td>tt0172495</td>\n",
       "    </tr>\n",
       "    <tr>\n",
       "      <th>22</th>\n",
       "      <td>36</td>\n",
       "      <td>8.5</td>\n",
       "      <td>181239</td>\n",
       "      <td>1936</td>\n",
       "      <td>tt0027977</td>\n",
       "    </tr>\n",
       "    <tr>\n",
       "      <th>23</th>\n",
       "      <td>1796</td>\n",
       "      <td>8.5</td>\n",
       "      <td>1000094</td>\n",
       "      <td>2000</td>\n",
       "      <td>tt0209144</td>\n",
       "    </tr>\n",
       "    <tr>\n",
       "      <th>24</th>\n",
       "      <td>141</td>\n",
       "      <td>8.5</td>\n",
       "      <td>28554</td>\n",
       "      <td>2011</td>\n",
       "      <td>tt0770802</td>\n",
       "    </tr>\n",
       "    <tr>\n",
       "      <th>25</th>\n",
       "      <td>1401</td>\n",
       "      <td>8.4</td>\n",
       "      <td>113644</td>\n",
       "      <td>2016</td>\n",
       "      <td>tt5311514</td>\n",
       "    </tr>\n",
       "    <tr>\n",
       "      <th>26</th>\n",
       "      <td>1176</td>\n",
       "      <td>8.4</td>\n",
       "      <td>402545</td>\n",
       "      <td>1964</td>\n",
       "      <td>tt0057012</td>\n",
       "    </tr>\n",
       "    <tr>\n",
       "      <th>27</th>\n",
       "      <td>1336</td>\n",
       "      <td>8.4</td>\n",
       "      <td>311172</td>\n",
       "      <td>2006</td>\n",
       "      <td>tt0405094</td>\n",
       "    </tr>\n",
       "    <tr>\n",
       "      <th>28</th>\n",
       "      <td>687</td>\n",
       "      <td>8.4</td>\n",
       "      <td>872076</td>\n",
       "      <td>2008</td>\n",
       "      <td>tt0910970</td>\n",
       "    </tr>\n",
       "    <tr>\n",
       "      <th>29</th>\n",
       "      <td>882</td>\n",
       "      <td>8.3</td>\n",
       "      <td>120708</td>\n",
       "      <td>1948</td>\n",
       "      <td>tt0040522</td>\n",
       "    </tr>\n",
       "    <tr>\n",
       "      <th>30</th>\n",
       "      <td>991</td>\n",
       "      <td>8.3</td>\n",
       "      <td>21861</td>\n",
       "      <td>2016</td>\n",
       "      <td>tt5929776</td>\n",
       "    </tr>\n",
       "    <tr>\n",
       "      <th>31</th>\n",
       "      <td>884</td>\n",
       "      <td>8.3</td>\n",
       "      <td>61258</td>\n",
       "      <td>2017</td>\n",
       "      <td>tt4849438</td>\n",
       "    </tr>\n",
       "    <tr>\n",
       "      <th>32</th>\n",
       "      <td>1460</td>\n",
       "      <td>8.3</td>\n",
       "      <td>307632</td>\n",
       "      <td>1958</td>\n",
       "      <td>tt0052357</td>\n",
       "    </tr>\n",
       "    <tr>\n",
       "      <th>33</th>\n",
       "      <td>798</td>\n",
       "      <td>8.3</td>\n",
       "      <td>23771</td>\n",
       "      <td>1948</td>\n",
       "      <td>tt0040725</td>\n",
       "    </tr>\n",
       "    <tr>\n",
       "      <th>34</th>\n",
       "      <td>1206</td>\n",
       "      <td>8.3</td>\n",
       "      <td>678227</td>\n",
       "      <td>2000</td>\n",
       "      <td>tt0180093</td>\n",
       "    </tr>\n",
       "    <tr>\n",
       "      <th>35</th>\n",
       "      <td>2026</td>\n",
       "      <td>8.3</td>\n",
       "      <td>121979</td>\n",
       "      <td>1944</td>\n",
       "      <td>tt0036775</td>\n",
       "    </tr>\n",
       "    <tr>\n",
       "      <th>36</th>\n",
       "      <td>2168</td>\n",
       "      <td>8.3</td>\n",
       "      <td>233199</td>\n",
       "      <td>1962</td>\n",
       "      <td>tt0056172</td>\n",
       "    </tr>\n",
       "    <tr>\n",
       "      <th>37</th>\n",
       "      <td>749</td>\n",
       "      <td>8.3</td>\n",
       "      <td>92817</td>\n",
       "      <td>1961</td>\n",
       "      <td>tt0055630</td>\n",
       "    </tr>\n",
       "    <tr>\n",
       "      <th>38</th>\n",
       "      <td>1620</td>\n",
       "      <td>8.3</td>\n",
       "      <td>188347</td>\n",
       "      <td>1952</td>\n",
       "      <td>tt0045152</td>\n",
       "    </tr>\n",
       "    <tr>\n",
       "      <th>39</th>\n",
       "      <td>650</td>\n",
       "      <td>8.3</td>\n",
       "      <td>521288</td>\n",
       "      <td>1968</td>\n",
       "      <td>tt0062622</td>\n",
       "    </tr>\n",
       "    <tr>\n",
       "      <th>40</th>\n",
       "      <td>1366</td>\n",
       "      <td>8.3</td>\n",
       "      <td>445971</td>\n",
       "      <td>1975</td>\n",
       "      <td>tt0071853</td>\n",
       "    </tr>\n",
       "    <tr>\n",
       "      <th>41</th>\n",
       "      <td>1505</td>\n",
       "      <td>8.3</td>\n",
       "      <td>52684</td>\n",
       "      <td>1996</td>\n",
       "      <td>tt0116231</td>\n",
       "    </tr>\n",
       "    <tr>\n",
       "      <th>42</th>\n",
       "      <td>1568</td>\n",
       "      <td>8.3</td>\n",
       "      <td>262705</td>\n",
       "      <td>1962</td>\n",
       "      <td>tt0056592</td>\n",
       "    </tr>\n",
       "    <tr>\n",
       "      <th>43</th>\n",
       "      <td>456</td>\n",
       "      <td>8.3</td>\n",
       "      <td>137542</td>\n",
       "      <td>1927</td>\n",
       "      <td>tt0017136</td>\n",
       "    </tr>\n",
       "    <tr>\n",
       "      <th>44</th>\n",
       "      <td>1202</td>\n",
       "      <td>8.3</td>\n",
       "      <td>21586</td>\n",
       "      <td>1988</td>\n",
       "      <td>tt0097223</td>\n",
       "    </tr>\n",
       "    <tr>\n",
       "      <th>45</th>\n",
       "      <td>1559</td>\n",
       "      <td>8.3</td>\n",
       "      <td>697802</td>\n",
       "      <td>2000</td>\n",
       "      <td>tt0208092</td>\n",
       "    </tr>\n",
       "    <tr>\n",
       "      <th>46</th>\n",
       "      <td>2676</td>\n",
       "      <td>8.3</td>\n",
       "      <td>611284</td>\n",
       "      <td>1989</td>\n",
       "      <td>tt0097576</td>\n",
       "    </tr>\n",
       "    <tr>\n",
       "      <th>47</th>\n",
       "      <td>868</td>\n",
       "      <td>8.3</td>\n",
       "      <td>55908</td>\n",
       "      <td>1952</td>\n",
       "      <td>tt0044741</td>\n",
       "    </tr>\n",
       "    <tr>\n",
       "      <th>48</th>\n",
       "      <td>1984</td>\n",
       "      <td>8.3</td>\n",
       "      <td>262282</td>\n",
       "      <td>1959</td>\n",
       "      <td>tt0053125</td>\n",
       "    </tr>\n",
       "    <tr>\n",
       "      <th>49</th>\n",
       "      <td>1553</td>\n",
       "      <td>8.3</td>\n",
       "      <td>98002</td>\n",
       "      <td>1948</td>\n",
       "      <td>tt0040897</td>\n",
       "    </tr>\n",
       "  </tbody>\n",
       "</table>\n",
       "</div>"
      ],
      "text/plain": [
       "       0    1        2     3          4\n",
       "0   1570  9.4    98731  2016  tt5813916\n",
       "1   1617  9.4    32554  1975  tt0252487\n",
       "2   2050  9.0  1986545  2008  tt0468569\n",
       "3   2071  8.9   598247  1966  tt0060196\n",
       "4   2917  8.9  1042076  1993  tt0108052\n",
       "5   1570  8.8  1766484  2010  tt1375666\n",
       "6   2603  8.8    21918  2013  tt3417422\n",
       "7   2976  8.7   869871  1990  tt0099685\n",
       "8   1952  8.7   801712  1975  tt0073486\n",
       "9   1399  8.6  1083316  1991  tt0102926\n",
       "10  3134  8.6   339060  1946  tt0038650\n",
       "11  1570  8.6    28147  2008  tt1152758\n",
       "12  1695  8.6  1083609  1977  tt0076759\n",
       "13   742  8.5   185327  1988  tt0095327\n",
       "14  1133  8.5   875210  1991  tt0103064\n",
       "15  1482  8.5   172669  1940  tt0032553\n",
       "16  2285  8.5   108850  2016  tt5074352\n",
       "17  1795  8.5  1025762  2006  tt0482571\n",
       "18  1041  8.5   261367  1968  tt0064116\n",
       "19   964  8.5   192040  1988  tt0095765\n",
       "20  2428  8.5  1037421  2006  tt0407887\n",
       "21  1448  8.5  1166708  2000  tt0172495\n",
       "22    36  8.5   181239  1936  tt0027977\n",
       "23  1796  8.5  1000094  2000  tt0209144\n",
       "24   141  8.5    28554  2011  tt0770802\n",
       "25  1401  8.4   113644  2016  tt5311514\n",
       "26  1176  8.4   402545  1964  tt0057012\n",
       "27  1336  8.4   311172  2006  tt0405094\n",
       "28   687  8.4   872076  2008  tt0910970\n",
       "29   882  8.3   120708  1948  tt0040522\n",
       "30   991  8.3    21861  2016  tt5929776\n",
       "31   884  8.3    61258  2017  tt4849438\n",
       "32  1460  8.3   307632  1958  tt0052357\n",
       "33   798  8.3    23771  1948  tt0040725\n",
       "34  1206  8.3   678227  2000  tt0180093\n",
       "35  2026  8.3   121979  1944  tt0036775\n",
       "36  2168  8.3   233199  1962  tt0056172\n",
       "37   749  8.3    92817  1961  tt0055630\n",
       "38  1620  8.3   188347  1952  tt0045152\n",
       "39   650  8.3   521288  1968  tt0062622\n",
       "40  1366  8.3   445971  1975  tt0071853\n",
       "41  1505  8.3    52684  1996  tt0116231\n",
       "42  1568  8.3   262705  1962  tt0056592\n",
       "43   456  8.3   137542  1927  tt0017136\n",
       "44  1202  8.3    21586  1988  tt0097223\n",
       "45  1559  8.3   697802  2000  tt0208092\n",
       "46  2676  8.3   611284  1989  tt0097576\n",
       "47   868  8.3    55908  1952  tt0044741\n",
       "48  1984  8.3   262282  1959  tt0053125\n",
       "49  1553  8.3    98002  1948  tt0040897"
      ]
     },
     "execution_count": 43,
     "metadata": {},
     "output_type": "execute_result"
    }
   ],
   "source": [
    "df_pd_example"
   ]
  },
  {
   "cell_type": "code",
   "execution_count": null,
   "metadata": {},
   "outputs": [],
   "source": []
  },
  {
   "cell_type": "code",
   "execution_count": null,
   "metadata": {},
   "outputs": [],
   "source": []
  },
  {
   "cell_type": "code",
   "execution_count": null,
   "metadata": {},
   "outputs": [],
   "source": []
  },
  {
   "cell_type": "code",
   "execution_count": null,
   "metadata": {},
   "outputs": [],
   "source": []
  }
 ],
 "metadata": {
  "kernelspec": {
   "display_name": "Python 3",
   "language": "python",
   "name": "python3"
  },
  "language_info": {
   "codemirror_mode": {
    "name": "ipython",
    "version": 3
   },
   "file_extension": ".py",
   "mimetype": "text/x-python",
   "name": "python",
   "nbconvert_exporter": "python",
   "pygments_lexer": "ipython3",
   "version": "3.6.6"
  },
  "varInspector": {
   "cols": {
    "lenName": 16,
    "lenType": 16,
    "lenVar": 40
   },
   "kernels_config": {
    "python": {
     "delete_cmd_postfix": "",
     "delete_cmd_prefix": "del ",
     "library": "var_list.py",
     "varRefreshCmd": "print(var_dic_list())"
    },
    "r": {
     "delete_cmd_postfix": ") ",
     "delete_cmd_prefix": "rm(",
     "library": "var_list.r",
     "varRefreshCmd": "cat(var_dic_list()) "
    }
   },
   "types_to_exclude": [
    "module",
    "function",
    "builtin_function_or_method",
    "instance",
    "_Feature"
   ],
   "window_display": false
  }
 },
 "nbformat": 4,
 "nbformat_minor": 2
}
