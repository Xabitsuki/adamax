{
 "cells": [
  {
   "cell_type": "code",
   "execution_count": 35,
   "metadata": {},
   "outputs": [],
   "source": [
    "import numpy as np\n",
    "import pandas as pd\n",
    "import matplotlib.pyplot as plt\n",
    "import seaborn as sns\n",
    "sns.set(style=\"whitegrid\")"
   ]
  },
  {
   "cell_type": "code",
   "execution_count": 28,
   "metadata": {},
   "outputs": [],
   "source": [
    "df = sns.load_dataset('tips')"
   ]
  },
  {
   "cell_type": "code",
   "execution_count": 38,
   "metadata": {
    "scrolled": true
   },
   "outputs": [
    {
     "data": {
      "text/plain": [
       "{'axes.axisbelow': True,\n",
       " 'axes.edgecolor': '.8',\n",
       " 'axes.facecolor': 'white',\n",
       " 'axes.grid': True,\n",
       " 'axes.labelcolor': '.15',\n",
       " 'axes.spines.bottom': True,\n",
       " 'axes.spines.left': True,\n",
       " 'axes.spines.right': True,\n",
       " 'axes.spines.top': True,\n",
       " 'figure.facecolor': 'white',\n",
       " 'font.family': ['sans-serif'],\n",
       " 'font.sans-serif': ['Arial',\n",
       "  'DejaVu Sans',\n",
       "  'Liberation Sans',\n",
       "  'Bitstream Vera Sans',\n",
       "  'sans-serif'],\n",
       " 'grid.color': '.8',\n",
       " 'grid.linestyle': '-',\n",
       " 'image.cmap': 'rocket',\n",
       " 'lines.solid_capstyle': 'round',\n",
       " 'patch.edgecolor': 'w',\n",
       " 'patch.force_edgecolor': True,\n",
       " 'text.color': '.15',\n",
       " 'xtick.bottom': False,\n",
       " 'xtick.color': '.15',\n",
       " 'xtick.direction': 'out',\n",
       " 'xtick.top': False,\n",
       " 'ytick.color': '.15',\n",
       " 'ytick.direction': 'out',\n",
       " 'ytick.left': False,\n",
       " 'ytick.right': False}"
      ]
     },
     "execution_count": 38,
     "metadata": {},
     "output_type": "execute_result"
    }
   ],
   "source": [
    "sns.axes_style()"
   ]
  },
  {
   "cell_type": "code",
   "execution_count": 75,
   "metadata": {},
   "outputs": [],
   "source": [
    "style_dic = {'axes.axisbelow': True,\n",
    "             'axes.edgecolor': '.8',\n",
    "             'axes.facecolor': '.9',\n",
    "             'axes.grid': True,\n",
    "             'axes.labelcolor': '.15',\n",
    "             'axes.spines.bottom': True,\n",
    "             'axes.spines.left': True,\n",
    "             'axes.spines.right': True,\n",
    "             'axes.spines.top': True,\n",
    "             'figure.facecolor': 'white',\n",
    "             'font.family': ['sans-serif'],\n",
    "             'font.sans-serif': ['Arial',\n",
    "                                 'DejaVu Sans',\n",
    "                                 'Liberation Sans',\n",
    "                                 'Bitstream Vera Sans',\n",
    "                                 'sans-serif'],\n",
    "             'grid.color': '.8',\n",
    "             'grid.linestyle': '-',\n",
    "             'image.cmap': 'rocket',\n",
    "             'lines.solid_capstyle': 'round',\n",
    "             'patch.edgecolor': 'w',\n",
    "             'patch.force_edgecolor': False,\n",
    "             'text.color': '.15',\n",
    "             'xtick.bottom': True,\n",
    "             'xtick.color': '.15',\n",
    "             'xtick.direction': 'out',\n",
    "             'xtick.top': False,\n",
    "             'ytick.color': '.15',\n",
    "             'ytick.direction': 'out',\n",
    "             'ytick.left': True,\n",
    "             'ytick.right': False}\n",
    "\n",
    "sns.set_style(style_dic);"
   ]
  },
  {
   "cell_type": "code",
   "execution_count": 77,
   "metadata": {},
   "outputs": [
    {
     "data": {
      "image/png": "[encoded data removed]",
      "text/plain": [
       "<Figure size 720x720 with 1 Axes>"
      ]
     },
     "metadata": {},
     "output_type": "display_data"
    }
   ],
   "source": [
    "fig, ax = plt.subplots(figsize=(10,10))\n",
    "sns.scatterplot(x='day',\n",
    "                y='total_bill',\n",
    "                data = df,\n",
    "                palette='muted',);\n"
   ]
  },
  {
   "cell_type": "code",
   "execution_count": null,
   "metadata": {},
   "outputs": [],
   "source": []
  },
  {
   "cell_type": "code",
   "execution_count": null,
   "metadata": {},
   "outputs": [],
   "source": []
  },
  {
   "cell_type": "code",
   "execution_count": null,
   "metadata": {},
   "outputs": [],
   "source": []
  }
 ],
 "metadata": {
  "kernelspec": {
   "display_name": "Python 3",
   "language": "python",
   "name": "python3"
  },
  "language_info": {
   "codemirror_mode": {
    "name": "ipython",
    "version": 3
   },
   "file_extension": ".py",
   "mimetype": "text/x-python",
   "name": "python",
   "nbconvert_exporter": "python",
   "pygments_lexer": "ipython3",
   "version": "3.6.6"
  },
  "varInspector": {
   "cols": {
    "lenName": 16,
    "lenType": 16,
    "lenVar": 40
   },
   "kernels_config": {
    "python": {
     "delete_cmd_postfix": "",
     "delete_cmd_prefix": "del ",
     "library": "var_list.py",
     "varRefreshCmd": "print(var_dic_list())"
    },
    "r": {
     "delete_cmd_postfix": ") ",
     "delete_cmd_prefix": "rm(",
     "library": "var_list.r",
     "varRefreshCmd": "cat(var_dic_list()) "
    }
   },
   "types_to_exclude": [
    "module",
    "function",
    "builtin_function_or_method",
    "instance",
    "_Feature"
   ],
   "window_display": false
  }
 },
 "nbformat": 4,
 "nbformat_minor": 2
}
