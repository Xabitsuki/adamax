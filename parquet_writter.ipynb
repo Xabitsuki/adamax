{
 "cells": [
  {
   "cell_type": "code",
   "execution_count": 1,
   "metadata": {},
   "outputs": [],
   "source": [
    "import os\n",
    "\n",
    "import findspark\n",
    "findspark.init()\n",
    "\n",
    "from pyspark.sql import *\n",
    "from pyspark.sql.types import *\n",
    "import pyspark.sql.functions as psf\n",
    "from pyspark.sql.utils import AnalysisException\n",
    "\n",
    "os.environ['PYSPARK_SUBMIT_ARGS'] = '--packages com.databricks:spark-xml_2.10:0.4.1 pyspark-shell'"
   ]
  },
  {
   "cell_type": "code",
   "execution_count": 2,
   "metadata": {},
   "outputs": [],
   "source": [
    "spark = SparkSession.builder.getOrCreate()\n",
    "spark.conf.set('spark.sql.session.timeZone', 'UTC')\n",
    "sc = spark.sparkContext\n",
    "sqlContext = SQLContext(sc)"
   ]
  },
  {
   "cell_type": "code",
   "execution_count": 3,
   "metadata": {},
   "outputs": [],
   "source": [
    "# paths to read data \n",
    "parquets_dir = 'parquets/'\n",
    "data_dir = 'parquetsmarks/'"
   ]
  },
  {
   "cell_type": "code",
   "execution_count": 4,
   "metadata": {},
   "outputs": [],
   "source": [
    "# create a list which contains all the dfs to be unified \n",
    "df_list = [spark.read.parquet(parquets_dir + data_dir + path ) \\\n",
    "           for path in os.listdir(parquets_dir + data_dir) if path != \".DS_Store\"]"
   ]
  },
  {
   "cell_type": "code",
   "execution_count": 5,
   "metadata": {},
   "outputs": [],
   "source": [
    "# funtion that returns the union of all the dfs \n",
    "def unionAll(*dfs):\n",
    "    first, rest = dfs[0], dfs[1:]  # Python 3.x, for 2.x you'll have to unpack manually\n",
    "    return first.sql_ctx.createDataFrame(\n",
    "        first.sql_ctx._sc.union([df.rdd for df in dfs]),\n",
    "        first.schema\n",
    "    )"
   ]
  },
  {
   "cell_type": "code",
   "execution_count": 6,
   "metadata": {},
   "outputs": [],
   "source": [
    "def unionAll(df_list):\n",
    "    df_union = df_list[0]\n",
    "    for df in df_list[1:]: df_union=df_union.unionAll(df)\n",
    "    return df_union"
   ]
  },
  {
   "cell_type": "code",
   "execution_count": 7,
   "metadata": {},
   "outputs": [],
   "source": [
    "df_to_write = unionAll(df_list)"
   ]
  },
  {
   "cell_type": "code",
   "execution_count": 8,
   "metadata": {},
   "outputs": [
    {
     "data": {
      "text/plain": [
       "4275"
      ]
     },
     "execution_count": 8,
     "metadata": {},
     "output_type": "execute_result"
    }
   ],
   "source": [
    "# check number of rows\n",
    "df_to_write.count()"
   ]
  },
  {
   "cell_type": "code",
   "execution_count": 9,
   "metadata": {},
   "outputs": [],
   "source": [
    "# write the parquet\n",
    "FILENAME = 'films2'\n",
    "df_to_write.write.mode('overwrite').parquet(parquets_dir + FILENAME + '.parquet' )"
   ]
  },
  {
   "cell_type": "code",
   "execution_count": 10,
   "metadata": {},
   "outputs": [],
   "source": [
    "df_test = spark.read.parquet(parquets_dir + FILENAME + '.parquet' )"
   ]
  },
  {
   "cell_type": "code",
   "execution_count": 11,
   "metadata": {},
   "outputs": [
    {
     "data": {
      "text/plain": [
       "4275"
      ]
     },
     "execution_count": 11,
     "metadata": {},
     "output_type": "execute_result"
    }
   ],
   "source": [
    "df_test.count()"
   ]
  },
  {
   "cell_type": "code",
   "execution_count": 12,
   "metadata": {},
   "outputs": [
    {
     "name": "stdout",
     "output_type": "stream",
     "text": [
      "+---------+-------------+----+------+------------------+--------------------+\n",
      "|   tconst|num_subtitles|year|blocks|     subtitle_mins|           subtitles|\n",
      "+---------+-------------+----+------+------------------+--------------------+\n",
      "|tt5275892|         6236|2016|  1829|            406.05|[[As, a, kid, gro...|\n",
      "|tt2318527|         7083|2013|  2793| 32.46666666666667|[[[, BELL, TOLLIN...|\n",
      "|tt2234155|         3562|2013|  3348|63.166666666666664|[[#, An, old, man...|\n",
      "|tt2404463|         4078|2013|  3356| 60.11666666666667|[[Cleaned, correc...|\n",
      "|tt1398426|         3729|2015|  2768| 86.06666666666666|[[[, Police, Radi...|\n",
      "|tt3311384|         1993|2013|  2116|59.016666666666666|[[(, CROWD, CHEER...|\n",
      "|tt2080374|         2889|2015|  2309|             62.15|[[MAN, #, 1, :], ...|\n",
      "|tt4257858|         1553|2015|  2415|              58.8|[[We, will, begin...|\n",
      "|tt4540710|         2018|2016|  1668| 67.23333333333333|[[Subtitle, made,...|\n",
      "|tt3152624|         3926|2015|  2508| 62.78333333333333|[[Girls, ,, your,...|\n",
      "|tt4425064|         1807|2015|  1951| 68.61666666666666|[[After, hours, o...|\n",
      "|tt4987556|         2916|2015|  2560| 97.51666666666667|[[Define, your, e...|\n",
      "|tt1229340|         3055|2013|  2622|              62.7|[[NARRATOR, :], [...|\n",
      "|tt1638364|         1864|2013|  2272|             61.15|[[SUBTITLES, BY, ...|\n",
      "|tt1980209|         2866|2013|  2517| 61.78333333333333|[[I, 'm, strong, ...|\n",
      "|tt0884732|         3095|2015|  2560|             41.35|[[(, DIALING, PHO...|\n",
      "|tt3628584|         3018|2016|  2784|             49.15|[[Yes, ,, sir, ,,...|\n",
      "|tt4501244|         3596|2016|  2819| 48.43333333333333|[[(, CELL, PHONE,...|\n",
      "|tt5213534|         2090|2016|  2112|55.733333333333334|[[INTERVIEWER, :]...|\n",
      "|tt1824254|         1364|2013|  2004|             67.05|[[Anti-nuclear, g...|\n",
      "+---------+-------------+----+------+------------------+--------------------+\n",
      "only showing top 20 rows\n",
      "\n"
     ]
    }
   ],
   "source": [
    "df_test.show()"
   ]
  }
 ],
 "metadata": {
  "kernelspec": {
   "display_name": "Python 3",
   "language": "python",
   "name": "python3"
  },
  "language_info": {
   "codemirror_mode": {
    "name": "ipython",
    "version": 3
   },
   "file_extension": ".py",
   "mimetype": "text/x-python",
   "name": "python",
   "nbconvert_exporter": "python",
   "pygments_lexer": "ipython3",
   "version": "3.6.6"
  },
  "varInspector": {
   "cols": {
    "lenName": 16,
    "lenType": 16,
    "lenVar": 40
   },
   "kernels_config": {
    "python": {
     "delete_cmd_postfix": "",
     "delete_cmd_prefix": "del ",
     "library": "var_list.py",
     "varRefreshCmd": "print(var_dic_list())"
    },
    "r": {
     "delete_cmd_postfix": ") ",
     "delete_cmd_prefix": "rm(",
     "library": "var_list.r",
     "varRefreshCmd": "cat(var_dic_list()) "
    }
   },
   "types_to_exclude": [
    "module",
    "function",
    "builtin_function_or_method",
    "instance",
    "_Feature"
   ],
   "window_display": false
  }
 },
 "nbformat": 4,
 "nbformat_minor": 2
}
